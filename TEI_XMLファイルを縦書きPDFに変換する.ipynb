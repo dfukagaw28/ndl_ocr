{
  "nbformat": 4,
  "nbformat_minor": 0,
  "metadata": {
    "colab": {
      "private_outputs": true,
      "provenance": [],
      "collapsed_sections": [],
      "authorship_tag": "ABX9TyMFUBjNxB3uTi0vtHpltF7X",
      "include_colab_link": true
    },
    "kernelspec": {
      "name": "python3",
      "display_name": "Python 3"
    },
    "language_info": {
      "name": "python"
    }
  },
  "cells": [
    {
      "cell_type": "markdown",
      "metadata": {
        "id": "view-in-github",
        "colab_type": "text"
      },
      "source": [
        "<a href=\"https://colab.research.google.com/github/nakamura196/ndl_ocr/blob/main/TEI_XML%E3%83%95%E3%82%A1%E3%82%A4%E3%83%AB%E3%82%92%E7%B8%A6%E6%9B%B8%E3%81%8DPDF%E3%81%AB%E5%A4%89%E6%8F%9B%E3%81%99%E3%82%8B.ipynb\" target=\"_parent\"><img src=\"https://colab.research.google.com/assets/colab-badge.svg\" alt=\"Open In Colab\"/></a>"
      ]
    },
    {
      "cell_type": "markdown",
      "source": [
        "# TEI/XMLファイルを縦書きPDFに変換する"
      ],
      "metadata": {
        "id": "tS1HYK_eSUxZ"
      }
    },
    {
      "cell_type": "code",
      "source": [
        "# !rm -rf kouigenjimonogatari\n",
        "# !rm -rf data"
      ],
      "metadata": {
        "id": "0WsA5P60SVcI"
      },
      "execution_count": null,
      "outputs": []
    },
    {
      "cell_type": "markdown",
      "source": [
        "\n",
        "## Install Quarto"
      ],
      "metadata": {
        "id": "SY9HQ8pmKwft"
      }
    },
    {
      "cell_type": "code",
      "source": [
        "QUARTO_VERSION=\"1.2.174\""
      ],
      "metadata": {
        "id": "TvreyHKWK3qr"
      },
      "execution_count": null,
      "outputs": []
    },
    {
      "cell_type": "code",
      "source": [
        "!mkdir -p /opt/quarto/${QUARTO_VERSION}\n",
        "url = f\"https://github.com/quarto-dev/quarto-cli/releases/download/v{QUARTO_VERSION}/quarto-{QUARTO_VERSION}-linux-amd64.tar.gz\"\n",
        "!curl -o quarto.tar.gz -L $url\n",
        "!tar -zxf quarto.tar.gz \\\n",
        "    -C \"/opt/quarto/${QUARTO_VERSION}\" \\\n",
        "    --strip-components=1\n",
        "!/opt/quarto/\"${QUARTO_VERSION}\"/bin/quarto check\n",
        "!ln -s /opt/quarto/${QUARTO_VERSION}/bin/quarto /usr/local/bin/quarto"
      ],
      "metadata": {
        "id": "g10kjcLLK5DK"
      },
      "execution_count": null,
      "outputs": []
    },
    {
      "cell_type": "markdown",
      "source": [
        "## 校異源氏物語テキストのダウンロード"
      ],
      "metadata": {
        "id": "DAiA9Ch9L_Hu"
      }
    },
    {
      "cell_type": "code",
      "source": [
        "!git clone --depth 1 https://github.com/kouigenjimonogatari/kouigenjimonogatari.github.io kouigenjimonogatari"
      ],
      "metadata": {
        "id": "WQ8tQXByMCmR"
      },
      "execution_count": null,
      "outputs": []
    },
    {
      "cell_type": "markdown",
      "source": [
        "## TEI/XMLファイルの内容をqmdファイルに変換する"
      ],
      "metadata": {
        "id": "pLvYVwF9P7-3"
      }
    },
    {
      "cell_type": "code",
      "source": [
        "import glob\n",
        "files = glob.glob(\"./kouigenjimonogatari/tei/*.xml\")\n",
        "files.sort()\n",
        "file = files[0]"
      ],
      "metadata": {
        "id": "tGn8vIdmMNy8"
      },
      "execution_count": null,
      "outputs": []
    },
    {
      "cell_type": "code",
      "source": [
        "from bs4 import BeautifulSoup\n",
        "soup = BeautifulSoup(open(file,'r'), \"xml\")\n",
        "elements = soup.findChildren(text=True, recursive=True)\n",
        "\n",
        "import os\n",
        "\n",
        "id = os.path.splitext(os.path.basename(file))[0]\n",
        "\n",
        "title = soup.find(\"title\").text\n",
        "author = soup.find(\"author\").text\n",
        "\n",
        "elements = soup.find(\"body\").find(\"p\").findChildren()\n",
        "\n",
        "text = \"\"\n",
        "\n",
        "for e in elements:\n",
        "\n",
        "    if e.name == \"pb\":\n",
        "        text += \"\\n\"\n",
        "\n",
        "    if e.name == \"seg\":\n",
        "        text += e.text + \"  \\n\"\n",
        "\n",
        "opath = f\"data/{id}.qmd\"\n",
        "os.makedirs(os.path.dirname(opath), exist_ok=True)\n",
        "\n",
        "text = f\"\"\"---\n",
        "title: \"{title}\"\n",
        "author: \"{author}\"\n",
        "format: \n",
        "    docx:\n",
        "        reference-doc: /content/kouigenjimonogatari/tools/genji-doc-style.docx\n",
        "---\n",
        "{text.strip()}\n",
        "\"\"\"\n",
        "\n",
        "with open(opath, \"w\") as f:\n",
        "    f.write(text)"
      ],
      "metadata": {
        "id": "j6G4Y2vDMX3U"
      },
      "execution_count": null,
      "outputs": []
    },
    {
      "cell_type": "markdown",
      "source": [
        "## qmdファイルをdocxに変換する"
      ],
      "metadata": {
        "id": "ZOw-9Sz7NEU5"
      }
    },
    {
      "cell_type": "code",
      "source": [
        "!quarto render data/$id\\.qmd --to docx "
      ],
      "metadata": {
        "id": "WSE-MUNqGdtk"
      },
      "execution_count": null,
      "outputs": []
    },
    {
      "cell_type": "markdown",
      "source": [
        "`data/01.docx`にWordファイルが出力されます。"
      ],
      "metadata": {
        "id": "QkTP8k6pUrx0"
      }
    }
  ]
}