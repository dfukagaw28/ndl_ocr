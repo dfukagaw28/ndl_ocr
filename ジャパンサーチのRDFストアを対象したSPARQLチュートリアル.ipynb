{
  "nbformat": 4,
  "nbformat_minor": 0,
  "metadata": {
    "colab": {
      "name": "ジャパンサーチのRDFストアを対象したSPARQLチュートリアル.ipynb",
      "private_outputs": true,
      "provenance": [],
      "toc_visible": true,
      "authorship_tag": "ABX9TyNPbqhICBbSUgfNM9wfXNMm",
      "include_colab_link": true
    },
    "kernelspec": {
      "name": "python3",
      "display_name": "Python 3"
    },
    "language_info": {
      "name": "python"
    }
  },
  "cells": [
    {
      "cell_type": "markdown",
      "metadata": {
        "id": "view-in-github",
        "colab_type": "text"
      },
      "source": [
        "<a href=\"https://colab.research.google.com/github/nakamura196/ndl_ocr/blob/main/%E3%82%B8%E3%83%A3%E3%83%91%E3%83%B3%E3%82%B5%E3%83%BC%E3%83%81%E3%81%AERDF%E3%82%B9%E3%83%88%E3%82%A2%E3%82%92%E5%AF%BE%E8%B1%A1%E3%81%97%E3%81%9FSPARQL%E3%83%81%E3%83%A5%E3%83%BC%E3%83%88%E3%83%AA%E3%82%A2%E3%83%AB.ipynb\" target=\"_parent\"><img src=\"https://colab.research.google.com/assets/colab-badge.svg\" alt=\"Open In Colab\"/></a>"
      ]
    },
    {
      "cell_type": "markdown",
      "source": [
        "# ジャパンサーチのRDFストアを対象したSPARQLチュートリアル\n",
        "\n",
        "ジャパンサーチのRDFストアを対象したSPARQLのチュートリアルです。\n",
        "\n",
        "参考：https://jpsearch.go.jp/static/developer/ja.html"
      ],
      "metadata": {
        "id": "R2F_Xe0I8IHd"
      }
    },
    {
      "cell_type": "markdown",
      "source": [
        "## 初期設定"
      ],
      "metadata": {
        "id": "17mZCp2j9CGP"
      }
    },
    {
      "cell_type": "code",
      "execution_count": null,
      "metadata": {
        "id": "5um7y6IQ8HSO"
      },
      "outputs": [],
      "source": [
        "# 日本語の文字化け対策\n",
        "!pip install japanize-matplotlib\n",
        "import requests\n",
        "import urllib\n",
        "import json\n",
        "import pprint\n",
        "import matplotlib.pyplot as plt\n",
        "import japanize_matplotlib\n",
        "\n",
        "endpoint = \"https://jpsearch.go.jp/rdf/sparql/\"\n",
        "\n",
        "def execQuery(q):\n",
        "  url = \"{}?query={}&format=json&output=json&results=json\".format(endpoint, urllib.parse.quote(q))\n",
        "  return requests.get(url).json()\n",
        "\n",
        "def displayGraph(X, Y, title, xlabel, ylabel):\n",
        "  # グラフの大きさ指定\n",
        "  plt.figure(figsize=(10, 10))\n",
        "\n",
        "  # 棒グラフを表示\n",
        "  plt.barh(X, Y)\n",
        "\n",
        "  # XとYのラベル\n",
        "  plt.xlabel(xlabel)\n",
        "  plt.ylabel(ylabel)\n",
        "\n",
        "  # タイトル表示\n",
        "  plt.title(title, fontsize=15)"
      ]
    },
    {
      "cell_type": "markdown",
      "source": [
        "## 例1:作品数の多い順に作者を取得する"
      ],
      "metadata": {
        "id": "MCr5Rbtd9JHX"
      }
    },
    {
      "cell_type": "markdown",
      "source": [
        "### クエリ例"
      ],
      "metadata": {
        "id": "e8rt5q7Y9fn3"
      }
    },
    {
      "cell_type": "code",
      "source": [
        "q = \"\"\"\n",
        "PREFIX rdfs: <http://www.w3.org/2000/01/rdf-schema#>\n",
        "PREFIX schema: <http://schema.org/>\n",
        "PREFIX chname: <https://jpsearch.go.jp/entity/chname/>\n",
        "SELECT distinct (count(?cho) as ?count) ?label WHERE {\n",
        "    ?cho schema:creator ?creator .\n",
        "    ?creator rdfs:label ?label . \n",
        "    ?creator rdfs:isDefinedBy chname: # 正規化されている名前のみ\n",
        "\n",
        "    # 以下のように書くことができます。\n",
        "\n",
        "    # ?cho schema:creator ?creator .\n",
        "    # ?creator rdfs:label ?label; rdfs:isDefinedBy chname: # 正規化されている名前のみ\n",
        "}\n",
        "ORDER BY DESC(?count)\n",
        "LIMIT 20\n",
        "\"\"\"\n",
        "\n",
        "results = execQuery(q)\n",
        "for obj in results[\"results\"][\"bindings\"]:\n",
        "  # pprint.pprint(obj)\n",
        "  count = obj[\"count\"][\"value\"]\n",
        "  label = obj[\"label\"][\"value\"]\n",
        "  print(label, \"\\t\", count)"
      ],
      "metadata": {
        "id": "DGYRu6YH9HC-"
      },
      "execution_count": null,
      "outputs": []
    },
    {
      "cell_type": "markdown",
      "source": [
        "### 可視化例"
      ],
      "metadata": {
        "id": "GZWI-qtU_Br6"
      }
    },
    {
      "cell_type": "code",
      "source": [
        "x_list = []\n",
        "x_value = \"label\"\n",
        "y_list = []\n",
        "y_value = \"count\"\n",
        "for obj in results[\"results\"][\"bindings\"]:\n",
        "  x_list.append(obj[x_value][\"value\"])  \n",
        "  y_list.append(int(obj[y_value][\"value\"]))\n",
        "\n",
        "displayGraph(x_list, y_list, \"作品数の多い作者\", \"作品数\", \"作者\", )  "
      ],
      "metadata": {
        "id": "xKkhCEIx_Bi-"
      },
      "execution_count": null,
      "outputs": []
    }
  ]
}