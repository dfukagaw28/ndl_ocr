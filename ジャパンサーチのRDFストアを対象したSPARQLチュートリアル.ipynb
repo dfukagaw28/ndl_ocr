{
  "nbformat": 4,
  "nbformat_minor": 0,
  "metadata": {
    "colab": {
      "name": "ジャパンサーチのRDFストアを対象したSPARQLチュートリアル.ipynb",
      "private_outputs": true,
      "provenance": [],
      "toc_visible": true,
      "authorship_tag": "ABX9TyMZBPduaJpmZNF7a6s7WX+q",
      "include_colab_link": true
    },
    "kernelspec": {
      "name": "python3",
      "display_name": "Python 3"
    },
    "language_info": {
      "name": "python"
    }
  },
  "cells": [
    {
      "cell_type": "markdown",
      "metadata": {
        "id": "view-in-github",
        "colab_type": "text"
      },
      "source": [
        "<a href=\"https://colab.research.google.com/github/nakamura196/ndl_ocr/blob/main/%E3%82%B8%E3%83%A3%E3%83%91%E3%83%B3%E3%82%B5%E3%83%BC%E3%83%81%E3%81%AERDF%E3%82%B9%E3%83%88%E3%82%A2%E3%82%92%E5%AF%BE%E8%B1%A1%E3%81%97%E3%81%9FSPARQL%E3%83%81%E3%83%A5%E3%83%BC%E3%83%88%E3%83%AA%E3%82%A2%E3%83%AB.ipynb\" target=\"_parent\"><img src=\"https://colab.research.google.com/assets/colab-badge.svg\" alt=\"Open In Colab\"/></a>"
      ]
    },
    {
      "cell_type": "markdown",
      "source": [
        "# ジャパンサーチのRDFストアを対象したSPARQLチュートリアル\n",
        "\n",
        "ジャパンサーチのRDFストアを対象したSPARQLのチュートリアルです。\n",
        "\n",
        "参考：https://jpsearch.go.jp/static/developer/ja.html"
      ],
      "metadata": {
        "id": "R2F_Xe0I8IHd"
      }
    },
    {
      "cell_type": "markdown",
      "source": [
        "## 初期設定"
      ],
      "metadata": {
        "id": "17mZCp2j9CGP"
      }
    },
    {
      "cell_type": "code",
      "execution_count": null,
      "metadata": {
        "id": "5um7y6IQ8HSO"
      },
      "outputs": [],
      "source": [
        "# 日本語の文字化け対策\n",
        "!pip install japanize-matplotlib\n",
        "import requests\n",
        "import urllib\n",
        "import json\n",
        "import pprint\n",
        "import matplotlib.pyplot as plt\n",
        "import japanize_matplotlib\n",
        "\n",
        "endpoint = \"https://jpsearch.go.jp/rdf/sparql/\"\n",
        "\n",
        "def execQuery(q):\n",
        "  url = \"{}?query={}&format=json&output=json&results=json\".format(endpoint, urllib.parse.quote(q))\n",
        "  return requests.get(url).json()\n",
        "\n",
        "def displayGraph(X, Y, title, xlabel, ylabel):\n",
        "  # グラフの大きさ指定\n",
        "  plt.figure(figsize=(10, 10))\n",
        "\n",
        "  # 棒グラフを表示\n",
        "  plt.barh(X, Y)\n",
        "\n",
        "  # XとYのラベル\n",
        "  plt.xlabel(xlabel)\n",
        "  plt.ylabel(ylabel)\n",
        "\n",
        "  # タイトル表示\n",
        "  plt.title(title, fontsize=15)"
      ]
    },
    {
      "cell_type": "markdown",
      "source": [
        "## 例1:作品数の多い順に作者を取得する"
      ],
      "metadata": {
        "id": "MCr5Rbtd9JHX"
      }
    },
    {
      "cell_type": "markdown",
      "source": [
        "### クエリ例"
      ],
      "metadata": {
        "id": "e8rt5q7Y9fn3"
      }
    },
    {
      "cell_type": "code",
      "source": [
        "q = \"\"\"\n",
        "PREFIX rdfs: <http://www.w3.org/2000/01/rdf-schema#>\n",
        "PREFIX schema: <http://schema.org/>\n",
        "PREFIX chname: <https://jpsearch.go.jp/entity/chname/>\n",
        "SELECT distinct (count(?cho) as ?count) ?label WHERE {\n",
        "    ?cho schema:creator ?creator .\n",
        "    ?creator rdfs:label ?label . \n",
        "    ?creator rdfs:isDefinedBy chname: # 正規化されている名前のみ\n",
        "\n",
        "    # 以下のように書くことができます。\n",
        "\n",
        "    # ?cho schema:creator ?creator .\n",
        "    # ?creator rdfs:label ?label; rdfs:isDefinedBy chname: # 正規化されている名前のみ\n",
        "}\n",
        "ORDER BY DESC(?count)\n",
        "LIMIT 20\n",
        "\"\"\"\n",
        "\n",
        "results = execQuery(q)\n",
        "for obj in results[\"results\"][\"bindings\"]:\n",
        "  # pprint.pprint(obj)\n",
        "  count = obj[\"count\"][\"value\"]\n",
        "  label = obj[\"label\"][\"value\"]\n",
        "  print(label, \"\\t\", count)"
      ],
      "metadata": {
        "id": "DGYRu6YH9HC-"
      },
      "execution_count": null,
      "outputs": []
    },
    {
      "cell_type": "markdown",
      "source": [
        "### 可視化例"
      ],
      "metadata": {
        "id": "GZWI-qtU_Br6"
      }
    },
    {
      "cell_type": "code",
      "source": [
        "x_list = []\n",
        "x_value = \"label\"\n",
        "y_list = []\n",
        "y_value = \"count\"\n",
        "for obj in results[\"results\"][\"bindings\"]:\n",
        "  x_list.append(obj[x_value][\"value\"])  \n",
        "  y_list.append(int(obj[y_value][\"value\"]))\n",
        "\n",
        "displayGraph(x_list, y_list, \"作品数の多い作者\", \"作品数\", \"作者\", )  "
      ],
      "metadata": {
        "id": "xKkhCEIx_Bi-"
      },
      "execution_count": null,
      "outputs": []
    },
    {
      "cell_type": "markdown",
      "source": [
        "## 例2:位置情報を取得する"
      ],
      "metadata": {
        "id": "Bfk5aotuI_LJ"
      }
    },
    {
      "cell_type": "markdown",
      "source": [
        "### クエリ例"
      ],
      "metadata": {
        "id": "d_akfK7mJJCG"
      }
    },
    {
      "cell_type": "code",
      "source": [
        "q = \"\"\"\n",
        "PREFIX rdfs: <http://www.w3.org/2000/01/rdf-schema#>\n",
        "PREFIX schema: <http://schema.org/>\n",
        "PREFIX chname: <https://jpsearch.go.jp/entity/chname/>\n",
        "SELECT distinct ?s ?label ?lat ?long WHERE {\n",
        "    # ?s rdfs:label ?label .\n",
        "    # ?s schema:geo ?geo . \n",
        "    # ?geo schema:latitude ?lat . \n",
        "    # ?geo schema:longitude ?long . \n",
        "\n",
        "    # 以下のように書くことができます。\n",
        "\n",
        "    ?s rdfs:label ?label; schema:geo ?geo . \n",
        "    ?geo schema:latitude ?lat; schema:longitude ?long . \n",
        "}\n",
        "\"\"\"\n",
        "\n",
        "results = execQuery(q)"
      ],
      "metadata": {
        "id": "3txTT1-fJGwB"
      },
      "execution_count": null,
      "outputs": []
    },
    {
      "cell_type": "markdown",
      "source": [
        "### 可視化例"
      ],
      "metadata": {
        "id": "f3im8KI_MVE5"
      }
    },
    {
      "cell_type": "code",
      "source": [
        "# 結果をjson形式で保存\n",
        "import json\n",
        "with open('data.json', 'w', encoding='utf-8') as f:\n",
        "    json.dump(results, f, ensure_ascii=False, indent=2)"
      ],
      "metadata": {
        "id": "oG8Ee2E0J8FX"
      },
      "execution_count": null,
      "outputs": []
    },
    {
      "cell_type": "code",
      "source": [
        "# 結果をtable形式で表示\n",
        "from pandas import json_normalize\n",
        "\n",
        "# 変換用の関数\n",
        "def convertSparqlResult2Df(results, mappings):\n",
        "  data = []\n",
        "\n",
        "  for obj in results[\"results\"][\"bindings\"]:\n",
        "    item = {}\n",
        "\n",
        "    for mapping in mappings:\n",
        "      label = mapping[\"label\"]\n",
        "      query_var = mapping[\"query_var\"]\n",
        "      item[label] = obj[query_var][\"value\"]\n",
        "\n",
        "    data.append(item)\n",
        "\n",
        "  df = json_normalize(data)\n",
        "  return df\n",
        "\n",
        "mappings = [\n",
        "      {\n",
        "        \"label\": \"ラベル\",\n",
        "        \"query_var\" : \"label\"\n",
        "      },\n",
        "      {\n",
        "        \"label\": \"緯度\",\n",
        "        \"query_var\" : \"lat\"\n",
        "      },\n",
        "      {\n",
        "        \"label\": \"経度\",\n",
        "        \"query_var\" : \"long\"\n",
        "      }\n",
        "  ]\n",
        "\n",
        "df = convertSparqlResult2Df(results, mappings)\n",
        "df"
      ],
      "metadata": {
        "id": "uC6JMw13KJ7G"
      },
      "execution_count": null,
      "outputs": []
    },
    {
      "cell_type": "markdown",
      "source": [
        "#### 地図表示"
      ],
      "metadata": {
        "id": "2fVbIZ4UMXhU"
      }
    },
    {
      "cell_type": "code",
      "source": [
        "!pip install folium\n",
        "import folium\n",
        "from folium import plugins"
      ],
      "metadata": {
        "id": "4WMjuicOLcus"
      },
      "execution_count": null,
      "outputs": []
    },
    {
      "cell_type": "code",
      "source": [
        "# 初期値\n",
        "m = folium.Map(location=[35.681382, 139.76608399999998], zoom_start=2) #東京駅の緯度経度\n",
        "\n",
        "# クラスタ\n",
        "marker_cluster = plugins.MarkerCluster().add_to(m)\n",
        "\n",
        "# マーカーの追加\n",
        "for index, data in df.iterrows():\n",
        "  popup=folium.Popup(data[\"ラベル\"], max_width=200)\n",
        "  folium.Marker(location=[data[\"緯度\"], data[\"経度\"]], popup=popup).add_to(marker_cluster)\n",
        "\n",
        "# 表示 \n",
        "m"
      ],
      "metadata": {
        "id": "XPa0M0QWK--i"
      },
      "execution_count": null,
      "outputs": []
    },
    {
      "cell_type": "markdown",
      "source": [
        "## 例3:IIIFコレクションを作成・表示する"
      ],
      "metadata": {
        "id": "BIVfde2CRxcS"
      }
    },
    {
      "cell_type": "markdown",
      "source": [
        "### データ取得"
      ],
      "metadata": {
        "id": "ZtSaZGDFVqnW"
      }
    },
    {
      "cell_type": "code",
      "source": [
        "# 変数\n",
        "\n",
        "## ページの上限。全てで実行したい場合には、-1を与えてください。時間がかかります。\n",
        "thres = 5 # -1\n",
        "\n",
        "url_prefix = \"\"\n",
        "\n",
        "##  以下、関数と実行\n",
        "\n",
        "import os\n",
        "\n",
        "def getManifestsByAttribution():\n",
        "\n",
        "  page = 0\n",
        "\n",
        "  unit = 10000\n",
        "\n",
        "  manifestsByAttribution = {}\n",
        "\n",
        "  while 1:\n",
        "      print(\"page\", page)\n",
        "\n",
        "      q = f\"\"\"\n",
        "        SELECT DISTINCT ?url ?label ?provider_label WHERE {{\n",
        "        ?s rdfs:label ?label; jps:accessInfo ?accessInfo . \n",
        "        ?accessInfo schema:url ?url; schema:provider/rdfs:label ?provider_label .\n",
        "        ?url rdf:type <http://iiif.io/api/presentation/2#Manifest> .\n",
        "      }} limit {str(unit)} offset {str(unit * page)}\n",
        "      \"\"\"\n",
        "\n",
        "      results = execQuery(q)\n",
        "\n",
        "      if len(results[\"results\"][\"bindings\"]) == 0 or (thres > 0 and thres < page):\n",
        "          break\n",
        "\n",
        "      page += 1\n",
        "\n",
        "      for obj in results[\"results\"][\"bindings\"]:\n",
        "          manifest = obj[\"url\"][\"value\"]\n",
        "          label = obj[\"label\"][\"value\"]\n",
        "          attribution = obj[\"provider_label\"][\"value\"]\n",
        "\n",
        "          if attribution not in manifestsByAttribution:\n",
        "              manifestsByAttribution[attribution] = []\n",
        "\n",
        "          manifestsByAttribution[attribution].append({\n",
        "              \"@id\": manifest,\n",
        "              \"@type\": \"sc:Manifest\",\n",
        "              \"label\": label\n",
        "          })\n",
        "\n",
        "  return manifestsByAttribution\n",
        "\n",
        "def createCollection(manifestsByAttribution):\n",
        "  collections = []\n",
        "\n",
        "  collection = {\n",
        "      \"@context\": \"http://iiif.io/api/presentation/2/context.json\",\n",
        "      \"@id\": f\"{url_prefix}/collection.json\",\n",
        "      \"@type\": \"sc:Collection\",\n",
        "      \"label\": \"Japan Search IIIF Collection\",\n",
        "      \"collections\": collections\n",
        "  }\n",
        "\n",
        "  for attribution in manifestsByAttribution:\n",
        "      manifests = manifestsByAttribution[attribution]\n",
        "      \n",
        "      # コレクションを保存\n",
        "      collectionByAttribution = {\n",
        "          \"@context\": \"http://iiif.io/api/presentation/2/context.json\",\n",
        "          \"@id\": f\"{url_prefix}/collections/{attribution}.json\",\n",
        "          \"@type\": \"sc:Collection\",\n",
        "          \"label\": f\"{attribution}\",\n",
        "          \"manifests\": manifests\n",
        "      }\n",
        "\n",
        "      collection_path = f\"collections/{attribution}.json\"\n",
        "      os.makedirs(os.path.dirname(collection_path), exist_ok=True)\n",
        "\n",
        "      with open(collection_path, 'w', encoding='utf-8') as f:\n",
        "        json.dump(collectionByAttribution, f, ensure_ascii=False, indent=2)\n",
        "\n",
        "      # collectionsへ登録\n",
        "      c = {\n",
        "          \"@id\": collectionByAttribution[\"@id\"],\n",
        "          \"@type\": \"sc:Collection\",\n",
        "          \"label\": f\"{attribution} ({len(manifests)}件)\"\n",
        "      }\n",
        "      collections.append(c)\n",
        "\n",
        "  return collection\n",
        "\n",
        "manifestsByAttribution = getManifestsByAttribution()\n",
        "\n",
        "collection = createCollection(manifestsByAttribution)\n",
        "\n",
        "with open(\"collection.json\", 'w', encoding='utf-8') as f:\n",
        "  json.dump(collection, f, ensure_ascii=False, indent=2)"
      ],
      "metadata": {
        "id": "7aHnYAvBPejq"
      },
      "execution_count": null,
      "outputs": []
    },
    {
      "cell_type": "markdown",
      "source": [
        "### 可視化例（Mirador）\n",
        "\n",
        "HTTPサーバーを立ち上げます。"
      ],
      "metadata": {
        "id": "6zPx62TuVlS3"
      }
    },
    {
      "cell_type": "code",
      "source": [
        "# サーバの起動\n",
        "PORT = 8001\n",
        "!nohup python3 -m http.server $PORT > server.log 2>&1 &\n",
        "\n",
        "# Miradorのダウンロード\n",
        "if not os.path.exists(\"index.html\"):\n",
        "  !wget http://mirador.cultural.jp/\n",
        "\n",
        "# パス\n",
        "mirador_path = \"/index.html?manifest=collection.json\"\n",
        "\n",
        "# URLの表示\n",
        "from google.colab import output\n",
        "output.serve_kernel_port_as_window(PORT, path=mirador_path)"
      ],
      "metadata": {
        "id": "uV2AgzwhUeL7"
      },
      "execution_count": null,
      "outputs": []
    }
  ]
}