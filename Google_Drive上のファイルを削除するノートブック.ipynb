{
  "nbformat": 4,
  "nbformat_minor": 0,
  "metadata": {
    "colab": {
      "name": "Google Drive上のファイルを削除するノートブック.ipynb",
      "private_outputs": true,
      "provenance": [],
      "collapsed_sections": [],
      "authorship_tag": "ABX9TyPxdGbuV41Lh7eiXNxAs6L9",
      "include_colab_link": true
    },
    "kernelspec": {
      "name": "python3",
      "display_name": "Python 3"
    },
    "language_info": {
      "name": "python"
    }
  },
  "cells": [
    {
      "cell_type": "markdown",
      "metadata": {
        "id": "view-in-github",
        "colab_type": "text"
      },
      "source": [
        "<a href=\"https://colab.research.google.com/github/nakamura196/ndl_ocr/blob/main/Google_Drive%E4%B8%8A%E3%81%AE%E3%83%95%E3%82%A1%E3%82%A4%E3%83%AB%E3%82%92%E5%89%8A%E9%99%A4%E3%81%99%E3%82%8B%E3%83%8E%E3%83%BC%E3%83%88%E3%83%96%E3%83%83%E3%82%AF.ipynb\" target=\"_parent\"><img src=\"https://colab.research.google.com/assets/colab-badge.svg\" alt=\"Open In Colab\"/></a>"
      ]
    },
    {
      "cell_type": "code",
      "execution_count": null,
      "metadata": {
        "id": "gJaMATahOGkS"
      },
      "outputs": [],
      "source": [
        "from google.colab import drive\n",
        "drive.mount('/content/drive/')"
      ]
    },
    {
      "cell_type": "markdown",
      "source": [
        "今回は「_main.txt」という文字列を含むファイルを削除する例を示します。"
      ],
      "metadata": {
        "id": "dKsK-nwNP1gn"
      }
    },
    {
      "cell_type": "code",
      "source": [
        "import glob\n",
        "from tqdm import tqdm\n",
        "import pprint\n",
        "\n",
        "files = glob.glob(\"/content/drive/MyDrive/100_tmp/金沢文庫/item*.xml\")\n",
        "\n",
        "print(\"削除対象のファイル一覧\")\n",
        "pprint.pprint(files)\n",
        "\n",
        "print(\"削除対象のファイル数\")\n",
        "print(len(files))"
      ],
      "metadata": {
        "id": "xcpI-J5jOQeC"
      },
      "execution_count": null,
      "outputs": []
    },
    {
      "cell_type": "markdown",
      "source": [
        "削除の実行"
      ],
      "metadata": {
        "id": "3KbZVedIQOeQ"
      }
    },
    {
      "cell_type": "code",
      "source": [
        "for file in tqdm(files):\n",
        "  !rm -rf $file"
      ],
      "metadata": {
        "id": "aTRkvGSUQEsj"
      },
      "execution_count": null,
      "outputs": []
    }
  ]
}