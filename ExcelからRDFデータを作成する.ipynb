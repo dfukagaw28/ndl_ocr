{
  "nbformat": 4,
  "nbformat_minor": 0,
  "metadata": {
    "colab": {
      "private_outputs": true,
      "provenance": [],
      "authorship_tag": "ABX9TyPbGzBOKnz1gcO21uXIzFRg",
      "include_colab_link": true
    },
    "kernelspec": {
      "name": "python3",
      "display_name": "Python 3"
    },
    "language_info": {
      "name": "python"
    },
    "gpuClass": "standard"
  },
  "cells": [
    {
      "cell_type": "markdown",
      "metadata": {
        "id": "view-in-github",
        "colab_type": "text"
      },
      "source": [
        "<a href=\"https://colab.research.google.com/github/nakamura196/ndl_ocr/blob/main/Excel%E3%81%8B%E3%82%89RDF%E3%83%87%E3%83%BC%E3%82%BF%E3%82%92%E4%BD%9C%E6%88%90%E3%81%99%E3%82%8B.ipynb\" target=\"_parent\"><img src=\"https://colab.research.google.com/assets/colab-badge.svg\" alt=\"Open In Colab\"/></a>"
      ]
    },
    {
      "cell_type": "markdown",
      "source": [
        "# ExcelからRDFデータを作成する\n",
        "\n",
        "## 準備"
      ],
      "metadata": {
        "id": "skHsmAhzj4Qb"
      }
    },
    {
      "cell_type": "code",
      "execution_count": null,
      "metadata": {
        "id": "VGoITSz9hAK1"
      },
      "outputs": [],
      "source": [
        "!pip install nakamura196-rdf-tools\n",
        "from nakamura196_rdf_tools.core import Client as tools\n",
        "from google.colab import files"
      ]
    },
    {
      "cell_type": "markdown",
      "source": [
        "## ファイルアップロード"
      ],
      "metadata": {
        "id": "y0xum9nMj25h"
      }
    },
    {
      "cell_type": "code",
      "source": [
        "uploaded = files.upload()\n",
        "filename = next(iter(uploaded))"
      ],
      "metadata": {
        "id": "9aoRX1UehDei"
      },
      "execution_count": null,
      "outputs": []
    },
    {
      "cell_type": "markdown",
      "source": [
        "## 変換\n",
        "\n",
        "- 第2引数：prefixの情報をまとめたシート名を指定する\n",
        "- 第3引数：処理対象のシート名を指定する"
      ],
      "metadata": {
        "id": "xcKPTqv6j-AK"
      }
    },
    {
      "cell_type": "code",
      "source": [
        "OUTPUT_PATH = \"output.ttl\"\n",
        "tools.create_rdf_from_excel(filename, \"prefix\", \"target\", OUTPUT_PATH)"
      ],
      "metadata": {
        "id": "Jd5jQlpLhcsZ"
      },
      "execution_count": null,
      "outputs": []
    }
  ]
}