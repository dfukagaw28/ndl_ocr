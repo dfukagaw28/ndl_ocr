{
  "nbformat": 4,
  "nbformat_minor": 0,
  "metadata": {
    "colab": {
      "private_outputs": true,
      "provenance": [],
      "authorship_tag": "ABX9TyOkqTex4ACBgqHJo8aDmDRk",
      "include_colab_link": true
    },
    "kernelspec": {
      "name": "python3",
      "display_name": "Python 3"
    },
    "language_info": {
      "name": "python"
    },
    "gpuClass": "standard"
  },
  "cells": [
    {
      "cell_type": "markdown",
      "metadata": {
        "id": "view-in-github",
        "colab_type": "text"
      },
      "source": [
        "<a href=\"https://colab.research.google.com/github/nakamura196/ndl_ocr/blob/main/Gradio%E3%81%AEAPI%E3%82%92%E7%94%A8%E3%81%84%E3%81%9FNDL%E5%8F%A4%E5%85%B8%E7%B1%8DOCR%E3%81%AE%E4%BE%8B.ipynb\" target=\"_parent\"><img src=\"https://colab.research.google.com/assets/colab-badge.svg\" alt=\"Open In Colab\"/></a>"
      ]
    },
    {
      "cell_type": "markdown",
      "source": [
        "# GradioのAPIを用いたNDL古典籍OCRの例"
      ],
      "metadata": {
        "id": "SVBjNL31TrDW"
      }
    },
    {
      "cell_type": "markdown",
      "source": [
        "## 関数"
      ],
      "metadata": {
        "id": "iPqPdxitTxKE"
      }
    },
    {
      "cell_type": "code",
      "execution_count": null,
      "metadata": {
        "id": "Jev6sBVJNfbd"
      },
      "outputs": [],
      "source": [
        "import base64\n",
        "from urllib import request\n",
        "import PIL.Image\n",
        "import requests\n",
        "\n",
        "def image_to_data_url(filename):\n",
        "    \"\"\"画像をbase64に変換する\"\"\"\n",
        "    ext = filename.split('.')[-1]\n",
        "    prefix = f'data:image/{ext};base64,'\n",
        "    with open(filename, 'rb') as f:\n",
        "        img = f.read()\n",
        "    return prefix + base64.b64encode(img).decode('utf-8')\n",
        "\n",
        "def convertUrl2Base64(url, local=False):\n",
        "    \"\"\"URLをbase64に変換する\"\"\"\n",
        "    if local:\n",
        "        path = url\n",
        "    else:\n",
        "        path = url.split(\"/\")[-1].replace(\".bmp\", \".jpg\")\n",
        "        request.urlretrieve(url, path)\n",
        "\n",
        "    d = image_to_data_url(path)\n",
        "\n",
        "    return d, PIL.Image.open(path)"
      ]
    },
    {
      "cell_type": "markdown",
      "source": [
        "## 実行\n",
        "\n",
        "例として、「源氏物語」（国立国会図書館所蔵）を使用しています。"
      ],
      "metadata": {
        "id": "v1Oh5OYDTyId"
      }
    },
    {
      "cell_type": "code",
      "source": [
        "# 変数\n",
        "url = \"https://dl.ndl.go.jp/api/iiif/2585098/R0000003/full/800,/0/default.jpg\"\n",
        "# url = \"https://images.metmuseum.org/CRDImages/as/original/DP121536.jpg\"\n",
        "endpoint = \"https://nakamura196-ndl-kotenseki-ocr.hf.space/run/predict\"\n",
        "\n",
        "# メイン\n",
        "d, img = convertUrl2Base64(url)\n",
        "r = requests.post(url=endpoint, json={\"data\": [d]})\n",
        "\n",
        "if r.status_code == 200:\n",
        "  res = r.json()[\"data\"][1] # 配列の2番目にJSONデータが格納されます。\n",
        "else:\n",
        "  res = {\n",
        "      \"status_code\": r.status_code,\n",
        "      \"text\": r.text\n",
        "  }\n",
        "\n",
        "res"
      ],
      "metadata": {
        "id": "wHUbDpJtOa9X"
      },
      "execution_count": null,
      "outputs": []
    },
    {
      "cell_type": "code",
      "source": [],
      "metadata": {
        "id": "wNYOtoNkWW5w"
      },
      "execution_count": null,
      "outputs": []
    }
  ]
}