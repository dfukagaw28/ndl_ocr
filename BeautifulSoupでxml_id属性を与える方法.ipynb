{
  "nbformat": 4,
  "nbformat_minor": 0,
  "metadata": {
    "colab": {
      "name": "BeautifulSoupでxml:id属性を与える方法.ipynb",
      "private_outputs": true,
      "provenance": [],
      "authorship_tag": "ABX9TyNvSvmM/ow8RkP/+tNnmpmj",
      "include_colab_link": true
    },
    "kernelspec": {
      "name": "python3",
      "display_name": "Python 3"
    },
    "language_info": {
      "name": "python"
    },
    "gpuClass": "standard"
  },
  "cells": [
    {
      "cell_type": "markdown",
      "metadata": {
        "id": "view-in-github",
        "colab_type": "text"
      },
      "source": [
        "<a href=\"https://colab.research.google.com/github/nakamura196/ndl_ocr/blob/main/BeautifulSoup%E3%81%A7xml_id%E5%B1%9E%E6%80%A7%E3%82%92%E4%B8%8E%E3%81%88%E3%82%8B%E6%96%B9%E6%B3%95.ipynb\" target=\"_parent\"><img src=\"https://colab.research.google.com/assets/colab-badge.svg\" alt=\"Open In Colab\"/></a>"
      ]
    },
    {
      "cell_type": "markdown",
      "source": [
        "# BeautifulSoupで`xml:id`属性を与える方法"
      ],
      "metadata": {
        "id": "OALwi4PE-swc"
      }
    },
    {
      "cell_type": "code",
      "source": [
        "!pip install bs4"
      ],
      "metadata": {
        "id": "ylHvwqg_9pPL"
      },
      "execution_count": null,
      "outputs": []
    },
    {
      "cell_type": "markdown",
      "source": [
        "# NGなコード"
      ],
      "metadata": {
        "id": "I3mKOPKa-cwR"
      }
    },
    {
      "cell_type": "code",
      "source": [
        "from bs4 import BeautifulSoup\n",
        "soup = BeautifulSoup(features=\"xml\")\n",
        "soup.append(soup.new_tag(\"p\", abc=\"xyz\", xml:id=\"abc\"))\n",
        "print(soup)"
      ],
      "metadata": {
        "id": "AfLJelrv-ccm"
      },
      "execution_count": null,
      "outputs": []
    },
    {
      "cell_type": "markdown",
      "source": [
        "# OKなコード"
      ],
      "metadata": {
        "id": "yPLOrSz--pia"
      }
    },
    {
      "cell_type": "code",
      "execution_count": null,
      "metadata": {
        "id": "yz1N7k789bf3"
      },
      "outputs": [],
      "source": [
        "from bs4 import BeautifulSoup\n",
        "soup = BeautifulSoup(features=\"xml\")\n",
        "soup.append(soup.new_tag(\"p\", **{\"abc\": \"xyz\", \"xml:id\":\"aiu\"}))\n",
        "print(soup)"
      ]
    }
  ]
}