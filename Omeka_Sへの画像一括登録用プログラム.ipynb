{
  "nbformat": 4,
  "nbformat_minor": 0,
  "metadata": {
    "colab": {
      "private_outputs": true,
      "provenance": [],
      "authorship_tag": "ABX9TyPEZUVAA2RDRYMliXXCTp6w",
      "include_colab_link": true
    },
    "kernelspec": {
      "name": "python3",
      "display_name": "Python 3"
    },
    "language_info": {
      "name": "python"
    },
    "gpuClass": "standard"
  },
  "cells": [
    {
      "cell_type": "markdown",
      "metadata": {
        "id": "view-in-github",
        "colab_type": "text"
      },
      "source": [
        "<a href=\"https://colab.research.google.com/github/nakamura196/ndl_ocr/blob/main/Omeka_S%E3%81%B8%E3%81%AE%E7%94%BB%E5%83%8F%E4%B8%80%E6%8B%AC%E7%99%BB%E9%8C%B2%E7%94%A8%E3%83%97%E3%83%AD%E3%82%B0%E3%83%A9%E3%83%A0.ipynb\" target=\"_parent\"><img src=\"https://colab.research.google.com/assets/colab-badge.svg\" alt=\"Open In Colab\"/></a>"
      ]
    },
    {
      "cell_type": "markdown",
      "source": [
        "# Omeka Sへの画像一括登録用プログラム"
      ],
      "metadata": {
        "id": "6gOB1LGbg35v"
      }
    },
    {
      "cell_type": "code",
      "execution_count": null,
      "metadata": {
        "id": "K0aTXMjrbFsJ"
      },
      "outputs": [],
      "source": [
        "!pip install -U omeka-iiif-uploader"
      ]
    },
    {
      "cell_type": "markdown",
      "source": [
        "以下のようなcsvファイルをアップロードしてください。\n",
        "\n",
        "|Item Identifier|Media Url|\n",
        "|:----|:----|\n",
        "|post_226|https://nakamura196.github.io/iiif_static/files/tile/kunshujo/info.json|\n"
      ],
      "metadata": {
        "id": "p5Ke9r1JgwNt"
      }
    },
    {
      "cell_type": "code",
      "source": [
        "from google.colab import files\n",
        "uploaded = files.upload()\n",
        "input_file = next(iter(uploaded))\n",
        "\n",
        "csv_path = \"input.csv\"\n",
        "\n",
        "!cp {input_file} {csv_path}\n",
        "!rm {input_file}"
      ],
      "metadata": {
        "id": "cBdnCDY4dgkb"
      },
      "execution_count": null,
      "outputs": []
    },
    {
      "cell_type": "code",
      "source": [
        "identity = \"UsNCyMOEsOu7BBemx7THSGg7njFhhzYx\"\n",
        "credential = \"lpRs2KjC74S5jdth7moLWb8kzbSZIuT5\"\n",
        "endpoint = \"https://omekas.aws.ldas.jp/sandbox/api\" # api endpoint\n",
        "property_id = 10 # identifierに使用するpropertyのid"
      ],
      "metadata": {
        "id": "2dm-kYr9bMzQ"
      },
      "execution_count": null,
      "outputs": []
    },
    {
      "cell_type": "code",
      "source": [
        "from omeka_iiif_uploader.core import Client\n",
        "Client.main(endpoint, csv_path, property_id, identity, credential)"
      ],
      "metadata": {
        "id": "f6yPMV5QcgWc"
      },
      "execution_count": null,
      "outputs": []
    }
  ]
}