{
  "nbformat": 4,
  "nbformat_minor": 0,
  "metadata": {
    "colab": {
      "name": "校異情報の生成.ipynb",
      "provenance": [],
      "collapsed_sections": [],
      "private_outputs": true,
      "authorship_tag": "ABX9TyMt4dbJyomrbLB02xDw3yNf",
      "include_colab_link": true
    },
    "kernelspec": {
      "name": "python3",
      "display_name": "Python 3"
    },
    "language_info": {
      "name": "python"
    }
  },
  "cells": [
    {
      "cell_type": "markdown",
      "metadata": {
        "id": "view-in-github",
        "colab_type": "text"
      },
      "source": [
        "<a href=\"https://colab.research.google.com/github/nakamura196/ndl_ocr/blob/main/%E6%A0%A1%E7%95%B0%E6%83%85%E5%A0%B1%E3%81%AE%E7%94%9F%E6%88%90.ipynb\" target=\"_parent\"><img src=\"https://colab.research.google.com/assets/colab-badge.svg\" alt=\"Open In Colab\"/></a>"
      ]
    },
    {
      "cell_type": "markdown",
      "source": [
        "# 二つのテキスト間の差分を抽出するプログラム\n",
        "\n",
        "参考: https://difff.jp/"
      ],
      "metadata": {
        "id": "QXFN2xUVq0Ce"
      }
    },
    {
      "cell_type": "code",
      "source": [
        "#@title ライブラリのインストール\n",
        "!pip install -q git+https://github.com/nakamura196/koui.git\n",
        "import koui"
      ],
      "metadata": {
        "id": "QZoSR3GFp4Zp",
        "cellView": "form"
      },
      "execution_count": null,
      "outputs": []
    },
    {
      "cell_type": "markdown",
      "source": [
        "## 比較するテキストの名前とテキストを入力してください。"
      ],
      "metadata": {
        "id": "qRHk_W6-rBEC"
      }
    },
    {
      "cell_type": "code",
      "execution_count": null,
      "metadata": {
        "id": "OLex4TnWQnVQ"
      },
      "outputs": [],
      "source": [
        "name_1 = \"中村式五十音\"\n",
        "text_1 = '''あいうえお\n",
        "かきくけこ\n",
        "さしすせそ\n",
        "たちぬてと'''"
      ]
    },
    {
      "cell_type": "code",
      "source": [
        "name_2 = \"中村式五十音又様\"\n",
        "text_2 = '''あいうえお\n",
        "こけきくか\n",
        "さしすせそ\n",
        "たじづてと'''"
      ],
      "metadata": {
        "id": "CzQrisMvQ5-H"
      },
      "execution_count": null,
      "outputs": []
    },
    {
      "cell_type": "markdown",
      "source": [
        "## htmlで出力"
      ],
      "metadata": {
        "id": "CzCjfDNjqSJC"
      }
    },
    {
      "cell_type": "code",
      "source": [
        "#@title\n",
        "soup = koui.convert(name_1, text_1, name_2, text_2, \"html\")\n",
        "path = 'out.html'\n",
        "with open(path, 'w', encoding='utf-8') as f:\n",
        "    f.write(str(soup)) # .prettify()\n",
        "\n",
        "# colab上で表示\n",
        "import IPython\n",
        "from IPython.display import display, HTML\n",
        "htm = HTML(str(soup))\n",
        "display(htm)\n",
        "\n",
        "# ダウンロード\n",
        "from google.colab import files\n",
        "files.download(path)"
      ],
      "metadata": {
        "id": "GFkxnJTfqQv4",
        "cellView": "form"
      },
      "execution_count": null,
      "outputs": []
    },
    {
      "cell_type": "markdown",
      "source": [
        "## TEI/XMLで出力"
      ],
      "metadata": {
        "id": "V7HmzRYlqla_"
      }
    },
    {
      "cell_type": "code",
      "source": [
        "#@title\n",
        "soup = koui.convert(name_1, text_1, name_2, text_2, \"xml\")\n",
        "path = 'out.xml'\n",
        "with open(path, 'w', encoding='utf-8') as f:\n",
        "    f.write(str(soup)) # .prettify()\n",
        "\n",
        "# ダウンロード\n",
        "from google.colab import files\n",
        "files.download(path)"
      ],
      "metadata": {
        "id": "G24hpay9qkUr",
        "cellView": "form"
      },
      "execution_count": null,
      "outputs": []
    }
  ]
}