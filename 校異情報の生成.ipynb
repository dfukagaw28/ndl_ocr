{
  "nbformat": 4,
  "nbformat_minor": 0,
  "metadata": {
    "colab": {
      "name": "校異情報の生成.ipynb",
      "provenance": [],
      "private_outputs": true,
      "include_colab_link": true
    },
    "kernelspec": {
      "name": "python3",
      "display_name": "Python 3"
    },
    "language_info": {
      "name": "python"
    }
  },
  "cells": [
    {
      "cell_type": "markdown",
      "metadata": {
        "id": "view-in-github",
        "colab_type": "text"
      },
      "source": [
        "<a href=\"https://colab.research.google.com/github/nakamura196/ndl_ocr/blob/main/%E6%A0%A1%E7%95%B0%E6%83%85%E5%A0%B1%E3%81%AE%E7%94%9F%E6%88%90.ipynb\" target=\"_parent\"><img src=\"https://colab.research.google.com/assets/colab-badge.svg\" alt=\"Open In Colab\"/></a>"
      ]
    },
    {
      "cell_type": "markdown",
      "source": [
        "# 二つのテキスト間の差分を抽出するプログラム\n",
        "\n",
        "参考: https://difff.jp/"
      ],
      "metadata": {
        "id": "QXFN2xUVq0Ce"
      }
    },
    {
      "cell_type": "code",
      "source": [
        "#@title ライブラリのインストール\n",
        "!pip install koui\n",
        "!pip install levenshtein\n",
        "from koui.api import KouiAPIClient\n",
        "from google.colab import files"
      ],
      "metadata": {
        "id": "QZoSR3GFp4Zp"
      },
      "execution_count": null,
      "outputs": []
    },
    {
      "cell_type": "code",
      "source": [
        "# @title 設定：ファイルのダウンロードを行うか否か\n",
        "is_download = False #@param {type:\"boolean\"}\n"
      ],
      "metadata": {
        "cellView": "form",
        "id": "kOV9-ZplS-FA"
      },
      "execution_count": null,
      "outputs": []
    },
    {
      "cell_type": "markdown",
      "source": [
        "## 比較するテキストの名前とテキストを入力してください。"
      ],
      "metadata": {
        "id": "qRHk_W6-rBEC"
      }
    },
    {
      "cell_type": "code",
      "execution_count": null,
      "metadata": {
        "id": "OLex4TnWQnVQ"
      },
      "outputs": [],
      "source": [
        "#@title\n",
        "name_1 = \"中村式五十音\"\n",
        "text_1 = '''あいうえお\n",
        "かきくけこ\n",
        "さしすせそ\n",
        "たちぬてと'''"
      ]
    },
    {
      "cell_type": "code",
      "source": [
        "#@title\n",
        "name_2 = \"中村式五十音又様\"\n",
        "text_2 = '''あいうえお\n",
        "こけきくか\n",
        "さしすせそ\n",
        "たじづてと'''"
      ],
      "metadata": {
        "id": "CzQrisMvQ5-H"
      },
      "execution_count": null,
      "outputs": []
    },
    {
      "cell_type": "markdown",
      "source": [
        "## htmlで出力"
      ],
      "metadata": {
        "id": "CzCjfDNjqSJC"
      }
    },
    {
      "cell_type": "code",
      "source": [
        "#@title\n",
        "soup = KouiAPIClient.convert(name_1, text_1, name_2, text_2, \"html\")\n",
        "path = 'out.html'\n",
        "with open(path, 'w', encoding='utf-8') as f:\n",
        "    f.write(str(soup)) # .prettify()\n",
        "\n",
        "# colab上で表示\n",
        "import IPython\n",
        "from IPython.display import display, HTML\n",
        "htm = HTML(str(soup))\n",
        "display(htm)"
      ],
      "metadata": {
        "id": "GFkxnJTfqQv4",
        "cellView": "form"
      },
      "execution_count": null,
      "outputs": []
    },
    {
      "cell_type": "markdown",
      "source": [
        "### ダウンロード"
      ],
      "metadata": {
        "id": "njAFMbuTScjy"
      }
    },
    {
      "cell_type": "code",
      "source": [
        "#@title\n",
        "if is_download:\n",
        "  files.download(path)"
      ],
      "metadata": {
        "cellView": "form",
        "id": "0cQB9LA5Sbxq"
      },
      "execution_count": null,
      "outputs": []
    },
    {
      "cell_type": "markdown",
      "source": [
        "## TEI/XMLで出力"
      ],
      "metadata": {
        "id": "V7HmzRYlqla_"
      }
    },
    {
      "cell_type": "code",
      "source": [
        "#@title\n",
        "soup = KouiAPIClient.convert(name_1, text_1, name_2, text_2, \"xml\")\n",
        "path = 'out.xml'\n",
        "with open(path, 'w', encoding='utf-8') as f:\n",
        "    f.write(str(soup)) # .prettify()\n",
        "\n",
        "# 編集距離の算出\n",
        "res = KouiAPIClient.compare(path)\n",
        "df = KouiAPIClient.convertJson2Df(res)\n",
        "df"
      ],
      "metadata": {
        "id": "G24hpay9qkUr",
        "cellView": "form"
      },
      "execution_count": null,
      "outputs": []
    },
    {
      "cell_type": "markdown",
      "source": [
        "### ダウンロード"
      ],
      "metadata": {
        "id": "xrK5jW6ASm85"
      }
    },
    {
      "cell_type": "code",
      "source": [
        "#@title\n",
        "if is_download:\n",
        "  files.download(path)"
      ],
      "metadata": {
        "cellView": "form",
        "id": "MfOX3ARnSnWd"
      },
      "execution_count": null,
      "outputs": []
    }
  ]
}