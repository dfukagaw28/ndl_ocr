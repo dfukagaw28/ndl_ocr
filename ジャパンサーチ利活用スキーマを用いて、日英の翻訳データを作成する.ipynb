{
  "nbformat": 4,
  "nbformat_minor": 0,
  "metadata": {
    "colab": {
      "provenance": [],
      "collapsed_sections": [],
      "authorship_tag": "ABX9TyMYVMOGPfLNa/IIZwi7aLax",
      "include_colab_link": true
    },
    "kernelspec": {
      "name": "python3",
      "display_name": "Python 3"
    },
    "language_info": {
      "name": "python"
    }
  },
  "cells": [
    {
      "cell_type": "markdown",
      "metadata": {
        "id": "view-in-github",
        "colab_type": "text"
      },
      "source": [
        "<a href=\"https://colab.research.google.com/github/nakamura196/ndl_ocr/blob/main/%E3%82%B8%E3%83%A3%E3%83%91%E3%83%B3%E3%82%B5%E3%83%BC%E3%83%81%E5%88%A9%E6%B4%BB%E7%94%A8%E3%82%B9%E3%82%AD%E3%83%BC%E3%83%9E%E3%82%92%E7%94%A8%E3%81%84%E3%81%A6%E3%80%81%E6%97%A5%E8%8B%B1%E3%81%AE%E7%BF%BB%E8%A8%B3%E3%83%87%E3%83%BC%E3%82%BF%E3%82%92%E4%BD%9C%E6%88%90%E3%81%99%E3%82%8B.ipynb\" target=\"_parent\"><img src=\"https://colab.research.google.com/assets/colab-badge.svg\" alt=\"Open In Colab\"/></a>"
      ]
    },
    {
      "cell_type": "markdown",
      "source": [
        "# ジャパンサーチ利活用スキーマを用いて、日英の翻訳データを作成する"
      ],
      "metadata": {
        "id": "v9A2c7zxrTri"
      }
    },
    {
      "cell_type": "code",
      "execution_count": 6,
      "metadata": {
        "colab": {
          "base_uri": "https://localhost:8080/"
        },
        "id": "vQL2lE5xrL93",
        "outputId": "e734915f-3e05-4360-ca30-02745d6c51c2"
      },
      "outputs": [
        {
          "output_type": "stream",
          "name": "stdout",
          "text": [
            "url https://jpsearch.go.jp/rdf/sparql/?query=PREFIX%20jps%3A%20%3Chttps%3A//jpsearch.go.jp/term/property%23%3E%0APREFIX%20schema%3A%20%3Chttp%3A//schema.org/%3E%0APREFIX%20chname%3A%20%3Chttps%3A//jpsearch.go.jp/entity/chname/%3E%0ASELECT%20DISTINCT%20%3Flabel%20%3Fname%20WHERE%20%7B%0A%20%20%20%20%3Fcho%20rdfs%3Alabel%20%3Flabel%3B%0A%20%20%20%20%20%20%20%20schema%3Aname%20%3Fname%20.%20%0A%20%20%20%20MINUS%20%7B%20%3Fcho%20jps%3AsourceInfo%20%3Fs%20.%20%7D%0A%20%20%20%20filter%20%28lang%28%3Fname%29%20%3D%20%22en%22%29%20%20.%0A%20%20%20%20filter%20%28%3Flabel%20%21%3D%20str%28%3Fname%29%29%20.%20%0A%7D%20LIMIT%2010000%20OFFSET%200&format=json&output=json&results=json\n",
            "page 1 : 2 秒,  合計:  2 秒\n",
            "page 2 : 3 秒,  合計:  6 秒\n",
            "page 3 : 3 秒,  合計:  9 秒\n",
            "page 4 : 5 秒,  合計:  15 秒\n",
            "page 5 : 7 秒,  合計:  23 秒\n",
            "page 6 : 13 秒,  合計:  36 秒\n",
            "page 7 : 12 秒,  合計:  49 秒\n",
            "page 8 : 15 秒,  合計:  64 秒\n",
            "page 9 : 16 秒,  合計:  81 秒\n",
            "page 10 : 16 秒,  合計:  97 秒\n"
          ]
        }
      ],
      "source": [
        "import json\n",
        "import urllib.parse\n",
        "import requests\n",
        "import time\n",
        "\n",
        "###\n",
        "\n",
        "# パラメータ\n",
        "\n",
        "debug = True\n",
        "unit = 10000\n",
        "endpoint = \"https://jpsearch.go.jp/rdf/sparql/\"\n",
        "output_file_path = \"data.json\"\n",
        "\n",
        "###\n",
        "\n",
        "page = 0\n",
        "data = {}\n",
        "\n",
        "start_all = time.time()\n",
        "\n",
        "try:\n",
        "    while 1:\n",
        "        start = time.time()\n",
        "\n",
        "        q = f\"\"\"PREFIX jps: <https://jpsearch.go.jp/term/property#>\n",
        "PREFIX schema: <http://schema.org/>\n",
        "PREFIX chname: <https://jpsearch.go.jp/entity/chname/>\n",
        "SELECT DISTINCT ?label ?name WHERE {{\n",
        "    ?cho rdfs:label ?label;\n",
        "        schema:name ?name . \n",
        "    MINUS {{ ?cho jps:sourceInfo ?s . }}\n",
        "    filter (lang(?name) = \"en\")  .\n",
        "    filter (?label != str(?name)) . \n",
        "}} LIMIT {unit} OFFSET {unit * page}\"\"\"\n",
        "\n",
        "        url = endpoint+\"?query=\"+urllib.parse.quote(q)+\"&format=json&output=json&results=json\"\n",
        "\n",
        "        if debug and page == 0:\n",
        "            print(\"url\", url)\n",
        "\n",
        "        results = requests.get(url).json()\n",
        "        if len(results[\"results\"][\"bindings\"]) == 0:\n",
        "            break\n",
        "\n",
        "        page += 1\n",
        "\n",
        "        if debug:\n",
        "            print(\"page\", page, \":\", int(time.time() - start), \"秒, \", \"合計: \", int(time.time() - start_all), \"秒\")\n",
        "\n",
        "        for i in range(len(results[\"results\"][\"bindings\"])):\n",
        "            \n",
        "            obj = results[\"results\"][\"bindings\"][i]\n",
        "\n",
        "            label = obj[\"label\"][\"value\"]\n",
        "            name = obj[\"name\"][\"value\"]\n",
        "\n",
        "            data[label] = name\n",
        "\n",
        "except Exception as e:\n",
        "    with open(f\"{output_file_path}_{page}.json\", 'w') as f:\n",
        "        json.dump(data, f, ensure_ascii=False, indent=4,\n",
        "        sort_keys=True, separators=(',', ': '))\n",
        "\n",
        "with open(output_file_path, 'w') as f:\n",
        "    json.dump(data, f, ensure_ascii=False, indent=4,\n",
        "    sort_keys=True, separators=(',', ': '))"
      ]
    }
  ]
}