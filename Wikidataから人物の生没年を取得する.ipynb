{
  "nbformat": 4,
  "nbformat_minor": 0,
  "metadata": {
    "colab": {
      "provenance": [],
      "collapsed_sections": [],
      "include_colab_link": true
    },
    "kernelspec": {
      "name": "python3",
      "display_name": "Python 3"
    },
    "language_info": {
      "name": "python"
    }
  },
  "cells": [
    {
      "cell_type": "markdown",
      "metadata": {
        "id": "view-in-github",
        "colab_type": "text"
      },
      "source": [
        "<a href=\"https://colab.research.google.com/github/nakamura196/ndl_ocr/blob/main/Wikidata%E3%81%8B%E3%82%89%E4%BA%BA%E7%89%A9%E3%81%AE%E7%94%9F%E6%B2%A1%E5%B9%B4%E3%82%92%E5%8F%96%E5%BE%97%E3%81%99%E3%82%8B.ipynb\" target=\"_parent\"><img src=\"https://colab.research.google.com/assets/colab-badge.svg\" alt=\"Open In Colab\"/></a>"
      ]
    },
    {
      "cell_type": "markdown",
      "source": [
        "準備"
      ],
      "metadata": {
        "id": "aKEsLRjYOc2Q"
      }
    },
    {
      "cell_type": "code",
      "source": [
        "!pip install SPARQLWrapper"
      ],
      "metadata": {
        "colab": {
          "base_uri": "https://localhost:8080/"
        },
        "id": "j92GYuAMMvtJ",
        "outputId": "956e693d-a9d9-4dda-b80f-6240776ef9dd"
      },
      "execution_count": 1,
      "outputs": [
        {
          "output_type": "stream",
          "name": "stdout",
          "text": [
            "Looking in indexes: https://pypi.org/simple, https://us-python.pkg.dev/colab-wheels/public/simple/\n",
            "Collecting SPARQLWrapper\n",
            "  Downloading SPARQLWrapper-2.0.0-py3-none-any.whl (28 kB)\n",
            "Collecting rdflib>=6.1.1\n",
            "  Downloading rdflib-6.2.0-py3-none-any.whl (500 kB)\n",
            "\u001b[K     |████████████████████████████████| 500 kB 14.0 MB/s \n",
            "\u001b[?25hRequirement already satisfied: importlib-metadata in /usr/local/lib/python3.7/dist-packages (from rdflib>=6.1.1->SPARQLWrapper) (4.13.0)\n",
            "Requirement already satisfied: setuptools in /usr/local/lib/python3.7/dist-packages (from rdflib>=6.1.1->SPARQLWrapper) (57.4.0)\n",
            "Collecting isodate\n",
            "  Downloading isodate-0.6.1-py2.py3-none-any.whl (41 kB)\n",
            "\u001b[K     |████████████████████████████████| 41 kB 502 kB/s \n",
            "\u001b[?25hRequirement already satisfied: pyparsing in /usr/local/lib/python3.7/dist-packages (from rdflib>=6.1.1->SPARQLWrapper) (3.0.9)\n",
            "Requirement already satisfied: zipp>=0.5 in /usr/local/lib/python3.7/dist-packages (from importlib-metadata->rdflib>=6.1.1->SPARQLWrapper) (3.9.0)\n",
            "Requirement already satisfied: typing-extensions>=3.6.4 in /usr/local/lib/python3.7/dist-packages (from importlib-metadata->rdflib>=6.1.1->SPARQLWrapper) (4.1.1)\n",
            "Requirement already satisfied: six in /usr/local/lib/python3.7/dist-packages (from isodate->rdflib>=6.1.1->SPARQLWrapper) (1.15.0)\n",
            "Installing collected packages: isodate, rdflib, SPARQLWrapper\n",
            "Successfully installed SPARQLWrapper-2.0.0 isodate-0.6.1 rdflib-6.2.0\n"
          ]
        }
      ]
    },
    {
      "cell_type": "markdown",
      "source": [
        "設定（変更してください。）"
      ],
      "metadata": {
        "id": "yoe2SVZCN0yo"
      }
    },
    {
      "cell_type": "code",
      "source": [
        "# 対象\n",
        "labels = [\n",
        "    \"足利尊氏\",\n",
        "    \"足利義満\",\n",
        "    \"足利義政\",\n",
        "    \"源頼朝\",\n",
        "    \"足利直冬\"\n",
        "]\n",
        "\n",
        "# 出力先\n",
        "final_output_path = \"data/birth.json\""
      ],
      "metadata": {
        "id": "HJewQynZNjLo"
      },
      "execution_count": 2,
      "outputs": []
    },
    {
      "cell_type": "markdown",
      "source": [
        "実行（変更しないでください。）"
      ],
      "metadata": {
        "id": "P8mY8L27NzHm"
      }
    },
    {
      "cell_type": "code",
      "execution_count": 4,
      "metadata": {
        "id": "m5rsQuOhYLvu",
        "colab": {
          "base_uri": "https://localhost:8080/"
        },
        "outputId": "37c34dbe-9d35-442c-c209-effb3b711e7f"
      },
      "outputs": [
        {
          "output_type": "stream",
          "name": "stderr",
          "text": [
            "100%|██████████| 5/5 [00:01<00:00,  3.97it/s]\n"
          ]
        }
      ],
      "source": [
        "import sys\n",
        "from SPARQLWrapper import SPARQLWrapper, JSON\n",
        "import json\n",
        "from tqdm import tqdm\n",
        "import os\n",
        "\n",
        "labels_path = \"people.json\"\n",
        "tmp_dir = \"tmp\"\n",
        "\n",
        "with open(labels_path, \"w\") as f:\n",
        "    json.dump(labels, f, indent=4, ensure_ascii=False)\n",
        "\n",
        "class WikidataTest:\n",
        "\n",
        "    endpoint_url = \"https://query.wikidata.org/sparql\"\n",
        "\n",
        "    def __init__(self, labels_path, tmp_dir, final_output_path):\n",
        "        self.labels_path = labels_path\n",
        "        self.tmp_dir = tmp_dir\n",
        "        self.final_output_path = final_output_path\n",
        "\n",
        "    def get_results(self, query):\n",
        "        endpoint_url = self.endpoint_url\n",
        "        user_agent = \"WDQS-example Python/%s.%s\" % (\n",
        "            sys.version_info[0], sys.version_info[1])\n",
        "        # TODO adjust user agent; see https://w.wiki/CX6\n",
        "        sparql = SPARQLWrapper(endpoint_url, agent=user_agent)\n",
        "        sparql.setQuery(query)\n",
        "        sparql.setReturnFormat(JSON)\n",
        "        return sparql.query().convert()\n",
        "\n",
        "    def sparql(self, label):\n",
        "\n",
        "        query = f\"\"\"SELECT distinct *\n",
        "        WHERE \n",
        "        {{\n",
        "        ?item rdfs:label \"{label}\"@ja . \n",
        "        optional {{ ?item wdt:P569 ?year_of_birth }} \n",
        "        optional {{ ?item wdt:P570 ?year_of_death }} \n",
        "        }}\"\"\"\n",
        "\n",
        "        results = self.get_results(query)\n",
        "\n",
        "        return results\n",
        "\n",
        "    def getPeople(self):\n",
        "\n",
        "        with open(self.labels_path, \"r\") as f:\n",
        "            people = json.load(f)\n",
        "\n",
        "        self.people = people\n",
        "\n",
        "    def load(self, label):\n",
        "        tmp_dir = self.tmp_dir\n",
        "        opath_wikidata = f\"{tmp_dir}/wikidata/{label}.json\"\n",
        "\n",
        "        if not os.path.exists(opath_wikidata):\n",
        "\n",
        "            df = self.sparql(label)\n",
        "\n",
        "            os.makedirs(os.path.dirname(opath_wikidata), exist_ok=True)\n",
        "\n",
        "            with open(opath_wikidata, \"w\") as f:\n",
        "                json.dump(df, f, indent=4, ensure_ascii=False)\n",
        "\n",
        "        with open(opath_wikidata, \"r\") as f:\n",
        "            df = json.load(f)\n",
        "\n",
        "        return df\n",
        "\n",
        "    def getYearIntValue(self, result, key):\n",
        "        if key not in result:\n",
        "            return None\n",
        "        value = result[key][\"value\"]\n",
        "        year = value.split(\"-\")[0]\n",
        "        if \"wikidata\" not in year:\n",
        "            return int(year)\n",
        "        return None\n",
        "\n",
        "    def main(self):\n",
        "        self.getPeople()\n",
        "        people = self.people\n",
        "\n",
        "        results = {}\n",
        "\n",
        "        keys = [\"year_of_birth\", \"year_of_death\"]\n",
        "\n",
        "        for label in tqdm(people):\n",
        "\n",
        "            if label is None:\n",
        "                continue\n",
        "\n",
        "            df = self.load(label)\n",
        "\n",
        "            item = {}\n",
        "\n",
        "            for result in df[\"results\"][\"bindings\"]:\n",
        "                for key in keys:\n",
        "                    year = self.getYearIntValue(result, key)\n",
        "                    if year:\n",
        "                        item[key] = year\n",
        "\n",
        "            results[label] = item\n",
        "\n",
        "        os.makedirs(os.path.dirname(final_output_path), exist_ok=True)\n",
        "\n",
        "        with open(final_output_path, \"w\") as f:\n",
        "            json.dump(results, f, indent=4, ensure_ascii=False, sort_keys=True)\n",
        "\n",
        "\n",
        "# labels_path = \"people.json\"\n",
        "# tmp_dir = \"../data\"\n",
        "# final_output_path = \"../data/birth.json\"\n",
        "\n",
        "ins = WikidataTest(labels_path, tmp_dir, final_output_path)\n",
        "ins.main()"
      ]
    }
  ]
}