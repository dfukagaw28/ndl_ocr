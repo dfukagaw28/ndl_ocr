{
  "nbformat": 4,
  "nbformat_minor": 0,
  "metadata": {
    "colab": {
      "name": "NDL-DocLデータセットとYOLOv5を用いたレイアウト抽出モデル",
      "private_outputs": true,
      "provenance": [],
      "collapsed_sections": [],
      "machine_shape": "hm",
      "include_colab_link": true
    },
    "kernelspec": {
      "name": "python3",
      "display_name": "Python 3"
    },
    "language_info": {
      "name": "python"
    },
    "gpuClass": "standard"
  },
  "cells": [
    {
      "cell_type": "markdown",
      "metadata": {
        "id": "view-in-github",
        "colab_type": "text"
      },
      "source": [
        "<a href=\"https://colab.research.google.com/github/nakamura196/ndl_ocr/blob/main/NDL_DocL%E3%83%87%E3%83%BC%E3%82%BF%E3%82%BB%E3%83%83%E3%83%88%E3%81%A8YOLOv5%E3%82%92%E7%94%A8%E3%81%84%E3%81%9F%E3%83%AC%E3%82%A4%E3%82%A2%E3%82%A6%E3%83%88%E6%8A%BD%E5%87%BA%E3%83%A2%E3%83%87%E3%83%AB.ipynb\" target=\"_parent\"><img src=\"https://colab.research.google.com/assets/colab-badge.svg\" alt=\"Open In Colab\"/></a>"
      ]
    },
    {
      "cell_type": "markdown",
      "source": [
        "# NDL-DocLデータセットとYOLOv5を用いたレイアウト抽出モデル"
      ],
      "metadata": {
        "id": "qiApnFSGCWh_"
      }
    },
    {
      "cell_type": "markdown",
      "source": [
        "## セットアップ"
      ],
      "metadata": {
        "id": "duTddUZjCTHT"
      }
    },
    {
      "cell_type": "code",
      "source": [
        "#@title\n",
        "\n",
        "# ドライブのマウント\n",
        "from google.colab import drive\n",
        "drive.mount('/content/drive')\n",
        "\n",
        "# koraのインストール\n",
        "!pip install kora\n",
        "from kora.xattr import get_id\n",
        "\n",
        "!pip install -U --no-cache-dir gdown --pre\n",
        "\n",
        "# 物体検出モデル（best.pt）\n",
        "!gdown https://drive.google.com/uc?id=1DduqMfElGLPYWZTbrEO8F3qn6VPOZDPM\n",
        "\n",
        "import torch\n",
        "import pprint\n",
        "from PIL import Image\n",
        "\n",
        "model = torch.hub.load('ultralytics/yolov5', 'custom', path='best.pt')\n",
        "\n",
        "# \n",
        "\n",
        "import glob\n",
        "import os\n",
        "from tqdm import tqdm\n",
        "\n",
        "def predict(input_dir, output_dir):\n",
        "\n",
        "  files = glob.glob(input_dir + \"/*\")\n",
        "  for file in tqdm(files):\n",
        "    img = Image.open(file)\n",
        "    results = model(img, size=1024)\n",
        "\n",
        "    results.render()  # updates results.imgs with boxes and labels\n",
        "    for img in results.imgs:\n",
        "        img_base64 = Image.fromarray(img)\n",
        "        path = output_dir + \"/\" + os.path.basename(file)\n",
        "        os.makedirs(os.path.dirname(path), exist_ok=True)\n",
        "        img_base64.save(path, format=\"JPEG\")\n",
        "\n",
        "  fid = get_id(output_dir)\n",
        "  print(\"\")\n",
        "  print(\"以下のURLから出力結果を確認してください。\")\n",
        "  print(\"https://drive.google.com/drive/u/1/folders/{}\".format(fid))\n",
        "\n",
        "from google.colab import output\n",
        "output.clear()"
      ],
      "metadata": {
        "id": "zx6ZuSBJBZLi",
        "cellView": "form"
      },
      "execution_count": null,
      "outputs": []
    },
    {
      "cell_type": "markdown",
      "source": [
        "## 推論の実行"
      ],
      "metadata": {
        "id": "CxYUEJseChVW"
      }
    },
    {
      "cell_type": "markdown",
      "source": [
        "画像ファイルを格納した入力フォルダへのパス`input_dir`、および認識結果を格納するための出力フォルダへのパス`output_dir`を指定してください。"
      ],
      "metadata": {
        "id": "_nANm-DiSEYH"
      }
    },
    {
      "cell_type": "code",
      "source": [
        "#@title\n",
        "input_dir = \"/content/drive/Shareddrives/yolo/rnn/test_genji\" #@param {type:\"string\"}\n",
        "output_dir = \"/content/drive/Shareddrives/yolo/projects/ndl/ml_test/genji\" #@param {type:\"string\"}\n",
        "\n",
        "# input_dir = \"/content/drive/Shareddrives/yolo/projects/ndl/test/images\" #@param {type:\"string\"}\n",
        "# output_dir = \"/content/drive/Shareddrives/yolo/projects/ndl/ml_test/test\" #@param {type:\"string\"}\n",
        "\n",
        "# input_dir = \"/content/drive/Shareddrives/yolo/rnn/test\" #@param {type:\"string\"}\n",
        "# output_dir = \"/content/drive/Shareddrives/yolo/projects/ndl/ml_test/other\" #@param {type:\"string\"}\n",
        "\n",
        "predict(input_dir, output_dir)"
      ],
      "metadata": {
        "id": "jJcefu0-AIks",
        "cellView": "form"
      },
      "execution_count": null,
      "outputs": []
    }
  ]
}