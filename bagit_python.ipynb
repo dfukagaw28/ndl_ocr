{
  "nbformat": 4,
  "nbformat_minor": 0,
  "metadata": {
    "colab": {
      "provenance": [],
      "authorship_tag": "ABX9TyP0a0KBsblWvecsNk1WaOP+",
      "include_colab_link": true
    },
    "kernelspec": {
      "name": "python3",
      "display_name": "Python 3"
    },
    "language_info": {
      "name": "python"
    }
  },
  "cells": [
    {
      "cell_type": "markdown",
      "metadata": {
        "id": "view-in-github",
        "colab_type": "text"
      },
      "source": [
        "<a href=\"https://colab.research.google.com/github/nakamura196/ndl_ocr/blob/main/bagit_python.ipynb\" target=\"_parent\"><img src=\"https://colab.research.google.com/assets/colab-badge.svg\" alt=\"Open In Colab\"/></a>"
      ]
    },
    {
      "cell_type": "code",
      "source": [
        "!pip install bagit\n",
        "\n",
        "import bagit\n",
        "import shutil"
      ],
      "metadata": {
        "colab": {
          "base_uri": "https://localhost:8080/"
        },
        "id": "r3YhBnk1qDHH",
        "outputId": "30b0f53a-e0a2-4cb2-f971-c2b742b11e2e"
      },
      "execution_count": 12,
      "outputs": [
        {
          "output_type": "stream",
          "name": "stdout",
          "text": [
            "Looking in indexes: https://pypi.org/simple, https://us-python.pkg.dev/colab-wheels/public/simple/\n",
            "Requirement already satisfied: bagit in /usr/local/lib/python3.10/dist-packages (1.8.1)\n"
          ]
        }
      ]
    },
    {
      "cell_type": "code",
      "source": [
        "target_path = '/content/sample_data'"
      ],
      "metadata": {
        "id": "igelTrKYslPu"
      },
      "execution_count": 13,
      "outputs": []
    },
    {
      "cell_type": "markdown",
      "source": [
        "以下を実行すると、`target_path`のディレクトリ構造が変化し、`bagit.txt`や`manifest-sha256.txt`などが作成されます。"
      ],
      "metadata": {
        "id": "IBTL0izas2y7"
      }
    },
    {
      "cell_type": "code",
      "execution_count": 14,
      "metadata": {
        "id": "8QBgyeL-p__-"
      },
      "outputs": [],
      "source": [
        "bag = bagit.make_bag(target_path, {'Contact-Name': 'John Kunze'})"
      ]
    },
    {
      "cell_type": "markdown",
      "source": [
        "`bagit.zip`という圧縮ファイルが作成されます。"
      ],
      "metadata": {
        "id": "jrbBMMSpst7_"
      }
    },
    {
      "cell_type": "code",
      "source": [
        "shutil.make_archive('bagit', format='zip', root_dir=target_path)"
      ],
      "metadata": {
        "colab": {
          "base_uri": "https://localhost:8080/",
          "height": 35
        },
        "id": "Y0kQLZUpqyM-",
        "outputId": "966cd1d4-c91f-4d25-ded2-52f3a3b676e3"
      },
      "execution_count": 15,
      "outputs": [
        {
          "output_type": "execute_result",
          "data": {
            "text/plain": [
              "'/content/bagit.zip'"
            ],
            "application/vnd.google.colaboratory.intrinsic+json": {
              "type": "string"
            }
          },
          "metadata": {},
          "execution_count": 15
        }
      ]
    }
  ]
}