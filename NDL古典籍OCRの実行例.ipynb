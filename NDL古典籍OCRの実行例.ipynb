{
  "nbformat": 4,
  "nbformat_minor": 0,
  "metadata": {
    "colab": {
      "provenance": [],
      "private_outputs": true,
      "include_colab_link": true
    },
    "kernelspec": {
      "name": "python3",
      "display_name": "Python 3"
    },
    "language_info": {
      "name": "python"
    },
    "accelerator": "GPU",
    "gpuClass": "standard"
  },
  "cells": [
    {
      "cell_type": "markdown",
      "metadata": {
        "id": "view-in-github",
        "colab_type": "text"
      },
      "source": [
        "<a href=\"https://colab.research.google.com/github/nakamura196/ndl_ocr/blob/main/NDL%E5%8F%A4%E5%85%B8%E7%B1%8DOCR%E3%81%AE%E5%AE%9F%E8%A1%8C%E4%BE%8B.ipynb\" target=\"_parent\"><img src=\"https://colab.research.google.com/assets/colab-badge.svg\" alt=\"Open In Colab\"/></a>"
      ]
    },
    {
      "cell_type": "markdown",
      "source": [
        "# <font color=\"orange\">2023-09-19</font>\n",
        "\n",
        "# <font color=\"orange\">NDL古典籍OCR（ver.2）を使用したノートブックを作成しました。</font>\n",
        "\n",
        "# <font color=\"orange\">今後は以下のノートブックをご利用ください。</font>\n",
        "\n",
        "https://colab.research.google.com/github/nakamura196/000_tools/blob/main/NDL%E5%8F%A4%E5%85%B8%E7%B1%8DOCR_v2%E3%81%AE%E5%AE%9F%E8%A1%8C%E4%BE%8B.ipynb\n",
        "\n",
        "<br/><br/><br/>"
      ],
      "metadata": {
        "id": "XuDFI1NWnx-o"
      }
    },
    {
      "cell_type": "markdown",
      "source": [
        "# NDL古典籍OCRの実行例：Google Driveを用いた画像の入力と結果の保存\n",
        "\n",
        "本ノートブックのライセンス： <img src=\"http://i.creativecommons.org/p/zero/1.0/88x31.png\" style=\"border-style: none;\" alt=\"CC0\" />\n",
        "\n",
        "<br/>\n",
        "\n",
        "NDL古典籍OCRの説明: https://github.com/ndl-lab/ndlkotenocr_cli\n",
        "\n",
        "<br/>\n",
        "\n",
        "本ノートブックでは、Google Driveに認識結果を出力します。\n",
        "\n",
        "<br/>\n",
        "\n",
        "## 参考にしたノートブック\n",
        "\n",
        "@blue0620 さんが作成したノートブック\n",
        "\n",
        "https://github.com/blue0620/NDLkotenOCR-GoogleColabVersion/blob/main/NDLkotensekiOCR_googlecolabversion.ipynb\n",
        "\n",
        "<br/>\n",
        "\n",
        "## 更新内容\n",
        "\n",
        "- 2023-08-15\n",
        " - 不具合を修正しました。また、ver.2を使用するように変更しました。\n",
        "- 2023-08-08\n",
        " - ver.1ブランチを使用するように修正しました。\n",
        "- 2023-06-28\n",
        " - 一部のオプションに、検索可能なPDFの出力機能を追加しました。 <!-- -->\n",
        "- 2023-06-15\n",
        " - Google Colabで実行できない不具合を解消しました。プログラムを改修してくださったNDLおよび@blue0620さんに感謝申し上げます。\n",
        "- 2023-04-12\n",
        " - OCR結果が表示されない不具合を修正しました。\n",
        "- 2023-02-15\n",
        " - アノテーションがずれて表示される不具合を修正しました。\n",
        "- 2023-01-25\n",
        " - ノートブックを公開しました。"
      ],
      "metadata": {
        "id": "8GTQHzJFNRBr"
      }
    },
    {
      "cell_type": "markdown",
      "source": [
        "<br/><br/><br/><br/>\n",
        "\n",
        "## 1.初期セットアップ\n",
        "\n",
        "4分ほど時間がかかります。初回のみ実行が必要です。"
      ],
      "metadata": {
        "id": "X3I17DDT9ggb"
      }
    },
    {
      "cell_type": "code",
      "source": [
        "#@title セットアップ\n",
        "\n",
        "%cd /content/\n",
        "\n",
        "# Google Drive関連\n",
        "from google.colab import drive\n",
        "drive.mount('/content/drive/')\n",
        "\n",
        "# Googleドライブのパスを取得\n",
        "!pip install kora\n",
        "from kora.xattr import get_id\n",
        "\n",
        "def message(path):\n",
        "  print(\"\\n以下に出力しました。\\nhttps://drive.google.com/drive/folders/{}\".format(get_id(path)))\n",
        "\n",
        "# OCR関連のセットアップ\n",
        "!git clone --recursive https://github.com/ndl-lab/ndlkotenocr_cli\n",
        "PROJECT_DIR=\"/content/ndlkotenocr_cli\"\n",
        "# !pip install torch==2.0.0+cu118 torchvision==0.15.1+cu118 torchaudio==2.0.1 --index-url https://download.pytorch.org/whl/cu118\n",
        "!pip install mmcv==2.0.0 -f https://download.openmmlab.com/mmcv/dist/cu118/torch2.0/index.html\n",
        "# !pip install -r {PROJECT_DIR}/requirements.txt\n",
        "\n",
        "!pip install mmdet\n",
        "!pip install mmcls==1.0.0rc6\n",
        "!pip install transformers\n",
        "\n",
        "%cd {PROJECT_DIR}\n",
        "!wget -nc https://lab.ndl.go.jp/dataset/ndlkotensekiocr/trocr/model-ver2.zip -P ./src/text_kotenseki_recognition/\n",
        "!wget -nc https://lab.ndl.go.jp/dataset/ndlkotensekiocr/layoutmodel/ndl_kotenseki_layout_ver2.pth -P ./src/ndl_kotenseki_layout/models/\n",
        "!unzip -o ./src/text_kotenseki_recognition/model-ver2.zip -d ./src/text_kotenseki_recognition/\n",
        "%cd /content/\n",
        "\n",
        "# 出力結果のクリア\n",
        "from IPython.display import clear_output\n",
        "\n",
        "# その他\n",
        "!pip install ndl-ocr-tools==0.0.12\n",
        "\n",
        "# 処理関連\n",
        "\n",
        "import time\n",
        "import datetime\n",
        "import pytz\n",
        "from pathlib import Path\n",
        "import os\n",
        "\n",
        "def create_settings(output_dir):\n",
        "  output_dir = str(Path(output_dir))\n",
        "\n",
        "  task_id = output_dir.split(\"/\")[-1]\n",
        "\n",
        "  if os.path.exists(output_dir):\n",
        "    time_str = datetime.datetime.now(pytz.timezone('Asia/Tokyo')).strftime('%Y%m%d%H%M%S')\n",
        "    task_id += \"_\" + time_str\n",
        "\n",
        "  output_dir_mod = os.path.dirname(output_dir) + \"/\" + task_id\n",
        "  # output_dir_mod\n",
        "\n",
        "  tmp_dir = f\"/content/tmp/{task_id}\"\n",
        "  img_tmp_dir = f\"{tmp_dir}/img\"\n",
        "\n",
        "  # ディレクトリを作成\n",
        "  os.makedirs(img_tmp_dir, exist_ok=True)\n",
        "\n",
        "  os.makedirs(os.path.dirname(output_dir_mod), exist_ok=True) # 注意。上位フォルダを作成する。\n",
        "\n",
        "  return {\n",
        "      # \"img_tmp_dir\": img_tmp_dir,\n",
        "      \"input_dir\": tmp_dir,\n",
        "      \"output_dir\": output_dir_mod\n",
        "  }\n",
        "\n",
        "def inf(config, is_clear_output=True):\n",
        "  tmp_dir = config[\"input_dir\"]\n",
        "  output_dir_mod = config[\"output_dir\"]\n",
        "  %cd {PROJECT_DIR}\n",
        "  !python main.py infer {tmp_dir} {output_dir_mod} -s s\n",
        "  %cd /content\n",
        "\n",
        "  if is_clear_output:\n",
        "    clear_output()\n",
        "\n",
        "  message(output_dir_mod)\n",
        "\n",
        "################# 認識結果の閲覧　#################\n",
        "\n",
        "# サーバの起動\n",
        "PORT = 8001\n",
        "%cd /content\n",
        "!nohup python3 -m http.server $PORT > server.log 2>&1 &\n",
        "!wget https://mirador.cultural.jp/index.html\n",
        "from google.colab import output\n",
        "\n",
        "# 独自ツール\n",
        "\n",
        "from ndl_ocr_tools.api import Client\n",
        "\n",
        "def showMirador(urls, config, check_iiif=True):\n",
        "  # %cd /content\n",
        "\n",
        "  task_id = config[\"output_dir\"].split(\"/\")[-1]\n",
        "\n",
        "  output_final_dir = f'{config[\"output_dir\"]}/{task_id}'\n",
        "\n",
        "  json_path =  f'{output_final_dir}/json'\n",
        "  img_dir = f'{config[\"input_dir\"]}/img'\n",
        "  output_path = f\"{output_final_dir}/manifest.json\"\n",
        "  Client.createIIIFManifest3(output_path, urls, img_dir, json_path, check_iiif=check_iiif)\n",
        "\n",
        "  print(\"\\n認識結果は以下のURLでご確認ください。\")\n",
        "  output.serve_kernel_port_as_window(PORT, path=f'/?manifest={output_path.replace(\"/content\", \"\")}&annotationState=1')\n",
        "\n",
        "  return output_path\n",
        "\n",
        "# pdf\n",
        "!pip install ocr_iiif_tools==0.0.12\n",
        "from ocr_iiif_tools.pdf import *\n",
        "pdfClient = PdfClient()\n",
        "\n",
        "def createPdf(manifest_path, config):\n",
        "  output_pdf_dir = os.path.dirname(manifest_path)\n",
        "  output_path = f\"{output_pdf_dir}/document.pdf\"\n",
        "  pdfClient.convert_iiif2pdf(output_path, iiif_manifest_path=manifest_path, image_download_dir=config[\"input_dir\"] + \"/img\")\n",
        "\n",
        "clear_output()"
      ],
      "metadata": {
        "id": "GgcHqHsqsUxq",
        "cellView": "form"
      },
      "execution_count": null,
      "outputs": []
    },
    {
      "cell_type": "markdown",
      "source": [
        "<br/><br/><br/><br/>\n",
        "\n",
        "## 2.設定\n",
        "\n",
        "以下、入力方式によって適切なものを選んでください。\n",
        "\n",
        "- 画像\n",
        "  - [単一の画像ファイルのURLを指定する場合](#scrollTo=79RZXnYuuXSm)\n",
        "  - [単一の画像ファイルをアップロードする場合](#scrollTo=RUnc5ujkGIG-)\n",
        "  - [複数の既にダウンロード済みの画像ファイルを対象にする場合](#scrollTo=elmieBAGH9Bc)\n",
        "- IIIF\n",
        "  - [IIIFマニフェストファイルのURLを指定する場合](#scrollTo=Jh0O2Da_0Snv)"
      ],
      "metadata": {
        "id": "VA97aObmBBXb"
      }
    },
    {
      "cell_type": "markdown",
      "source": [
        "<br/><br/><br/><br/>\n",
        "\n",
        "## 画像"
      ],
      "metadata": {
        "id": "79RZXnYuuXSm"
      }
    },
    {
      "cell_type": "markdown",
      "source": [
        "<br/>\n",
        "\n",
        "### 単一の画像ファイルのURLを指定する場合\n",
        "\n",
        "- URL: 画像ファイルのURL\n",
        "- 出力フォルダ: 出力するフォルダへのパス\n",
        "\n",
        "入力サンプル：「源氏物語」（国立国会図書館所蔵）"
      ],
      "metadata": {
        "id": "7pESMIZ4uZYm"
      }
    },
    {
      "cell_type": "code",
      "source": [
        "#@title 設定\n",
        "\n",
        "URL = \"https://dl.ndl.go.jp/api/iiif/2585098/R0000003/full/full/0/default.jpg\" #@param {type:\"string\"}\n",
        "出力フォルダ = \"/content/drive/MyDrive/ndl_kotenseki_ocr/output/image_url\" #@param {type:\"string\"}\n",
        "\n",
        "# 設定の取得\n",
        "config = create_settings(出力フォルダ)\n",
        "\n",
        "# 画像のダウンロード\n",
        "from urllib import request\n",
        "request.urlretrieve(URL, config[\"input_dir\"] + \"/img/0001.jpg\")\n",
        "\n",
        "# 推論の実行\n",
        "inf(config)\n",
        "\n",
        "# 認識結果の表示\n",
        "manifest_path = showMirador([URL], config, check_iiif=False)\n",
        "\n",
        "# pdfの作成\n",
        "createPdf(manifest_path, config)"
      ],
      "metadata": {
        "id": "tZddb0VaucuF",
        "cellView": "form"
      },
      "execution_count": null,
      "outputs": []
    },
    {
      "cell_type": "markdown",
      "source": [
        "<br/><br/><br/>\n",
        "\n",
        "### 単一の画像ファイルをアップロードする場合\n",
        "\n",
        "- 出力フォルダ: 出力するフォルダへのパス\n",
        "\n",
        "以下の設定の再生ボタンを押すと、ファイルのアップロードフォームが表示されます。"
      ],
      "metadata": {
        "id": "RUnc5ujkGIG-"
      }
    },
    {
      "cell_type": "code",
      "source": [
        "#@title 設定\n",
        "\n",
        "出力フォルダ = \"/content/drive/MyDrive/ndl_kotenseki_ocr/output/image_local\" #@param {type:\"string\"}\n",
        "\n",
        "from google.colab import files\n",
        "uploaded = files.upload()\n",
        "input_file = next(iter(uploaded))\n",
        "\n",
        "# 設定の取得\n",
        "config = create_settings(出力フォルダ)\n",
        "\n",
        "# 画像のコピー\n",
        "!mv {input_file} {config[\"input_dir\"] + \"/img/0001.jpg\"}\n",
        "\n",
        "# 推論の実行\n",
        "inf(config)"
      ],
      "metadata": {
        "id": "nmZMWgCUGKV7",
        "cellView": "form"
      },
      "execution_count": null,
      "outputs": []
    },
    {
      "cell_type": "markdown",
      "source": [
        "<br/><br/><br/>\n",
        "\n",
        "### 複数の既にダウンロード済みの画像ファイルを対象にする場合\n",
        "\n",
        "- 入力フォルダ: 入力するフォルダのパス\n",
        "  - 指定したフォルダの下にimgフォルダを用意し、その中に画像を格納してください。\n",
        "- 出力フォルダ: 出力するフォルダへのパス"
      ],
      "metadata": {
        "id": "elmieBAGH9Bc"
      }
    },
    {
      "cell_type": "code",
      "source": [
        "#@title 設定\n",
        "\n",
        "入力フォルダ = \"/content/drive/MyDrive/ndl_kotenseki_ocr/input\" #@param {type:\"string\"}\n",
        "出力フォルダ = \"/content/drive/MyDrive/ndl_kotenseki_ocr/output/image_single\" #@param {type:\"string\"}\n",
        "\n",
        "# 設定の取得\n",
        "config = create_settings(出力フォルダ)\n",
        "\n",
        "# 入力フォルダの更新\n",
        "config[\"input_dir\"] = 入力フォルダ\n",
        "\n",
        "# 推論の実行\n",
        "inf(config)"
      ],
      "metadata": {
        "id": "X7oYXraYH-V4",
        "cellView": "form"
      },
      "execution_count": null,
      "outputs": []
    },
    {
      "cell_type": "markdown",
      "source": [
        "<br/><br/><br/><br/>\n",
        "\n",
        "## IIIF"
      ],
      "metadata": {
        "id": "Jh0O2Da_0Snv"
      }
    },
    {
      "cell_type": "markdown",
      "source": [
        "<br/>\n",
        "\n",
        "### IIIFマニフェストファイルのURLを指定する場合\n",
        "\n",
        "- IIIFマニフェストファイルのURL: IIIFマニフェストファイルのURL\n",
        "- 出力フォルダ: 出力するフォルダへのパス\n",
        "- 開始コマ数: 処理を開始するコマ。デフォルトは1。\n",
        "- 終了コマ数: 処理を終了するコマ。デフォルトは5。-1にするとすべて。\n",
        "- 画像ダウンロードの間隔_秒数: 画像ダウンロードの間隔（秒数）\n",
        "\n",
        "入力サンプル：「源氏物語」（国立国会図書館所蔵）"
      ],
      "metadata": {
        "id": "np3IU4G2IvVE"
      }
    },
    {
      "cell_type": "code",
      "source": [
        "#@title 設定\n",
        "IIIFマニフェストファイルのURL = \"https://dl.ndl.go.jp/api/iiif/2585098/manifest.json\"#@param {type:\"string\"}\n",
        "\n",
        "出力フォルダ = \"/content/drive/MyDrive/ndl_kotenseki_ocr/output/iiif\" #@param {type:\"string\"}\n",
        "\n",
        "開始コマ数 =   1 #@param {type:\"number\"}\n",
        "終了コマ数 =   5 #@param {type:\"number\"}\n",
        "画像ダウンロードの間隔_秒数 =   1 #@param {type:\"number\"}\n",
        "\n",
        "# 設定の取得\n",
        "config = create_settings(出力フォルダ)\n",
        "\n",
        "# 画像のダウンロード\n",
        "urls = Client.downloadImagesFromManifest(IIIFマニフェストファイルのURL, config[\"input_dir\"] + \"/img\", pos_start=開始コマ数, pos_end=終了コマ数, sleep_time=画像ダウンロードの間隔_秒数)\n",
        "\n",
        "# 推論の実行\n",
        "inf(config)\n",
        "\n",
        "# 認識結果\n",
        "manifest_path = showMirador(urls, config)\n",
        "\n",
        "# pdfの作成\n",
        "createPdf(manifest_path, config)"
      ],
      "metadata": {
        "id": "8IHTSqh32i3D",
        "cellView": "form"
      },
      "execution_count": null,
      "outputs": []
    }
  ]
}