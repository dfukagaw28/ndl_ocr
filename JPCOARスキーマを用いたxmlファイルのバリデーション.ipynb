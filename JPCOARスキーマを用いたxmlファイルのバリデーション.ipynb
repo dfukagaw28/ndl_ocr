{
  "nbformat": 4,
  "nbformat_minor": 0,
  "metadata": {
    "colab": {
      "private_outputs": true,
      "provenance": [],
      "authorship_tag": "ABX9TyNWC9xsbyeCP84oNgHpYhP5",
      "include_colab_link": true
    },
    "kernelspec": {
      "name": "python3",
      "display_name": "Python 3"
    },
    "language_info": {
      "name": "python"
    },
    "gpuClass": "standard"
  },
  "cells": [
    {
      "cell_type": "markdown",
      "metadata": {
        "id": "view-in-github",
        "colab_type": "text"
      },
      "source": [
        "<a href=\"https://colab.research.google.com/github/nakamura196/ndl_ocr/blob/main/JPCOAR%E3%82%B9%E3%82%AD%E3%83%BC%E3%83%9E%E3%82%92%E7%94%A8%E3%81%84%E3%81%9Fxml%E3%83%95%E3%82%A1%E3%82%A4%E3%83%AB%E3%81%AE%E3%83%90%E3%83%AA%E3%83%87%E3%83%BC%E3%82%B7%E3%83%A7%E3%83%B3.ipynb\" target=\"_parent\"><img src=\"https://colab.research.google.com/assets/colab-badge.svg\" alt=\"Open In Colab\"/></a>"
      ]
    },
    {
      "cell_type": "markdown",
      "source": [
        "# 準備"
      ],
      "metadata": {
        "id": "h2Tg_1fKgxQG"
      }
    },
    {
      "cell_type": "markdown",
      "source": [
        "リポジトリのクローン"
      ],
      "metadata": {
        "id": "3lkRacwBgXpx"
      }
    },
    {
      "cell_type": "code",
      "source": [
        "!rm -rf /content/schema\n",
        "\n",
        "# !git clone https://github.com/JPCOAR/schema.git\n",
        "!git clone https://github.com/nakamura196/schema.git"
      ],
      "metadata": {
        "id": "DkZNF55SgOob"
      },
      "execution_count": null,
      "outputs": []
    },
    {
      "cell_type": "markdown",
      "source": [
        "ライブラリのインストール"
      ],
      "metadata": {
        "id": "nKAHyxIAgbrc"
      }
    },
    {
      "cell_type": "code",
      "source": [
        "!pip install xsd-validator"
      ],
      "metadata": {
        "id": "QbN00Kfbgdd5"
      },
      "execution_count": null,
      "outputs": []
    },
    {
      "cell_type": "markdown",
      "source": [
        "xsdファイルのロード（v1）"
      ],
      "metadata": {
        "id": "MMsy5lLBgnez"
      }
    },
    {
      "cell_type": "code",
      "execution_count": null,
      "metadata": {
        "id": "mmd-qPgugNuC"
      },
      "outputs": [],
      "source": [
        "from xsd_validator import XsdValidator\n",
        "\n",
        "validator = XsdValidator('/content/schema/1.0/jpcoar_scm.xsd')"
      ]
    },
    {
      "cell_type": "markdown",
      "source": [
        "# v1を試す"
      ],
      "metadata": {
        "id": "YKRcf27kgzZX"
      }
    },
    {
      "cell_type": "markdown",
      "source": [
        "## OKの例"
      ],
      "metadata": {
        "id": "Jqfrt9s2g19c"
      }
    },
    {
      "cell_type": "code",
      "source": [
        "file= '/content/ok.xml'\n",
        "\n",
        "s = '''<?xml version=\"1.0\" ?>\n",
        "<jpcoar:jpcoar\n",
        "  xmlns:dc=\"http://purl.org/dc/elements/1.1/\"\n",
        "  xmlns:jpcoar=\"https://github.com/JPCOAR/schema/blob/master/1.0/\"\n",
        "  xmlns:rdf=\"http://www.w3.org/1999/02/22-rdf-syntax-ns#\"\n",
        "  xmlns:xsi=\"http://www.w3.org/2001/XMLSchema-instance\" xsi:schemaLocation=\"https://github.com/JPCOAR/schema/blob/master/1.0/jpcoar_scm.xsd\">\n",
        "\t<dc:title>JPCOARスキーマを用いたxmlファイルのバリデーション</dc:title>\n",
        "\t<dc:type rdf:resource=\"http://purl.org/coar/resource_type/c_6501\">article</dc:type>\n",
        "</jpcoar:jpcoar>'''\n",
        "\n",
        "with open(file, mode='w') as f:\n",
        "    f.write(s)\n",
        "\n",
        "# !java -jar /usr/local/lib/python3.8/dist-packages/xsd_validator/resources/com.innodata.XsdValidator.jar /content/schema/1.0/jpcoar_scm.xsd /content/ok.xml\n",
        "\n",
        "validator.assert_valid(file)"
      ],
      "metadata": {
        "id": "aeW4e40Ig4Ef"
      },
      "execution_count": null,
      "outputs": []
    },
    {
      "cell_type": "markdown",
      "source": [
        "## NGの例\n",
        "\n",
        "`dc:type`の後に`jpcoar:subject`を置くことによるエラー？"
      ],
      "metadata": {
        "id": "FC7ISNnpjZFn"
      }
    },
    {
      "cell_type": "code",
      "source": [
        "file= '/content/ng.xml'\n",
        "\n",
        "s = '''<?xml version=\"1.0\" ?>\n",
        "<jpcoar:jpcoar\n",
        "  xmlns:dc=\"http://purl.org/dc/elements/1.1/\"\n",
        "  xmlns:jpcoar=\"https://github.com/JPCOAR/schema/blob/master/1.0/\"\n",
        "  xmlns:rdf=\"http://www.w3.org/1999/02/22-rdf-syntax-ns#\"\n",
        "  xmlns:xsi=\"http://www.w3.org/2001/XMLSchema-instance\" xsi:schemaLocation=\"https://github.com/JPCOAR/schema/blob/master/1.0/jpcoar_scm.xsd\">\n",
        "\t<dc:title>JPCOARスキーマを用いたxmlファイルのバリデーション</dc:title>\n",
        "\t<dc:type rdf:resource=\"http://purl.org/coar/resource_type/c_6501\">article</dc:type>\n",
        "  <jpcoar:subject subjectScheme=\"Other\">テスト</jpcoar:subject>\n",
        "</jpcoar:jpcoar>'''\n",
        "\n",
        "with open(file, mode='w') as f:\n",
        "    f.write(s)\n",
        "\n",
        "validator.assert_valid(file)"
      ],
      "metadata": {
        "id": "4yWVPw4IjbAF"
      },
      "execution_count": null,
      "outputs": []
    },
    {
      "cell_type": "markdown",
      "source": [
        "### 修正\n",
        "\n",
        "`jpcoar:subject`の後に`dc:type`を置いてみる"
      ],
      "metadata": {
        "id": "39sN1UWFj7TT"
      }
    },
    {
      "cell_type": "code",
      "source": [
        "file= '/content/fix.xml'\n",
        "\n",
        "s = '''<?xml version=\"1.0\" ?>\n",
        "<jpcoar:jpcoar\n",
        "  xmlns:dc=\"http://purl.org/dc/elements/1.1/\"\n",
        "  xmlns:jpcoar=\"https://github.com/JPCOAR/schema/blob/master/1.0/\"\n",
        "  xmlns:rdf=\"http://www.w3.org/1999/02/22-rdf-syntax-ns#\"\n",
        "  xmlns:xsi=\"http://www.w3.org/2001/XMLSchema-instance\" xsi:schemaLocation=\"https://github.com/JPCOAR/schema/blob/master/1.0/jpcoar_scm.xsd\">\n",
        "\t<dc:title>JPCOARスキーマを用いたxmlファイルのバリデーション</dc:title>\n",
        "  <jpcoar:subject subjectScheme=\"Other\">テスト</jpcoar:subject>\n",
        "  <dc:type rdf:resource=\"http://purl.org/coar/resource_type/c_6501\">article</dc:type>\n",
        "</jpcoar:jpcoar>'''\n",
        "\n",
        "with open(file, mode='w') as f:\n",
        "    f.write(s)\n",
        "\n",
        "validator.assert_valid(file)"
      ],
      "metadata": {
        "id": "lkY3iMRRjsiJ"
      },
      "execution_count": null,
      "outputs": []
    },
    {
      "cell_type": "markdown",
      "source": [
        "# 参考:v2を試す"
      ],
      "metadata": {
        "id": "_MJfaOr2kRui"
      }
    },
    {
      "cell_type": "code",
      "source": [
        "validator2 = XsdValidator('/content/schema/2.0/jpcoar_scm.xsd')"
      ],
      "metadata": {
        "id": "UQL0FnJVkWmI"
      },
      "execution_count": null,
      "outputs": []
    },
    {
      "cell_type": "markdown",
      "source": [
        "## NGの例\n",
        "\n",
        "version 1でOKだったもの"
      ],
      "metadata": {
        "id": "Lb-Ttm_rpEy8"
      }
    },
    {
      "cell_type": "code",
      "source": [
        "file= '/content/ok.xml'\n",
        "\n",
        "s = '''<?xml version=\"1.0\" ?>\n",
        "<jpcoar:jpcoar\n",
        "  xmlns:dc=\"http://purl.org/dc/elements/1.1/\"\n",
        "  xmlns:jpcoar=\"https://github.com/JPCOAR/schema/blob/master/2.0/\"\n",
        "  xmlns:rdf=\"http://www.w3.org/1999/02/22-rdf-syntax-ns#\"\n",
        "  xmlns:xsi=\"http://www.w3.org/2001/XMLSchema-instance\" xsi:schemaLocation=\"https://github.com/JPCOAR/schema/blob/master/2.0/jpcoar_scm.xsd\">\n",
        "\t<dc:title>JPCOARスキーマを用いたxmlファイルのバリデーション</dc:title>\n",
        "\t<dc:type rdf:resource=\"http://purl.org/coar/resource_type/c_6501\">article</dc:type>\n",
        "</jpcoar:jpcoar>'''\n",
        "\n",
        "with open(file, mode='w') as f:\n",
        "    f.write(s)\n",
        "\n",
        "# !java -jar /usr/local/lib/python3.8/dist-packages/xsd_validator/resources/com.innodata.XsdValidator.jar /content/schema/1.0/jpcoar_scm.xsd /content/ok.xml\n",
        "\n",
        "validator2.assert_valid(file)"
      ],
      "metadata": {
        "id": "KE0Q39UVkboz"
      },
      "execution_count": null,
      "outputs": []
    },
    {
      "cell_type": "markdown",
      "source": [
        "### 修正1: まだNG\n",
        "\n",
        "`xml:lang`を追加する"
      ],
      "metadata": {
        "id": "S1YmiC8ipbG3"
      }
    },
    {
      "cell_type": "code",
      "source": [
        "file= '/content/fix1.xml'\n",
        "\n",
        "s = '''<?xml version=\"1.0\" ?>\n",
        "<jpcoar:jpcoar\n",
        "  xmlns:dc=\"http://purl.org/dc/elements/1.1/\"\n",
        "  xmlns:jpcoar=\"https://github.com/JPCOAR/schema/blob/master/2.0/\"\n",
        "  xmlns:rdf=\"http://www.w3.org/1999/02/22-rdf-syntax-ns#\"\n",
        "  xmlns:xsi=\"http://www.w3.org/2001/XMLSchema-instance\" xsi:schemaLocation=\"https://github.com/JPCOAR/schema/blob/master/2.0/jpcoar_scm.xsd\">\n",
        "\t<dc:title xml:lang=\"ja\">JPCOARスキーマを用いたxmlファイルのバリデーション</dc:title>\n",
        "\t<dc:type rdf:resource=\"http://purl.org/coar/resource_type/c_6501\">article</dc:type>\n",
        "</jpcoar:jpcoar>'''\n",
        "\n",
        "with open(file, mode='w') as f:\n",
        "    f.write(s)\n",
        "\n",
        "# !java -jar /usr/local/lib/python3.8/dist-packages/xsd_validator/resources/com.innodata.XsdValidator.jar /content/schema/1.0/jpcoar_scm.xsd /content/ok.xml\n",
        "\n",
        "validator2.assert_valid(file)"
      ],
      "metadata": {
        "id": "l6Vbwai8lS16"
      },
      "execution_count": null,
      "outputs": []
    },
    {
      "cell_type": "markdown",
      "source": [
        "### 修正2: OK\n",
        "\n",
        "`jpcoar:identifier`を追加する"
      ],
      "metadata": {
        "id": "ECbAF9NbpmsD"
      }
    },
    {
      "cell_type": "code",
      "source": [
        "file= '/content/fix2.xml'\n",
        "\n",
        "s = '''<?xml version=\"1.0\" ?>\n",
        "<jpcoar:jpcoar\n",
        "  xmlns:dc=\"http://purl.org/dc/elements/1.1/\"\n",
        "  xmlns:jpcoar=\"https://github.com/JPCOAR/schema/blob/master/2.0/\"\n",
        "  xmlns:rdf=\"http://www.w3.org/1999/02/22-rdf-syntax-ns#\"\n",
        "  xmlns:xsi=\"http://www.w3.org/2001/XMLSchema-instance\" xsi:schemaLocation=\"https://github.com/JPCOAR/schema/blob/master/2.0/jpcoar_scm.xsd\">\n",
        "\t<dc:title xml:lang=\"ja\">JPCOARスキーマを用いたxmlファイルのバリデーション</dc:title>\n",
        "\t<dc:type rdf:resource=\"http://purl.org/coar/resource_type/c_6501\">article</dc:type>\n",
        "  <jpcoar:identifier identifierType=\"URI\">https://zenn.dev/nakamura196/articles/3c91cd443e084c</jpcoar:identifier>\n",
        "</jpcoar:jpcoar>'''\n",
        "\n",
        "with open(file, mode='w') as f:\n",
        "    f.write(s)\n",
        "\n",
        "# !java -jar /usr/local/lib/python3.8/dist-packages/xsd_validator/resources/com.innodata.XsdValidator.jar /content/schema/1.0/jpcoar_scm.xsd /content/ok.xml\n",
        "\n",
        "validator2.assert_valid(file)"
      ],
      "metadata": {
        "id": "KhWL4JIZpijv"
      },
      "execution_count": null,
      "outputs": []
    },
    {
      "cell_type": "markdown",
      "source": [
        "エラーメッセージに基づき、xmlファイルを修正することができました。"
      ],
      "metadata": {
        "id": "v42DPW-KqGYA"
      }
    }
  ]
}