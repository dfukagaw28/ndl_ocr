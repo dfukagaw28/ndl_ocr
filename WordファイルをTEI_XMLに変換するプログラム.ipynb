{
  "nbformat": 4,
  "nbformat_minor": 0,
  "metadata": {
    "colab": {
      "private_outputs": true,
      "provenance": [],
      "authorship_tag": "ABX9TyNNm3Itkk2lhjiSrNJrYBgR",
      "include_colab_link": true
    },
    "kernelspec": {
      "name": "python3",
      "display_name": "Python 3"
    },
    "language_info": {
      "name": "python"
    },
    "gpuClass": "standard"
  },
  "cells": [
    {
      "cell_type": "markdown",
      "metadata": {
        "id": "view-in-github",
        "colab_type": "text"
      },
      "source": [
        "<a href=\"https://colab.research.google.com/github/nakamura196/ndl_ocr/blob/main/Word%E3%83%95%E3%82%A1%E3%82%A4%E3%83%AB%E3%82%92TEI_XML%E3%81%AB%E5%A4%89%E6%8F%9B%E3%81%99%E3%82%8B%E3%83%97%E3%83%AD%E3%82%B0%E3%83%A9%E3%83%A0.ipynb\" target=\"_parent\"><img src=\"https://colab.research.google.com/assets/colab-badge.svg\" alt=\"Open In Colab\"/></a>"
      ]
    },
    {
      "cell_type": "markdown",
      "source": [
        "# WordファイルをTEI/XMLに変換するプログラム\n",
        "\n",
        "以下のサンプルファイルを参考に、Wordファイルを作成してください。\n",
        "\n",
        "https://github.com/nakamura196/test2021/raw/main/input.docx"
      ],
      "metadata": {
        "id": "JuDNQj8hDtD1"
      }
    },
    {
      "cell_type": "markdown",
      "source": [
        "## 準備"
      ],
      "metadata": {
        "id": "Vtp3tAFNegUg"
      }
    },
    {
      "cell_type": "code",
      "execution_count": null,
      "metadata": {
        "id": "VFQEd_KZCcTo",
        "cellView": "form"
      },
      "outputs": [],
      "source": [
        "#@title\n",
        "!pip install word2tei\n",
        "\n",
        "input_path = \"input.docx\"\n",
        "output_path = \"output.xml\"\n",
        "template_path = \"template.xml\"\n",
        "\n",
        "!rm {template_path} || true\n",
        "!wget https://gist.githubusercontent.com/nakamura196/c8609fdfa1bda856f0b3cac2a3188168/raw/a76352e814970f092147e97883632d7db3d9063e/template.xml\n",
        "from google.colab import files\n",
        "from word2tei.core import *"
      ]
    },
    {
      "cell_type": "markdown",
      "source": [
        "## 実行"
      ],
      "metadata": {
        "id": "7RxaVy9UD8BY"
      }
    },
    {
      "cell_type": "code",
      "source": [
        "#@title\n",
        "uploaded = files.upload()\n",
        "filename = next(iter(uploaded))\n",
        "\n",
        "if filename != input_path:\n",
        "  !mv {filename} {input_path}\n",
        "convert_docx_to_tei(input_path, output_path, template_path)\n",
        "\n",
        "!rm {input_path}"
      ],
      "metadata": {
        "id": "jmEr2oKJCvvl",
        "cellView": "form"
      },
      "execution_count": null,
      "outputs": []
    },
    {
      "cell_type": "markdown",
      "source": [
        "`output.xml`に変換結果が保存されます。"
      ],
      "metadata": {
        "id": "XB-tP1dzfztv"
      }
    }
  ]
}