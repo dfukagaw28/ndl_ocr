{
  "nbformat": 4,
  "nbformat_minor": 0,
  "metadata": {
    "colab": {
      "provenance": [],
      "authorship_tag": "ABX9TyOij8wFP4dDO7fSgl+ahB7y",
      "include_colab_link": true
    },
    "kernelspec": {
      "name": "python3",
      "display_name": "Python 3"
    },
    "language_info": {
      "name": "python"
    }
  },
  "cells": [
    {
      "cell_type": "markdown",
      "metadata": {
        "id": "view-in-github",
        "colab_type": "text"
      },
      "source": [
        "<a href=\"https://colab.research.google.com/github/nakamura196/ndl_ocr/blob/main/Python%E3%82%92%E7%94%A8%E3%81%84%E3%81%A6TEI_XML%E3%83%95%E3%82%A1%E3%82%A4%E3%83%AB%E3%82%92EPUB%E3%81%AB%E5%A4%89%E6%8F%9B%E3%81%99%E3%82%8B.ipynb\" target=\"_parent\"><img src=\"https://colab.research.google.com/assets/colab-badge.svg\" alt=\"Open In Colab\"/></a>"
      ]
    },
    {
      "cell_type": "markdown",
      "source": [
        "# Pythonを用いてTEI/XMLファイルをEPUBに変換する"
      ],
      "metadata": {
        "id": "nLlpq5HTxFVH"
      }
    },
    {
      "cell_type": "markdown",
      "source": [
        "## ライブラリのインストール"
      ],
      "metadata": {
        "id": "4erYXZdTwu-0"
      }
    },
    {
      "cell_type": "code",
      "source": [
        "!pip install ebooklib"
      ],
      "metadata": {
        "colab": {
          "base_uri": "https://localhost:8080/"
        },
        "id": "AGheob9LwsPU",
        "outputId": "d94b6dcf-e193-4df9-b547-9a4caeb63d50"
      },
      "execution_count": 5,
      "outputs": [
        {
          "output_type": "stream",
          "name": "stdout",
          "text": [
            "Looking in indexes: https://pypi.org/simple, https://us-python.pkg.dev/colab-wheels/public/simple/\n",
            "Collecting ebooklib\n",
            "  Downloading EbookLib-0.17.1.tar.gz (111 kB)\n",
            "\u001b[K     |████████████████████████████████| 111 kB 4.9 MB/s \n",
            "\u001b[?25hRequirement already satisfied: lxml in /usr/local/lib/python3.7/dist-packages (from ebooklib) (4.9.1)\n",
            "Requirement already satisfied: six in /usr/local/lib/python3.7/dist-packages (from ebooklib) (1.15.0)\n",
            "Building wheels for collected packages: ebooklib\n",
            "  Building wheel for ebooklib (setup.py) ... \u001b[?25l\u001b[?25hdone\n",
            "  Created wheel for ebooklib: filename=EbookLib-0.17.1-py3-none-any.whl size=38184 sha256=1256ebbd6f711ad3d72eefc1749da36596d9b63296d92d50d531e98d17543be3\n",
            "  Stored in directory: /root/.cache/pip/wheels/43/39/fd/db4f652431a55d28472ba7f5f7c9a8efad03b97f443a48ea2f\n",
            "Successfully built ebooklib\n",
            "Installing collected packages: ebooklib\n",
            "Successfully installed ebooklib-0.17.1\n"
          ]
        }
      ]
    },
    {
      "cell_type": "markdown",
      "source": [
        "## データのダウンロード"
      ],
      "metadata": {
        "id": "Lwzw2KsYwfi3"
      }
    },
    {
      "cell_type": "code",
      "execution_count": 1,
      "metadata": {
        "colab": {
          "base_uri": "https://localhost:8080/"
        },
        "id": "lR7g1zxZwekJ",
        "outputId": "51c9ed03-3624-4d9a-fa6e-14ee3321de12"
      },
      "outputs": [
        {
          "output_type": "stream",
          "name": "stdout",
          "text": [
            "Cloning into 'kouigenjimonogatari'...\n",
            "remote: Enumerating objects: 112124, done.\u001b[K\n",
            "remote: Total 112124 (delta 0), reused 0 (delta 0), pack-reused 112124\u001b[K\n",
            "Receiving objects: 100% (112124/112124), 71.08 MiB | 28.01 MiB/s, done.\n",
            "Resolving deltas: 100% (111207/111207), done.\n",
            "Checking out files: 100% (25788/25788), done.\n"
          ]
        }
      ],
      "source": [
        "!git clone https://github.com/kouigenjimonogatari/kouigenjimonogatari.github.io.git kouigenjimonogatari"
      ]
    },
    {
      "cell_type": "markdown",
      "source": [
        "## XMLファイルを読み込む"
      ],
      "metadata": {
        "id": "zFbJtu8iwkcR"
      }
    },
    {
      "cell_type": "code",
      "source": [
        "import glob\n",
        "files = glob.glob(\"kouigenjimonogatari/tei/*.xml\")\n",
        "files.sort()\n",
        "file = files[0]"
      ],
      "metadata": {
        "id": "siidnXXTwie8"
      },
      "execution_count": 2,
      "outputs": []
    },
    {
      "cell_type": "code",
      "source": [
        "from bs4 import BeautifulSoup\n",
        "soup = BeautifulSoup(open(file,'r'), \"xml\")\n",
        "elements = soup.findChildren(text=True, recursive=True)"
      ],
      "metadata": {
        "id": "uYX1DGiTwkGf"
      },
      "execution_count": 3,
      "outputs": []
    },
    {
      "cell_type": "markdown",
      "source": [
        "## メタデータ"
      ],
      "metadata": {
        "id": "4HU_IjbCwn03"
      }
    },
    {
      "cell_type": "code",
      "source": [
        "from ebooklib import epub\n",
        "book = epub.EpubBook()"
      ],
      "metadata": {
        "id": "cxK5ykCywnqU"
      },
      "execution_count": 6,
      "outputs": []
    },
    {
      "cell_type": "code",
      "source": [
        "title = soup.find(\"title\").text\n",
        "author = soup.find(\"author\").text\n",
        "\n",
        "id = file.split(\"/\")[-1].split(\".\")[0]\n",
        "\n",
        "book.set_identifier(id)\n",
        "book.set_title(title)\n",
        "book.set_language('ja')\n",
        "\n",
        "# 方向\n",
        "book.set_direction('rtl')\n",
        "\n",
        "book.add_author(author)"
      ],
      "metadata": {
        "id": "q45JTVe8wyLQ"
      },
      "execution_count": 7,
      "outputs": []
    },
    {
      "cell_type": "markdown",
      "source": [
        "### cssを追加する例"
      ],
      "metadata": {
        "id": "zaqxGn4Lw1oK"
      }
    },
    {
      "cell_type": "code",
      "source": [
        "css_content = '''html {\n",
        "-ms-writing-mode: tb-rl;\n",
        "-epub-writing-mode: vertical-rl;\n",
        "-webkit-writing-mode: vertical-rl;\n",
        "writing-mode: vertical-rl;\n",
        "font-family: serif, sans-serif;\n",
        "}'''\n",
        "\n",
        "nav_css = epub.EpubItem(uid=f\"_style.css\",\n",
        "                        file_name=\"style.css\",\n",
        "                        media_type=\"text/css\",\n",
        "                        content=css_content)\n",
        "book.add_item(nav_css)"
      ],
      "metadata": {
        "colab": {
          "base_uri": "https://localhost:8080/"
        },
        "id": "6qQJmk1zwz9H",
        "outputId": "c4e3407d-0d24-4cc8-a1e8-e25450f2fec1"
      },
      "execution_count": 8,
      "outputs": [
        {
          "output_type": "execute_result",
          "data": {
            "text/plain": [
              "<ebooklib.epub.EpubItem at 0x7ff6cb76ff90>"
            ]
          },
          "metadata": {},
          "execution_count": 8
        }
      ]
    },
    {
      "cell_type": "markdown",
      "source": [
        "### ページを作る"
      ],
      "metadata": {
        "id": "VYRSdQ_vw3_6"
      }
    },
    {
      "cell_type": "code",
      "source": [
        "elements = soup.find(\"body\").find(\"p\").findChildren()\n",
        "\n",
        "body = []\n",
        "\n",
        "count = 0\n",
        "\n",
        "pageContent = None\n",
        "page = \"\"\n",
        "pages = []\n",
        "\n",
        "for e in elements:\n",
        "\n",
        "    if e.name == \"pb\":\n",
        "        if pageContent is not None:\n",
        "\n",
        "            pageContent = pageContent.replace(\"𠅘\", \"亭\")\n",
        "\n",
        "            c = epub.EpubHtml(title=page,\n",
        "                        uid=f\"page_{page}\",\n",
        "                        file_name=f'{page}.xhtml',\n",
        "                        lang='ja')\n",
        "            c.set_content(f'<body><link rel=\"stylesheet\" href=\"style.css\" type=\"text/css\" />{pageContent}</body>')\n",
        "            book.add_item(c)\n",
        "\n",
        "        pageContent = \"\"\n",
        "        page = e[\"n\"]\n",
        "        pages.append(page)\n",
        "\n",
        "    if e.name == \"seg\":\n",
        "        pageContent += e.text + \"<br/>\"\n",
        "\n",
        "    # break\n",
        "\n",
        "    count += 1\n",
        "\n",
        "    if count > 100:\n",
        "        # break\n",
        "        pass\n",
        "\n",
        "c = epub.EpubHtml(title=page,\n",
        "            uid=f\"page_{page}\",\n",
        "            file_name=f'{page}.xhtml',\n",
        "            lang='ja')\n",
        "c.set_content(f'<body><link rel=\"stylesheet\" href=\"style.css\" type=\"text/css\" /><p>{pageContent}</p></body>')\n",
        "book.add_item(c)"
      ],
      "metadata": {
        "colab": {
          "base_uri": "https://localhost:8080/"
        },
        "id": "1G-5BXzOw5mg",
        "outputId": "6a061b6f-dffa-4b62-9dde-e9ee8b5b543e"
      },
      "execution_count": 9,
      "outputs": [
        {
          "output_type": "execute_result",
          "data": {
            "text/plain": [
              "<ebooklib.epub.EpubHtml at 0x7ff6cb6ba510>"
            ]
          },
          "metadata": {},
          "execution_count": 9
        }
      ]
    },
    {
      "cell_type": "markdown",
      "source": [
        "## Spineを作成"
      ],
      "metadata": {
        "id": "eo03KSemw9ZG"
      }
    },
    {
      "cell_type": "code",
      "source": [
        "book.spine = []\n",
        "\n",
        "for page in pages:\n",
        "    book.spine.append(f\"page_{page}\")\n",
        "\n",
        "book.add_item(epub.EpubNcx())"
      ],
      "metadata": {
        "colab": {
          "base_uri": "https://localhost:8080/"
        },
        "id": "XPcsLCa-w9zU",
        "outputId": "b663e02b-daf5-4686-a865-5ad4678174b9"
      },
      "execution_count": 10,
      "outputs": [
        {
          "output_type": "execute_result",
          "data": {
            "text/plain": [
              "<ebooklib.epub.EpubNcx at 0x7ff6ded7b950>"
            ]
          },
          "metadata": {},
          "execution_count": 10
        }
      ]
    },
    {
      "cell_type": "markdown",
      "source": [
        "## EPUBに書き出し"
      ],
      "metadata": {
        "id": "2UX4oOcNw_P_"
      }
    },
    {
      "cell_type": "code",
      "source": [
        "opath = f'kouigenjimonogatari/epub/{id}.epub'\n",
        "import os\n",
        "os.makedirs(os.path.dirname(opath), exist_ok=True)\n",
        "epub.write_epub(opath, book)"
      ],
      "metadata": {
        "id": "vLTBzYPjxBDF"
      },
      "execution_count": 11,
      "outputs": []
    }
  ]
}