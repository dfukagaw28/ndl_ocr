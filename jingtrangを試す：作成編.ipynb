{
  "nbformat": 4,
  "nbformat_minor": 0,
  "metadata": {
    "colab": {
      "private_outputs": true,
      "provenance": [],
      "toc_visible": true,
      "authorship_tag": "ABX9TyMNTsiIreXx213Gzyury2Lg",
      "include_colab_link": true
    },
    "kernelspec": {
      "name": "python3",
      "display_name": "Python 3"
    },
    "language_info": {
      "name": "python"
    },
    "gpuClass": "standard"
  },
  "cells": [
    {
      "cell_type": "markdown",
      "metadata": {
        "id": "view-in-github",
        "colab_type": "text"
      },
      "source": [
        "<a href=\"https://colab.research.google.com/github/nakamura196/ndl_ocr/blob/main/jingtrang%E3%82%92%E8%A9%A6%E3%81%99%EF%BC%9A%E4%BD%9C%E6%88%90%E7%B7%A8.ipynb\" target=\"_parent\"><img src=\"https://colab.research.google.com/assets/colab-badge.svg\" alt=\"Open In Colab\"/></a>"
      ]
    },
    {
      "cell_type": "markdown",
      "source": [
        "# 準備\n",
        "\n",
        "ライブラリのインストール"
      ],
      "metadata": {
        "id": "-B-gk_-Ct3W8"
      }
    },
    {
      "cell_type": "code",
      "execution_count": null,
      "metadata": {
        "id": "82B-1L8xsiKg"
      },
      "outputs": [],
      "source": [
        "!pip install jingtrang"
      ]
    },
    {
      "cell_type": "markdown",
      "source": [
        "ベースとなるxmlファイルの作成"
      ],
      "metadata": {
        "id": "5XPEB-Lxt5zH"
      }
    },
    {
      "cell_type": "code",
      "source": [
        "path_w = 'base.xml'\n",
        "\n",
        "s = '<root><title>aaa</title></root>'\n",
        "\n",
        "with open(path_w, mode='w') as f:\n",
        "    f.write(s)"
      ],
      "metadata": {
        "id": "uImDHDVmtFgG"
      },
      "execution_count": null,
      "outputs": []
    },
    {
      "cell_type": "markdown",
      "source": [
        "rngファイルの作成"
      ],
      "metadata": {
        "id": "M4i5BwEFt9Sl"
      }
    },
    {
      "cell_type": "code",
      "source": [
        "!pytrang base.xml base.rng"
      ],
      "metadata": {
        "id": "s9S0vsQbtQZk"
      },
      "execution_count": null,
      "outputs": []
    },
    {
      "cell_type": "markdown",
      "source": [
        "## OK：テキストが異なる"
      ],
      "metadata": {
        "id": "BpWKpewruMba"
      }
    },
    {
      "cell_type": "code",
      "source": [
        "path_w = 'ex1.xml'\n",
        "\n",
        "s = '<root><title>bbb</title></root>'\n",
        "\n",
        "with open(path_w, mode='w') as f:\n",
        "    f.write(s)\n",
        "\n",
        "!pyjing base.rng ex1.xml"
      ],
      "metadata": {
        "id": "daj0C3Ygtb_M"
      },
      "execution_count": null,
      "outputs": []
    },
    {
      "cell_type": "markdown",
      "source": [
        "## NG：titleがない"
      ],
      "metadata": {
        "id": "1kYky_jhtnwu"
      }
    },
    {
      "cell_type": "code",
      "source": [
        "path_w = 'ex2.xml'\n",
        "\n",
        "s = '<root><aaa>bbb</aaa></root>'\n",
        "\n",
        "with open(path_w, mode='w') as f:\n",
        "    f.write(s)\n",
        "\n",
        "!pyjing base.rng ex2.xml"
      ],
      "metadata": {
        "id": "MVnyUd37tpC8"
      },
      "execution_count": null,
      "outputs": []
    },
    {
      "cell_type": "markdown",
      "source": [
        "## NG: 属性がある"
      ],
      "metadata": {
        "id": "RNBAfmHjyZGi"
      }
    },
    {
      "cell_type": "code",
      "source": [
        "path_w = 'ex3.xml'\n",
        "\n",
        "s = '<root><title lang=\"en\">aaa</title></root>'\n",
        "\n",
        "with open(path_w, mode='w') as f:\n",
        "    f.write(s)\n",
        "\n",
        "!pyjing base.rng ex3.xml"
      ],
      "metadata": {
        "id": "HXlvI7NJtjF5"
      },
      "execution_count": null,
      "outputs": []
    }
  ]
}