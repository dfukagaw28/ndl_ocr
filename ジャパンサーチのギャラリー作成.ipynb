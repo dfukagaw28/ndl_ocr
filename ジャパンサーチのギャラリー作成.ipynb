{
  "nbformat": 4,
  "nbformat_minor": 0,
  "metadata": {
    "colab": {
      "provenance": [],
      "authorship_tag": "ABX9TyM00JAhpjx7FoYO7AD+fcDh",
      "include_colab_link": true
    },
    "kernelspec": {
      "name": "python3",
      "display_name": "Python 3"
    },
    "language_info": {
      "name": "python"
    }
  },
  "cells": [
    {
      "cell_type": "markdown",
      "metadata": {
        "id": "view-in-github",
        "colab_type": "text"
      },
      "source": [
        "<a href=\"https://colab.research.google.com/github/nakamura196/ndl_ocr/blob/main/%E3%82%B8%E3%83%A3%E3%83%91%E3%83%B3%E3%82%B5%E3%83%BC%E3%83%81%E3%81%AE%E3%82%AE%E3%83%A3%E3%83%A9%E3%83%AA%E3%83%BC%E4%BD%9C%E6%88%90.ipynb\" target=\"_parent\"><img src=\"https://colab.research.google.com/assets/colab-badge.svg\" alt=\"Open In Colab\"/></a>"
      ]
    },
    {
      "cell_type": "markdown",
      "source": [
        "# ジャパンサーチのギャラリーを作成します。"
      ],
      "metadata": {
        "id": "s5cj97ES2gnU"
      }
    },
    {
      "cell_type": "code",
      "source": [
        "!pip install jps_gallery_tools"
      ],
      "metadata": {
        "id": "KX4vGf4I0fgj"
      },
      "execution_count": null,
      "outputs": []
    },
    {
      "cell_type": "code",
      "execution_count": null,
      "metadata": {
        "id": "ChjvdfiG0d6H"
      },
      "outputs": [],
      "source": [
        "from jps_gallery_tools.api import *\n",
        "gallery = JPSGalleryClient()"
      ]
    },
    {
      "cell_type": "markdown",
      "source": [
        "## テキストの追加"
      ],
      "metadata": {
        "id": "nZ8ocHM00sWs"
      }
    },
    {
      "cell_type": "code",
      "source": [
        "part_01= JpsCurationText()\n",
        "gallery.addPart(part_01)\n",
        "part_01.addOps2(\"ja\", \"ここにテキストを入力しましょう。\")"
      ],
      "metadata": {
        "id": "GuJ9ttOq0r-X"
      },
      "execution_count": null,
      "outputs": []
    },
    {
      "cell_type": "markdown",
      "source": [
        "## リストの追加"
      ],
      "metadata": {
        "id": "RSD1j9ES0xfx"
      }
    },
    {
      "cell_type": "code",
      "source": [
        "part_02 = JpsCurationList(\"tile\")\n",
        "gallery.addPart(part_02)\n",
        "part_02.setMetadata(\"title\", \"ja\", \"リストのタイトル\")\n",
        "part_02.setMetadata(\"title\", \"en\", \"List Title\")"
      ],
      "metadata": {
        "id": "Edr3nxRz0uuG"
      },
      "execution_count": null,
      "outputs": []
    },
    {
      "cell_type": "code",
      "source": [
        "for i in range(4):\n",
        "    item = ListExternalLinkPart()\n",
        "    part_02.addPart(item)\n",
        "    item.setMetadata(\"title\", \"ja\", \"外部リンクのタイトル\")\n",
        "\n",
        "    original_url = \"https://blogger.googleusercontent.com/img/a/AVvXsEiTjjaWkCHeCslxeKujaQotjuR_HvhOHen7Ql7rQV8nmQl4ivLRF_CSabMY-JLJHNL-xHMe3VDyA9F-iv1RtQ2jFTk1Vnjck-veKLUZPdYqCcjzHkc8SGKb1fyZ_x8W66aTrSXQ78UN3CnyBakwwmmH_hmPKeEsTzq8J3e2zzUMylmDjCZ0LClPByBRRw=s400\"\n",
        "    thumbnail_url = \"https://blogger.googleusercontent.com/img/a/AVvXsEiTjjaWkCHeCslxeKujaQotjuR_HvhOHen7Ql7rQV8nmQl4ivLRF_CSabMY-JLJHNL-xHMe3VDyA9F-iv1RtQ2jFTk1Vnjck-veKLUZPdYqCcjzHkc8SGKb1fyZ_x8W66aTrSXQ78UN3CnyBakwwmmH_hmPKeEsTzq8J3e2zzUMylmDjCZ0LClPByBRRw=s180-c\"\n",
        "    title = \"初日の出のキャラクター\"\n",
        "    source = \"いらすとや\"\n",
        "    image = UrlImage(original_url, title, source, thumbnail_url)\n",
        "\n",
        "    item.setImage(image)"
      ],
      "metadata": {
        "id": "ZlZP1rQS1AQr"
      },
      "execution_count": null,
      "outputs": []
    },
    {
      "cell_type": "markdown",
      "source": [
        "# 地図の追加"
      ],
      "metadata": {
        "id": "zUp5jmpR17Po"
      }
    },
    {
      "cell_type": "code",
      "source": [
        "part_03 = JpsCurationList(\"map\")\n",
        "gallery.addPart(part_03)\n",
        "part_03.setMetadata(\"title\", \"ja\", \"地図のタイトル\")\n",
        "part_03.setMetadata(\"title\", \"en\", \"Map Title\")\n",
        "\n",
        "part_03.setJson(\"openActionType\", \"link\")\n",
        "part_03.setJson(\"mapParam\", {\n",
        "    \"center\": {\n",
        "        \"lat\": 35.713736762125464,\n",
        "        \"lon\": 139.76272050237696\n",
        "    },\n",
        "    \"zoom\": 15,\n",
        "    \"mode\": \"NORMAL\"\n",
        "})"
      ],
      "metadata": {
        "id": "l_fIkQ82168W"
      },
      "execution_count": null,
      "outputs": []
    },
    {
      "cell_type": "markdown",
      "source": [
        "### 地図にアイテムの追加"
      ],
      "metadata": {
        "id": "wZLyPHVW2qBf"
      }
    },
    {
      "cell_type": "code",
      "source": [
        "import copy\n",
        "from pprint import pprint\n",
        "\n",
        "item_03_01 = copy.copy(item)\n",
        "\n",
        "pprint(item_03_01.export())\n",
        "\n",
        "item_03_01.setJson(\"latlon\", {\n",
        "    \"lat\": \"35.713333\",\n",
        "    \"lon\": \"139.762222\"\n",
        "})\n",
        "part_03.addPart(item_03_01)"
      ],
      "metadata": {
        "id": "1gBeA3Rz2wq4"
      },
      "execution_count": null,
      "outputs": []
    },
    {
      "cell_type": "markdown",
      "source": [
        "## タイムラインの追加"
      ],
      "metadata": {
        "id": "VPcFcBXp2Csd"
      }
    },
    {
      "cell_type": "code",
      "source": [
        "part_04 = JpsCurationTimeline(1800, 2050)\n",
        "gallery.addPart(part_04)\n",
        "\n",
        "part_04.setMetadata(\"title\", \"ja\", \"年表のタイトル\")\n",
        "part_04.setMetadata(\"title\", \"en\", \"Timeline Title\")"
      ],
      "metadata": {
        "id": "jyBRAv602EEs"
      },
      "execution_count": null,
      "outputs": []
    },
    {
      "cell_type": "markdown",
      "source": [
        "### タイムラインにポイントの追加"
      ],
      "metadata": {
        "id": "5jQheiGe2sZ9"
      }
    },
    {
      "cell_type": "code",
      "source": [
        "part_04_01 = JpsCurationTimepoint(\"日本語\", \"英語\", 1877, 1877)\n",
        "part_04.addPart(part_04_01)\n",
        "part_04_01.setMetadata(\"description\", \"ja\", \"日本語による説明文\")\n",
        "part_04_01.setMetadata(\"description\", \"en\", \"English description\")\n",
        "\n",
        "part_04_01_01 = JpsCurationText()\n",
        "part_04_01.addPart(part_04_01_01)\n",
        "part_04_01_01.addOps2(\"ja\", \"ここにテキストを入力しましょう。\")"
      ],
      "metadata": {
        "id": "I_7Q_OTp2snC"
      },
      "execution_count": null,
      "outputs": []
    },
    {
      "cell_type": "markdown",
      "source": [
        "## 出力"
      ],
      "metadata": {
        "id": "CUPW5G0a1RWX"
      }
    },
    {
      "cell_type": "code",
      "source": [
        "b = gallery.encode()"
      ],
      "metadata": {
        "id": "6a4WsziA1Sa0"
      },
      "execution_count": null,
      "outputs": []
    },
    {
      "cell_type": "code",
      "source": [
        "import IPython\n",
        "from IPython.display import display, HTML\n",
        " \n",
        "htm = HTML(f'''\\\n",
        "<div\n",
        "        class=\"jps\"\n",
        "        data-lang=\"ja\"\n",
        "        data-cur=\"{b}\">\n",
        "</div>\n",
        "<script src=\"https://jpsearch.go.jp/assets/js/wp.bundle.js\"></script>\n",
        "''')\n",
        " \n",
        "display(htm)"
      ],
      "metadata": {
        "id": "1QIlamwq1cEY"
      },
      "execution_count": null,
      "outputs": []
    }
  ]
}