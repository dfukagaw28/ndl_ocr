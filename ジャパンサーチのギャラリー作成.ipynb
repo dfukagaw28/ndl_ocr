{
  "nbformat": 4,
  "nbformat_minor": 0,
  "metadata": {
    "colab": {
      "provenance": [],
      "toc_visible": true,
      "authorship_tag": "ABX9TyMZDqdrZtdh6qEyyRB1dm3X",
      "include_colab_link": true
    },
    "kernelspec": {
      "name": "python3",
      "display_name": "Python 3"
    },
    "language_info": {
      "name": "python"
    }
  },
  "cells": [
    {
      "cell_type": "markdown",
      "metadata": {
        "id": "view-in-github",
        "colab_type": "text"
      },
      "source": [
        "<a href=\"https://colab.research.google.com/github/nakamura196/ndl_ocr/blob/main/%E3%82%B8%E3%83%A3%E3%83%91%E3%83%B3%E3%82%B5%E3%83%BC%E3%83%81%E3%81%AE%E3%82%AE%E3%83%A3%E3%83%A9%E3%83%AA%E3%83%BC%E4%BD%9C%E6%88%90.ipynb\" target=\"_parent\"><img src=\"https://colab.research.google.com/assets/colab-badge.svg\" alt=\"Open In Colab\"/></a>"
      ]
    },
    {
      "cell_type": "markdown",
      "source": [
        "# ジャパンサーチのギャラリーを作成します。"
      ],
      "metadata": {
        "id": "s5cj97ES2gnU"
      }
    },
    {
      "cell_type": "code",
      "source": [
        "!pip install -U jps_gallery_tools"
      ],
      "metadata": {
        "colab": {
          "base_uri": "https://localhost:8080/"
        },
        "id": "KX4vGf4I0fgj",
        "outputId": "a50ad61c-17fe-4de7-9e25-d20b44f222c1"
      },
      "execution_count": 26,
      "outputs": [
        {
          "output_type": "stream",
          "name": "stdout",
          "text": [
            "Looking in indexes: https://pypi.org/simple, https://us-python.pkg.dev/colab-wheels/public/simple/\n",
            "Requirement already satisfied: jps_gallery_tools in /usr/local/lib/python3.8/dist-packages (0.0.3)\n"
          ]
        }
      ]
    },
    {
      "cell_type": "code",
      "execution_count": 27,
      "metadata": {
        "id": "ChjvdfiG0d6H"
      },
      "outputs": [],
      "source": [
        "from jps_gallery_tools.api import *\n",
        "gallery = JpsCuration()"
      ]
    },
    {
      "cell_type": "code",
      "source": [
        "gallery.setLangMetadata('title', 'ja', 'はじめてのギャラリー')\n",
        "gallery.setLangMetadata('summary', 'ja', 'はじめてのギャラリーを作成します。')\n",
        "gallery.setLangMetadata(\"responsibility\", \"ja\", \"中村覚\")\n",
        "gallery.addTag(\"はじめて\")\n",
        "gallery.addTag(\"テスト\")"
      ],
      "metadata": {
        "id": "mVeQ3XqULu7a"
      },
      "execution_count": 28,
      "outputs": []
    },
    {
      "cell_type": "code",
      "source": [
        "original_url = \"https://blogger.googleusercontent.com/img/a/AVvXsEiTjjaWkCHeCslxeKujaQotjuR_HvhOHen7Ql7rQV8nmQl4ivLRF_CSabMY-JLJHNL-xHMe3VDyA9F-iv1RtQ2jFTk1Vnjck-veKLUZPdYqCcjzHkc8SGKb1fyZ_x8W66aTrSXQ78UN3CnyBakwwmmH_hmPKeEsTzq8J3e2zzUMylmDjCZ0LClPByBRRw=s400\"\n",
        "thumbnail_url = \"https://blogger.googleusercontent.com/img/a/AVvXsEiTjjaWkCHeCslxeKujaQotjuR_HvhOHen7Ql7rQV8nmQl4ivLRF_CSabMY-JLJHNL-xHMe3VDyA9F-iv1RtQ2jFTk1Vnjck-veKLUZPdYqCcjzHkc8SGKb1fyZ_x8W66aTrSXQ78UN3CnyBakwwmmH_hmPKeEsTzq8J3e2zzUMylmDjCZ0LClPByBRRw=s180-c\"\n",
        "title = \"初日の出のキャラクター\"\n",
        "source = \"いらすとや\"\n",
        "top_image = JpsCurationUrlImage(original_url, title, source, thumbnail_url)\n",
        "gallery.setImage(top_image)"
      ],
      "metadata": {
        "id": "2FbrG1N8L1kD"
      },
      "execution_count": 29,
      "outputs": []
    },
    {
      "cell_type": "markdown",
      "source": [
        "## テキスト"
      ],
      "metadata": {
        "id": "nZ8ocHM00sWs"
      }
    },
    {
      "cell_type": "code",
      "source": [
        "part_01= JpsCurationText()\n",
        "gallery.addPart(part_01)\n",
        "part_01.addText(\"ja\", \"テキスト。テキスト。テキスト。テキスト。\")"
      ],
      "metadata": {
        "id": "GuJ9ttOq0r-X"
      },
      "execution_count": 30,
      "outputs": []
    },
    {
      "cell_type": "markdown",
      "source": [
        "## リスト"
      ],
      "metadata": {
        "id": "RSD1j9ES0xfx"
      }
    },
    {
      "cell_type": "code",
      "source": [
        "part_02 = JpsCurationList(\"tile\")\n",
        "part_02.setLangMetadata(\"title\", \"ja\", \"リストのタイトル\")\n",
        "part_02.setLangMetadata(\"title\", \"en\", \"List Title\")\n",
        "gallery.addPart(part_02)"
      ],
      "metadata": {
        "id": "Edr3nxRz0uuG"
      },
      "execution_count": 31,
      "outputs": []
    },
    {
      "cell_type": "markdown",
      "source": [
        "4件の画像を追加"
      ],
      "metadata": {
        "id": "bF9lKBu7MO3s"
      }
    },
    {
      "cell_type": "code",
      "source": [
        "for i in range(4):\n",
        "    item = JpsCurationListExternalLink()\n",
        "    part_02.addPart(item)\n",
        "    item.setLangMetadata(\"title\", \"ja\", \"外部リンクのタイトル\")\n",
        "    item.setImage(top_image)"
      ],
      "metadata": {
        "id": "ZlZP1rQS1AQr"
      },
      "execution_count": 32,
      "outputs": []
    },
    {
      "cell_type": "markdown",
      "source": [
        "## 年表"
      ],
      "metadata": {
        "id": "74x74AbvMRRp"
      }
    },
    {
      "cell_type": "code",
      "source": [
        "part_03 = JpsCurationTimeline(1800, 2050)\n",
        "gallery.addPart(part_03)\n",
        "part_03.setLangMetadata(\"title\", \"ja\", \"年表のタイトル\")\n",
        "part_03.setLangMetadata(\"title\", \"en\", \"Timeline Title\")\n"
      ],
      "metadata": {
        "id": "Mn26u2X4MYmw"
      },
      "execution_count": 33,
      "outputs": []
    },
    {
      "cell_type": "code",
      "source": [
        "part_03_01 = JpsCurationTimepoint(\"時点のタイトル\", \"Timepoint Title\", 1877, 1877)\n",
        "part_03_01.setLangMetadata(\"description\", \"ja\", \"時点の説明\")\n",
        "part_03.addPart(part_03_01)"
      ],
      "metadata": {
        "id": "uwdMDRDQOT6N"
      },
      "execution_count": 34,
      "outputs": []
    },
    {
      "cell_type": "code",
      "source": [
        "part_03_01_01 = JpsCurationText()\n",
        "part_03_01.addPart(part_03_01_01)\n",
        "part_03_01_01.addText(\"ja\", \"時点のテキスト。時点のテキスト。時点のテキスト。時点のテキスト。\")"
      ],
      "metadata": {
        "id": "sY7xyFk-Md36"
      },
      "execution_count": 35,
      "outputs": []
    },
    {
      "cell_type": "markdown",
      "source": [
        "## 地図"
      ],
      "metadata": {
        "id": "zUp5jmpR17Po"
      }
    },
    {
      "cell_type": "code",
      "source": [
        "part_04 = JpsCurationList(\"map\")\n",
        "gallery.addPart(part_04)\n",
        "part_04.setLangMetadata(\"title\", \"ja\", \"地図のタイトル\")\n",
        "part_04.setLangMetadata(\"title\", \"en\", \"Map Title\")\n",
        "\n",
        "part_04.setMetadata(\"openActionType\", \"link\")\n",
        "part_04.setMetadata(\"mapParam\", {\n",
        "    \"center\": {\n",
        "        \"lat\": 35.713736762125464,\n",
        "        \"lon\": 139.76272050237696\n",
        "    },\n",
        "    \"zoom\": 15,\n",
        "    \"mode\": \"NORMAL\"\n",
        "})\n"
      ],
      "metadata": {
        "id": "l_fIkQ82168W"
      },
      "execution_count": 36,
      "outputs": []
    },
    {
      "cell_type": "markdown",
      "source": [
        "地図にアイテムの追加"
      ],
      "metadata": {
        "id": "wZLyPHVW2qBf"
      }
    },
    {
      "cell_type": "code",
      "source": [
        "import copy\n",
        "from pprint import pprint\n",
        "\n",
        "item_04_01 = copy.copy(item)\n",
        "\n",
        "item_04_01.setMetadata(\"latlon\", {\n",
        "    \"lat\": 35.713333,\n",
        "    \"lon\": 139.762222\n",
        "})\n",
        "part_04.addPart(item_04_01)"
      ],
      "metadata": {
        "id": "1gBeA3Rz2wq4"
      },
      "execution_count": 37,
      "outputs": []
    },
    {
      "cell_type": "markdown",
      "source": [
        "## 出力"
      ],
      "metadata": {
        "id": "CUPW5G0a1RWX"
      }
    },
    {
      "cell_type": "code",
      "source": [
        "b = gallery.encode(curationType=\"GALLERY\")"
      ],
      "metadata": {
        "id": "6a4WsziA1Sa0"
      },
      "execution_count": 38,
      "outputs": []
    },
    {
      "cell_type": "code",
      "source": [
        "import IPython\n",
        "from IPython.display import display, HTML\n",
        " \n",
        "htm = HTML(f'''\\\n",
        "<div\n",
        "        class=\"jps\"\n",
        "        data-lang=\"ja\"\n",
        "        data-cur=\"{b}\">\n",
        "</div>\n",
        "<script src=\"https://jpsearch.go.jp/assets/js/wp.bundle.js\"></script>\n",
        "''')\n",
        " \n",
        "display(htm)"
      ],
      "metadata": {
        "colab": {
          "base_uri": "https://localhost:8080/",
          "height": 1000
        },
        "id": "1QIlamwq1cEY",
        "outputId": "93645dd6-2f93-4478-8401-a94928956c77"
      },
      "execution_count": 39,
      "outputs": [
        {
          "output_type": "display_data",
          "data": {
            "text/plain": [
              "<IPython.core.display.HTML object>"
            ],
            "text/html": [
              "<div\n",
              "        class=\"jps\"\n",
              "        data-lang=\"ja\"\n",
              "        data-cur=\"eyJ2ZXJzaW9uIjogMSwgInRpdGxlIjogeyJqYSI6ICJcdTMwNmZcdTMwNThcdTMwODFcdTMwNjZcdTMwNmVcdTMwYWVcdTMwZTNcdTMwZTlcdTMwZWFcdTMwZmMifSwgInN1bW1hcnkiOiB7ImphIjogIlx1MzA2Zlx1MzA1OFx1MzA4MVx1MzA2Nlx1MzA2ZVx1MzBhZVx1MzBlM1x1MzBlOVx1MzBlYVx1MzBmY1x1MzA5Mlx1NGY1Y1x1NjIxMFx1MzA1N1x1MzA3ZVx1MzA1OVx1MzAwMiJ9LCAicmVzcG9uc2liaWxpdHkiOiB7ImphIjogIlx1NGUyZFx1Njc1MVx1ODk5YSJ9LCAid29ya3NwYWNlVGFncyI6IFsiXHUzMDZmXHUzMDU4XHUzMDgxXHUzMDY2IiwgIlx1MzBjNlx1MzBiOVx1MzBjOCJdLCAicGVybWlzc2lvbiI6IHt9LCAiZWRpdCI6IHsiZGF0ZSI6IDE2NzU4NDYzODYzNzAsICJhY3Rpb24iOiAiQ1JFQVRFIn0sICJwYXJ0cyI6IFt7InR5cGUiOiAianBzLWN1cmF0aW9uLXRleHQiLCAiamEiOiB7Im9wcyI6IFt7Imluc2VydCI6ICJcdTMwYzZcdTMwYWRcdTMwYjlcdTMwYzhcdTMwMDJcdTMwYzZcdTMwYWRcdTMwYjlcdTMwYzhcdTMwMDJcdTMwYzZcdTMwYWRcdTMwYjlcdTMwYzhcdTMwMDJcdTMwYzZcdTMwYWRcdTMwYjlcdTMwYzhcdTMwMDIifSwgeyJpbnNlcnQiOiAiXG4ifV19LCAiZW4iOiB7Im9wcyI6IFtdfX0sIHsidHlwZSI6ICJqcHMtY3VyYXRpb24tbGlzdCIsICJ2aWV3VHlwZSI6ICJ0aWxlIiwgInRpdGxlIjogeyJqYSI6ICJcdTMwZWFcdTMwYjlcdTMwYzhcdTMwNmVcdTMwYmZcdTMwYTRcdTMwYzhcdTMwZWIiLCAiZW4iOiAiTGlzdCBUaXRsZSJ9LCAicGFydHMiOiBbeyJ0eXBlIjogImpwcy1jdXJhdGlvbi1saXN0LWV4dGVybmFsLWxpbmsiLCAidGl0bGUiOiB7ImphIjogIlx1NTkxNlx1OTBlOFx1MzBlYVx1MzBmM1x1MzBhZlx1MzA2ZVx1MzBiZlx1MzBhNFx1MzBjOFx1MzBlYiJ9LCAiaW1hZ2UiOiB7ImltZ1R5cGUiOiAiVVJMIiwgImNvdmVyIjogbnVsbCwgInNvdXJjZVVybCI6IG51bGwsICJ0aXRsZSI6IHsiamEiOiAiXHU1MjFkXHU2NWU1XHUzMDZlXHU1MWZhXHUzMDZlXHUzMGFkXHUzMGUzXHUzMGU5XHUzMGFmXHUzMGJmXHUzMGZjIn0sICJzb3VyY2UiOiB7ImphIjogIlx1MzA0NFx1MzA4OVx1MzA1OVx1MzA2OFx1MzA4NCJ9LCAiY29udGVudHNSaWdodHNUeXBlIjogInZhcmlvdXMiLCAidXJsIjogImh0dHBzOi8vYmxvZ2dlci5nb29nbGV1c2VyY29udGVudC5jb20vaW1nL2EvQVZ2WHNFaVRqamFXa0NIZUNzbHhlS3VqYVFvdGp1Ul9IdmhPSGVuN1FsN3JRVjhubVFsNGl2TFJGX0NTYWJNWS1KTEpITkwteEhNZTNWRHlBOUYtaXYxUnRRMmpGVGsxVm5qY2stdmVLTFVaUGRZcUNjanpIa2M4U0dLYjFmeVpfeDhXNjZhVHJTWFE3OFVOM0NueUJha3d3bW1IX2htUEtlRXNUenE4SjNlMnp6VU15bG1EakNaMExDbFBCeUJSUnc9czQwMCIsICJ0aHVtYm5haWxVcmwiOiAiaHR0cHM6Ly9ibG9nZ2VyLmdvb2dsZXVzZXJjb250ZW50LmNvbS9pbWcvYS9BVnZYc0VpVGpqYVdrQ0hlQ3NseGVLdWphUW90anVSX0h2aE9IZW43UWw3clFWOG5tUWw0aXZMUkZfQ1NhYk1ZLUpMSkhOTC14SE1lM1ZEeUE5Ri1pdjFSdFEyakZUazFWbmpjay12ZUtMVVpQZFlxQ2NqekhrYzhTR0tiMWZ5Wl94OFc2NmFUclNYUTc4VU4zQ255QmFrd3dtbUhfaG1QS2VFc1R6cThKM2UyenpVTXlsbURqQ1owTENsUEJ5QlJSdz1zMTgwLWMifX0sIHsidHlwZSI6ICJqcHMtY3VyYXRpb24tbGlzdC1leHRlcm5hbC1saW5rIiwgInRpdGxlIjogeyJqYSI6ICJcdTU5MTZcdTkwZThcdTMwZWFcdTMwZjNcdTMwYWZcdTMwNmVcdTMwYmZcdTMwYTRcdTMwYzhcdTMwZWIifSwgImltYWdlIjogeyJpbWdUeXBlIjogIlVSTCIsICJjb3ZlciI6IG51bGwsICJzb3VyY2VVcmwiOiBudWxsLCAidGl0bGUiOiB7ImphIjogIlx1NTIxZFx1NjVlNVx1MzA2ZVx1NTFmYVx1MzA2ZVx1MzBhZFx1MzBlM1x1MzBlOVx1MzBhZlx1MzBiZlx1MzBmYyJ9LCAic291cmNlIjogeyJqYSI6ICJcdTMwNDRcdTMwODlcdTMwNTlcdTMwNjhcdTMwODQifSwgImNvbnRlbnRzUmlnaHRzVHlwZSI6ICJ2YXJpb3VzIiwgInVybCI6ICJodHRwczovL2Jsb2dnZXIuZ29vZ2xldXNlcmNvbnRlbnQuY29tL2ltZy9hL0FWdlhzRWlUamphV2tDSGVDc2x4ZUt1amFRb3RqdVJfSHZoT0hlbjdRbDdyUVY4bm1RbDRpdkxSRl9DU2FiTVktSkxKSE5MLXhITWUzVkR5QTlGLWl2MVJ0UTJqRlRrMVZuamNrLXZlS0xVWlBkWXFDY2p6SGtjOFNHS2IxZnlaX3g4VzY2YVRyU1hRNzhVTjNDbnlCYWt3d21tSF9obVBLZUVzVHpxOEozZTJ6elVNeWxtRGpDWjBMQ2xQQnlCUlJ3PXM0MDAiLCAidGh1bWJuYWlsVXJsIjogImh0dHBzOi8vYmxvZ2dlci5nb29nbGV1c2VyY29udGVudC5jb20vaW1nL2EvQVZ2WHNFaVRqamFXa0NIZUNzbHhlS3VqYVFvdGp1Ul9IdmhPSGVuN1FsN3JRVjhubVFsNGl2TFJGX0NTYWJNWS1KTEpITkwteEhNZTNWRHlBOUYtaXYxUnRRMmpGVGsxVm5qY2stdmVLTFVaUGRZcUNjanpIa2M4U0dLYjFmeVpfeDhXNjZhVHJTWFE3OFVOM0NueUJha3d3bW1IX2htUEtlRXNUenE4SjNlMnp6VU15bG1EakNaMExDbFBCeUJSUnc9czE4MC1jIn19LCB7InR5cGUiOiAianBzLWN1cmF0aW9uLWxpc3QtZXh0ZXJuYWwtbGluayIsICJ0aXRsZSI6IHsiamEiOiAiXHU1OTE2XHU5MGU4XHUzMGVhXHUzMGYzXHUzMGFmXHUzMDZlXHUzMGJmXHUzMGE0XHUzMGM4XHUzMGViIn0sICJpbWFnZSI6IHsiaW1nVHlwZSI6ICJVUkwiLCAiY292ZXIiOiBudWxsLCAic291cmNlVXJsIjogbnVsbCwgInRpdGxlIjogeyJqYSI6ICJcdTUyMWRcdTY1ZTVcdTMwNmVcdTUxZmFcdTMwNmVcdTMwYWRcdTMwZTNcdTMwZTlcdTMwYWZcdTMwYmZcdTMwZmMifSwgInNvdXJjZSI6IHsiamEiOiAiXHUzMDQ0XHUzMDg5XHUzMDU5XHUzMDY4XHUzMDg0In0sICJjb250ZW50c1JpZ2h0c1R5cGUiOiAidmFyaW91cyIsICJ1cmwiOiAiaHR0cHM6Ly9ibG9nZ2VyLmdvb2dsZXVzZXJjb250ZW50LmNvbS9pbWcvYS9BVnZYc0VpVGpqYVdrQ0hlQ3NseGVLdWphUW90anVSX0h2aE9IZW43UWw3clFWOG5tUWw0aXZMUkZfQ1NhYk1ZLUpMSkhOTC14SE1lM1ZEeUE5Ri1pdjFSdFEyakZUazFWbmpjay12ZUtMVVpQZFlxQ2NqekhrYzhTR0tiMWZ5Wl94OFc2NmFUclNYUTc4VU4zQ255QmFrd3dtbUhfaG1QS2VFc1R6cThKM2UyenpVTXlsbURqQ1owTENsUEJ5QlJSdz1zNDAwIiwgInRodW1ibmFpbFVybCI6ICJodHRwczovL2Jsb2dnZXIuZ29vZ2xldXNlcmNvbnRlbnQuY29tL2ltZy9hL0FWdlhzRWlUamphV2tDSGVDc2x4ZUt1amFRb3RqdVJfSHZoT0hlbjdRbDdyUVY4bm1RbDRpdkxSRl9DU2FiTVktSkxKSE5MLXhITWUzVkR5QTlGLWl2MVJ0UTJqRlRrMVZuamNrLXZlS0xVWlBkWXFDY2p6SGtjOFNHS2IxZnlaX3g4VzY2YVRyU1hRNzhVTjNDbnlCYWt3d21tSF9obVBLZUVzVHpxOEozZTJ6elVNeWxtRGpDWjBMQ2xQQnlCUlJ3PXMxODAtYyJ9fSwgeyJ0eXBlIjogImpwcy1jdXJhdGlvbi1saXN0LWV4dGVybmFsLWxpbmsiLCAidGl0bGUiOiB7ImphIjogIlx1NTkxNlx1OTBlOFx1MzBlYVx1MzBmM1x1MzBhZlx1MzA2ZVx1MzBiZlx1MzBhNFx1MzBjOFx1MzBlYiJ9LCAiaW1hZ2UiOiB7ImltZ1R5cGUiOiAiVVJMIiwgImNvdmVyIjogbnVsbCwgInNvdXJjZVVybCI6IG51bGwsICJ0aXRsZSI6IHsiamEiOiAiXHU1MjFkXHU2NWU1XHUzMDZlXHU1MWZhXHUzMDZlXHUzMGFkXHUzMGUzXHUzMGU5XHUzMGFmXHUzMGJmXHUzMGZjIn0sICJzb3VyY2UiOiB7ImphIjogIlx1MzA0NFx1MzA4OVx1MzA1OVx1MzA2OFx1MzA4NCJ9LCAiY29udGVudHNSaWdodHNUeXBlIjogInZhcmlvdXMiLCAidXJsIjogImh0dHBzOi8vYmxvZ2dlci5nb29nbGV1c2VyY29udGVudC5jb20vaW1nL2EvQVZ2WHNFaVRqamFXa0NIZUNzbHhlS3VqYVFvdGp1Ul9IdmhPSGVuN1FsN3JRVjhubVFsNGl2TFJGX0NTYWJNWS1KTEpITkwteEhNZTNWRHlBOUYtaXYxUnRRMmpGVGsxVm5qY2stdmVLTFVaUGRZcUNjanpIa2M4U0dLYjFmeVpfeDhXNjZhVHJTWFE3OFVOM0NueUJha3d3bW1IX2htUEtlRXNUenE4SjNlMnp6VU15bG1EakNaMExDbFBCeUJSUnc9czQwMCIsICJ0aHVtYm5haWxVcmwiOiAiaHR0cHM6Ly9ibG9nZ2VyLmdvb2dsZXVzZXJjb250ZW50LmNvbS9pbWcvYS9BVnZYc0VpVGpqYVdrQ0hlQ3NseGVLdWphUW90anVSX0h2aE9IZW43UWw3clFWOG5tUWw0aXZMUkZfQ1NhYk1ZLUpMSkhOTC14SE1lM1ZEeUE5Ri1pdjFSdFEyakZUazFWbmpjay12ZUtMVVpQZFlxQ2NqekhrYzhTR0tiMWZ5Wl94OFc2NmFUclNYUTc4VU4zQ255QmFrd3dtbUhfaG1QS2VFc1R6cThKM2UyenpVTXlsbURqQ1owTENsUEJ5QlJSdz1zMTgwLWMifSwgImxhdGxvbiI6IHsibGF0IjogMzUuNzEzMzMzLCAibG9uIjogMTM5Ljc2MjIyMn19XX0sIHsidHlwZSI6ICJqcHMtY3VyYXRpb24tdGltZWxpbmUiLCAidGltZWxpbmUiOiB7InN0YXJ0IjogMTgwMCwgImVuZCI6IDIwNTB9LCAibGF5b3V0IjogImJhciIsICJ0aXRsZSI6IHsiamEiOiAiXHU1ZTc0XHU4ODY4XHUzMDZlXHUzMGJmXHUzMGE0XHUzMGM4XHUzMGViIiwgImVuIjogIlRpbWVsaW5lIFRpdGxlIn0sICJwYXJ0cyI6IFt7InR5cGUiOiAianBzLWN1cmF0aW9uLXRpbWVwb2ludCIsICJ0aW1lIjogeyJuYW1lIjogeyJqYSI6ICJcdTY2NDJcdTcwYjlcdTMwNmVcdTMwYmZcdTMwYTRcdTMwYzhcdTMwZWIiLCAiZW4iOiAiVGltZXBvaW50IFRpdGxlIn0sICJzdGFydCI6IDE4NzcsICJlbmQiOiAxODc3LCAic3RhcnRGcmFjdGlvbiI6IDAsICJlbmRGcmFjdGlvbiI6IDAsICJsYWJlbEhlaWdodCI6IDF9LCAiZGVzY3JpcHRpb24iOiB7ImphIjogIlx1NjY0Mlx1NzBiOVx1MzA2ZVx1OGFhY1x1NjYwZSJ9LCAicGFydHMiOiBbeyJ0eXBlIjogImpwcy1jdXJhdGlvbi10ZXh0IiwgImphIjogeyJvcHMiOiBbeyJpbnNlcnQiOiAiXHU2NjQyXHU3MGI5XHUzMDZlXHUzMGM2XHUzMGFkXHUzMGI5XHUzMGM4XHUzMDAyXHU2NjQyXHU3MGI5XHUzMDZlXHUzMGM2XHUzMGFkXHUzMGI5XHUzMGM4XHUzMDAyXHU2NjQyXHU3MGI5XHUzMDZlXHUzMGM2XHUzMGFkXHUzMGI5XHUzMGM4XHUzMDAyXHU2NjQyXHU3MGI5XHUzMDZlXHUzMGM2XHUzMGFkXHUzMGI5XHUzMGM4XHUzMDAyIn0sIHsiaW5zZXJ0IjogIlxuIn1dfSwgImVuIjogeyJvcHMiOiBbXX19XX1dfSwgeyJ0eXBlIjogImpwcy1jdXJhdGlvbi1saXN0IiwgInZpZXdUeXBlIjogIm1hcCIsICJ0aXRsZSI6IHsiamEiOiAiXHU1NzMwXHU1NmYzXHUzMDZlXHUzMGJmXHUzMGE0XHUzMGM4XHUzMGViIiwgImVuIjogIk1hcCBUaXRsZSJ9LCAib3BlbkFjdGlvblR5cGUiOiAibGluayIsICJtYXBQYXJhbSI6IHsiY2VudGVyIjogeyJsYXQiOiAzNS43MTM3MzY3NjIxMjU0NjQsICJsb24iOiAxMzkuNzYyNzIwNTAyMzc2OTZ9LCAiem9vbSI6IDE1LCAibW9kZSI6ICJOT1JNQUwifSwgInBhcnRzIjogW3sidHlwZSI6ICJqcHMtY3VyYXRpb24tbGlzdC1leHRlcm5hbC1saW5rIiwgInRpdGxlIjogeyJqYSI6ICJcdTU5MTZcdTkwZThcdTMwZWFcdTMwZjNcdTMwYWZcdTMwNmVcdTMwYmZcdTMwYTRcdTMwYzhcdTMwZWIifSwgImltYWdlIjogeyJpbWdUeXBlIjogIlVSTCIsICJjb3ZlciI6IG51bGwsICJzb3VyY2VVcmwiOiBudWxsLCAidGl0bGUiOiB7ImphIjogIlx1NTIxZFx1NjVlNVx1MzA2ZVx1NTFmYVx1MzA2ZVx1MzBhZFx1MzBlM1x1MzBlOVx1MzBhZlx1MzBiZlx1MzBmYyJ9LCAic291cmNlIjogeyJqYSI6ICJcdTMwNDRcdTMwODlcdTMwNTlcdTMwNjhcdTMwODQifSwgImNvbnRlbnRzUmlnaHRzVHlwZSI6ICJ2YXJpb3VzIiwgInVybCI6ICJodHRwczovL2Jsb2dnZXIuZ29vZ2xldXNlcmNvbnRlbnQuY29tL2ltZy9hL0FWdlhzRWlUamphV2tDSGVDc2x4ZUt1amFRb3RqdVJfSHZoT0hlbjdRbDdyUVY4bm1RbDRpdkxSRl9DU2FiTVktSkxKSE5MLXhITWUzVkR5QTlGLWl2MVJ0UTJqRlRrMVZuamNrLXZlS0xVWlBkWXFDY2p6SGtjOFNHS2IxZnlaX3g4VzY2YVRyU1hRNzhVTjNDbnlCYWt3d21tSF9obVBLZUVzVHpxOEozZTJ6elVNeWxtRGpDWjBMQ2xQQnlCUlJ3PXM0MDAiLCAidGh1bWJuYWlsVXJsIjogImh0dHBzOi8vYmxvZ2dlci5nb29nbGV1c2VyY29udGVudC5jb20vaW1nL2EvQVZ2WHNFaVRqamFXa0NIZUNzbHhlS3VqYVFvdGp1Ul9IdmhPSGVuN1FsN3JRVjhubVFsNGl2TFJGX0NTYWJNWS1KTEpITkwteEhNZTNWRHlBOUYtaXYxUnRRMmpGVGsxVm5qY2stdmVLTFVaUGRZcUNjanpIa2M4U0dLYjFmeVpfeDhXNjZhVHJTWFE3OFVOM0NueUJha3d3bW1IX2htUEtlRXNUenE4SjNlMnp6VU15bG1EakNaMExDbFBCeUJSUnc9czE4MC1jIn0sICJsYXRsb24iOiB7ImxhdCI6IDM1LjcxMzMzMywgImxvbiI6IDEzOS43NjIyMjJ9fV19XSwgInJpZ2h0cyI6IHt9LCAicmlnaHRzVHlwZSI6ICJjY2J5IiwgImN1cmF0aW9uVHlwZSI6ICJHQUxMRVJZIiwgImltYWdlIjogeyJpbWdUeXBlIjogIlVSTCIsICJjb3ZlciI6IG51bGwsICJzb3VyY2VVcmwiOiBudWxsLCAidGl0bGUiOiB7ImphIjogIlx1NTIxZFx1NjVlNVx1MzA2ZVx1NTFmYVx1MzA2ZVx1MzBhZFx1MzBlM1x1MzBlOVx1MzBhZlx1MzBiZlx1MzBmYyJ9LCAic291cmNlIjogeyJqYSI6ICJcdTMwNDRcdTMwODlcdTMwNTlcdTMwNjhcdTMwODQifSwgImNvbnRlbnRzUmlnaHRzVHlwZSI6ICJ2YXJpb3VzIiwgInVybCI6ICJodHRwczovL2Jsb2dnZXIuZ29vZ2xldXNlcmNvbnRlbnQuY29tL2ltZy9hL0FWdlhzRWlUamphV2tDSGVDc2x4ZUt1amFRb3RqdVJfSHZoT0hlbjdRbDdyUVY4bm1RbDRpdkxSRl9DU2FiTVktSkxKSE5MLXhITWUzVkR5QTlGLWl2MVJ0UTJqRlRrMVZuamNrLXZlS0xVWlBkWXFDY2p6SGtjOFNHS2IxZnlaX3g4VzY2YVRyU1hRNzhVTjNDbnlCYWt3d21tSF9obVBLZUVzVHpxOEozZTJ6elVNeWxtRGpDWjBMQ2xQQnlCUlJ3PXM0MDAiLCAidGh1bWJuYWlsVXJsIjogImh0dHBzOi8vYmxvZ2dlci5nb29nbGV1c2VyY29udGVudC5jb20vaW1nL2EvQVZ2WHNFaVRqamFXa0NIZUNzbHhlS3VqYVFvdGp1Ul9IdmhPSGVuN1FsN3JRVjhubVFsNGl2TFJGX0NTYWJNWS1KTEpITkwteEhNZTNWRHlBOUYtaXYxUnRRMmpGVGsxVm5qY2stdmVLTFVaUGRZcUNjanpIa2M4U0dLYjFmeVpfeDhXNjZhVHJTWFE3OFVOM0NueUJha3d3bW1IX2htUEtlRXNUenE4SjNlMnp6VU15bG1EakNaMExDbFBCeUJSUnc9czE4MC1jIn19\">\n",
              "</div>\n",
              "<script src=\"https://jpsearch.go.jp/assets/js/wp.bundle.js\"></script>\n"
            ]
          },
          "metadata": {}
        }
      ]
    }
  ]
}