{
  "nbformat": 4,
  "nbformat_minor": 0,
  "metadata": {
    "colab": {
      "provenance": [],
      "authorship_tag": "ABX9TyM4mTMKFcayw08SjcyB/Apm",
      "include_colab_link": true
    },
    "kernelspec": {
      "name": "python3",
      "display_name": "Python 3"
    },
    "language_info": {
      "name": "python"
    }
  },
  "cells": [
    {
      "cell_type": "markdown",
      "metadata": {
        "id": "view-in-github",
        "colab_type": "text"
      },
      "source": [
        "<a href=\"https://colab.research.google.com/github/nakamura196/ndl_ocr/blob/main/%E3%82%B8%E3%83%A3%E3%83%91%E3%83%B3%E3%82%B5%E3%83%BC%E3%83%81%E3%81%AE%E3%82%AE%E3%83%A3%E3%83%A9%E3%83%AA%E3%83%BC%E4%BD%9C%E6%88%90.ipynb\" target=\"_parent\"><img src=\"https://colab.research.google.com/assets/colab-badge.svg\" alt=\"Open In Colab\"/></a>"
      ]
    },
    {
      "cell_type": "markdown",
      "source": [
        "# ジャパンサーチのギャラリーを作成します。"
      ],
      "metadata": {
        "id": "s5cj97ES2gnU"
      }
    },
    {
      "cell_type": "code",
      "source": [
        "!pip install jps_gallery_tools"
      ],
      "metadata": {
        "colab": {
          "base_uri": "https://localhost:8080/"
        },
        "id": "KX4vGf4I0fgj",
        "outputId": "c9a15a80-b259-4629-a7f5-0759f90a7221"
      },
      "execution_count": null,
      "outputs": [
        {
          "output_type": "stream",
          "name": "stdout",
          "text": [
            "Looking in indexes: https://pypi.org/simple, https://us-python.pkg.dev/colab-wheels/public/simple/\n",
            "Requirement already satisfied: jps_gallery_tools in /usr/local/lib/python3.8/dist-packages (0.0.1)\n"
          ]
        }
      ]
    },
    {
      "cell_type": "code",
      "execution_count": null,
      "metadata": {
        "id": "ChjvdfiG0d6H"
      },
      "outputs": [],
      "source": [
        "from jps_gallery_tools.api import *\n",
        "gallery = JPSGalleryClient()"
      ]
    },
    {
      "cell_type": "markdown",
      "source": [
        "## テキストの追加"
      ],
      "metadata": {
        "id": "nZ8ocHM00sWs"
      }
    },
    {
      "cell_type": "code",
      "source": [
        "part_01= JpsCurationText()\n",
        "gallery.addPart(part_01)\n",
        "part_01.addText(\"ja\", \"ここにテキストを入力しましょう。\")"
      ],
      "metadata": {
        "id": "GuJ9ttOq0r-X"
      },
      "execution_count": null,
      "outputs": []
    },
    {
      "cell_type": "markdown",
      "source": [
        "## リストの追加"
      ],
      "metadata": {
        "id": "RSD1j9ES0xfx"
      }
    },
    {
      "cell_type": "code",
      "source": [
        "part_02 = JpsCurationList(\"tile\")\n",
        "gallery.addPart(part_02)\n",
        "part_02.setLangMetadata(\"title\", \"ja\", \"リストのタイトル\")\n",
        "part_02.setLangMetadata(\"title\", \"en\", \"List Title\")"
      ],
      "metadata": {
        "id": "Edr3nxRz0uuG"
      },
      "execution_count": null,
      "outputs": []
    },
    {
      "cell_type": "code",
      "source": [
        "for i in range(4):\n",
        "    item = ListExternalLinkPart()\n",
        "    part_02.addPart(item)\n",
        "    item.setLangMetadata(\"title\", \"ja\", \"外部リンクのタイトル\")\n",
        "\n",
        "    original_url = \"https://blogger.googleusercontent.com/img/a/AVvXsEiTjjaWkCHeCslxeKujaQotjuR_HvhOHen7Ql7rQV8nmQl4ivLRF_CSabMY-JLJHNL-xHMe3VDyA9F-iv1RtQ2jFTk1Vnjck-veKLUZPdYqCcjzHkc8SGKb1fyZ_x8W66aTrSXQ78UN3CnyBakwwmmH_hmPKeEsTzq8J3e2zzUMylmDjCZ0LClPByBRRw=s400\"\n",
        "    thumbnail_url = \"https://blogger.googleusercontent.com/img/a/AVvXsEiTjjaWkCHeCslxeKujaQotjuR_HvhOHen7Ql7rQV8nmQl4ivLRF_CSabMY-JLJHNL-xHMe3VDyA9F-iv1RtQ2jFTk1Vnjck-veKLUZPdYqCcjzHkc8SGKb1fyZ_x8W66aTrSXQ78UN3CnyBakwwmmH_hmPKeEsTzq8J3e2zzUMylmDjCZ0LClPByBRRw=s180-c\"\n",
        "    title = \"初日の出のキャラクター\"\n",
        "    source = \"いらすとや\"\n",
        "    image = UrlImage(original_url, title, source, thumbnail_url)\n",
        "\n",
        "    item.setImage(image)"
      ],
      "metadata": {
        "id": "ZlZP1rQS1AQr"
      },
      "execution_count": null,
      "outputs": []
    },
    {
      "cell_type": "markdown",
      "source": [
        "# 地図の追加"
      ],
      "metadata": {
        "id": "zUp5jmpR17Po"
      }
    },
    {
      "cell_type": "code",
      "source": [
        "part_03 = JpsCurationList(\"map\")\n",
        "gallery.addPart(part_03)\n",
        "part_03.setLangMetadata(\"title\", \"ja\", \"地図のタイトル\")\n",
        "part_03.setLangMetadata(\"title\", \"en\", \"Map Title\")\n",
        "\n",
        "part_03.setMetadata(\"openActionType\", \"link\")\n",
        "part_03.setMetadata(\"mapParam\", {\n",
        "    \"center\": {\n",
        "        \"lat\": 35.713736762125464,\n",
        "        \"lon\": 139.76272050237696\n",
        "    },\n",
        "    \"zoom\": 15,\n",
        "    \"mode\": \"NORMAL\"\n",
        "})"
      ],
      "metadata": {
        "id": "l_fIkQ82168W"
      },
      "execution_count": null,
      "outputs": []
    },
    {
      "cell_type": "markdown",
      "source": [
        "### 地図にアイテムの追加"
      ],
      "metadata": {
        "id": "wZLyPHVW2qBf"
      }
    },
    {
      "cell_type": "code",
      "source": [
        "import copy\n",
        "from pprint import pprint\n",
        "\n",
        "item_03_01 = copy.copy(item)\n",
        "\n",
        "item_03_01.setMetadata(\"latlon\", {\n",
        "    \"lat\": 35.713333,\n",
        "    \"lon\": 139.762222\n",
        "})\n",
        "part_03.addPart(item_03_01)"
      ],
      "metadata": {
        "colab": {
          "base_uri": "https://localhost:8080/"
        },
        "id": "1gBeA3Rz2wq4",
        "outputId": "884d4506-7978-4b4d-8a03-9568b1cdf971"
      },
      "execution_count": null,
      "outputs": [
        {
          "output_type": "stream",
          "name": "stdout",
          "text": [
            "{'cpid': 'a',\n",
            " 'image': {'contentsRightsType': 'various',\n",
            "           'cover': None,\n",
            "           'imgType': 'URL',\n",
            "           'source': {'ja': 'いらすとや'},\n",
            "           'sourceUrl': None,\n",
            "           'thumbnailUrl': 'https://blogger.googleusercontent.com/img/a/AVvXsEiTjjaWkCHeCslxeKujaQotjuR_HvhOHen7Ql7rQV8nmQl4ivLRF_CSabMY-JLJHNL-xHMe3VDyA9F-iv1RtQ2jFTk1Vnjck-veKLUZPdYqCcjzHkc8SGKb1fyZ_x8W66aTrSXQ78UN3CnyBakwwmmH_hmPKeEsTzq8J3e2zzUMylmDjCZ0LClPByBRRw=s180-c',\n",
            "           'title': {'ja': '初日の出のキャラクター'},\n",
            "           'url': 'https://blogger.googleusercontent.com/img/a/AVvXsEiTjjaWkCHeCslxeKujaQotjuR_HvhOHen7Ql7rQV8nmQl4ivLRF_CSabMY-JLJHNL-xHMe3VDyA9F-iv1RtQ2jFTk1Vnjck-veKLUZPdYqCcjzHkc8SGKb1fyZ_x8W66aTrSXQ78UN3CnyBakwwmmH_hmPKeEsTzq8J3e2zzUMylmDjCZ0LClPByBRRw=s400'},\n",
            " 'title': {'ja': '外部リンクのタイトル'},\n",
            " 'type': 'jps-curation-list-external-link'}\n"
          ]
        }
      ]
    },
    {
      "cell_type": "markdown",
      "source": [
        "## タイムラインの追加"
      ],
      "metadata": {
        "id": "VPcFcBXp2Csd"
      }
    },
    {
      "cell_type": "code",
      "source": [
        "part_04 = JpsCurationTimeline(1800, 2050)\n",
        "gallery.addPart(part_04)\n",
        "\n",
        "part_04.setMetadata(\"title\", \"ja\", \"年表のタイトル\")\n",
        "part_04.setMetadata(\"title\", \"en\", \"Timeline Title\")"
      ],
      "metadata": {
        "id": "jyBRAv602EEs"
      },
      "execution_count": null,
      "outputs": []
    },
    {
      "cell_type": "markdown",
      "source": [
        "### タイムラインにポイントの追加"
      ],
      "metadata": {
        "id": "5jQheiGe2sZ9"
      }
    },
    {
      "cell_type": "code",
      "source": [
        "part_04_01 = JpsCurationTimepoint(\"日本語\", \"英語\", 1877, 1877)\n",
        "part_04.addPart(part_04_01)\n",
        "part_04_01.setMetadata(\"description\", \"ja\", \"日本語による説明文\")\n",
        "part_04_01.setMetadata(\"description\", \"en\", \"English description\")\n",
        "\n",
        "part_04_01_01 = JpsCurationText()\n",
        "part_04_01.addPart(part_04_01_01)\n",
        "part_04_01_01.addOps2(\"ja\", \"ここにテキストを入力しましょう。\")"
      ],
      "metadata": {
        "id": "I_7Q_OTp2snC"
      },
      "execution_count": null,
      "outputs": []
    },
    {
      "cell_type": "markdown",
      "source": [
        "## 出力"
      ],
      "metadata": {
        "id": "CUPW5G0a1RWX"
      }
    },
    {
      "cell_type": "code",
      "source": [
        "b = gallery.encode()"
      ],
      "metadata": {
        "colab": {
          "base_uri": "https://localhost:8080/"
        },
        "id": "6a4WsziA1Sa0",
        "outputId": "6dc16a43-3c8d-4e30-b512-738c90c8f4d6"
      },
      "execution_count": null,
      "outputs": [
        {
          "output_type": "stream",
          "name": "stdout",
          "text": [
            "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\n"
          ]
        }
      ]
    },
    {
      "cell_type": "code",
      "source": [
        "import IPython\n",
        "from IPython.display import display, HTML\n",
        " \n",
        "htm = HTML(f'''\\\n",
        "<div\n",
        "        class=\"jps\"\n",
        "        data-lang=\"ja\"\n",
        "        data-cur=\"{b}\">\n",
        "</div>\n",
        "<script src=\"https://jpsearch.go.jp/assets/js/wp.bundle.js\"></script>\n",
        "''')\n",
        " \n",
        "display(htm)"
      ],
      "metadata": {
        "colab": {
          "base_uri": "https://localhost:8080/",
          "height": 1000
        },
        "id": "1QIlamwq1cEY",
        "outputId": "c20f95d7-67c5-4274-a0f5-21b532df3e2c"
      },
      "execution_count": null,
      "outputs": [
        {
          "output_type": "display_data",
          "data": {
            "text/plain": [
              "<IPython.core.display.HTML object>"
            ],
            "text/html": [
              "<div\n",
              "        class=\"jps\"\n",
              "        data-lang=\"ja\"\n",
              "        data-cur=\"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\">\n",
              "</div>\n",
              "<script src=\"https://jpsearch.go.jp/assets/js/wp.bundle.js\"></script>\n"
            ]
          },
          "metadata": {}
        }
      ]
    }
  ]
}