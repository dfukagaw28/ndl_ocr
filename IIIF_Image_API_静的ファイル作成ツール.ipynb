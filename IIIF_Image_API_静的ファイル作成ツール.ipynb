{
  "nbformat": 4,
  "nbformat_minor": 0,
  "metadata": {
    "colab": {
      "private_outputs": true,
      "provenance": [],
      "authorship_tag": "ABX9TyNSJQfLJWyX3rkt0P/28Nhu",
      "include_colab_link": true
    },
    "kernelspec": {
      "name": "python3",
      "display_name": "Python 3"
    },
    "language_info": {
      "name": "python"
    },
    "gpuClass": "standard"
  },
  "cells": [
    {
      "cell_type": "markdown",
      "metadata": {
        "id": "view-in-github",
        "colab_type": "text"
      },
      "source": [
        "<a href=\"https://colab.research.google.com/github/nakamura196/ndl_ocr/blob/main/IIIF_Image_API_%E9%9D%99%E7%9A%84%E3%83%95%E3%82%A1%E3%82%A4%E3%83%AB%E4%BD%9C%E6%88%90%E3%83%84%E3%83%BC%E3%83%AB.ipynb\" target=\"_parent\"><img src=\"https://colab.research.google.com/assets/colab-badge.svg\" alt=\"Open In Colab\"/></a>"
      ]
    },
    {
      "cell_type": "markdown",
      "source": [
        "# IIIF Image API 静的ファイル作成ツール\n",
        "\n",
        "## プログラムの準備"
      ],
      "metadata": {
        "id": "5blFfKHtalyy"
      }
    },
    {
      "cell_type": "code",
      "execution_count": null,
      "metadata": {
        "id": "2Z0T97rBWpIN"
      },
      "outputs": [],
      "source": [
        "!git clone https://github.com/nakamura196/iiif_static\n",
        "%cd iiif_static\n",
        "!pip install -r requirements.txt"
      ]
    },
    {
      "cell_type": "markdown",
      "source": [
        "## データの準備\n",
        "\n",
        "`/content/iiif_static/example.xlsx`のファイルをダウンロードして、適宜修正してください。\n",
        "\n",
        "その後、以下などからアップロードしてください。"
      ],
      "metadata": {
        "id": "tUhDhYEtasG9"
      }
    },
    {
      "cell_type": "code",
      "source": [
        "from google.colab import files\n",
        "uploaded = files.upload()\n",
        "input_file = next(iter(uploaded))"
      ],
      "metadata": {
        "id": "TpbWy9h8apuZ"
      },
      "execution_count": null,
      "outputs": []
    },
    {
      "cell_type": "markdown",
      "source": [
        "## 変換処理の実行\n",
        "\n",
        "`input_file_path`の値を適宜修正して実行してください。"
      ],
      "metadata": {
        "id": "5rwIiuUZa7M7"
      }
    },
    {
      "cell_type": "code",
      "source": [
        "!python iiif_static.py --input_file_path example.xlsx"
      ],
      "metadata": {
        "id": "Gnv6I6WKXoLw"
      },
      "execution_count": null,
      "outputs": []
    }
  ]
}