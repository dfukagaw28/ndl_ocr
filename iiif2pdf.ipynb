{
  "nbformat": 4,
  "nbformat_minor": 0,
  "metadata": {
    "colab": {
      "private_outputs": true,
      "provenance": [],
      "include_colab_link": true
    },
    "kernelspec": {
      "name": "python3",
      "display_name": "Python 3"
    },
    "language_info": {
      "name": "python"
    },
    "gpuClass": "standard"
  },
  "cells": [
    {
      "cell_type": "markdown",
      "metadata": {
        "id": "view-in-github",
        "colab_type": "text"
      },
      "source": [
        "<a href=\"https://colab.research.google.com/github/nakamura196/ndl_ocr/blob/main/iiif2pdf.ipynb\" target=\"_parent\"><img src=\"https://colab.research.google.com/assets/colab-badge.svg\" alt=\"Open In Colab\"/></a>"
      ]
    },
    {
      "cell_type": "markdown",
      "source": [
        "# IIIFをPDFに変換する"
      ],
      "metadata": {
        "id": "tmCNtZWP20da"
      }
    },
    {
      "cell_type": "markdown",
      "source": [
        "## 更新履歴\n",
        "- 2023-0725: IIIF Presentation API v3に対応しました。"
      ],
      "metadata": {
        "id": "niDSlwW6mwq8"
      }
    },
    {
      "cell_type": "markdown",
      "source": [
        "## 準備"
      ],
      "metadata": {
        "id": "TQ-6u4z823Y8"
      }
    },
    {
      "cell_type": "markdown",
      "source": [
        "以下を実行後、Restartボタンが表示された場合には、ボタンを押し、再度このセルを実行してください。"
      ],
      "metadata": {
        "id": "4gjxByJq2lIl"
      }
    },
    {
      "cell_type": "code",
      "source": [
        "#@title インストール\n",
        "!pip install iiif_tools==0.0.3\n",
        "from iiif_tools.pdf import PdfClient"
      ],
      "metadata": {
        "cellView": "form",
        "id": "-gRVScso2HFS"
      },
      "execution_count": null,
      "outputs": []
    },
    {
      "cell_type": "markdown",
      "source": [
        "## 変換\n",
        "\n",
        "複数のオプションを提供しています。"
      ],
      "metadata": {
        "id": "nQCaoUjj2d-X"
      }
    },
    {
      "cell_type": "markdown",
      "source": [
        "### IIIFマニフェストURLを指定して、PDFを作成する"
      ],
      "metadata": {
        "id": "lQYa50_02fiH"
      }
    },
    {
      "cell_type": "code",
      "source": [
        "#@title\n",
        "manifest_url = \"https://www.dl.ndl.go.jp/api/iiif/1286201/manifest.json\" #@param {type:\"string\"}\n",
        "output_path = \"test_1.pdf\" #@param {type:\"string\"}\n",
        "PdfClient.create_pdf_from_manifest_url(manifest_url, output_path)"
      ],
      "metadata": {
        "cellView": "form",
        "id": "MqJBA2ia1-yW"
      },
      "execution_count": null,
      "outputs": []
    },
    {
      "cell_type": "markdown",
      "source": [
        "### 画像が格納されているフォルダのパスを指定して、PDFを作成する\n",
        "\n",
        "- `input_dir`: 画像が格納されているフォルダへのパス\n",
        "- `extension`: 変換対象の画像ファイルの拡張子"
      ],
      "metadata": {
        "id": "c_4dHkac7Wuy"
      }
    },
    {
      "cell_type": "code",
      "source": [
        "#@title\n",
        "input_dir = \"/content/sample_data\" #@param {type:\"string\"}\n",
        "output_path = \"test_2.pdf\" #@param {type:\"string\"}\n",
        "extension=\"jpg\" #@param {type:\"string\"}\n",
        "PdfClient.create_pdf_from_dir(input_dir, output_path, extension=extension)"
      ],
      "metadata": {
        "cellView": "form",
        "id": "vnWCD3D_7jsM"
      },
      "execution_count": null,
      "outputs": []
    },
    {
      "cell_type": "code",
      "source": [
        "#@title Googleドライブ上に存在するIIIFマニフェストファイルのパスを指定して、PDFを作成する\n",
        "input_path = \"/content/manifest.json\" #@param {type:\"string\"}\n",
        "output_path = \"test_3.pdf\" #@param {type:\"string\"}\n",
        "PdfClient.create_pdf_from_manifest_local(input_path, output_path)"
      ],
      "metadata": {
        "cellView": "form",
        "id": "xYu-ZzAh8XVD"
      },
      "execution_count": null,
      "outputs": []
    },
    {
      "cell_type": "code",
      "source": [
        "#@title ローカルに存在するIIIFマニフェストファイルのパスを指定して、PDFを作成する\n",
        "import os\n",
        "from google.colab import files\n",
        "\n",
        "input_path = \"/tmp/test\"\n",
        "\n",
        "# 既存ファイルの削除\n",
        "!rm {input_path}\n",
        "\n",
        "# フォルダの作成\n",
        "os.makedirs(os.path.dirname(input_path), exist_ok=True)\n",
        "\n",
        "uploaded = files.upload()\n",
        "filename = next(iter(uploaded))\n",
        "!mv {filename} {input_path}\n",
        "\n",
        "# input_path = \"/content/manifest.json\" #@param {type:\"string\"}\n",
        "output_path = \"test_3.pdf\" #@param {type:\"string\"}\n",
        "\n",
        "PdfClient.create_pdf_from_manifest_local(input_path, output_path)"
      ],
      "metadata": {
        "cellView": "form",
        "id": "gDN5eXDgdka3"
      },
      "execution_count": null,
      "outputs": []
    }
  ]
}