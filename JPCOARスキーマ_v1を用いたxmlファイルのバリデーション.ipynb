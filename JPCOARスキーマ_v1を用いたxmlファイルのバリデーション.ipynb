{
  "nbformat": 4,
  "nbformat_minor": 0,
  "metadata": {
    "colab": {
      "private_outputs": true,
      "provenance": [],
      "include_colab_link": true
    },
    "kernelspec": {
      "name": "python3",
      "display_name": "Python 3"
    },
    "language_info": {
      "name": "python"
    },
    "gpuClass": "standard"
  },
  "cells": [
    {
      "cell_type": "markdown",
      "metadata": {
        "id": "view-in-github",
        "colab_type": "text"
      },
      "source": [
        "<a href=\"https://colab.research.google.com/github/nakamura196/ndl_ocr/blob/main/JPCOAR%E3%82%B9%E3%82%AD%E3%83%BC%E3%83%9E_v1%E3%82%92%E7%94%A8%E3%81%84%E3%81%9Fxml%E3%83%95%E3%82%A1%E3%82%A4%E3%83%AB%E3%81%AE%E3%83%90%E3%83%AA%E3%83%87%E3%83%BC%E3%82%B7%E3%83%A7%E3%83%B3.ipynb\" target=\"_parent\"><img src=\"https://colab.research.google.com/assets/colab-badge.svg\" alt=\"Open In Colab\"/></a>"
      ]
    },
    {
      "cell_type": "markdown",
      "source": [
        "# JPCOARスキーマ（v1）を用いたxmlファイルのバリデーション\n",
        "\n",
        "以下のリポジトリのスキーマを使用しています。\n",
        "\n",
        "https://github.com/JPCOAR/schema\n"
      ],
      "metadata": {
        "id": "98NcTZYOOJ-r"
      }
    },
    {
      "cell_type": "code",
      "source": [
        "#@title セットアップ\n",
        "!rm -rf /content/schema\n",
        "\n",
        "# !git clone https://github.com/JPCOAR/schema.git\n",
        "!git clone https://github.com/nakamura196/schema.git\n",
        "\n",
        "!pip install xsd-validator\n",
        "\n",
        "import requests\n",
        "from xsd_validator import XsdValidator\n",
        "\n",
        "validator = XsdValidator('/content/schema/1.0/jpcoar_scm.xsd')"
      ],
      "metadata": {
        "id": "DkZNF55SgOob",
        "cellView": "form"
      },
      "execution_count": null,
      "outputs": []
    },
    {
      "cell_type": "code",
      "source": [
        "#@title オプション1: URL指定\n",
        "url = \"https://raw.githubusercontent.com/JPCOAR/schema/master/1.0/samples/07_dataset.xml\" #@param {type:\"string\"}\n",
        "\n",
        "path = \"url.xml\"\n",
        "\n",
        "response = requests.get(url)\n",
        "with open(path, 'wb') as file:\n",
        "    file.write(response.content)\n",
        "\n",
        "validator.assert_valid(path)"
      ],
      "metadata": {
        "id": "vp67641aNdZ9",
        "cellView": "form"
      },
      "execution_count": null,
      "outputs": []
    },
    {
      "cell_type": "code",
      "source": [
        "#@title オプション2: ファイルアップロード\n",
        "import os\n",
        "\n",
        "path = \"file.xml\"\n",
        "\n",
        "if os.path.exists(path):\n",
        "  !rm {path}\n",
        "\n",
        "from google.colab import files\n",
        "uploaded = files.upload()\n",
        "filename = next(iter(uploaded))\n",
        "\n",
        "!mv {filename} {path}\n",
        "\n",
        "validator.assert_valid(path)"
      ],
      "metadata": {
        "id": "t3Th6FoYNtoE",
        "cellView": "form"
      },
      "execution_count": null,
      "outputs": []
    }
  ]
}