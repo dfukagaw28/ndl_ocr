{
  "nbformat": 4,
  "nbformat_minor": 0,
  "metadata": {
    "colab": {
      "provenance": [],
      "private_outputs": true,
      "authorship_tag": "ABX9TyMqCirvTUh440XgiQiX+EsG",
      "include_colab_link": true
    },
    "kernelspec": {
      "name": "python3",
      "display_name": "Python 3"
    },
    "language_info": {
      "name": "python"
    },
    "gpuClass": "standard"
  },
  "cells": [
    {
      "cell_type": "markdown",
      "metadata": {
        "id": "view-in-github",
        "colab_type": "text"
      },
      "source": [
        "<a href=\"https://colab.research.google.com/github/nakamura196/ndl_ocr/blob/main/Tesseract%E3%82%92%E8%A9%A6%E3%81%99.ipynb\" target=\"_parent\"><img src=\"https://colab.research.google.com/assets/colab-badge.svg\" alt=\"Open In Colab\"/></a>"
      ]
    },
    {
      "cell_type": "markdown",
      "source": [
        "# セットアップ"
      ],
      "metadata": {
        "id": "98u3m4si-Hhs"
      }
    },
    {
      "cell_type": "code",
      "execution_count": null,
      "metadata": {
        "id": "RegXin87NAai"
      },
      "outputs": [],
      "source": [
        "!apt install tesseract-ocr libtesseract-dev tesseract-ocr-jpn\n",
        "!pip install pyocr"
      ]
    },
    {
      "cell_type": "code",
      "source": [
        "!pip install pytesseract"
      ],
      "metadata": {
        "id": "dUE2iogk_Gr0"
      },
      "execution_count": null,
      "outputs": []
    },
    {
      "cell_type": "code",
      "source": [
        "from pytesseract import pytesseract\n",
        "from PIL import Image\n",
        "from google.colab import files\n",
        "import os"
      ],
      "metadata": {
        "id": "GLrjZqvNS74u"
      },
      "execution_count": null,
      "outputs": []
    },
    {
      "cell_type": "markdown",
      "source": [
        "# ファイルのアップロード"
      ],
      "metadata": {
        "id": "T_uLgAuL-PjD"
      }
    },
    {
      "cell_type": "code",
      "source": [
        "uploaded = files.upload()\n",
        "filepath = next(iter(uploaded))\n",
        "img1 = Image.open(filepath)\n",
        "img1"
      ],
      "metadata": {
        "id": "mY4hP2cf-Sp3"
      },
      "execution_count": null,
      "outputs": []
    },
    {
      "cell_type": "markdown",
      "source": [
        "# OCRの実行"
      ],
      "metadata": {
        "id": "AAyLktIX--tB"
      }
    },
    {
      "cell_type": "code",
      "source": [
        "filename = basename_without_ext = os.path.splitext(os.path.basename(filepath))[0]\n",
        "pytesseract.run_tesseract(filepath, filename, lang=\"jpn\", config=\"hocr\", extension=\"hocr\")"
      ],
      "metadata": {
        "id": "ZkrVGyEgS-cI"
      },
      "execution_count": null,
      "outputs": []
    },
    {
      "cell_type": "markdown",
      "source": [
        "# 結果\n",
        "\n",
        "`filename`.hocr というファイルが生成されます。\n",
        "\n",
        "本ファイルをダウンロードして、以下のコンバータにアップロードすることにより、alto形式などへ変換することができます。\n",
        "\n",
        "https://digi.bib.uni-mannheim.de/ocr-fileformat/"
      ],
      "metadata": {
        "id": "7kNo_Y1c_6mp"
      }
    }
  ]
}