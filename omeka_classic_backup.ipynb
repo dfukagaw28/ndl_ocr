{
  "nbformat": 4,
  "nbformat_minor": 0,
  "metadata": {
    "colab": {
      "name": "omeka_classic_backup.ipynb",
      "private_outputs": true,
      "provenance": [],
      "collapsed_sections": [],
      "authorship_tag": "ABX9TyObA0bK1PMJMNz7I9ZaZyns",
      "include_colab_link": true
    },
    "kernelspec": {
      "name": "python3",
      "display_name": "Python 3"
    },
    "language_info": {
      "name": "python"
    },
    "gpuClass": "standard"
  },
  "cells": [
    {
      "cell_type": "markdown",
      "metadata": {
        "id": "view-in-github",
        "colab_type": "text"
      },
      "source": [
        "<a href=\"https://colab.research.google.com/github/nakamura196/ndl_ocr/blob/main/omeka_classic_backup.ipynb\" target=\"_parent\"><img src=\"https://colab.research.google.com/assets/colab-badge.svg\" alt=\"Open In Colab\"/></a>"
      ]
    },
    {
      "cell_type": "markdown",
      "source": [
        "# Omeka Classicのデータをダウンロードするノートブック\n",
        "\n"
      ],
      "metadata": {
        "id": "zrMAmloTpM6A"
      }
    },
    {
      "cell_type": "code",
      "source": [
        "%cd /content/\n",
        "# !rm -rf omekas_backup"
      ],
      "metadata": {
        "id": "ubbemO4spYVo"
      },
      "execution_count": null,
      "outputs": []
    },
    {
      "cell_type": "markdown",
      "source": [
        "## ソースコードのダウンロード"
      ],
      "metadata": {
        "id": "3uqtVAlGqgWF"
      }
    },
    {
      "cell_type": "code",
      "execution_count": null,
      "metadata": {
        "id": "LfQQctiCnCrq"
      },
      "outputs": [],
      "source": [
        "!git clone https://github.com/nakamura196/omekac_backup.git"
      ]
    },
    {
      "cell_type": "markdown",
      "source": [
        "## 関連ライブラリのダウンロード"
      ],
      "metadata": {
        "id": "qFvirCHAqlvK"
      }
    },
    {
      "cell_type": "code",
      "source": [
        "%cd /content/omekac_backup\n",
        "!pip install -r requirements.txt"
      ],
      "metadata": {
        "id": "blOz_ULMneWQ"
      },
      "execution_count": null,
      "outputs": []
    },
    {
      "cell_type": "markdown",
      "source": [
        "## 環境変数のコピー\n",
        "\n",
        "本チュートリアルでは、リポジトリに同梱済みのsampleファイルを使用します。sampleファイルでは、以下のOmeka Classicのサイトを対象にします。\n",
        "\n",
        "https://jinmoncom2017.omeka.net/\n",
        "\n",
        "\n",
        "必要に応じて、`.env`ファイルの内容を修正してください。以下の`README.md`も参考してください。\n",
        "\n",
        "https://github.com/nakamura196/omekac_backup"
      ],
      "metadata": {
        "id": "CpE21VQ7qrhK"
      }
    },
    {
      "cell_type": "code",
      "source": [
        "!cp .env.sample .env"
      ],
      "metadata": {
        "id": "OyhPq2FMpjb3"
      },
      "execution_count": null,
      "outputs": []
    },
    {
      "cell_type": "markdown",
      "source": [
        "## スクリプトの実行"
      ],
      "metadata": {
        "id": "um9sg2mtqX7U"
      }
    },
    {
      "cell_type": "code",
      "source": [
        "%cd /content/omekac_backup/src\n",
        "!sh main.sh"
      ],
      "metadata": {
        "id": "J2tPnXVXnYua"
      },
      "execution_count": null,
      "outputs": []
    },
    {
      "cell_type": "markdown",
      "source": [
        "## 後処理\n",
        "\n",
        "以下のフォルダ内のデータを保存してください。\n",
        "- /content/omekac_backup/docs"
      ],
      "metadata": {
        "id": "aTOMwof3n_hf"
      }
    }
  ]
}