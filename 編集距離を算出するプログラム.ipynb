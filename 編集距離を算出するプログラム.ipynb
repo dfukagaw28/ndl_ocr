{
  "nbformat": 4,
  "nbformat_minor": 0,
  "metadata": {
    "colab": {
      "private_outputs": true,
      "provenance": [],
      "authorship_tag": "ABX9TyNA8W7tpZBGpy3ynedJ6JoN",
      "include_colab_link": true
    },
    "kernelspec": {
      "name": "python3",
      "display_name": "Python 3"
    },
    "language_info": {
      "name": "python"
    },
    "gpuClass": "standard"
  },
  "cells": [
    {
      "cell_type": "markdown",
      "metadata": {
        "id": "view-in-github",
        "colab_type": "text"
      },
      "source": [
        "<a href=\"https://colab.research.google.com/github/nakamura196/ndl_ocr/blob/main/%E7%B7%A8%E9%9B%86%E8%B7%9D%E9%9B%A2%E3%82%92%E7%AE%97%E5%87%BA%E3%81%99%E3%82%8B%E3%83%97%E3%83%AD%E3%82%B0%E3%83%A9%E3%83%A0.ipynb\" target=\"_parent\"><img src=\"https://colab.research.google.com/assets/colab-badge.svg\" alt=\"Open In Colab\"/></a>"
      ]
    },
    {
      "cell_type": "markdown",
      "source": [
        "# app要素を含むTEI/XMLファイルに対して、編集距離を算出するプログラム"
      ],
      "metadata": {
        "id": "tLCLDs9ejmK3"
      }
    },
    {
      "cell_type": "markdown",
      "source": [
        "<br/><br/>\n",
        "\n",
        "## セットアップ"
      ],
      "metadata": {
        "id": "Xs-zjQh7jii2"
      }
    },
    {
      "cell_type": "code",
      "execution_count": null,
      "metadata": {
        "cellView": "form",
        "id": "CbFgksyMf-D_"
      },
      "outputs": [],
      "source": [
        "#@title\n",
        "\n",
        "!pip install koui\n",
        "!pip install levenshtein\n",
        "from koui.api import KouiAPIClient\n",
        "from google.colab import files"
      ]
    },
    {
      "cell_type": "markdown",
      "source": [
        "<br/><br/>\n",
        "\n",
        "## 実行\n",
        "\n",
        "以下の再生ボタンをクリックして、実行ボタンを押してください。"
      ],
      "metadata": {
        "id": "Eh8mw3yKjkit"
      }
    },
    {
      "cell_type": "code",
      "source": [
        "#@title\n",
        "\n",
        "uploaded = files.upload()\n",
        "input_file = next(iter(uploaded))\n",
        "res = KouiAPIClient.compare(input_file)\n",
        "KouiAPIClient.saveAsExcel(res, input_file + \".xlsx\")\n",
        "\n",
        "df = KouiAPIClient.convertJson2Df(res)\n",
        "\n",
        "!echo \n",
        "!echo 以下にExcelファイルを格納しました。\n",
        "!echo {input_file + \".xlsx\"}\n",
        "!echo \n",
        "\n",
        "!rm {input_file}\n",
        "\n",
        "df"
      ],
      "metadata": {
        "id": "A1v4z_B3jYY9",
        "cellView": "form"
      },
      "execution_count": null,
      "outputs": []
    }
  ]
}