{
  "nbformat": 4,
  "nbformat_minor": 0,
  "metadata": {
    "colab": {
      "provenance": [],
      "private_outputs": true,
      "authorship_tag": "ABX9TyMrhCweY7B4MDxiKlJnSbiP",
      "include_colab_link": true
    },
    "kernelspec": {
      "name": "python3",
      "display_name": "Python 3"
    },
    "language_info": {
      "name": "python"
    },
    "gpuClass": "standard"
  },
  "cells": [
    {
      "cell_type": "markdown",
      "metadata": {
        "id": "view-in-github",
        "colab_type": "text"
      },
      "source": [
        "<a href=\"https://colab.research.google.com/github/nakamura196/ndl_ocr/blob/main/tei_excel_tools.ipynb\" target=\"_parent\"><img src=\"https://colab.research.google.com/assets/colab-badge.svg\" alt=\"Open In Colab\"/></a>"
      ]
    },
    {
      "cell_type": "code",
      "execution_count": null,
      "metadata": {
        "id": "4-hFBlq_fuvT",
        "cellView": "form"
      },
      "outputs": [],
      "source": [
        "#@title セットアップ\n",
        "!pip install -q tei-excel-tools\n",
        "\n",
        "from google.colab import files\n",
        "from tei_excel_tools.core import Client"
      ]
    },
    {
      "cell_type": "code",
      "source": [
        "#@title 変換\n",
        "uploaded = files.upload()\n",
        "input_path = next(iter(uploaded))\n",
        "output_path = \"output.xml\"\n",
        "\n",
        "xml_string = Client.convertExcel(input_path)\n",
        "Client.save(xml_string, output_path)\n",
        "\n",
        "files.download(output_path)"
      ],
      "metadata": {
        "id": "7PutwwtCr5Af",
        "cellView": "form"
      },
      "execution_count": null,
      "outputs": []
    }
  ]
}