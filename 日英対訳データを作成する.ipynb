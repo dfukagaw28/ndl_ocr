{
  "nbformat": 4,
  "nbformat_minor": 0,
  "metadata": {
    "colab": {
      "provenance": [],
      "authorship_tag": "ABX9TyPKjwyWHgD2XbTZwt88Z+b2",
      "include_colab_link": true
    },
    "kernelspec": {
      "name": "python3",
      "display_name": "Python 3"
    },
    "language_info": {
      "name": "python"
    }
  },
  "cells": [
    {
      "cell_type": "markdown",
      "metadata": {
        "id": "view-in-github",
        "colab_type": "text"
      },
      "source": [
        "<a href=\"https://colab.research.google.com/github/nakamura196/ndl_ocr/blob/main/%E6%97%A5%E8%8B%B1%E5%AF%BE%E8%A8%B3%E3%83%87%E3%83%BC%E3%82%BF%E3%82%92%E4%BD%9C%E6%88%90%E3%81%99%E3%82%8B.ipynb\" target=\"_parent\"><img src=\"https://colab.research.google.com/assets/colab-badge.svg\" alt=\"Open In Colab\"/></a>"
      ]
    },
    {
      "cell_type": "markdown",
      "source": [
        "# ダウンロード"
      ],
      "metadata": {
        "id": "Egm1L1rT0R28"
      }
    },
    {
      "cell_type": "code",
      "execution_count": 1,
      "metadata": {
        "id": "4l0yJufZ0A74"
      },
      "outputs": [],
      "source": [
        "import json\n",
        "import urllib.parse\n",
        "import requests\n",
        "import time\n",
        "\n",
        "def main(target, output_file_path, debug=False):\n",
        "\n",
        "    unit = 1000\n",
        "\n",
        "    endpoint = \"https://jpsearch.go.jp/rdf/sparql/\" if target == \"js\" else \"https://ld.cultural.jp/sparql\"\n",
        "\n",
        "    output_file_path = f\"{output_file_path}_{target}.json\"\n",
        "\n",
        "    page = 0\n",
        "    data = {}\n",
        "\n",
        "    start_all = time.time()\n",
        "\n",
        "    try:\n",
        "        while 1:\n",
        "            start = time.time()\n",
        "\n",
        "            q = f\"\"\"PREFIX jps: <https://jpsearch.go.jp/term/property#>\n",
        "        PREFIX schema: <http://schema.org/>\n",
        "        PREFIX chname: <https://jpsearch.go.jp/entity/chname/>\n",
        "        SELECT DISTINCT ?cho ?label ?name WHERE {{\n",
        "            ?cho rdfs:label ?label;\n",
        "                schema:name ?name . \n",
        "            MINUS {{ ?cho jps:sourceInfo ?s . }}\n",
        "            filter (lang(?name) = \"en\")  .\n",
        "            filter (?label != str(?name)) . \n",
        "        }} LIMIT {unit} OFFSET {unit * page}\"\"\"\n",
        "\n",
        "            url = endpoint+\"?query=\"+urllib.parse.quote(q)+\"&format=json&output=json&results=json\"\n",
        "\n",
        "            if debug and page == 0:\n",
        "                print(\"url\", url)\n",
        "\n",
        "            results = requests.get(url).json()\n",
        "            if len(results[\"results\"][\"bindings\"]) == 0:\n",
        "                break\n",
        "\n",
        "            page += 1\n",
        "\n",
        "            if debug:\n",
        "                print(\"page\", page, \"経過時間\", time.time() - start)\n",
        "\n",
        "            for i in range(len(results[\"results\"][\"bindings\"])):\n",
        "                \n",
        "                obj = results[\"results\"][\"bindings\"][i]\n",
        "\n",
        "                label = obj[\"label\"][\"value\"].strip()\n",
        "                name = obj[\"name\"][\"value\"].strip()\n",
        "\n",
        "                if label == name:\n",
        "                    # continue\n",
        "                    pass\n",
        "\n",
        "                data[label] = name\n",
        "\n",
        "                # cho = obj[\"cho\"][\"value\"]\n",
        "\n",
        "                # print(cho, label, name)\n",
        "\n",
        "            if page > 5:\n",
        "                # break\n",
        "                pass\n",
        "\n",
        "    except Exception as e:\n",
        "        with open(f\"{output_file_path}_{page}.json\", 'w') as f:\n",
        "            json.dump(data, f, ensure_ascii=False, indent=4,\n",
        "            sort_keys=True, separators=(',', ': '))\n",
        "\n",
        "    with open(output_file_path, 'w') as f:\n",
        "        json.dump(data, f, ensure_ascii=False, indent=4,\n",
        "        sort_keys=True, separators=(',', ': '))\n",
        "\n",
        "    print(\"経過時間のtotal\", time.time() - start_all)"
      ]
    },
    {
      "cell_type": "code",
      "source": [
        "# パラメータ\n",
        "\n",
        "debug = True\n",
        "# debug = False\n",
        "\n",
        "output_file_path = \"lang.json\"\n",
        "\n",
        "main(\"js\", output_file_path, True)"
      ],
      "metadata": {
        "colab": {
          "base_uri": "https://localhost:8080/"
        },
        "id": "G5Em9BBl0I1u",
        "outputId": "bded1471-7b01-4c10-b339-23673ad8affb"
      },
      "execution_count": null,
      "outputs": [
        {
          "output_type": "stream",
          "name": "stdout",
          "text": [
            "url https://jpsearch.go.jp/rdf/sparql/?query=PREFIX%20jps%3A%20%3Chttps%3A//jpsearch.go.jp/term/property%23%3E%0A%20%20%20%20%20%20%20%20PREFIX%20schema%3A%20%3Chttp%3A//schema.org/%3E%0A%20%20%20%20%20%20%20%20PREFIX%20chname%3A%20%3Chttps%3A//jpsearch.go.jp/entity/chname/%3E%0A%20%20%20%20%20%20%20%20SELECT%20DISTINCT%20%3Fcho%20%3Flabel%20%3Fname%20WHERE%20%7B%0A%20%20%20%20%20%20%20%20%20%20%20%20%3Fcho%20rdfs%3Alabel%20%3Flabel%3B%0A%20%20%20%20%20%20%20%20%20%20%20%20%20%20%20%20schema%3Aname%20%3Fname%20.%20%0A%20%20%20%20%20%20%20%20%20%20%20%20MINUS%20%7B%20%3Fcho%20jps%3AsourceInfo%20%3Fs%20.%20%7D%0A%20%20%20%20%20%20%20%20%20%20%20%20filter%20%28lang%28%3Fname%29%20%3D%20%22en%22%29%20%20.%0A%20%20%20%20%20%20%20%20%20%20%20%20filter%20%28%3Flabel%20%21%3D%20str%28%3Fname%29%29%20.%20%0A%20%20%20%20%20%20%20%20%7D%20LIMIT%201000%20OFFSET%200&format=json&output=json&results=json\n",
            "page 1 経過時間 1.7499938011169434\n",
            "page 2 経過時間 2.0290324687957764\n",
            "page 3 経過時間 0.616133451461792\n",
            "page 4 経過時間 1.8388924598693848\n",
            "page 5 経過時間 0.7672481536865234\n",
            "page 6 経過時間 0.7633540630340576\n",
            "page 7 経過時間 1.8809137344360352\n",
            "page 8 経過時間 0.8619599342346191\n",
            "page 9 経過時間 2.0158796310424805\n",
            "page 10 経過時間 1.0554513931274414\n",
            "page 11 経過時間 1.073458194732666\n",
            "page 12 経過時間 1.0410699844360352\n",
            "page 13 経過時間 1.8890035152435303\n",
            "page 14 経過時間 1.5499341487884521\n",
            "page 15 経過時間 1.4728477001190186\n",
            "page 16 経過時間 1.6641738414764404\n",
            "page 17 経過時間 2.571488618850708\n",
            "page 18 経過時間 2.8105010986328125\n",
            "page 19 経過時間 2.769428253173828\n",
            "page 20 経過時間 2.0207762718200684\n",
            "page 21 経過時間 2.8981423377990723\n",
            "page 22 経過時間 2.2167136669158936\n",
            "page 23 経過時間 3.2461025714874268\n",
            "page 24 経過時間 3.3141677379608154\n",
            "page 25 経過時間 2.509573459625244\n",
            "page 26 経過時間 2.493192434310913\n",
            "page 27 経過時間 3.4830195903778076\n",
            "page 28 経過時間 2.5988576412200928\n",
            "page 29 経過時間 3.607147693634033\n",
            "page 30 経過時間 2.821570634841919\n",
            "page 31 経過時間 3.762627601623535\n",
            "page 32 経過時間 3.896066665649414\n",
            "page 33 経過時間 4.024742841720581\n",
            "page 34 経過時間 4.036719799041748\n",
            "page 35 経過時間 3.2493958473205566\n",
            "page 36 経過時間 3.2629871368408203\n",
            "page 37 経過時間 4.314851522445679\n",
            "page 38 経過時間 4.474511384963989\n",
            "page 39 経過時間 4.6398093700408936\n",
            "page 40 経過時間 3.92183518409729\n",
            "page 41 経過時間 4.010619401931763\n",
            "page 42 経過時間 5.3291826248168945\n",
            "page 43 経過時間 5.5514585971832275\n",
            "page 44 経過時間 5.828200340270996\n",
            "page 45 経過時間 5.7859790325164795\n",
            "page 46 経過時間 5.097110271453857\n",
            "page 47 経過時間 5.977607727050781\n",
            "page 48 経過時間 5.289627313613892\n",
            "page 49 経過時間 6.2853333950042725\n",
            "page 50 経過時間 6.477786302566528\n",
            "page 51 経過時間 6.692369222640991\n",
            "page 52 経過時間 6.945865869522095\n",
            "page 53 経過時間 7.098728895187378\n",
            "page 54 経過時間 8.490695238113403\n",
            "page 55 経過時間 8.437475204467773\n",
            "page 56 経過時間 9.669395208358765\n",
            "page 57 経過時間 10.044073104858398\n",
            "page 58 経過時間 10.89641809463501\n",
            "page 59 経過時間 11.888172388076782\n",
            "page 60 経過時間 12.13478398323059\n",
            "page 61 経過時間 12.271680116653442\n",
            "page 62 経過時間 12.359459638595581\n",
            "page 63 経過時間 12.320350646972656\n",
            "page 64 経過時間 12.443090200424194\n",
            "page 65 経過時間 12.58011245727539\n",
            "page 66 経過時間 12.649454593658447\n"
          ]
        }
      ]
    }
  ]
}