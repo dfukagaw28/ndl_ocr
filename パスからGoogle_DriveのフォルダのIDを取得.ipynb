{
  "nbformat": 4,
  "nbformat_minor": 0,
  "metadata": {
    "colab": {
      "name": "パスからGoogle DriveのフォルダのIDを取得.ipynb",
      "private_outputs": true,
      "provenance": [],
      "authorship_tag": "ABX9TyPZai+kn9oLDlwnQ0LN8itG",
      "include_colab_link": true
    },
    "kernelspec": {
      "name": "python3",
      "display_name": "Python 3"
    },
    "language_info": {
      "name": "python"
    },
    "gpuClass": "standard"
  },
  "cells": [
    {
      "cell_type": "markdown",
      "metadata": {
        "id": "view-in-github",
        "colab_type": "text"
      },
      "source": [
        "<a href=\"https://colab.research.google.com/github/nakamura196/ndl_ocr/blob/main/%E3%83%91%E3%82%B9%E3%81%8B%E3%82%89Google_Drive%E3%81%AE%E3%83%95%E3%82%A9%E3%83%AB%E3%83%80%E3%81%AEID%E3%82%92%E5%8F%96%E5%BE%97.ipynb\" target=\"_parent\"><img src=\"https://colab.research.google.com/assets/colab-badge.svg\" alt=\"Open In Colab\"/></a>"
      ]
    },
    {
      "cell_type": "markdown",
      "source": [
        "# Google Colabを使って、パスからGoogle DriveのフォルダのIDを取得する"
      ],
      "metadata": {
        "id": "dsIiKt15yFk9"
      }
    },
    {
      "cell_type": "code",
      "execution_count": null,
      "metadata": {
        "id": "Er-lH48lxp-j"
      },
      "outputs": [],
      "source": [
        "# ドライブのマウント\n",
        "from google.colab import drive\n",
        "drive.mount('/content/drive')"
      ]
    },
    {
      "cell_type": "code",
      "source": [
        "# koraのインストール\n",
        "!pip install kora\n",
        "from kora.xattr import get_id"
      ],
      "metadata": {
        "id": "A19Vb9I9xwk7"
      },
      "execution_count": null,
      "outputs": []
    },
    {
      "cell_type": "markdown",
      "source": [
        "## マイドライブへのidを取得する"
      ],
      "metadata": {
        "id": "tNcV8jC5x1hM"
      }
    },
    {
      "cell_type": "code",
      "source": [
        "path = \"/content/drive/MyDrive\"\n",
        "fid = get_id(path)\n",
        "print(\"https://drive.google.com/drive/u/1/folders/{}\".format(fid))"
      ],
      "metadata": {
        "id": "uywj5JrYx5RW"
      },
      "execution_count": null,
      "outputs": []
    }
  ]
}