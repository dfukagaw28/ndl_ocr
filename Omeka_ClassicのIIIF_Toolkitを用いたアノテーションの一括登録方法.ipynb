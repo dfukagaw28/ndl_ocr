{
  "nbformat": 4,
  "nbformat_minor": 0,
  "metadata": {
    "colab": {
      "name": "Omeka ClassicのIIIF Toolkitを用いたアノテーションの一括登録方法.ipynb",
      "provenance": [],
      "private_outputs": true,
      "collapsed_sections": [],
      "toc_visible": true,
      "authorship_tag": "ABX9TyO5CzSoJt2hygU4boR1/J7H",
      "include_colab_link": true
    },
    "kernelspec": {
      "name": "python3",
      "display_name": "Python 3"
    },
    "language_info": {
      "name": "python"
    }
  },
  "cells": [
    {
      "cell_type": "markdown",
      "metadata": {
        "id": "view-in-github",
        "colab_type": "text"
      },
      "source": [
        "<a href=\"https://colab.research.google.com/github/nakamura196/ndl_ocr/blob/main/Omeka_Classic%E3%81%AEIIIF_Toolkit%E3%82%92%E7%94%A8%E3%81%84%E3%81%9F%E3%82%A2%E3%83%8E%E3%83%86%E3%83%BC%E3%82%B7%E3%83%A7%E3%83%B3%E3%81%AE%E4%B8%80%E6%8B%AC%E7%99%BB%E9%8C%B2%E6%96%B9%E6%B3%95.ipynb\" target=\"_parent\"><img src=\"https://colab.research.google.com/assets/colab-badge.svg\" alt=\"Open In Colab\"/></a>"
      ]
    },
    {
      "cell_type": "markdown",
      "source": [
        "# Omeka ClassicのIIIF Toolkitを用いたアノテーションの一括登録方法\n",
        "\n",
        "以下の記事も参考にしてください。\n",
        "\n",
        "https://zenn.dev/nakamura196/articles/042d4c8e960171"
      ],
      "metadata": {
        "id": "FntXovOVbj32"
      }
    },
    {
      "cell_type": "markdown",
      "source": [
        "## 事前準備0\n",
        "\n",
        "Omeka ClassicのAPIの有効化、およびAPIキーの発行を行なってください。上記記事も参考にしてください。"
      ],
      "metadata": {
        "id": "4p_foGeqYkxN"
      }
    },
    {
      "cell_type": "markdown",
      "source": [
        "## 設定1"
      ],
      "metadata": {
        "id": "MGWeHCQCgGh_"
      }
    },
    {
      "cell_type": "code",
      "source": [
        "# Omeka ClassicのURL\n",
        "omeka_url = \"https://omeka.aws.ldas.jp\" # 例\n",
        "\n",
        "# APIキー\n",
        "api_key = \"XXXXXXXXXXXXXXXXXXXXXX\"\n",
        "\n",
        "# Omeka Classicにログインするためのユーザ情報\n",
        "\n",
        "# ユーザ名\n",
        "username = \"demo\" # 例\n",
        "# パスワード\n",
        "password = \"ZZZZZZZZZZZ\" # 例"
      ],
      "metadata": {
        "id": "wxvYMH5dgFyQ"
      },
      "execution_count": null,
      "outputs": []
    },
    {
      "cell_type": "markdown",
      "source": [
        "## 事前準備1\n",
        "\n",
        "アノテーションの付与対象となるIIIFマニフェストファイル（v2）をOmeka Classicに登録しておきます。登録方法については、以下の記事などを参考にしてください。\n",
        "\n",
        "https://zenn.dev/nakamura196/books/2a0aa162dcd0eb/viewer/99c318\n",
        "\n",
        "\n",
        "今回は、以下の「金沢貞顕書状（金沢文庫所蔵）」を一部改変して利用します。\n",
        "\n",
        "https://www.kanzaki.com/works/2016/pub/image-annotator?u=https%3A%2F%2Fgist.githubusercontent.com%2Fnakamura196%2Fc83367eb3a415bad3195b143125821eb%2Fraw%2Fe2a5b45f5fed0d84374837075ac62702c5318c08%2Fmanifest.json\n",
        "\n",
        "（公開元）国宝　金沢文庫文書データベース\n",
        "\n",
        "https://kanazawabunko-db.pen-kanagawa.ed.jp/item/376"
      ],
      "metadata": {
        "id": "V2z_--jobhsb"
      }
    },
    {
      "cell_type": "markdown",
      "source": [
        "## 事前準備2\n",
        "\n",
        "登録対象とするアノテーションの一覧を含むIIIFマニフェストファイル（v3）を用意します。今回は、以下に示すアノテーションデータを含むファイルを使用します。\n",
        "\n",
        "https://www.kanzaki.com/works/2016/pub/image-annotator?u=https://gist.githubusercontent.com/nakamura196/66ca2f52efa0673355f32d3f1883efae/raw/a28bb2f8b534cf14e6499031c2f223369c8fc75d/manifest3.json\n",
        "\n",
        "注意点として、canvasのidが、「事前準備1」で用意したIIIFマニフェストファイル（v2）と対応するようにしてください。\n",
        "\n",
        "（準備の方法については、別途記述予定。）"
      ],
      "metadata": {
        "id": "OUrHzn_WecjC"
      }
    },
    {
      "cell_type": "markdown",
      "source": [
        "## 設定2\n",
        "\n",
        "事前準備に基づき、以下を設定します。"
      ],
      "metadata": {
        "id": "KggQIGcTffO6"
      }
    },
    {
      "cell_type": "code",
      "source": [
        "# 事前準備1の結果、Omeka Classicに登録されたコレクションのID\n",
        "collection_id = 1 # 例\n",
        "\n",
        "# 　事前準備2で用意した、登録対象とするアノテーションの一覧を含むIIIFマニフェストファイル\n",
        "manifest_v3_url = \"https://gist.githubusercontent.com/nakamura196/66ca2f52efa0673355f32d3f1883efae/raw/a28bb2f8b534cf14e6499031c2f223369c8fc75d/manifest3.json\" # 例"
      ],
      "metadata": {
        "id": "UWsPSYKBfmm1"
      },
      "execution_count": null,
      "outputs": []
    },
    {
      "cell_type": "markdown",
      "source": [
        "## 実行"
      ],
      "metadata": {
        "id": "hrNk28Duf1PS"
      }
    },
    {
      "cell_type": "markdown",
      "source": [
        "### omekaのitemのidと、canvas_idの対応関係の取得\n",
        "\n",
        "以下のAPIを利用します。\n",
        "\n",
        "{omeka_url}/api/items?collection={collection_id}&key={api_key}"
      ],
      "metadata": {
        "id": "R7463iRYkwiw"
      }
    },
    {
      "cell_type": "code",
      "source": [
        "import pprint\n",
        "\n",
        "base = \"{}/api/items?collection={}&key={}\".format(omeka_url, collection_id, api_key)\n",
        "\n",
        "page = 1\n",
        "\n",
        "canvas_id_map = {}\n",
        "\n",
        "while 1:\n",
        "\n",
        "  url = \"{}&page={}\".format(base, page)\n",
        "\n",
        "  df = requests.get(url).json()\n",
        "\n",
        "  if len(df) == 0:\n",
        "    break\n",
        "\n",
        "  page += 1\n",
        "\n",
        "  for item in df:\n",
        "    item_id = item[\"id\"]\n",
        "\n",
        "    element_texts = item[\"element_texts\"]\n",
        "\n",
        "    for element_text in element_texts:\n",
        "      if element_text[\"element\"][\"name\"] == \"Original @id\":\n",
        "        canvas_id = element_text[\"text\"]\n",
        "        canvas_id_map[canvas_id] = item_id\n",
        "\n",
        "pprint.pprint(canvas_id_map)"
      ],
      "metadata": {
        "id": "LaFuKjBYXqcJ"
      },
      "execution_count": null,
      "outputs": []
    },
    {
      "cell_type": "markdown",
      "source": [
        "### アノテーション一覧の取得"
      ],
      "metadata": {
        "id": "Bfrxn0PiURvB"
      }
    },
    {
      "cell_type": "code",
      "source": [
        "df = requests.get(manifest_v3_url).json()\n",
        "\n",
        "items = df[\"items\"]\n",
        "\n",
        "annotationMap = {}\n",
        "\n",
        "for item in items:\n",
        "  canvas_id = item[\"id\"]\n",
        "  annotations = item[\"annotations\"][0][\"items\"]\n",
        "  values = []\n",
        "  for a in annotations:\n",
        "    values.append({\n",
        "        \"label\": \"item\",\n",
        "        \"xywh\": a[\"target\"].split(\"=\")[1]\n",
        "        })\n",
        "  annotationMap[canvas_id] = values\n",
        "\n",
        "pprint.pprint(annotationMap)"
      ],
      "metadata": {
        "id": "zchzScR0UR59"
      },
      "execution_count": null,
      "outputs": []
    },
    {
      "cell_type": "markdown",
      "source": [
        "## 登録"
      ],
      "metadata": {
        "id": "tIZZCooBWEjk"
      }
    },
    {
      "cell_type": "markdown",
      "source": [
        "### ログイン"
      ],
      "metadata": {
        "id": "omPuxfDXjtSb"
      }
    },
    {
      "cell_type": "code",
      "source": [
        "from bs4 import BeautifulSoup\n",
        "import requests\n",
        "import time\n",
        "\n",
        "payload = {\n",
        "    'username': username,\n",
        "    'password': password\n",
        "}\n",
        "\n",
        "# authenticity_tokenの取得\n",
        "s = requests.Session()\n",
        "s.get(omeka_url)\n",
        "\n",
        "# ログイン\n",
        "r = s.post('{}/admin/users/login'.format(omeka_url), data=payload)\n",
        "\n",
        "print(r.text)"
      ],
      "metadata": {
        "id": "ZGYQExHYRuNX"
      },
      "execution_count": null,
      "outputs": []
    },
    {
      "cell_type": "markdown",
      "source": [
        "### アノテーションの追加\n",
        "\n",
        "以下を参考にしています。\n",
        "\n",
        "https://github.com/utlib/IiifItems/wiki/The-Mirador-Omeka-Annotator-Endpoint\n",
        "\n",
        "tagやpublic（公開・非公開設定）などは適宜変更してください。"
      ],
      "metadata": {
        "id": "PeJPyC4Njvml"
      }
    },
    {
      "cell_type": "code",
      "source": [
        "import json\n",
        "\n",
        "tag = \"字形\"\n",
        "chars = \"item\"\n",
        "public = True\n",
        "featured = False\n",
        "\n",
        "\n",
        "for canvas_id in annotationMap:\n",
        "  item_id = canvas_id_map[canvas_id]\n",
        "  url = \"{}/admin/iiif-items/annotator/items/{}\".format(omeka_url, item_id)\n",
        "  for a in annotationMap[canvas_id]:\n",
        "    xywh = a[\"xywh\"]\n",
        "    x, y, w, h = xywh.split(\",\")\n",
        "\n",
        "    item = {\n",
        "      \"@context\": \"http://iiif.io/api/presentation/2/context.json\",\n",
        "      \"@type\": \"oa:Annotation\",\n",
        "      \"motivation\": [\n",
        "        \"oa:tagging\",\n",
        "        \"oa:commenting\"\n",
        "      ],\n",
        "      \"resource\": [\n",
        "        {\n",
        "          \"@type\": \"oa:Tag\",\n",
        "          \"chars\": tag\n",
        "        },\n",
        "        {\n",
        "          \"@type\": \"dctypes:Text\",\n",
        "          \"format\": \"text/html\",\n",
        "          \"chars\": \"<p>{}</p>\".format(chars)\n",
        "        }\n",
        "      ],\n",
        "      \"_iiifitems_access\": {\n",
        "        \"public\": public,\n",
        "        \"featured\": featured\n",
        "      },\n",
        "      \"on\": [\n",
        "        {\n",
        "          \"@type\": \"oa:SpecificResource\",\n",
        "          \"full\": canvas_id,\n",
        "          \"selector\": {\n",
        "            \"@type\": \"oa:Choice\",\n",
        "            \"default\": {\n",
        "              \"@type\": \"oa:FragmentSelector\",\n",
        "              \"value\": \"xywh={}\".format(xywh)\n",
        "            },\n",
        "            \"item\": {\n",
        "              \"@type\": \"oa:SvgSelector\",\n",
        "              \"value\": '''<svg xmlns='http://www.w3.org/2000/svg'><path xmlns=\\\"http://www.w3.org/2000/svg\\\" d=\\\"M{},{}h{}v{}h-{}v-{}z\\\" id=\\\"rectangle_{}\\\" fill-opacity=\\\"0\\\" fill=\\\"#00bfff\\\" fill-rule=\\\"nonzero\\\" stroke=\\\"#00bfff\\\" stroke-width=\\\"1\\\" stroke-linecap=\\\"butt\\\" stroke-linejoin=\\\"miter\\\" stroke-miterlimit=\\\"10\\\" stroke-dasharray=\\\"\\\" stroke-dashoffset=\\\"0\\\" font-family=\\\"none\\\" font-weight=\\\"none\\\" font-size=\\\"none\\\" text-anchor=\\\"none\\\" style=\\\"mix-blend-mode: normal\\\"/></svg>'''.format(x, y, w, h, w, h, \"abc\")\n",
        "            }\n",
        "          },\n",
        "          \"within\": {\n",
        "            \"@id\": \"{}/oa/items/{}/manifest.json\".format(base, item_id),\n",
        "            \"@type\": \"sc:Manifest\"\n",
        "          }\n",
        "        }\n",
        "      ]\n",
        "    }\n",
        "\n",
        "    data = json.dumps(item)\n",
        "    res = s.post(url, data=data)"
      ],
      "metadata": {
        "id": "M50xh-R6IuwI"
      },
      "execution_count": null,
      "outputs": []
    }
  ]
}