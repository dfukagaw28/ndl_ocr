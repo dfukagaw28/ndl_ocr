{
  "nbformat": 4,
  "nbformat_minor": 0,
  "metadata": {
    "colab": {
      "provenance": [],
      "collapsed_sections": [],
      "authorship_tag": "ABX9TyOZpcqEkHpm9BO0qZEixBcA",
      "include_colab_link": true
    },
    "kernelspec": {
      "name": "python3",
      "display_name": "Python 3"
    },
    "language_info": {
      "name": "python"
    }
  },
  "cells": [
    {
      "cell_type": "markdown",
      "metadata": {
        "id": "view-in-github",
        "colab_type": "text"
      },
      "source": [
        "<a href=\"https://colab.research.google.com/github/nakamura196/ndl_ocr/blob/main/python_docx%E3%82%92%E7%94%A8%E3%81%84%E3%81%9F%E4%B8%A1%E5%81%B4%E3%83%AB%E3%83%93.ipynb\" target=\"_parent\"><img src=\"https://colab.research.google.com/assets/colab-badge.svg\" alt=\"Open In Colab\"/></a>"
      ]
    },
    {
      "cell_type": "markdown",
      "source": [
        "# python-docxを用いた両側ルビ\n",
        "\n"
      ],
      "metadata": {
        "id": "7ZRNYLLdrwzL"
      }
    },
    {
      "cell_type": "code",
      "source": [
        "!pip install python-docx"
      ],
      "metadata": {
        "colab": {
          "base_uri": "https://localhost:8080/"
        },
        "id": "sn9Iop5NpPas",
        "outputId": "0eed282b-d27c-480d-cda3-78a7e7e6a2ea"
      },
      "execution_count": 1,
      "outputs": [
        {
          "output_type": "stream",
          "name": "stdout",
          "text": [
            "Looking in indexes: https://pypi.org/simple, https://us-python.pkg.dev/colab-wheels/public/simple/\n",
            "Collecting python-docx\n",
            "  Downloading python-docx-0.8.11.tar.gz (5.6 MB)\n",
            "\u001b[K     |████████████████████████████████| 5.6 MB 13.6 MB/s \n",
            "\u001b[?25hRequirement already satisfied: lxml>=2.3.2 in /usr/local/lib/python3.7/dist-packages (from python-docx) (4.9.1)\n",
            "Building wheels for collected packages: python-docx\n",
            "  Building wheel for python-docx (setup.py) ... \u001b[?25l\u001b[?25hdone\n",
            "  Created wheel for python-docx: filename=python_docx-0.8.11-py3-none-any.whl size=184507 sha256=43cd6f42ae57824a690996d08949736dfa7e7f836d35074b181b191d3dd62a4f\n",
            "  Stored in directory: /root/.cache/pip/wheels/f6/6f/b9/d798122a8b55b74ad30b5f52b01482169b445fbb84a11797a6\n",
            "Successfully built python-docx\n",
            "Installing collected packages: python-docx\n",
            "Successfully installed python-docx-0.8.11\n"
          ]
        }
      ]
    },
    {
      "cell_type": "code",
      "execution_count": 2,
      "metadata": {
        "id": "RAaMRdPgpJhr"
      },
      "outputs": [],
      "source": [
        "from bs4 import BeautifulSoup\n",
        "import docx\n",
        "from docx.oxml import OxmlElement\n",
        "\n",
        "def convert(document, soup, parent):\n",
        "    '''\n",
        "    変換メソッド\n",
        "    '''\n",
        "\n",
        "    name = soup.name\n",
        "\n",
        "    if name == None:\n",
        "        r = OxmlElement('w:r')\n",
        "        e = OxmlElement('w:instrText')\n",
        "\n",
        "        text = str(soup).strip()\n",
        "\n",
        "        if text == \"\":\n",
        "            return\n",
        "        \n",
        "        e.text = text\n",
        "        r.append(e)\n",
        "        parent.append(r)\n",
        "\n",
        "    elif name == \"ruby\":\n",
        "        rb = soup.findChildren(\"rb\", recursive=False)[0]\n",
        "        rt = soup.findChildren(\"rt\", recursive=False)[0]\n",
        "\n",
        "        place = rt.get(\"place\")\n",
        "        position = \"up\" if place in [\"right\", \"above\"] else \"do\"\n",
        "\n",
        "        # w:r\n",
        "        r = OxmlElement('w:r')\n",
        "        e = OxmlElement('w:fldChar')\n",
        "        r.append(e)\n",
        "        e.set(docx.oxml.shared.qn('w:fldCharType'), 'begin')\n",
        "        parent.append(r)\n",
        "\n",
        "        # w:r\n",
        "        r = OxmlElement('w:r')\n",
        "        e = OxmlElement('w:instrText')\n",
        "        e.text = f'EQ \\\\o(\\\\s\\\\{position} 10('\n",
        "        r.append(e)\n",
        "        parent.append(r)\n",
        "\n",
        "        # w:r\n",
        "        r = OxmlElement('w:r')\n",
        "\n",
        "        e = OxmlElement('w:rPr')\n",
        "        e2 = OxmlElement('w:sz')\n",
        "        e2.set(docx.oxml.shared.qn('w:val'), str(11))\n",
        "        e.append(e2)\n",
        "        r.append(e)\n",
        "\n",
        "        e = OxmlElement('w:instrText')\n",
        "        e.text = rt.text.strip()\n",
        "        r.append(e)\n",
        "        parent.append(r)\n",
        "\n",
        "        # w:r\n",
        "        r = OxmlElement('w:r')\n",
        "        e = OxmlElement('w:instrText')\n",
        "        e.text = \"),\"\n",
        "        r.append(e)\n",
        "        parent.append(r)\n",
        "\n",
        "        es = rb.children\n",
        "        for e in es:\n",
        "            convert(document, e, parent)\n",
        "\n",
        "        # w:r\n",
        "        r = OxmlElement('w:r')\n",
        "        e = OxmlElement('w:instrText')\n",
        "        e.text = ')'\n",
        "        r.append(e)\n",
        "        parent.append(r)\n",
        "\n",
        "        # w:r\n",
        "        r = OxmlElement('w:r')\n",
        "        e = OxmlElement('w:fldChar')\n",
        "        e.set(docx.oxml.shared.qn('w:fldCharType'), 'end')\n",
        "        r.append(e)\n",
        "        parent.append(r)\n",
        "\n",
        "    elif name == \"p\":\n",
        "        p = document.add_paragraph()\n",
        "        es = soup.children\n",
        "        for e in es:\n",
        "            convert(document, e, p._p)\n",
        "\n",
        "    else:\n",
        "        es = soup.children\n",
        "        for e in es:\n",
        "            convert(document, e, parent)"
      ]
    },
    {
      "cell_type": "code",
      "source": [
        "html = '''<body>\n",
        "<p>\n",
        " 私は\n",
        " <ruby>\n",
        "  <rb>\n",
        "   <ruby>\n",
        "    <rb>打</rb>\n",
        "    <rt place=\"right\">ダ</rt>\n",
        "   </ruby>\n",
        "   <ruby>\n",
        "    <rb>球</rb>\n",
        "    <rt place=\"right\">キウ</rt>\n",
        "   </ruby>\n",
        "     場\n",
        "  </rb>\n",
        "  <rt place=\"left\">ビリヤード</rt>\n",
        " </ruby>\n",
        " に行きました。\n",
        "</p>\n",
        "<p>\n",
        " <ruby>\n",
        "  <rb>入学試験</rb>\n",
        "  <rt place=\"above\">にゅうがくしけん</rt>\n",
        " </ruby>\n",
        " があります。\n",
        "</p>\n",
        "</body>'''\n",
        "\n",
        "soup = BeautifulSoup(html, 'html.parser')\n",
        "document = docx.Document()\n",
        "\n",
        "convert(document, soup, None)\n",
        "document.save('test.docx')"
      ],
      "metadata": {
        "id": "sd5zt1ZKpUuU"
      },
      "execution_count": 3,
      "outputs": []
    },
    {
      "cell_type": "code",
      "source": [
        "from google.colab import files\n",
        "files.download('test.docx')"
      ],
      "metadata": {
        "id": "r_5vQTVZsocV",
        "outputId": "260be6b3-4bf9-4fb2-dd4b-d25c705f372c",
        "colab": {
          "base_uri": "https://localhost:8080/",
          "height": 17
        }
      },
      "execution_count": 4,
      "outputs": [
        {
          "output_type": "display_data",
          "data": {
            "text/plain": [
              "<IPython.core.display.Javascript object>"
            ],
            "application/javascript": [
              "\n",
              "    async function download(id, filename, size) {\n",
              "      if (!google.colab.kernel.accessAllowed) {\n",
              "        return;\n",
              "      }\n",
              "      const div = document.createElement('div');\n",
              "      const label = document.createElement('label');\n",
              "      label.textContent = `Downloading \"${filename}\": `;\n",
              "      div.appendChild(label);\n",
              "      const progress = document.createElement('progress');\n",
              "      progress.max = size;\n",
              "      div.appendChild(progress);\n",
              "      document.body.appendChild(div);\n",
              "\n",
              "      const buffers = [];\n",
              "      let downloaded = 0;\n",
              "\n",
              "      const channel = await google.colab.kernel.comms.open(id);\n",
              "      // Send a message to notify the kernel that we're ready.\n",
              "      channel.send({})\n",
              "\n",
              "      for await (const message of channel.messages) {\n",
              "        // Send a message to notify the kernel that we're ready.\n",
              "        channel.send({})\n",
              "        if (message.buffers) {\n",
              "          for (const buffer of message.buffers) {\n",
              "            buffers.push(buffer);\n",
              "            downloaded += buffer.byteLength;\n",
              "            progress.value = downloaded;\n",
              "          }\n",
              "        }\n",
              "      }\n",
              "      const blob = new Blob(buffers, {type: 'application/binary'});\n",
              "      const a = document.createElement('a');\n",
              "      a.href = window.URL.createObjectURL(blob);\n",
              "      a.download = filename;\n",
              "      div.appendChild(a);\n",
              "      a.click();\n",
              "      div.remove();\n",
              "    }\n",
              "  "
            ]
          },
          "metadata": {}
        },
        {
          "output_type": "display_data",
          "data": {
            "text/plain": [
              "<IPython.core.display.Javascript object>"
            ],
            "application/javascript": [
              "download(\"download_eb5f023c-8852-4eb2-ab63-4debfe151b56\", \"test.docx\", 36836)"
            ]
          },
          "metadata": {}
        }
      ]
    }
  ]
}