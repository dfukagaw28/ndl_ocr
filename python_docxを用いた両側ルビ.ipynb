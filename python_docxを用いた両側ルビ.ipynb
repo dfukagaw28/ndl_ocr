{
  "nbformat": 4,
  "nbformat_minor": 0,
  "metadata": {
    "colab": {
      "provenance": [],
      "collapsed_sections": [],
      "authorship_tag": "ABX9TyMIkRcLxN8FDRPCGWI026e9",
      "include_colab_link": true
    },
    "kernelspec": {
      "name": "python3",
      "display_name": "Python 3"
    },
    "language_info": {
      "name": "python"
    }
  },
  "cells": [
    {
      "cell_type": "markdown",
      "metadata": {
        "id": "view-in-github",
        "colab_type": "text"
      },
      "source": [
        "<a href=\"https://colab.research.google.com/github/nakamura196/ndl_ocr/blob/main/python_docx%E3%82%92%E7%94%A8%E3%81%84%E3%81%9F%E4%B8%A1%E5%81%B4%E3%83%AB%E3%83%93.ipynb\" target=\"_parent\"><img src=\"https://colab.research.google.com/assets/colab-badge.svg\" alt=\"Open In Colab\"/></a>"
      ]
    },
    {
      "cell_type": "markdown",
      "source": [
        "# python-docxを用いた両側ルビ\n",
        "\n"
      ],
      "metadata": {
        "id": "7ZRNYLLdrwzL"
      }
    },
    {
      "cell_type": "code",
      "source": [
        "!pip install python-docx"
      ],
      "metadata": {
        "colab": {
          "base_uri": "https://localhost:8080/"
        },
        "id": "sn9Iop5NpPas",
        "outputId": "8f3e14d0-d7d2-45e9-fe94-6fa820f330de"
      },
      "execution_count": 24,
      "outputs": [
        {
          "output_type": "stream",
          "name": "stdout",
          "text": [
            "Looking in indexes: https://pypi.org/simple, https://us-python.pkg.dev/colab-wheels/public/simple/\n",
            "Requirement already satisfied: python-docx in /usr/local/lib/python3.7/dist-packages (0.8.11)\n",
            "Requirement already satisfied: lxml>=2.3.2 in /usr/local/lib/python3.7/dist-packages (from python-docx) (4.9.1)\n"
          ]
        }
      ]
    },
    {
      "cell_type": "code",
      "execution_count": 25,
      "metadata": {
        "id": "RAaMRdPgpJhr"
      },
      "outputs": [],
      "source": [
        "from bs4 import BeautifulSoup\n",
        "import docx\n",
        "from docx.oxml import OxmlElement\n",
        "\n",
        "def convert(document, soup, parent):\n",
        "    '''\n",
        "    変換メソッド\n",
        "    '''\n",
        "\n",
        "    name = soup.name\n",
        "\n",
        "    if name == None:\n",
        "        r = OxmlElement('w:r')\n",
        "        e = OxmlElement('w:instrText')\n",
        "\n",
        "        text = str(soup).strip()\n",
        "\n",
        "        if text == \"\":\n",
        "            return\n",
        "        \n",
        "        e.text = text\n",
        "        r.append(e)\n",
        "        parent.append(r)\n",
        "\n",
        "    elif name == \"ruby\":\n",
        "        rb = soup.findChildren(\"rb\", recursive=False)[0]\n",
        "        rt = soup.findChildren(\"rt\", recursive=False)[0]\n",
        "\n",
        "        place = rt.get(\"place\")\n",
        "        position = \"up\" if place in [\"right\", \"above\"] else \"do\"\n",
        "\n",
        "        # w:r\n",
        "        r = OxmlElement('w:r')\n",
        "        e = OxmlElement('w:fldChar')\n",
        "        r.append(e)\n",
        "        e.set(docx.oxml.shared.qn('w:fldCharType'), 'begin')\n",
        "        parent.append(r)\n",
        "\n",
        "        # w:r\n",
        "        r = OxmlElement('w:r')\n",
        "        e = OxmlElement('w:instrText')\n",
        "        e.text = f'EQ \\\\o(\\\\s\\\\{position} 10('\n",
        "        r.append(e)\n",
        "        parent.append(r)\n",
        "\n",
        "        # w:r\n",
        "        r = OxmlElement('w:r')\n",
        "\n",
        "        e = OxmlElement('w:rPr')\n",
        "        e2 = OxmlElement('w:sz')\n",
        "        e2.set(docx.oxml.shared.qn('w:val'), str(11))\n",
        "        e.append(e2)\n",
        "        r.append(e)\n",
        "\n",
        "        e = OxmlElement('w:instrText')\n",
        "        e.text = rt.text.strip()\n",
        "        r.append(e)\n",
        "        parent.append(r)\n",
        "\n",
        "        # w:r\n",
        "        r = OxmlElement('w:r')\n",
        "        e = OxmlElement('w:instrText')\n",
        "        e.text = \"),\"\n",
        "        r.append(e)\n",
        "        parent.append(r)\n",
        "\n",
        "        es = rb.children\n",
        "        for e in es:\n",
        "            convert(document, e, parent)\n",
        "\n",
        "        # w:r\n",
        "        r = OxmlElement('w:r')\n",
        "        e = OxmlElement('w:instrText')\n",
        "        e.text = ')'\n",
        "        r.append(e)\n",
        "        parent.append(r)\n",
        "\n",
        "        # w:r\n",
        "        r = OxmlElement('w:r')\n",
        "        e = OxmlElement('w:fldChar')\n",
        "        e.set(docx.oxml.shared.qn('w:fldCharType'), 'end')\n",
        "        r.append(e)\n",
        "        parent.append(r)\n",
        "\n",
        "    elif name == \"p\":\n",
        "        p = document.add_paragraph()\n",
        "        es = soup.children\n",
        "        for e in es:\n",
        "            convert(document, e, p._p)\n",
        "\n",
        "    else:\n",
        "        es = soup.children\n",
        "        for e in es:\n",
        "            convert(document, e, parent)"
      ]
    },
    {
      "cell_type": "code",
      "source": [
        "html = '''<body>\n",
        "<p>\n",
        " 私は\n",
        " <ruby>\n",
        "  <rb>\n",
        "   <ruby>\n",
        "    <rb>打</rb>\n",
        "    <rt place=\"right\">ダ</rt>\n",
        "   </ruby>\n",
        "   <ruby>\n",
        "    <rb>球</rb>\n",
        "    <rt place=\"right\">キウ</rt>\n",
        "   </ruby>\n",
        "     場\n",
        "  </rb>\n",
        "  <rt place=\"left\">ビリヤード</rt>\n",
        " </ruby>\n",
        " に行きました。\n",
        "</p><p>\n",
        " <ruby>\n",
        "  <rb>入学試験</rb>\n",
        "  <rt place=\"above\">にゅうがくしけん</rt>\n",
        " </ruby>\n",
        " があります。\n",
        "</p>\n",
        "</body>'''\n",
        "\n",
        "soup = BeautifulSoup(html, 'html.parser')\n",
        "document = docx.Document()\n",
        "\n",
        "convert(document, soup, None)\n",
        "document.save('test.docx')"
      ],
      "metadata": {
        "id": "sd5zt1ZKpUuU"
      },
      "execution_count": 26,
      "outputs": []
    }
  ]
}