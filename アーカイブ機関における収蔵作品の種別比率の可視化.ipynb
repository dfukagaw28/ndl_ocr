{
  "nbformat": 4,
  "nbformat_minor": 0,
  "metadata": {
    "colab": {
      "name": "アーカイブ機関における収蔵作品の種別比率の可視化.ipynb",
      "provenance": [],
      "collapsed_sections": [],
      "toc_visible": true,
      "authorship_tag": "ABX9TyMwAdegma+nAvmHbOT+diQJ",
      "include_colab_link": true
    },
    "kernelspec": {
      "name": "python3",
      "display_name": "Python 3"
    },
    "language_info": {
      "name": "python"
    }
  },
  "cells": [
    {
      "cell_type": "markdown",
      "metadata": {
        "id": "view-in-github",
        "colab_type": "text"
      },
      "source": [
        "<a href=\"https://colab.research.google.com/github/nakamura196/ndl_ocr/blob/main/%E3%82%A2%E3%83%BC%E3%82%AB%E3%82%A4%E3%83%96%E6%A9%9F%E9%96%A2%E3%81%AB%E3%81%8A%E3%81%91%E3%82%8B%E5%8F%8E%E8%94%B5%E4%BD%9C%E5%93%81%E3%81%AE%E7%A8%AE%E5%88%A5%E6%AF%94%E7%8E%87%E3%81%AE%E5%8F%AF%E8%A6%96%E5%8C%96.ipynb\" target=\"_parent\"><img src=\"https://colab.research.google.com/assets/colab-badge.svg\" alt=\"Open In Colab\"/></a>"
      ]
    },
    {
      "cell_type": "markdown",
      "source": [
        "# アーカイブ機関における収蔵作品の種別比率の可視化"
      ],
      "metadata": {
        "id": "2l7MRv5Uu4Ms"
      }
    },
    {
      "cell_type": "code",
      "execution_count": 8,
      "metadata": {
        "colab": {
          "base_uri": "https://localhost:8080/"
        },
        "id": "JaDR7yK1npYu",
        "outputId": "d3834d9d-f1fc-4c61-ae78-1fc07c0f78f2",
        "cellView": "form",
        "collapsed": true
      },
      "outputs": [
        {
          "output_type": "stream",
          "name": "stdout",
          "text": [
            "Looking in indexes: https://pypi.org/simple, https://us-python.pkg.dev/colab-wheels/public/simple/\n",
            "Requirement already satisfied: japanize-matplotlib in /usr/local/lib/python3.7/dist-packages (1.1.3)\n",
            "Requirement already satisfied: matplotlib in /usr/local/lib/python3.7/dist-packages (from japanize-matplotlib) (3.2.2)\n",
            "Requirement already satisfied: pyparsing!=2.0.4,!=2.1.2,!=2.1.6,>=2.0.1 in /usr/local/lib/python3.7/dist-packages (from matplotlib->japanize-matplotlib) (3.0.9)\n",
            "Requirement already satisfied: cycler>=0.10 in /usr/local/lib/python3.7/dist-packages (from matplotlib->japanize-matplotlib) (0.11.0)\n",
            "Requirement already satisfied: numpy>=1.11 in /usr/local/lib/python3.7/dist-packages (from matplotlib->japanize-matplotlib) (1.21.6)\n",
            "Requirement already satisfied: kiwisolver>=1.0.1 in /usr/local/lib/python3.7/dist-packages (from matplotlib->japanize-matplotlib) (1.4.4)\n",
            "Requirement already satisfied: python-dateutil>=2.1 in /usr/local/lib/python3.7/dist-packages (from matplotlib->japanize-matplotlib) (2.8.2)\n",
            "Requirement already satisfied: typing-extensions in /usr/local/lib/python3.7/dist-packages (from kiwisolver>=1.0.1->matplotlib->japanize-matplotlib) (4.1.1)\n",
            "Requirement already satisfied: six>=1.5 in /usr/local/lib/python3.7/dist-packages (from python-dateutil>=2.1->matplotlib->japanize-matplotlib) (1.15.0)\n"
          ]
        }
      ],
      "source": [
        "#@title セットアップ\n",
        "\n",
        "# 日本語の文字化け対策\n",
        "!pip install japanize-matplotlib\n",
        "\n",
        "import requests\n",
        "import urllib\n",
        "import json\n",
        "import pandas as pd\n",
        "from pandas import json_normalize\n",
        "\n",
        "import matplotlib.pyplot as plt\n",
        "import japanize_matplotlib\n",
        "\n",
        "endpoint = \"https://jpsearch.go.jp/rdf/sparql/\"\n",
        "\n",
        "def execQuery(q, endpoint):\n",
        "  url = \"{}?query={}&format=json&output=json&results=json\".format(endpoint, urllib.parse.quote(q))\n",
        "  r = requests.get(url)\n",
        "  results = json.loads(r.text)\n",
        "  return results\n",
        "\n",
        "def convertSparqlResult2Df(results, mappings):\n",
        "  data = []\n",
        "\n",
        "  for obj in results[\"results\"][\"bindings\"]:\n",
        "    item = {}\n",
        "\n",
        "    for mapping in mappings:\n",
        "      label = mapping[\"label\"]\n",
        "      query_var = mapping[\"query_var\"]\n",
        "      item[label] = obj[query_var][\"value\"]\n",
        "\n",
        "    data.append(item)\n",
        "\n",
        "  df = json_normalize(data)\n",
        "  return df\n",
        "\n",
        "# 第二階層を取得\n",
        "\n",
        "def getTypes():\n",
        "  q = \"\"\"\n",
        "  PREFIX rdfs: <http://www.w3.org/2000/01/rdf-schema#>\n",
        "  PREFIX type: <https://jpsearch.go.jp/term/type/>\n",
        "  SELECT ?type_lv1 ?type_lv2 (count(?cho) as ?count) WHERE {\n",
        "    ?cho rdf:type/rdfs:subClassOf* ?type_lv2 . \n",
        "      ?type_lv2 rdfs:subClassOf ?type_lv1 . \n",
        "      ?type_lv1 rdfs:subClassOf type:記述情報\n",
        "  }\n",
        "  GROUP BY ?type_lv1 ?type_lv2\n",
        "  ORDER BY desc(?count)\n",
        "  \"\"\"\n",
        "\n",
        "  results = execQuery(q, endpoint)\n",
        "\n",
        "  mappings = [\n",
        "      {\n",
        "        \"label\": \"第1階層のタイプ\",\n",
        "        \"query_var\" : \"type_lv1\"\n",
        "      },\n",
        "      {\n",
        "        \"label\": \"第2階層のタイプ\",\n",
        "        \"query_var\" : \"type_lv2\"\n",
        "      },\n",
        "      {\n",
        "        \"label\": \"アイテム数\",\n",
        "        \"query_var\" : \"count\"\n",
        "      }\n",
        "  ]\n",
        "\n",
        "  types = []\n",
        "\n",
        "  for obj in results[\"results\"][\"bindings\"]:\n",
        "      type = obj[\"type_lv2\"][\"value\"]\n",
        "\n",
        "      types.append(type.split(\"/\")[-1])\n",
        "\n",
        "  return types\n",
        "\n",
        "def getTypeFilter():\n",
        "  types = getTypes()\n",
        "\n",
        "  # 分析用の関数\n",
        "\n",
        "  filters = []\n",
        "  for type in types:\n",
        "    filters.append(\"?type = type:{}\".format(type))\n",
        "  filter = \" || \".join(filters)\n",
        "\n",
        "  return filter\n",
        "\n",
        "def analyze(label):\n",
        "  provider_filters = []\n",
        "  for prefix in [\"chname\", \"ncname\"]:\n",
        "    provider_filters.append(\"?provider = \" + prefix + \":\" + label)\n",
        "  provider_filter = \" || \".join(provider_filters)\n",
        "\n",
        "  q = \"\"\"\n",
        "  PREFIX rdfs: <http://www.w3.org/2000/01/rdf-schema#>\n",
        "  PREFIX type: <https://jpsearch.go.jp/term/type/>\n",
        "  SELECT ?type (count(?cho) as ?count) WHERE {\n",
        "    ?cho jps:accessInfo/schema:provider ?provider; \n",
        "    rdf:type/rdfs:subClassOf* ?type . \n",
        "    filter (\"\"\" + provider_filter + \"\"\") . \n",
        "    filter (\"\"\" + getTypeFilter() + \"\"\") . \n",
        "  }\n",
        "  GROUP BY ?type\n",
        "  ORDER BY desc(?count)\n",
        "  LIMIT 10\n",
        "  \"\"\"\n",
        "\n",
        "  results = execQuery(q, endpoint)\n",
        "  mappings = [\n",
        "      {\n",
        "        \"label\": \"タイプ\",\n",
        "        \"query_var\" : \"type\"\n",
        "      },\n",
        "      {\n",
        "        \"label\": \"アイテム数\",\n",
        "        \"query_var\" : \"count\"\n",
        "      }\n",
        "  ]\n",
        "\n",
        "  df = convertSparqlResult2Df(results, mappings)\n",
        "\n",
        "  labels = []\n",
        "  for type_uri in df[\"タイプ\"].tolist():\n",
        "    labels.append(type_uri.split(\"/\")[-1])\n",
        "  sections = df[\"アイテム数\"].tolist()\n",
        "  sections = [int(i) for i in sections]\n",
        "  plt.pie(sections, labels=labels)\n",
        "  plt.show()"
      ]
    },
    {
      "cell_type": "markdown",
      "source": [
        "## 分析"
      ],
      "metadata": {
        "id": "vG298JBRlKV3"
      }
    },
    {
      "cell_type": "code",
      "source": [
        "analyze(\"三重県総合博物館\")"
      ],
      "metadata": {
        "colab": {
          "base_uri": "https://localhost:8080/",
          "height": 248
        },
        "id": "BgviEt2nnTid",
        "outputId": "632e5012-d6f9-4651-a5bd-efc5cb3f9565"
      },
      "execution_count": 9,
      "outputs": [
        {
          "output_type": "display_data",
          "data": {
            "text/plain": [
              "<Figure size 432x288 with 1 Axes>"
            ],
            "image/png": "[encoded data removed]"
          },
          "metadata": {}
        }
      ]
    },
    {
      "cell_type": "code",
      "source": [
        "analyze(\"国土地理院\")"
      ],
      "metadata": {
        "colab": {
          "base_uri": "https://localhost:8080/",
          "height": 248
        },
        "id": "urFuhyWLlPRC",
        "outputId": "91c8b7c4-1ee2-49fd-b849-6eb3f8237c3c"
      },
      "execution_count": 10,
      "outputs": [
        {
          "output_type": "display_data",
          "data": {
            "text/plain": [
              "<Figure size 432x288 with 1 Axes>"
            ],
            "image/png": "[encoded data removed]"
          },
          "metadata": {}
        }
      ]
    },
    {
      "cell_type": "code",
      "source": [
        "analyze(\"国立国会図書館\")"
      ],
      "metadata": {
        "id": "0Qec1xy0k7r4"
      },
      "execution_count": null,
      "outputs": []
    }
  ]
}