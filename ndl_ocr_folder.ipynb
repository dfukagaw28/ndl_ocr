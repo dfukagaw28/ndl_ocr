{
  "nbformat": 4,
  "nbformat_minor": 0,
  "metadata": {
    "colab": {
      "name": "ndl_ocr_folder.ipynb",
      "provenance": [],
      "background_execution": "on",
      "private_outputs": true,
      "collapsed_sections": [],
      "include_colab_link": true
    },
    "kernelspec": {
      "name": "python3",
      "display_name": "Python 3"
    },
    "language_info": {
      "name": "python"
    },
    "accelerator": "GPU"
  },
  "cells": [
    {
      "cell_type": "markdown",
      "metadata": {
        "id": "view-in-github",
        "colab_type": "text"
      },
      "source": [
        "<a href=\"https://colab.research.google.com/github/nakamura196/ndl_ocr/blob/main/ndl_ocr_folder.ipynb\" target=\"_parent\"><img src=\"https://colab.research.google.com/assets/colab-badge.svg\" alt=\"Open In Colab\"/></a>"
      ]
    },
    {
      "cell_type": "markdown",
      "source": [
        "# NDLOCRの実行例：Google Driveを用いた画像の入力と結果の保存\n",
        "\n",
        "<br/>\n",
        "\n",
        "---\n",
        "\n",
        "<br/>\n",
        "\n",
        "**本ノートブックの改良版であるVersion 2を作成しました。以下も参考にしてください。**\n",
        "\n",
        "https://colab.research.google.com/github/nakamura196/ndl_ocr/blob/main/ndl_ocr_v2.ipynb\n",
        "\n",
        "<br/>\n",
        "\n",
        "---\n",
        "\n",
        "<br/>\n",
        "\n",
        "\n",
        "Google Drive上のフォルダを指定して、当該フォルダに含まれる複数画像に対してOCR処理を実行し、指定したフォルダに認識結果を出力します。\n",
        "\n",
        "## 参考記事\n",
        "\n",
        "https://zenn.dev/nakamura196/articles/a8227f4524570c\n",
        "\n",
        "## 参考にしたノートブック\n",
        "\n",
        "@blue0620 さんが作成したノートブック\n",
        "\n",
        "https://github.com/blue0620/NDLOCR-GoogleColabVersion/blob/main/NDLOCR_googlecolabversion.ipynb"
      ],
      "metadata": {
        "id": "eQa1CxUBl9Ap"
      }
    },
    {
      "cell_type": "markdown",
      "source": [
        "## 使用方法\n",
        "\n",
        "- 「1.初期セットアップ」を実行してください。初回のみ実行が必要です。\n",
        "\n",
        "- 「2. 設定」を変更してください。\n",
        "\n",
        "- 「3. 実行」を行います。"
      ],
      "metadata": {
        "id": "ec7zStxNmULI"
      }
    },
    {
      "cell_type": "markdown",
      "source": [
        "## 1.初期セットアップ\n",
        "\n",
        "時間がかかります。初回のみ実行が必要です。"
      ],
      "metadata": {
        "id": "4ZbNG-S2mVRy"
      }
    },
    {
      "cell_type": "code",
      "source": [
        "# @title\n",
        "\n",
        "%cd \"/content/\"\n",
        "\n",
        "# 6. google driveのマウント\n",
        "from google.colab import drive\n",
        "drive.mount('/content/drive/')\n",
        "\n",
        "from IPython.display import clear_output \n",
        "\n",
        "# 1. NDLOCRのリポジトリをcloneする(--recursiveを忘れずに！)\n",
        "!git clone -q --recursive https://github.com/ndl-lab/ndlocr_cli\n",
        "clear_output()\n",
        "\n",
        "# 2. 必要なパッケージをインストールする\n",
        "PROJECT_DIR=\"/content/ndlocr_cli\"\n",
        "!pip install -q -r {PROJECT_DIR}/requirements.txt\n",
        "!pip install -q torch==1.8.1+cu111 torchvision==0.9.1+cu111 -f https://download.pytorch.org/whl/lts/1.8/torch_lts.html\n",
        "clear_output()\n",
        "!pip install -q mmcv-full==1.4.0 -f https://download.openmmlab.com/mmcv/dist/cu111/torch1.8.0/index.html\n",
        "##numpyのバージョン問題でcolabでは動かなかったのでアップデートする(参考:https://stackoverflow.com/questions/66060487/valueerror-numpy-ndarray-size-changed-may-indicate-binary-incompatibility-exp)\n",
        "!pip install -q --upgrade numpy\n",
        "clear_output()\n",
        "\n",
        "%cd {PROJECT_DIR}/src/ndl_layout/mmdetection\n",
        "!python setup.py bdist_wheel\n",
        "clear_output()\n",
        "!pip install -q dist/*.whl\n",
        "clear_output()\n",
        "\n",
        "# # 4. OCRに必要な学習済みモデルをダウンロードする\n",
        "\n",
        "%cd {PROJECT_DIR}\n",
        "!wget -q https://lab.ndl.go.jp/dataset/ndlocr/text_recognition/mojilist_NDL.txt -P ./src/text_recognition/models\n",
        "!wget -q https://lab.ndl.go.jp/dataset/ndlocr/text_recognition/ndlenfixed64-mj0-synth1.pth -P ./src/text_recognition/models\n",
        "!wget -q https://lab.ndl.go.jp/dataset/ndlocr/ndl_layout/ndl_layout_config.py -P ./src/ndl_layout/models\n",
        "!wget -q https://lab.ndl.go.jp/dataset/ndlocr/ndl_layout/epoch_140_all_eql_bt.pth -P ./src/ndl_layout/models\n",
        "!wget -q https://lab.ndl.go.jp/dataset/ndlocr/separate_pages_ssd/weights.hdf5 -P ./src/separate_pages_ssd/ssd_tools\n",
        "clear_output()\n",
        "\n",
        "# 5. 環境変数を追加する\n",
        "import os\n",
        "os.environ[\"PYTHONPATH\"]=os.environ[\"PYTHONPATH\"]+\":\"+f\"{PROJECT_DIR}/src/text_recognition/deep-text-recognition-benchmark\"\n",
        "\n",
        "clear_output()\n",
        "\n",
        "from pathlib import Path\n",
        "import glob\n",
        "from tqdm import tqdm"
      ],
      "metadata": {
        "cellView": "form",
        "id": "YFJjVpZARBib"
      },
      "execution_count": null,
      "outputs": []
    },
    {
      "cell_type": "markdown",
      "source": [
        "## 2. 設定\n",
        "\n",
        "OCRの適用対象のファイルを設定します。\n",
        "\n",
        "- input_dir: 画像が格納されたフォルダへのパス\n",
        "- output_dir: 出力するフォルダへのパス\n",
        "- input_structure: f または s （入力ディレクトリの形式）\n",
        "  - 詳細はこちらをご確認ください。 https://github.com/ndl-lab/ndlocr_cli#%E5%85%A5%E5%87%BA%E5%8A%9B%E4%BB%95%E6%A7%98\n",
        "- extensions: 実行対象のファイル拡張子（,区切りで複数指定可）"
      ],
      "metadata": {
        "id": "QZx0cstglhjA"
      }
    },
    {
      "cell_type": "code",
      "source": [
        "#@title\n",
        "input_dir  = \"/content/drive/MyDrive/ndl_ocr/input/\" #@param {type:\"string\"}\n",
        "output_dir  = \"/content/drive/MyDrive/ndl_ocr/output/\" #@param {type:\"string\"}\n",
        "\n",
        "input_structure = \"s\" #@param [\"f\", \"s\"]\n",
        "extensions = \"jpeg\" #@param {type:\"raw\"}\n",
        "\n",
        "process = \"\\u3059\\u3079\\u3066: \\u30CE\\u30C9\\u5143\\u5206\\u5272,\\u50BE\\u304D\\u88DC\\u6B63,\\u30EC\\u30A4\\u30A2\\u30A6\\u30C8\\u62BD\\u51FA,\\u6587\\u5B57\\u8A8D\\u8B58(OCR)\" #@param [\"\\u3059\\u3079\\u3066: \\u30CE\\u30C9\\u5143\\u5206\\u5272,\\u50BE\\u304D\\u88DC\\u6B63,\\u30EC\\u30A4\\u30A2\\u30A6\\u30C8\\u62BD\\u51FA,\\u6587\\u5B57\\u8A8D\\u8B58(OCR)\", \"\\u50BE\\u304D\\u88DC\\u6B63,\\u30EC\\u30A4\\u30A2\\u30A6\\u30C8\\u62BD\\u51FA,\\u6587\\u5B57\\u8A8D\\u8B58(OCR)\", \"\\u30EC\\u30A4\\u30A2\\u30A6\\u30C8\\u62BD\\u51FA,\\u6587\\u5B57\\u8A8D\\u8B58(OCR)\", \"\\u6587\\u5B57\\u8A8D\\u8B58(OCR)\"]\n",
        "skip_if_output_dir_exists = False #@param {type:\"boolean\"}\n",
        "\n",
        "# 末尾の/（スラッシュ）の有無を無視するように修正\n",
        "output_dir = str(Path(output_dir))\n",
        "input_dir = str(Path(input_dir))"
      ],
      "metadata": {
        "id": "tiiixoMDP8_t",
        "cellView": "form"
      },
      "execution_count": null,
      "outputs": []
    },
    {
      "cell_type": "markdown",
      "source": [
        "## 3. 実行"
      ],
      "metadata": {
        "id": "lthLeYInlZT8"
      }
    },
    {
      "cell_type": "code",
      "source": [
        "#@title\n",
        "\n",
        "def createParentDir(path):\n",
        "  basename = os.path.basename(path)\n",
        "  parent_path = os.path.dirname(path)\n",
        "  os.makedirs(parent_path, exist_ok=True)\n",
        "\n",
        "def listFiles(input_dir, exts):\n",
        "  paths = []\n",
        "  ext_list = exts.split(\",\")\n",
        "  for ext in ext_list:\n",
        "    files = glob.glob(\"{}/**/*.{}\".format(input_dir, ext), recursive=True)\n",
        "    paths.extend(files)\n",
        "\n",
        "  return sorted(paths)\n",
        "\n",
        "files = listFiles(input_dir, extensions)\n",
        "\n",
        "p = \"0..3\"\n",
        "if process == \"傾き補正,レイアウト抽出,文字認識(OCR)\":\n",
        "  p = \"1..3\"\n",
        "elif process == \"レイアウト抽出,文字認識(OCR)\":\n",
        "  p = \"2..3\"\n",
        "elif process == \"文字認識(OCR)\":\n",
        "  p = \"3\"\n",
        "\n",
        "# Sigle input dir mode の場合\n",
        "if input_structure == \"s\":\n",
        "  exec_flg = True\n",
        "  if os.path.exists(output_dir):\n",
        "      # スキップフラグがTrueならContinue\n",
        "      if skip_if_output_dir_exists:\n",
        "        exec_flg = False\n",
        "  if exec_flg:\n",
        "    !python main.py infer -s $input_structure $input_dir $output_dir -x -i -p $p\n",
        "  else:\n",
        "    print(\"######## 出力フォルダが既に存在しているため、処理を終了します。 ########\")\n",
        "else:\n",
        "  # Image file mode の場合\n",
        "  for file in tqdm(files):\n",
        "    # 出力パスの作成\n",
        "    output_path = \"{}/{}_p{}\".format(output_dir, file.replace(input_dir, \"\"), p)\n",
        "\n",
        "    if os.path.exists(output_path):\n",
        "      # スキップフラグがTrueならContinue\n",
        "      if skip_if_output_dir_exists:\n",
        "        continue\n",
        "      !rm -rf $output_path\n",
        "\n",
        "    createParentDir(output_path)\n",
        "    !python main.py infer -s f $file $output_path -x -i -p $p\n",
        "    clear_output()\n",
        "\n",
        "    # 以下、出力ファイルの整理\n",
        "    basename_without_ext = os.path.splitext(os.path.basename(file))[0]\n",
        "\n",
        "    input_tmp_path = \"{}/{}\".format(output_path, basename_without_ext)\n",
        "    !mv $input_tmp_path/* $output_path\n",
        "\n",
        "    !rm $output_path/opt.json\n",
        "    !rm -rf $output_path/$basename_without_ext"
      ],
      "metadata": {
        "id": "U4-FS-BTQFjJ",
        "cellView": "form"
      },
      "execution_count": null,
      "outputs": []
    }
  ]
}