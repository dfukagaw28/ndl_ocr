{
  "nbformat": 4,
  "nbformat_minor": 0,
  "metadata": {
    "colab": {
      "private_outputs": true,
      "provenance": [],
      "toc_visible": true,
      "authorship_tag": "ABX9TyPJp/l384Nuz6CskVA7kJIK",
      "include_colab_link": true
    },
    "kernelspec": {
      "name": "python3",
      "display_name": "Python 3"
    },
    "language_info": {
      "name": "python"
    },
    "gpuClass": "standard"
  },
  "cells": [
    {
      "cell_type": "markdown",
      "metadata": {
        "id": "view-in-github",
        "colab_type": "text"
      },
      "source": [
        "<a href=\"https://colab.research.google.com/github/nakamura196/ndl_ocr/blob/main/jingtrang%E3%82%92%E8%A9%A6%E3%81%99.ipynb\" target=\"_parent\"><img src=\"https://colab.research.google.com/assets/colab-badge.svg\" alt=\"Open In Colab\"/></a>"
      ]
    },
    {
      "cell_type": "markdown",
      "source": [
        "# 準備\n",
        "\n",
        "ライブラリのインストール"
      ],
      "metadata": {
        "id": "-B-gk_-Ct3W8"
      }
    },
    {
      "cell_type": "code",
      "execution_count": null,
      "metadata": {
        "id": "82B-1L8xsiKg"
      },
      "outputs": [],
      "source": [
        "!pip install jingtrang"
      ]
    },
    {
      "cell_type": "markdown",
      "source": [
        "rngファイルのダウンロード（tei_allを使用）"
      ],
      "metadata": {
        "id": "5XPEB-Lxt5zH"
      }
    },
    {
      "cell_type": "code",
      "source": [
        "!wget https://raw.githubusercontent.com/nakamura196/test2021/main/tei_all.rng"
      ],
      "metadata": {
        "id": "uImDHDVmtFgG"
      },
      "execution_count": null,
      "outputs": []
    },
    {
      "cell_type": "markdown",
      "source": [
        "validation対象のXMLファイルの用意（校異源氏物語テキストのダウンロード）"
      ],
      "metadata": {
        "id": "M4i5BwEFt9Sl"
      }
    },
    {
      "cell_type": "code",
      "source": [
        "!wget https://kouigenjimonogatari.github.io/tei/01.xml"
      ],
      "metadata": {
        "id": "s9S0vsQbtQZk"
      },
      "execution_count": null,
      "outputs": []
    },
    {
      "cell_type": "markdown",
      "source": [
        "# OKな例\n",
        "\n",
        "validationを試す"
      ],
      "metadata": {
        "id": "BpWKpewruMba"
      }
    },
    {
      "cell_type": "code",
      "source": [
        "!pyjing tei_all.rng 01.xml"
      ],
      "metadata": {
        "id": "daj0C3Ygtb_M"
      },
      "execution_count": null,
      "outputs": []
    },
    {
      "cell_type": "markdown",
      "source": [
        "# NGな例"
      ],
      "metadata": {
        "id": "1kYky_jhtnwu"
      }
    },
    {
      "cell_type": "code",
      "source": [
        "path_w = 'ng.xml'\n",
        "\n",
        "s = '<a>bbb</a>'\n",
        "\n",
        "with open(path_w, mode='w') as f:\n",
        "    f.write(s)"
      ],
      "metadata": {
        "id": "MVnyUd37tpC8"
      },
      "execution_count": null,
      "outputs": []
    },
    {
      "cell_type": "code",
      "source": [
        "!pyjing tei_all.rng ng.xml"
      ],
      "metadata": {
        "id": "HXlvI7NJtjF5"
      },
      "execution_count": null,
      "outputs": []
    }
  ]
}