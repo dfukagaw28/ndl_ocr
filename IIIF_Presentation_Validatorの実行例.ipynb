{
  "nbformat": 4,
  "nbformat_minor": 0,
  "metadata": {
    "colab": {
      "private_outputs": true,
      "provenance": [],
      "authorship_tag": "ABX9TyNpDS88MCO/DKSLRfF0Ocmi",
      "include_colab_link": true
    },
    "kernelspec": {
      "name": "python3",
      "display_name": "Python 3"
    },
    "language_info": {
      "name": "python"
    },
    "gpuClass": "standard"
  },
  "cells": [
    {
      "cell_type": "markdown",
      "metadata": {
        "id": "view-in-github",
        "colab_type": "text"
      },
      "source": [
        "<a href=\"https://colab.research.google.com/github/nakamura196/ndl_ocr/blob/main/IIIF_Presentation_Validator%E3%81%AE%E5%AE%9F%E8%A1%8C%E4%BE%8B.ipynb\" target=\"_parent\"><img src=\"https://colab.research.google.com/assets/colab-badge.svg\" alt=\"Open In Colab\"/></a>"
      ]
    },
    {
      "cell_type": "markdown",
      "source": [
        "# IIIF Presentation Validatorの実行例"
      ],
      "metadata": {
        "id": "1KNXj-rqKItd"
      }
    },
    {
      "cell_type": "markdown",
      "source": [
        "## 準備"
      ],
      "metadata": {
        "id": "Lb-Yz64NKOO3"
      }
    },
    {
      "cell_type": "code",
      "execution_count": null,
      "metadata": {
        "id": "eeWhR-aPIohQ"
      },
      "outputs": [],
      "source": [
        "!git clone https://github.com/IIIF/presentation-validator.git"
      ]
    },
    {
      "cell_type": "code",
      "source": [
        "%cd presentation-validator"
      ],
      "metadata": {
        "id": "Cfe-STc9ItvQ"
      },
      "execution_count": null,
      "outputs": []
    },
    {
      "cell_type": "code",
      "source": [
        "!pip install -r requirements.txt"
      ],
      "metadata": {
        "id": "UIjkz-FFI0BX"
      },
      "execution_count": null,
      "outputs": []
    },
    {
      "cell_type": "markdown",
      "source": [
        "## 以下、Google Colab限定"
      ],
      "metadata": {
        "id": "qOUqISlRJ99v"
      }
    },
    {
      "cell_type": "code",
      "source": [
        "PORT = 8081\n",
        "!python iiif-presentation-validator.py --port {PORT} > server.log 2>&1 &\n",
        "from google.colab import output\n",
        "output.serve_kernel_port_as_window(PORT, path=\"/\")"
      ],
      "metadata": {
        "id": "Hn8cIjoII2f5"
      },
      "execution_count": null,
      "outputs": []
    }
  ]
}