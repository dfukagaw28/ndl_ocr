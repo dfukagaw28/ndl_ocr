{
  "nbformat": 4,
  "nbformat_minor": 0,
  "metadata": {
    "colab": {
      "provenance": [],
      "collapsed_sections": [],
      "authorship_tag": "ABX9TyNwFD7i/B3T+zIPnhxz47oV",
      "include_colab_link": true
    },
    "kernelspec": {
      "name": "python3",
      "display_name": "Python 3"
    },
    "language_info": {
      "name": "python"
    }
  },
  "cells": [
    {
      "cell_type": "markdown",
      "metadata": {
        "id": "view-in-github",
        "colab_type": "text"
      },
      "source": [
        "<a href=\"https://colab.research.google.com/github/nakamura196/ndl_ocr/blob/main/%E3%82%B8%E3%83%A3%E3%83%91%E3%83%B3%E3%82%B5%E3%83%BC%E3%83%81%E5%88%A9%E6%B4%BB%E7%94%A8%E3%82%B9%E3%82%AD%E3%83%BC%E3%83%9E%E3%81%8B%E3%82%89%E3%82%B5%E3%83%A0%E3%83%8D%E3%82%A4%E3%83%AB%E7%94%BB%E5%83%8F%E3%81%A8%E3%82%B3%E3%83%B3%E3%83%86%E3%83%B3%E3%83%84%E3%81%AEURL%E3%82%92%E5%8F%96%E5%BE%97%E3%81%99%E3%82%8B.ipynb\" target=\"_parent\"><img src=\"https://colab.research.google.com/assets/colab-badge.svg\" alt=\"Open In Colab\"/></a>"
      ]
    },
    {
      "cell_type": "markdown",
      "source": [
        "# ジャパンサーチ利活用スキーマからサムネイル画像とコンテンツのURLを取得するプログラム例"
      ],
      "metadata": {
        "id": "0shrQ6d8K3TM"
      }
    },
    {
      "cell_type": "code",
      "execution_count": 5,
      "metadata": {
        "colab": {
          "base_uri": "https://localhost:8080/"
        },
        "id": "oOMS7VBxI3aN",
        "outputId": "4d11952f-4d2d-4658-aa30-e7bc5ae471ac"
      },
      "outputs": [
        {
          "output_type": "stream",
          "name": "stdout",
          "text": [
            "page 1\n"
          ]
        }
      ],
      "source": [
        "import json\n",
        "import urllib.parse\n",
        "import requests\n",
        "\n",
        "###\n",
        "\n",
        "# パラメータ\n",
        "\n",
        "debug = True\n",
        "unit = 1000\n",
        "endpoint = \"https://jpsearch.go.jp/rdf/sparql/\"\n",
        "output_file_path = \"data.json\"\n",
        "provider = \"chname:水研機構図書資料デジタルアーカイブ\"\n",
        "\n",
        "###\n",
        "\n",
        "page = 0\n",
        "data = {}\n",
        "\n",
        "while 1:\n",
        "    q = f\"\"\"\n",
        "        PREFIX jps: <https://jpsearch.go.jp/term/property#>\n",
        "        PREFIX schema: <http://schema.org/>\n",
        "        PREFIX chname: <https://jpsearch.go.jp/entity/chname/>\n",
        "        SELECT ?cho ?image ?associatedMedia WHERE {{\n",
        "            ?cho schema:image ?image;\n",
        "                jps:sourceInfo/schema:provider {provider} .\n",
        "            optional {{\n",
        "                ?cho jps:accessInfo/schema:associatedMedia ?associatedMedia .\n",
        "            }}\n",
        "        }} limit {unit} offset {unit * page}\n",
        "    \"\"\"\n",
        "\n",
        "    url = endpoint+\"?query=\"+urllib.parse.quote(q)+\"&format=json&output=json&results=json\"\n",
        "    results = requests.get(url).json()\n",
        "    if len(results[\"results\"][\"bindings\"]) == 0:\n",
        "        break\n",
        "\n",
        "    page += 1\n",
        "\n",
        "    if debug:\n",
        "        print(\"page\", page)\n",
        "\n",
        "    for i in range(len(results[\"results\"][\"bindings\"])):\n",
        "        \n",
        "        obj = results[\"results\"][\"bindings\"][i]\n",
        "        cho = obj[\"cho\"][\"value\"]\n",
        "\n",
        "        image = obj[\"image\"][\"value\"]\n",
        "\n",
        "        id = cho.split(\"/\")[-1]\n",
        "\n",
        "        item = {\n",
        "            \"image\": [\n",
        "                image\n",
        "            ]\n",
        "        }\n",
        "\n",
        "        if \"associatedMedia\" in obj:\n",
        "            associatedMedia = obj['associatedMedia']['value']\n",
        "            item[\"associatedMedia\"] = [\n",
        "                associatedMedia\n",
        "            ]\n",
        "\n",
        "        data[id] = item\n",
        "\n",
        "with open(output_file_path, 'w') as f:\n",
        "    json.dump(data, f, ensure_ascii=False, indent=4,\n",
        "    sort_keys=True, separators=(',', ': '))\n"
      ]
    }
  ]
}