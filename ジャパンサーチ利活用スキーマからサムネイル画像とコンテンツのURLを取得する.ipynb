{
  "nbformat": 4,
  "nbformat_minor": 0,
  "metadata": {
    "colab": {
      "provenance": [],
      "collapsed_sections": [],
      "authorship_tag": "ABX9TyOrwaT2xVy+q2y02Qdmkduh",
      "include_colab_link": true
    },
    "kernelspec": {
      "name": "python3",
      "display_name": "Python 3"
    },
    "language_info": {
      "name": "python"
    }
  },
  "cells": [
    {
      "cell_type": "markdown",
      "metadata": {
        "id": "view-in-github",
        "colab_type": "text"
      },
      "source": [
        "<a href=\"https://colab.research.google.com/github/nakamura196/ndl_ocr/blob/main/%E3%82%B8%E3%83%A3%E3%83%91%E3%83%B3%E3%82%B5%E3%83%BC%E3%83%81%E5%88%A9%E6%B4%BB%E7%94%A8%E3%82%B9%E3%82%AD%E3%83%BC%E3%83%9E%E3%81%8B%E3%82%89%E3%82%B5%E3%83%A0%E3%83%8D%E3%82%A4%E3%83%AB%E7%94%BB%E5%83%8F%E3%81%A8%E3%82%B3%E3%83%B3%E3%83%86%E3%83%B3%E3%83%84%E3%81%AEURL%E3%82%92%E5%8F%96%E5%BE%97%E3%81%99%E3%82%8B.ipynb\" target=\"_parent\"><img src=\"https://colab.research.google.com/assets/colab-badge.svg\" alt=\"Open In Colab\"/></a>"
      ]
    },
    {
      "cell_type": "markdown",
      "source": [
        "# ジャパンサーチ利活用スキーマからサムネイル画像とコンテンツのURLを取得するプログラム例"
      ],
      "metadata": {
        "id": "0shrQ6d8K3TM"
      }
    },
    {
      "cell_type": "code",
      "execution_count": 3,
      "metadata": {
        "colab": {
          "base_uri": "https://localhost:8080/"
        },
        "id": "oOMS7VBxI3aN",
        "outputId": "bb4382e6-29b3-4fce-8029-185e7020a726"
      },
      "outputs": [
        {
          "output_type": "stream",
          "name": "stdout",
          "text": [
            "url https://jpsearch.go.jp/rdf/sparql/?query=PREFIX%20jps%3A%20%3Chttps%3A//jpsearch.go.jp/term/property%23%3E%0APREFIX%20schema%3A%20%3Chttp%3A//schema.org/%3E%0APREFIX%20chname%3A%20%3Chttps%3A//jpsearch.go.jp/entity/chname/%3E%0ASELECT%20%3Fcho%20%3Fimage%20%3FassociatedMedia%20WHERE%20%7B%0A%20%20%20%20%3Fcho%20schema%3Aimage%20%3Fimage%3B%0A%20%20%20%20%20%20%20%20jps%3AsourceInfo/schema%3Aprovider%20chname%3A%E6%B0%B4%E7%A0%94%E6%A9%9F%E6%A7%8B%E5%9B%B3%E6%9B%B8%E8%B3%87%E6%96%99%E3%83%87%E3%82%B8%E3%82%BF%E3%83%AB%E3%82%A2%E3%83%BC%E3%82%AB%E3%82%A4%E3%83%96%20.%0A%20%20%20%20optional%20%7B%0A%20%20%20%20%20%20%20%20%3Fcho%20jps%3AaccessInfo/schema%3AassociatedMedia%20%3FassociatedMedia%20.%0A%20%20%20%20%7D%0A%7D%20limit%201000%20offset%200&format=json&output=json&results=json\n",
            "page 1\n"
          ]
        }
      ],
      "source": [
        "import json\n",
        "import urllib.parse\n",
        "import requests\n",
        "\n",
        "###\n",
        "\n",
        "# パラメータ\n",
        "\n",
        "debug = True\n",
        "unit = 1000\n",
        "endpoint = \"https://jpsearch.go.jp/rdf/sparql/\"\n",
        "output_file_path = \"data.json\"\n",
        "provider = \"chname:水研機構図書資料デジタルアーカイブ\"\n",
        "\n",
        "###\n",
        "\n",
        "page = 0\n",
        "data = {}\n",
        "\n",
        "while 1:\n",
        "    q = f\"\"\"PREFIX jps: <https://jpsearch.go.jp/term/property#>\n",
        "PREFIX schema: <http://schema.org/>\n",
        "PREFIX chname: <https://jpsearch.go.jp/entity/chname/>\n",
        "SELECT ?cho ?image ?associatedMedia WHERE {{\n",
        "    ?cho schema:image ?image;\n",
        "        jps:sourceInfo/schema:provider {provider} .\n",
        "    optional {{\n",
        "        ?cho jps:accessInfo/schema:associatedMedia ?associatedMedia .\n",
        "    }}\n",
        "}} limit {unit} offset {unit * page}\"\"\"\n",
        "\n",
        "    url = endpoint+\"?query=\"+urllib.parse.quote(q)+\"&format=json&output=json&results=json\"\n",
        "\n",
        "    if debug and page == 0:\n",
        "      print(\"url\", url)\n",
        "\n",
        "    results = requests.get(url).json()\n",
        "    if len(results[\"results\"][\"bindings\"]) == 0:\n",
        "        break\n",
        "\n",
        "    page += 1\n",
        "\n",
        "    if debug:\n",
        "        print(\"page\", page)\n",
        "\n",
        "    for i in range(len(results[\"results\"][\"bindings\"])):\n",
        "        \n",
        "        obj = results[\"results\"][\"bindings\"][i]\n",
        "        cho = obj[\"cho\"][\"value\"]\n",
        "\n",
        "        image = obj[\"image\"][\"value\"]\n",
        "\n",
        "        id = cho.split(\"/\")[-1]\n",
        "\n",
        "        item = {\n",
        "            \"image\": [\n",
        "                image\n",
        "            ]\n",
        "        }\n",
        "\n",
        "        if \"associatedMedia\" in obj:\n",
        "            associatedMedia = obj['associatedMedia']['value']\n",
        "            item[\"associatedMedia\"] = [\n",
        "                associatedMedia\n",
        "            ]\n",
        "\n",
        "        data[id] = item\n",
        "\n",
        "with open(output_file_path, 'w') as f:\n",
        "    json.dump(data, f, ensure_ascii=False, indent=4,\n",
        "    sort_keys=True, separators=(',', ': '))\n"
      ]
    }
  ]
}