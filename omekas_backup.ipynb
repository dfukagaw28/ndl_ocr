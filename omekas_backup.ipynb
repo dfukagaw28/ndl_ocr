{
  "nbformat": 4,
  "nbformat_minor": 0,
  "metadata": {
    "colab": {
      "name": "omekas_backup.ipynb",
      "private_outputs": true,
      "provenance": [],
      "collapsed_sections": [],
      "authorship_tag": "ABX9TyOLhhNyrQ7qKWx9oJqLl4rK",
      "include_colab_link": true
    },
    "kernelspec": {
      "name": "python3",
      "display_name": "Python 3"
    },
    "language_info": {
      "name": "python"
    },
    "gpuClass": "standard"
  },
  "cells": [
    {
      "cell_type": "markdown",
      "metadata": {
        "id": "view-in-github",
        "colab_type": "text"
      },
      "source": [
        "<a href=\"https://colab.research.google.com/github/nakamura196/ndl_ocr/blob/main/omekas_backup.ipynb\" target=\"_parent\"><img src=\"https://colab.research.google.com/assets/colab-badge.svg\" alt=\"Open In Colab\"/></a>"
      ]
    },
    {
      "cell_type": "markdown",
      "source": [
        "# Omeka Sのデータをダウンロードするノートブック\n",
        "\n"
      ],
      "metadata": {
        "id": "zrMAmloTpM6A"
      }
    },
    {
      "cell_type": "code",
      "source": [
        "%cd /content/\n",
        "# !rm -rf omekas_backup"
      ],
      "metadata": {
        "id": "ubbemO4spYVo"
      },
      "execution_count": null,
      "outputs": []
    },
    {
      "cell_type": "markdown",
      "source": [
        "## ソースコードのダウンロード"
      ],
      "metadata": {
        "id": "3uqtVAlGqgWF"
      }
    },
    {
      "cell_type": "code",
      "execution_count": null,
      "metadata": {
        "id": "LfQQctiCnCrq"
      },
      "outputs": [],
      "source": [
        "!git clone https://github.com/nakamura196/omekas_backup.git"
      ]
    },
    {
      "cell_type": "markdown",
      "source": [
        "## 関連ライブラリのダウンロード"
      ],
      "metadata": {
        "id": "qFvirCHAqlvK"
      }
    },
    {
      "cell_type": "code",
      "source": [
        "%cd /content/omekas_backup\n",
        "!pip install -r requirements.txt"
      ],
      "metadata": {
        "id": "blOz_ULMneWQ"
      },
      "execution_count": null,
      "outputs": []
    },
    {
      "cell_type": "markdown",
      "source": [
        "## 環境変数のコピー\n",
        "\n",
        "本チュートリアルでは、リポジトリに同梱済みのsampleファイルを使用します。sampleファイルでは、以下のOmeka Sのサンドボックスを対象にします。\n",
        "\n",
        "https://omeka.org/s/download/#sandbox\n",
        "\n",
        "\n",
        "必要に応じて、`.env`ファイルの内容を修正してください。以下の`README.md`も参考してください。\n",
        "\n",
        "https://github.com/nakamura196/omekas_backup"
      ],
      "metadata": {
        "id": "CpE21VQ7qrhK"
      }
    },
    {
      "cell_type": "code",
      "source": [
        "!cp .env.sample .env"
      ],
      "metadata": {
        "id": "OyhPq2FMpjb3"
      },
      "execution_count": null,
      "outputs": []
    },
    {
      "cell_type": "markdown",
      "source": [
        "## スクリプトの実行"
      ],
      "metadata": {
        "id": "um9sg2mtqX7U"
      }
    },
    {
      "cell_type": "code",
      "source": [
        "%cd /content/omekas_backup/src\n",
        "!sh main.sh"
      ],
      "metadata": {
        "id": "J2tPnXVXnYua"
      },
      "execution_count": null,
      "outputs": []
    },
    {
      "cell_type": "markdown",
      "source": [
        "## 後処理\n",
        "\n",
        "以下のフォルダ内のデータを保存してください。\n",
        "- /content/omekas_backup/docs\n",
        "- /content/omekas_backup/data"
      ],
      "metadata": {
        "id": "aTOMwof3n_hf"
      }
    }
  ]
}