{
  "nbformat": 4,
  "nbformat_minor": 0,
  "metadata": {
    "colab": {
      "provenance": [],
      "authorship_tag": "ABX9TyOftk+gyqlVN2HZxTryiEDU",
      "include_colab_link": true
    },
    "kernelspec": {
      "name": "python3",
      "display_name": "Python 3"
    },
    "language_info": {
      "name": "python"
    }
  },
  "cells": [
    {
      "cell_type": "markdown",
      "metadata": {
        "id": "view-in-github",
        "colab_type": "text"
      },
      "source": [
        "<a href=\"https://colab.research.google.com/github/nakamura196/ndl_ocr/blob/main/Archivematica%E3%81%AEAPI%E3%82%92%E4%BD%BF%E3%81%A3%E3%81%A6%E3%81%BF%E3%82%8B.ipynb\" target=\"_parent\"><img src=\"https://colab.research.google.com/assets/colab-badge.svg\" alt=\"Open In Colab\"/></a>"
      ]
    },
    {
      "cell_type": "markdown",
      "source": [
        "# ArchivematicaのAPIを使ってみる"
      ],
      "metadata": {
        "id": "F70qysLxW2O1"
      }
    },
    {
      "cell_type": "markdown",
      "source": [
        "## サーバの設定"
      ],
      "metadata": {
        "id": "APeHj7_4WqRR"
      }
    },
    {
      "cell_type": "code",
      "execution_count": 6,
      "metadata": {
        "id": "lTWOJEvgUI-w"
      },
      "outputs": [],
      "source": [
        "endpoint = \"http://18.215.157.75:81/api\"\n",
        "username = \"demo\"\n",
        "api_key = \"b9f20c2a99c0e2d91c53061b2834a1b68a5f8b7b\"\n",
        "location_uuid = \"a71d85ac-aeb0-4258-a931-688d5a84a87b\""
      ]
    },
    {
      "cell_type": "markdown",
      "source": [
        "## Transferの設定"
      ],
      "metadata": {
        "id": "bxL0DB_ZWsc5"
      }
    },
    {
      "cell_type": "code",
      "source": [
        "name = \"mc_api_transfer3\"\n",
        "type = \"standard\"\n",
        "accession = \"2023-1234\"\n",
        "paths = [\"files/movie_test\"]\n",
        "row_ids = [\"\"]"
      ],
      "metadata": {
        "id": "z8x6Ok9BUYIG"
      },
      "execution_count": 4,
      "outputs": []
    },
    {
      "cell_type": "markdown",
      "source": [
        "## base64へエンコード"
      ],
      "metadata": {
        "id": "BQJGpUD4WwTy"
      }
    },
    {
      "cell_type": "code",
      "source": [
        "import base64\n",
        "\n",
        "paths_encoded = []\n",
        "\n",
        "for path in paths:\n",
        "  path_encoded = base64.b64encode(f\"{location_uuid}:{path}\".encode()).decode()\n",
        "  paths_encoded.append(path_encoded)\n",
        "\n",
        "paths_encoded"
      ],
      "metadata": {
        "colab": {
          "base_uri": "https://localhost:8080/"
        },
        "id": "-dQp1vM_UzAP",
        "outputId": "3846affa-16d8-43e2-c584-75728332ee1a"
      },
      "execution_count": 3,
      "outputs": [
        {
          "output_type": "execute_result",
          "data": {
            "text/plain": [
              "['YTcxZDg1YWMtYWViMC00MjU4LWE5MzEtNjg4ZDVhODRhODdiOmZpbGVzL21vdmllX3Rlc3Q=']"
            ]
          },
          "metadata": {},
          "execution_count": 3
        }
      ]
    },
    {
      "cell_type": "code",
      "source": [
        "import requests\n",
        "\n",
        "data = {\n",
        "    \"name\": name,\n",
        "    \"type\": type,\n",
        "    \"accession\": accession,\n",
        "    \"paths[]\": paths_encoded,\n",
        "    \"row_ids[]\": row_ids\n",
        "}\n",
        "\n",
        "headers = {'Authorization': f'ApiKey {username}:{api_key}'}\n",
        "\n",
        "response = requests.post(f'{endpoint}/transfer/start_transfer/', headers=headers, data=data)"
      ],
      "metadata": {
        "id": "9diYH9bsVOl0"
      },
      "execution_count": 7,
      "outputs": []
    }
  ]
}