{
  "nbformat": 4,
  "nbformat_minor": 0,
  "metadata": {
    "colab": {
      "provenance": [],
      "private_outputs": true,
      "toc_visible": true,
      "include_colab_link": true
    },
    "kernelspec": {
      "name": "python3",
      "display_name": "Python 3"
    },
    "language_info": {
      "name": "python"
    }
  },
  "cells": [
    {
      "cell_type": "markdown",
      "metadata": {
        "id": "view-in-github",
        "colab_type": "text"
      },
      "source": [
        "<a href=\"https://colab.research.google.com/github/nakamura196/ndl_ocr/blob/main/Archivematica%E3%81%AEAPI%E3%82%92%E4%BD%BF%E3%81%A3%E3%81%A6%E3%81%BF%E3%82%8B.ipynb\" target=\"_parent\"><img src=\"https://colab.research.google.com/assets/colab-badge.svg\" alt=\"Open In Colab\"/></a>"
      ]
    },
    {
      "cell_type": "markdown",
      "source": [
        "# ArchivematicaのAPIを使ってみる"
      ],
      "metadata": {
        "id": "F70qysLxW2O1"
      }
    },
    {
      "cell_type": "markdown",
      "source": [
        "## 更新履歴\n",
        "\n",
        "- 2023-11-10: hostnameなどを更新しました。\n",
        "- 2023-07-21: zipped directoryのアップロード機能を追加しました。"
      ],
      "metadata": {
        "id": "OOSR5ZESE7GA"
      }
    },
    {
      "cell_type": "markdown",
      "source": [
        "# サーバの設定"
      ],
      "metadata": {
        "id": "APeHj7_4WqRR"
      }
    },
    {
      "cell_type": "code",
      "execution_count": null,
      "metadata": {
        "id": "lTWOJEvgUI-w"
      },
      "outputs": [],
      "source": [
        "hostname = \"matica.aws.ldas.jp\"\n",
        "username = \"demo\"\n",
        "api_key = \"b9f20c2a99c0e2d91c53061b2834a1b68a5f8b7b\"\n",
        "location_uuid = \"a71d85ac-aeb0-4258-a931-688d5a84a87b\"\n",
        "\n",
        "hostname_storage = \"storage.aws.ldas.jp\"\n",
        "username_storage=\"demo\"\n",
        "password_storage=\"Nd4Ev3XJ\""
      ]
    },
    {
      "cell_type": "markdown",
      "source": [
        "# セットアップ"
      ],
      "metadata": {
        "id": "in_DxgzMU0nA"
      }
    },
    {
      "cell_type": "code",
      "source": [
        "import requests\n",
        "import base64\n",
        "import time\n",
        "from tqdm import tqdm\n",
        "import pprint"
      ],
      "metadata": {
        "id": "2gf7ZjW6ixBh"
      },
      "execution_count": null,
      "outputs": []
    },
    {
      "cell_type": "code",
      "source": [
        "headers = {'Authorization': f'ApiKey {username}:{api_key}'}"
      ],
      "metadata": {
        "id": "sdUSCunpjAhi"
      },
      "execution_count": null,
      "outputs": []
    },
    {
      "cell_type": "markdown",
      "source": [
        "# Transferの設定"
      ],
      "metadata": {
        "id": "bxL0DB_ZWsc5"
      }
    },
    {
      "cell_type": "markdown",
      "source": [
        "### standardの場合"
      ],
      "metadata": {
        "id": "He2JgFQXB_kH"
      }
    },
    {
      "cell_type": "code",
      "source": [
        "name = \"mc_api_transfer\"\n",
        "type = \"standard\"\n",
        "accession = \"2023-1234\"\n",
        "paths = [\"files/jpg\"]\n",
        "row_ids = [\"\"]"
      ],
      "metadata": {
        "id": "z8x6Ok9BUYIG"
      },
      "execution_count": null,
      "outputs": []
    },
    {
      "cell_type": "markdown",
      "source": [
        "### zipped directoryの場合"
      ],
      "metadata": {
        "id": "YYwIsDBICDdA"
      }
    },
    {
      "cell_type": "code",
      "source": [
        "name = \"mc_api_transfer_zip\"\n",
        "type = \"zipfile\"\n",
        "accession = \"2023-1234\"\n",
        "paths = [\"files/zip/test.zip\"]\n",
        "row_ids = [\"\"]"
      ],
      "metadata": {
        "id": "XvR63GlJCFrZ"
      },
      "execution_count": null,
      "outputs": []
    },
    {
      "cell_type": "markdown",
      "source": [
        "## base64へエンコード"
      ],
      "metadata": {
        "id": "BQJGpUD4WwTy"
      }
    },
    {
      "cell_type": "code",
      "source": [
        "paths_encoded = []\n",
        "\n",
        "for path in paths:\n",
        "  path_encoded = base64.b64encode(f\"{location_uuid}:{path}\".encode()).decode()\n",
        "  paths_encoded.append(path_encoded)\n",
        "\n",
        "paths_encoded"
      ],
      "metadata": {
        "id": "-dQp1vM_UzAP"
      },
      "execution_count": null,
      "outputs": []
    },
    {
      "cell_type": "code",
      "source": [
        "endpoint = f\"https://{hostname}/api\"\n",
        "\n",
        "data = {\n",
        "    \"name\": name,\n",
        "    \"type\": type,\n",
        "    \"accession\": accession,\n",
        "    \"paths[]\": paths_encoded,\n",
        "    \"row_ids[]\": row_ids\n",
        "}\n",
        "\n",
        "response = requests.post(f'{endpoint}/transfer/start_transfer/', headers=headers, data=data)\n",
        "\n",
        "response"
      ],
      "metadata": {
        "id": "9diYH9bsVOl0"
      },
      "execution_count": null,
      "outputs": []
    },
    {
      "cell_type": "code",
      "source": [
        "response.json()"
      ],
      "metadata": {
        "id": "4csI87McAACq"
      },
      "execution_count": null,
      "outputs": []
    },
    {
      "cell_type": "markdown",
      "source": [
        "## （参考） List unapproved transfer(s)\n"
      ],
      "metadata": {
        "id": "QFB_uF5iAeVe"
      }
    },
    {
      "cell_type": "code",
      "source": [
        "response_2 = requests.get(f'{endpoint}/transfer/unapproved/', headers=headers)\n",
        "response_2.json()"
      ],
      "metadata": {
        "id": "Pxa8DWQpAbp3"
      },
      "execution_count": null,
      "outputs": []
    },
    {
      "cell_type": "markdown",
      "source": [
        "### 複数のtransferを一括でapproveする\n",
        "\n"
      ],
      "metadata": {
        "id": "wcWqIZ1xj9ka"
      }
    },
    {
      "cell_type": "code",
      "source": [
        "'''\n",
        "results = response_2.json()[\"results\"]\n",
        "for result in tqdm(results):\n",
        "\n",
        "  type_ = result[\"type\"]\n",
        "\n",
        "  directory = result[\"directory\"]\n",
        "  if type_ == \"zipfile\":\n",
        "    uuid = result[\"uuid\"]\n",
        "    uuid_mod = uuid[0:-1]\n",
        "    directory = directory.replace(uuid_mod, uuid)\n",
        "\n",
        "  pprint.pprint(data)\n",
        "\n",
        "  data = {\n",
        "      \"type\": type_,\n",
        "      \"directory\": directory\n",
        "  }\n",
        "\n",
        "  res = requests.post(f'{endpoint}/transfer/approve/', headers=headers, data=data)\n",
        "  pprint.pprint(res)\n",
        "'''\n",
        "\n",
        "pass"
      ],
      "metadata": {
        "id": "p1icTE6GkCfC"
      },
      "execution_count": null,
      "outputs": []
    },
    {
      "cell_type": "markdown",
      "source": [
        "## Approve transfer(s)"
      ],
      "metadata": {
        "id": "DgC7wuIqA0p5"
      }
    },
    {
      "cell_type": "code",
      "source": [
        "path = response.json()[\"path\"]\n",
        "directory = path.split(\"/\")[-2]\n",
        "if directory == \"zippedDirectory\":\n",
        "  directory = path.split(\"/\")[-1]\n",
        "\n",
        "directory"
      ],
      "metadata": {
        "id": "dFLZSNZ3BLql"
      },
      "execution_count": null,
      "outputs": []
    },
    {
      "cell_type": "code",
      "source": [
        "while 1:\n",
        "\n",
        "  data = {\n",
        "      \"type\": type,\n",
        "      \"directory\": directory\n",
        "  }\n",
        "\n",
        "  response3 = requests.post(f'{endpoint}/transfer/approve/', headers=headers, data=data)\n",
        "\n",
        "  response3json = response3.json()\n",
        "\n",
        "  pprint.pprint(response3json)\n",
        "\n",
        "  if \"uuid\" in response3json:\n",
        "    break\n",
        "\n",
        "  '''\n",
        "  if \"error\" in response3json:\n",
        "    break\n",
        "  '''\n",
        "\n",
        "  time.sleep(5)"
      ],
      "metadata": {
        "id": "sZ0gSyrvA2lQ"
      },
      "execution_count": null,
      "outputs": []
    },
    {
      "cell_type": "code",
      "source": [
        "transfer_UUID = response3json[\"uuid\"]\n",
        "transfer_UUID"
      ],
      "metadata": {
        "id": "BOPRvclECQpP"
      },
      "execution_count": null,
      "outputs": []
    },
    {
      "cell_type": "markdown",
      "source": [
        "## transferのstatus"
      ],
      "metadata": {
        "id": "JtcQk28SCUmX"
      }
    },
    {
      "cell_type": "code",
      "source": [
        "while 1:\n",
        "\n",
        "  response5 = requests.get(f'{endpoint}/transfer/status/{transfer_UUID}', headers=headers)\n",
        "\n",
        "  response5json = response5.json()\n",
        "\n",
        "  if response5json[\"status\"] != \"PROCESSING\":\n",
        "    break\n",
        "\n",
        "  time.sleep(5)"
      ],
      "metadata": {
        "id": "j4Wb983JCV5y"
      },
      "execution_count": null,
      "outputs": []
    },
    {
      "cell_type": "code",
      "source": [
        "sip_uuid = response5json[\"sip_uuid\"]\n",
        "sip_uuid"
      ],
      "metadata": {
        "id": "PJ-msWaHCd1p"
      },
      "execution_count": null,
      "outputs": []
    },
    {
      "cell_type": "markdown",
      "source": [
        "## （参考） completed"
      ],
      "metadata": {
        "id": "sv3S3ycq_tTc"
      }
    },
    {
      "cell_type": "code",
      "source": [
        "response_completed = requests.get(f'{endpoint}/transfer/completed/', headers=headers)\n",
        "response_completed.json()"
      ],
      "metadata": {
        "id": "fxWtSWMX_UDc"
      },
      "execution_count": null,
      "outputs": []
    },
    {
      "cell_type": "code",
      "source": [
        "# completedを削除\n",
        "results = response_completed.json()[\"results\"]\n",
        "for result in tqdm(results):\n",
        "  requests.delete(f'{endpoint}/transfer/{result}/delete', headers=headers)"
      ],
      "metadata": {
        "id": "7dFY86mIpMrN"
      },
      "execution_count": null,
      "outputs": []
    },
    {
      "cell_type": "markdown",
      "source": [
        "### （参考）削除\n",
        "\n"
      ],
      "metadata": {
        "id": "fj7otiamif98"
      }
    },
    {
      "cell_type": "code",
      "source": [
        "transfer_UUID = \"0a6699b8-be29-4d6b-90ee-70c471ebfe8f\"\n",
        "response5 = requests.get(f'{endpoint}/transfer/status/{transfer_UUID}', headers=headers)\n",
        "response5.json()"
      ],
      "metadata": {
        "id": "N-izF8UtjaMH"
      },
      "execution_count": null,
      "outputs": []
    },
    {
      "cell_type": "code",
      "source": [
        "response_completed = requests.delete(f'{endpoint}/transfer/{transfer_UUID}/delete', headers=headers)\n",
        "print(response_completed)"
      ],
      "metadata": {
        "id": "mQ0uLXmWijox"
      },
      "execution_count": null,
      "outputs": []
    },
    {
      "cell_type": "markdown",
      "source": [
        "# Ingest"
      ],
      "metadata": {
        "id": "PMG9IIvVB50m"
      }
    },
    {
      "cell_type": "markdown",
      "source": [
        "処理の進捗をwhileで確認する"
      ],
      "metadata": {
        "id": "3Uoqh3aZU2Ka"
      }
    },
    {
      "cell_type": "code",
      "source": [
        "while 1:\n",
        "\n",
        "  response4 = requests.get(f'{endpoint}/ingest/status/{sip_uuid}', headers=headers)\n",
        "\n",
        "  response4json = response4.json()\n",
        "\n",
        "  pprint.pprint(response4json)\n",
        "\n",
        "  if response4json[\"status\"] != \"PROCESSING\":\n",
        "    break\n",
        "\n",
        "  time.sleep(5)"
      ],
      "metadata": {
        "id": "YTWRl1AeB8Ln"
      },
      "execution_count": null,
      "outputs": []
    },
    {
      "cell_type": "markdown",
      "source": [
        "## 入力待ちの一覧"
      ],
      "metadata": {
        "id": "f4y3F8-xnVoB"
      }
    },
    {
      "cell_type": "code",
      "source": [
        "response4_2 = requests.get(f'{endpoint}/ingest/waiting', headers=headers)\n",
        "response4_2.json()"
      ],
      "metadata": {
        "id": "XDh7zLbSnXxS"
      },
      "execution_count": null,
      "outputs": []
    },
    {
      "cell_type": "code",
      "source": [
        "sip_uuid_dev = \"77acfa8d-d212-42e1-a773-a37c7697e89a\"\n",
        "response_d = requests.delete(f'{endpoint}/ingest/{sip_uuid_dev}/delete/', headers=headers)\n",
        "response_d.text"
      ],
      "metadata": {
        "id": "ywECR422n49a"
      },
      "execution_count": null,
      "outputs": []
    },
    {
      "cell_type": "markdown",
      "source": [
        "## 完了済みを削除"
      ],
      "metadata": {
        "id": "0WOTELAPobon"
      }
    },
    {
      "cell_type": "code",
      "source": [
        "completed = requests.get(f'{endpoint}/ingest/completed/', headers=headers)\n",
        "results = completed.json()[\"results\"]\n",
        "for result in tqdm(results):\n",
        "  requests.delete(f'{endpoint}/ingest/{result}/delete/', headers=headers)"
      ],
      "metadata": {
        "id": "Nre6n_wIodar"
      },
      "execution_count": null,
      "outputs": []
    },
    {
      "cell_type": "markdown",
      "source": [
        "# AIPのダウンロード"
      ],
      "metadata": {
        "id": "uILuO8ZVDuVu"
      }
    },
    {
      "cell_type": "code",
      "source": [
        "from requests.auth import HTTPBasicAuth\n",
        "\n",
        "uuid = response4json[\"uuid\"]\n",
        "\n",
        "endpoint2 = f\"https://{hostname_storage}/api\"\n",
        "\n",
        "url = f\"{endpoint2}/v2/file/{uuid}?format=json\"\n",
        "\n",
        "# print(url)\n",
        "\n",
        "response6 = requests.get(url, headers=headers, auth=HTTPBasicAuth(username_storage, password_storage))\n",
        "\n",
        "response6.json()"
      ],
      "metadata": {
        "id": "9JscMzyiCJi3"
      },
      "execution_count": null,
      "outputs": []
    },
    {
      "cell_type": "code",
      "source": [
        "url2 = f\"{endpoint2}/v2/file/{uuid}/download/\"\n",
        "\n",
        "response7 = requests.get(url2, headers=headers, auth=HTTPBasicAuth(username, password))\n",
        "\n",
        "content = response7.content\n",
        "\n",
        "output_path = \"test.7z\"\n",
        "\n",
        "with open(output_path ,mode='wb') as f: # wb でバイト型を書き込める\n",
        "  f.write(content)"
      ],
      "metadata": {
        "id": "MVW02GMVHAD4"
      },
      "execution_count": null,
      "outputs": []
    },
    {
      "cell_type": "code",
      "source": [
        "from google.colab import files\n",
        "files.download(output_path)"
      ],
      "metadata": {
        "id": "iw3VEirJFOVH"
      },
      "execution_count": null,
      "outputs": []
    }
  ]
}