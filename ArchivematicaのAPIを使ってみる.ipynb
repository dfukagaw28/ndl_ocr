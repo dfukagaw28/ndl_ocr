{
  "nbformat": 4,
  "nbformat_minor": 0,
  "metadata": {
    "colab": {
      "provenance": [],
      "include_colab_link": true
    },
    "kernelspec": {
      "name": "python3",
      "display_name": "Python 3"
    },
    "language_info": {
      "name": "python"
    }
  },
  "cells": [
    {
      "cell_type": "markdown",
      "metadata": {
        "id": "view-in-github",
        "colab_type": "text"
      },
      "source": [
        "<a href=\"https://colab.research.google.com/github/nakamura196/ndl_ocr/blob/main/Archivematica%E3%81%AEAPI%E3%82%92%E4%BD%BF%E3%81%A3%E3%81%A6%E3%81%BF%E3%82%8B.ipynb\" target=\"_parent\"><img src=\"https://colab.research.google.com/assets/colab-badge.svg\" alt=\"Open In Colab\"/></a>"
      ]
    },
    {
      "cell_type": "markdown",
      "source": [
        "# ArchivematicaのAPIを使ってみる"
      ],
      "metadata": {
        "id": "F70qysLxW2O1"
      }
    },
    {
      "cell_type": "markdown",
      "source": [
        "## サーバの設定"
      ],
      "metadata": {
        "id": "APeHj7_4WqRR"
      }
    },
    {
      "cell_type": "code",
      "execution_count": 34,
      "metadata": {
        "id": "lTWOJEvgUI-w"
      },
      "outputs": [],
      "source": [
        "hostname = \"matica.aws.ldas.jp\"\n",
        "endpoint = f\"http://{hostname}:81/api\"\n",
        "username = \"demo\"\n",
        "api_key = \"b9f20c2a99c0e2d91c53061b2834a1b68a5f8b7b\"\n",
        "location_uuid = \"a71d85ac-aeb0-4258-a931-688d5a84a87b\""
      ]
    },
    {
      "cell_type": "markdown",
      "source": [
        "## Transferの設定"
      ],
      "metadata": {
        "id": "bxL0DB_ZWsc5"
      }
    },
    {
      "cell_type": "code",
      "source": [
        "name = \"mc_api_transfer\"\n",
        "type = \"standard\"\n",
        "accession = \"2023-1234\"\n",
        "paths = [\"files/jpg\"]\n",
        "row_ids = [\"\"]"
      ],
      "metadata": {
        "id": "z8x6Ok9BUYIG"
      },
      "execution_count": 59,
      "outputs": []
    },
    {
      "cell_type": "markdown",
      "source": [
        "## base64へエンコード"
      ],
      "metadata": {
        "id": "BQJGpUD4WwTy"
      }
    },
    {
      "cell_type": "code",
      "source": [
        "import base64\n",
        "\n",
        "paths_encoded = []\n",
        "\n",
        "for path in paths:\n",
        "  path_encoded = base64.b64encode(f\"{location_uuid}:{path}\".encode()).decode()\n",
        "  paths_encoded.append(path_encoded)\n",
        "\n",
        "paths_encoded"
      ],
      "metadata": {
        "colab": {
          "base_uri": "https://localhost:8080/"
        },
        "id": "-dQp1vM_UzAP",
        "outputId": "1fc58a4e-9a4f-40ad-b78c-80c4588937f9"
      },
      "execution_count": 60,
      "outputs": [
        {
          "output_type": "execute_result",
          "data": {
            "text/plain": [
              "['YTcxZDg1YWMtYWViMC00MjU4LWE5MzEtNjg4ZDVhODRhODdiOmZpbGVzL2pwZw==']"
            ]
          },
          "metadata": {},
          "execution_count": 60
        }
      ]
    },
    {
      "cell_type": "code",
      "source": [
        "import requests\n",
        "\n",
        "data = {\n",
        "    \"name\": name,\n",
        "    \"type\": type,\n",
        "    \"accession\": accession,\n",
        "    \"paths[]\": paths_encoded,\n",
        "    \"row_ids[]\": row_ids\n",
        "}\n",
        "\n",
        "headers = {'Authorization': f'ApiKey {username}:{api_key}'}\n",
        "\n",
        "response = requests.post(f'{endpoint}/transfer/start_transfer/', headers=headers, data=data)\n",
        "\n",
        "response"
      ],
      "metadata": {
        "id": "9diYH9bsVOl0",
        "outputId": "302f009f-1932-4bf1-8eb9-f8c9cc35376f",
        "colab": {
          "base_uri": "https://localhost:8080/"
        }
      },
      "execution_count": 61,
      "outputs": [
        {
          "output_type": "execute_result",
          "data": {
            "text/plain": [
              "<Response [200]>"
            ]
          },
          "metadata": {},
          "execution_count": 61
        }
      ]
    },
    {
      "cell_type": "code",
      "source": [
        "response.json()"
      ],
      "metadata": {
        "id": "4csI87McAACq",
        "outputId": "9d537c43-6878-4027-c7dd-176ae5426f81",
        "colab": {
          "base_uri": "https://localhost:8080/"
        }
      },
      "execution_count": 62,
      "outputs": [
        {
          "output_type": "execute_result",
          "data": {
            "text/plain": [
              "{'message': 'Copy successful.',\n",
              " 'path': '/var/archivematica/sharedDirectory/watchedDirectories/activeTransfers/standardTransfer/mc_api_transfer-54d2b498-9071-41fe-bd30-4e767c51422c/'}"
            ]
          },
          "metadata": {},
          "execution_count": 62
        }
      ]
    },
    {
      "cell_type": "markdown",
      "source": [
        "# List unapproved transfer(s)\n"
      ],
      "metadata": {
        "id": "QFB_uF5iAeVe"
      }
    },
    {
      "cell_type": "code",
      "source": [
        "response_2 = requests.get(f'{endpoint}/transfer/unapproved/', headers=headers)\n",
        "response_2.json()"
      ],
      "metadata": {
        "id": "Pxa8DWQpAbp3",
        "outputId": "314f0f1c-d6d5-46af-d3a3-63e943d7d5f4",
        "colab": {
          "base_uri": "https://localhost:8080/"
        }
      },
      "execution_count": 63,
      "outputs": [
        {
          "output_type": "execute_result",
          "data": {
            "text/plain": [
              "{'results': [{'type': 'standard',\n",
              "   'directory': 'mc_api_transfer-0a6699b8-be29-4d6b-90ee-70c471ebfe8f',\n",
              "   'uuid': '0a6699b8-be29-4d6b-90ee-70c471ebfe8f'},\n",
              "  {'type': 'standard',\n",
              "   'directory': 'mc_api_transfer-54d2b498-9071-41fe-bd30-4e767c51422c',\n",
              "   'uuid': '54d2b498-9071-41fe-bd30-4e767c51422c'}],\n",
              " 'message': 'Fetched unapproved transfers successfully.'}"
            ]
          },
          "metadata": {},
          "execution_count": 63
        }
      ]
    },
    {
      "cell_type": "markdown",
      "source": [
        "# Approve transfer(s)"
      ],
      "metadata": {
        "id": "DgC7wuIqA0p5"
      }
    },
    {
      "cell_type": "code",
      "source": [
        "directory = response.json()[\"path\"].split(\"/\")[-2]\n",
        "directory"
      ],
      "metadata": {
        "id": "dFLZSNZ3BLql",
        "outputId": "a2fa9d18-00eb-430f-9535-05aaaa997939",
        "colab": {
          "base_uri": "https://localhost:8080/",
          "height": 35
        }
      },
      "execution_count": 64,
      "outputs": [
        {
          "output_type": "execute_result",
          "data": {
            "text/plain": [
              "'mc_api_transfer-54d2b498-9071-41fe-bd30-4e767c51422c'"
            ],
            "application/vnd.google.colaboratory.intrinsic+json": {
              "type": "string"
            }
          },
          "metadata": {},
          "execution_count": 64
        }
      ]
    },
    {
      "cell_type": "code",
      "source": [
        "data = {\n",
        "    \"type\": type,\n",
        "    \"directory\": directory\n",
        "}\n",
        "\n",
        "headers = {'Authorization': f'ApiKey {username}:{api_key}'}\n",
        "\n",
        "response3 = requests.post(f'{endpoint}/transfer/approve/', headers=headers, data=data)\n",
        "\n",
        "response3.json()"
      ],
      "metadata": {
        "id": "sZ0gSyrvA2lQ",
        "outputId": "75efda22-13d9-4d34-874e-9f5a4ecddcc4",
        "colab": {
          "base_uri": "https://localhost:8080/"
        }
      },
      "execution_count": 65,
      "outputs": [
        {
          "output_type": "execute_result",
          "data": {
            "text/plain": [
              "{'message': 'Approval successful.',\n",
              " 'uuid': '54d2b498-9071-41fe-bd30-4e767c51422c'}"
            ]
          },
          "metadata": {},
          "execution_count": 65
        }
      ]
    },
    {
      "cell_type": "code",
      "source": [
        "transfer_UUID = response3.json()[\"uuid\"]\n",
        "transfer_UUID"
      ],
      "metadata": {
        "colab": {
          "base_uri": "https://localhost:8080/",
          "height": 35
        },
        "id": "BOPRvclECQpP",
        "outputId": "186dc563-5821-49f7-824b-1420de9ef4cc"
      },
      "execution_count": 66,
      "outputs": [
        {
          "output_type": "execute_result",
          "data": {
            "text/plain": [
              "'54d2b498-9071-41fe-bd30-4e767c51422c'"
            ],
            "application/vnd.google.colaboratory.intrinsic+json": {
              "type": "string"
            }
          },
          "metadata": {},
          "execution_count": 66
        }
      ]
    },
    {
      "cell_type": "markdown",
      "source": [
        "# status"
      ],
      "metadata": {
        "id": "JtcQk28SCUmX"
      }
    },
    {
      "cell_type": "code",
      "source": [
        "response5 = requests.get(f'{endpoint}/transfer/status/{transfer_UUID}', headers=headers)\n",
        "\n",
        "response5.json()"
      ],
      "metadata": {
        "colab": {
          "base_uri": "https://localhost:8080/"
        },
        "id": "j4Wb983JCV5y",
        "outputId": "cb95d460-9623-4b72-d50d-495c3d718a18"
      },
      "execution_count": 68,
      "outputs": [
        {
          "output_type": "execute_result",
          "data": {
            "text/plain": [
              "{'type': 'transfer',\n",
              " 'path': '/var/archivematica/sharedDirectory/currentlyProcessing/mc_api_transfer-54d2b498-9071-41fe-bd30-4e767c51422c/',\n",
              " 'directory': 'mc_api_transfer-54d2b498-9071-41fe-bd30-4e767c51422c',\n",
              " 'name': 'mc_api_transfer',\n",
              " 'uuid': '54d2b498-9071-41fe-bd30-4e767c51422c',\n",
              " 'microservice': 'Create SIP from transfer objects',\n",
              " 'status': 'COMPLETE',\n",
              " 'sip_uuid': '8a1d2e20-0fae-4333-be72-0df8f97e81ce',\n",
              " 'message': 'Fetched status for 54d2b498-9071-41fe-bd30-4e767c51422c successfully.'}"
            ]
          },
          "metadata": {},
          "execution_count": 68
        }
      ]
    },
    {
      "cell_type": "code",
      "source": [
        "sip_uuid = response5.json()[\"sip_uuid\"]\n",
        "sip_uuid"
      ],
      "metadata": {
        "colab": {
          "base_uri": "https://localhost:8080/",
          "height": 35
        },
        "id": "PJ-msWaHCd1p",
        "outputId": "1d039b92-2ec8-4192-d59c-b3334e4ffd66"
      },
      "execution_count": 69,
      "outputs": [
        {
          "output_type": "execute_result",
          "data": {
            "text/plain": [
              "'8a1d2e20-0fae-4333-be72-0df8f97e81ce'"
            ],
            "application/vnd.google.colaboratory.intrinsic+json": {
              "type": "string"
            }
          },
          "metadata": {},
          "execution_count": 69
        }
      ]
    },
    {
      "cell_type": "markdown",
      "source": [
        "# （参考） completed"
      ],
      "metadata": {
        "id": "sv3S3ycq_tTc"
      }
    },
    {
      "cell_type": "code",
      "source": [
        "response_completed = requests.get(f'{endpoint}/transfer/completed/', headers=headers)\n",
        "response_completed.json()\n"
      ],
      "metadata": {
        "id": "fxWtSWMX_UDc",
        "outputId": "290cf2cb-27e9-45ef-d3db-1abe496905d0",
        "colab": {
          "base_uri": "https://localhost:8080/"
        }
      },
      "execution_count": 30,
      "outputs": [
        {
          "output_type": "execute_result",
          "data": {
            "text/plain": [
              "{'results': ['0ca902eb-aafd-4f63-a37f-a0959457335c',\n",
              "  '128ceb66-a681-491b-aede-f596a40eebc4',\n",
              "  '14229ba8-5687-4912-a896-ff4a64a220fa',\n",
              "  '14a76af3-ea4e-4cea-be48-34ab6251ecfc',\n",
              "  '171cadb9-dd39-4b4b-830f-f8505e0dc3c1',\n",
              "  '247b8a58-0e0a-46f3-a44a-ec6beb1072ce',\n",
              "  '325c58e7-f178-42ce-bcbb-7013c45dd7f4',\n",
              "  '4ec77ddf-b21b-4b1d-aa9a-029a34d639e1',\n",
              "  '4f6a69ec-1b67-45e6-ac68-a597823a044e',\n",
              "  '7acfe224-f27b-463f-90f6-f3b96a512d03',\n",
              "  'c93bf30f-b824-4881-adb8-a4bccb7e0046',\n",
              "  'cdf11076-8b4f-419f-8854-e36759d98d79',\n",
              "  'e4fdfc7a-6770-458f-95d1-e7a5bad80e32'],\n",
              " 'message': 'Fetched completed transfers successfully.'}"
            ]
          },
          "metadata": {},
          "execution_count": 30
        }
      ]
    },
    {
      "cell_type": "markdown",
      "source": [
        "# ingest"
      ],
      "metadata": {
        "id": "PMG9IIvVB50m"
      }
    },
    {
      "cell_type": "code",
      "source": [
        "response4 = requests.get(f'{endpoint}/ingest/status/{sip_uuid}', headers=headers)\n",
        "\n",
        "response4.json()"
      ],
      "metadata": {
        "colab": {
          "base_uri": "https://localhost:8080/"
        },
        "id": "YTWRl1AeB8Ln",
        "outputId": "ebf5f98e-ef0e-4262-9822-0d1234724172"
      },
      "execution_count": 73,
      "outputs": [
        {
          "output_type": "execute_result",
          "data": {
            "text/plain": [
              "{'type': 'SIP',\n",
              " 'path': '/var/archivematica/sharedDirectory/currentlyProcessing/mc_api_transfer-8a1d2e20-0fae-4333-be72-0df8f97e81ce/',\n",
              " 'directory': 'mc_api_transfer-8a1d2e20-0fae-4333-be72-0df8f97e81ce',\n",
              " 'name': 'mc_api_transfer',\n",
              " 'uuid': '8a1d2e20-0fae-4333-be72-0df8f97e81ce',\n",
              " 'microservice': 'Remove the processing directory',\n",
              " 'status': 'COMPLETE',\n",
              " 'message': 'Fetched status for 8a1d2e20-0fae-4333-be72-0df8f97e81ce successfully.'}"
            ]
          },
          "metadata": {},
          "execution_count": 73
        }
      ]
    },
    {
      "cell_type": "markdown",
      "source": [
        "# ダウンロード"
      ],
      "metadata": {
        "id": "uILuO8ZVDuVu"
      }
    },
    {
      "cell_type": "code",
      "source": [
        "from requests.auth import HTTPBasicAuth\n",
        "\n",
        "uuid = response4.json()[\"uuid\"]\n",
        "\n",
        "username=\"demo\"\n",
        "password=\"Nd4Ev3XJ\"\n",
        "\n",
        "endpoint2 = f\"http://{hostname}:8001/api\"\n",
        "\n",
        "url = f\"{endpoint2}/v2/file/{uuid}?format=json\"\n",
        "\n",
        "# print(url)\n",
        "\n",
        "response6 = requests.get(url, headers=headers, auth=HTTPBasicAuth(username, password))\n",
        "\n",
        "response6.json()"
      ],
      "metadata": {
        "colab": {
          "base_uri": "https://localhost:8080/"
        },
        "id": "9JscMzyiCJi3",
        "outputId": "38898300-cb06-48e3-af10-eefc2e6e7d96"
      },
      "execution_count": 74,
      "outputs": [
        {
          "output_type": "execute_result",
          "data": {
            "text/plain": [
              "{'current_full_path': '/var/archivematica/sharedDirectory/www/AIPsStore/8a1d/2e20/0fae/4333/be72/0df8/f97e/81ce/mc_api_transfer-8a1d2e20-0fae-4333-be72-0df8f97e81ce.7z',\n",
              " 'current_location': '/api/v2/location/b9661f20-63fa-4843-98aa-05f8c6228c1e/',\n",
              " 'current_path': '8a1d/2e20/0fae/4333/be72/0df8/f97e/81ce/mc_api_transfer-8a1d2e20-0fae-4333-be72-0df8f97e81ce.7z',\n",
              " 'encrypted': False,\n",
              " 'misc_attributes': {},\n",
              " 'origin_pipeline': '/api/v2/pipeline/e395113a-2885-4163-bf5a-a2786dad948e/',\n",
              " 'package_type': 'AIP',\n",
              " 'related_packages': [],\n",
              " 'replicas': [],\n",
              " 'replicated_package': None,\n",
              " 'resource_uri': '/api/v2/file/8a1d2e20-0fae-4333-be72-0df8f97e81ce/',\n",
              " 'size': 20390998,\n",
              " 'status': 'UPLOADED',\n",
              " 'uuid': '8a1d2e20-0fae-4333-be72-0df8f97e81ce'}"
            ]
          },
          "metadata": {},
          "execution_count": 74
        }
      ]
    },
    {
      "cell_type": "code",
      "source": [
        "url2 = f\"{endpoint2}/v2/file/{uuid}/download/\"\n",
        "\n",
        "response7 = requests.get(url2, headers=headers, auth=HTTPBasicAuth(username, password))\n",
        "\n",
        "content = response7.content\n",
        "\n",
        "output_path = \"test.7z\"\n",
        "\n",
        "with open(output_path ,mode='wb') as f: # wb でバイト型を書き込める\n",
        "  f.write(content)"
      ],
      "metadata": {
        "colab": {
          "base_uri": "https://localhost:8080/"
        },
        "id": "MVW02GMVHAD4",
        "outputId": "4b68deeb-e6bf-4de4-eecc-0049999e805c"
      },
      "execution_count": 76,
      "outputs": [
        {
          "output_type": "stream",
          "name": "stdout",
          "text": [
            "http://matica.aws.ldas.jp:8001/api/v2/file/8a1d2e20-0fae-4333-be72-0df8f97e81ce/download/\n"
          ]
        }
      ]
    },
    {
      "cell_type": "code",
      "source": [
        "from google.colab import files\n",
        "files.download(output_path)"
      ],
      "metadata": {
        "colab": {
          "base_uri": "https://localhost:8080/",
          "height": 17
        },
        "id": "iw3VEirJFOVH",
        "outputId": "257e9b00-4b40-415e-8724-84644ce332da"
      },
      "execution_count": 77,
      "outputs": [
        {
          "output_type": "display_data",
          "data": {
            "text/plain": [
              "<IPython.core.display.Javascript object>"
            ],
            "application/javascript": [
              "\n",
              "    async function download(id, filename, size) {\n",
              "      if (!google.colab.kernel.accessAllowed) {\n",
              "        return;\n",
              "      }\n",
              "      const div = document.createElement('div');\n",
              "      const label = document.createElement('label');\n",
              "      label.textContent = `Downloading \"${filename}\": `;\n",
              "      div.appendChild(label);\n",
              "      const progress = document.createElement('progress');\n",
              "      progress.max = size;\n",
              "      div.appendChild(progress);\n",
              "      document.body.appendChild(div);\n",
              "\n",
              "      const buffers = [];\n",
              "      let downloaded = 0;\n",
              "\n",
              "      const channel = await google.colab.kernel.comms.open(id);\n",
              "      // Send a message to notify the kernel that we're ready.\n",
              "      channel.send({})\n",
              "\n",
              "      for await (const message of channel.messages) {\n",
              "        // Send a message to notify the kernel that we're ready.\n",
              "        channel.send({})\n",
              "        if (message.buffers) {\n",
              "          for (const buffer of message.buffers) {\n",
              "            buffers.push(buffer);\n",
              "            downloaded += buffer.byteLength;\n",
              "            progress.value = downloaded;\n",
              "          }\n",
              "        }\n",
              "      }\n",
              "      const blob = new Blob(buffers, {type: 'application/binary'});\n",
              "      const a = document.createElement('a');\n",
              "      a.href = window.URL.createObjectURL(blob);\n",
              "      a.download = filename;\n",
              "      div.appendChild(a);\n",
              "      a.click();\n",
              "      div.remove();\n",
              "    }\n",
              "  "
            ]
          },
          "metadata": {}
        },
        {
          "output_type": "display_data",
          "data": {
            "text/plain": [
              "<IPython.core.display.Javascript object>"
            ],
            "application/javascript": [
              "download(\"download_bf3f6aef-4c8f-4b94-bf75-c485bfb2fb2f\", \"test.7z\", 20390998)"
            ]
          },
          "metadata": {}
        }
      ]
    }
  ]
}