{
  "nbformat": 4,
  "nbformat_minor": 0,
  "metadata": {
    "colab": {
      "name": "ndl_ocr_v2.ipynb",
      "provenance": [],
      "background_execution": "on",
      "private_outputs": true,
      "collapsed_sections": [],
      "toc_visible": true,
      "include_colab_link": true
    },
    "kernelspec": {
      "name": "python3",
      "display_name": "Python 3"
    },
    "language_info": {
      "name": "python"
    },
    "accelerator": "GPU"
  },
  "cells": [
    {
      "cell_type": "markdown",
      "metadata": {
        "id": "view-in-github",
        "colab_type": "text"
      },
      "source": [
        "<a href=\"https://colab.research.google.com/github/nakamura196/ndl_ocr/blob/main/ndl_ocr_v2.ipynb\" target=\"_parent\"><img src=\"https://colab.research.google.com/assets/colab-badge.svg\" alt=\"Open In Colab\"/></a>"
      ]
    },
    {
      "cell_type": "markdown",
      "source": [
        "# NDLOCRの実行例 Ver.2：Google Driveを用いた画像の入力と結果の保存\n",
        "\n",
        "Google Drive上のフォルダを指定して、当該フォルダに含まれる複数画像に対してOCR処理を実行し、指定したフォルダに認識結果を出力します。\n",
        "\n",
        "**本ノートブック（Ver.2）では、PDFファイルやIIIFマニフェストファイルの入力をサポートしています。また、実行後に認識結果をマージしたテキストファイルをダウンロードすることができます。**\n",
        "\n",
        "Ver.1は以下です。\n",
        "\n",
        "https://colab.research.google.com/github/nakamura196/ndl_ocr/blob/main/ndl_ocr_folder.ipynb\n",
        "\n",
        "参考：https://github.com/blue0620/NDLOCR-GoogleColabVersion/blob/main/NDLOCR_googlecolabversion.ipynb\n",
        "\n",
        "\n",
        "\n"
      ],
      "metadata": {
        "id": "eQa1CxUBl9Ap"
      }
    },
    {
      "cell_type": "markdown",
      "source": [
        "## 使用方法\n",
        "\n",
        "- 「1.初期セットアップ」を実行してください。初回のみ実行が必要です。\n",
        "\n",
        "- 「2. 設定」を変更してください。"
      ],
      "metadata": {
        "id": "ec7zStxNmULI"
      }
    },
    {
      "cell_type": "markdown",
      "source": [
        "## 0.GPUを使用するか否か\n",
        "\n",
        "GPUを使用しない場合には、チェックを外して実行ボタンを押してください。"
      ],
      "metadata": {
        "id": "QieB-Ree4YC-"
      }
    },
    {
      "cell_type": "code",
      "source": [
        "#@title 全体の設定\n",
        "use_gpu = True #@param {type:\"boolean\"}"
      ],
      "metadata": {
        "cellView": "form",
        "id": "bnZx8oEJ4dqR"
      },
      "execution_count": null,
      "outputs": []
    },
    {
      "cell_type": "markdown",
      "source": [
        "## 1.初期セットアップ\n",
        "\n",
        "時間がかかります。初回のみ実行が必要です。"
      ],
      "metadata": {
        "id": "4ZbNG-S2mVRy"
      }
    },
    {
      "cell_type": "code",
      "source": [
        "# @title\n",
        "\n",
        "%cd \"/content/\"\n",
        "\n",
        "# 6. google driveのマウント\n",
        "from google.colab import drive\n",
        "drive.mount('/content/drive/')\n",
        "\n",
        "from IPython.display import clear_output \n",
        "\n",
        "# 1. NDLOCRのリポジトリをcloneする(--recursiveを忘れずに！)\n",
        "!rm -rf ndlocr_cli\n",
        "!git clone -q --recursive https://github.com/nakamura196/ndlocr_cli\n",
        "clear_output()\n",
        "\n",
        "# 2. 必要なパッケージをインストールする\n",
        "PROJECT_DIR=\"/content/ndlocr_cli\"\n",
        "!pip install -q -r {PROJECT_DIR}/requirements.txt\n",
        "!pip install -q torch==1.8.1+cu111 torchvision==0.9.1+cu111 -f https://download.pytorch.org/whl/lts/1.8/torch_lts.html\n",
        "clear_output()\n",
        "!pip install -q mmcv-full==1.4.0 -f https://download.openmmlab.com/mmcv/dist/cu111/torch1.8.0/index.html\n",
        "##numpyのバージョン問題でcolabでは動かなかったのでアップデートする(参考:https://stackoverflow.com/questions/66060487/valueerror-numpy-ndarray-size-changed-may-indicate-binary-incompatibility-exp)\n",
        "!pip install -q --upgrade numpy\n",
        "clear_output()\n",
        "\n",
        "%cd {PROJECT_DIR}/src/ndl_layout/mmdetection\n",
        "!python setup.py bdist_wheel\n",
        "clear_output()\n",
        "!pip install -q dist/*.whl\n",
        "clear_output()\n",
        "\n",
        "# # 4. OCRに必要な学習済みモデルをダウンロードする\n",
        "\n",
        "%cd {PROJECT_DIR}\n",
        "!wget -q https://lab.ndl.go.jp/dataset/ndlocr/text_recognition/mojilist_NDL.txt -P ./src/text_recognition/models\n",
        "!wget -q https://lab.ndl.go.jp/dataset/ndlocr/text_recognition/ndlenfixed64-mj0-synth1.pth -P ./src/text_recognition/models\n",
        "!wget -q https://lab.ndl.go.jp/dataset/ndlocr/ndl_layout/ndl_layout_config.py -P ./src/ndl_layout/models\n",
        "!wget -q https://lab.ndl.go.jp/dataset/ndlocr/ndl_layout/epoch_140_all_eql_bt.pth -P ./src/ndl_layout/models\n",
        "!wget -q https://lab.ndl.go.jp/dataset/ndlocr/separate_pages_ssd/weights.hdf5 -P ./src/separate_pages_ssd/ssd_tools\n",
        "clear_output()\n",
        "\n",
        "# 5. 環境変数を追加する\n",
        "import os\n",
        "os.environ[\"PYTHONPATH\"]=os.environ[\"PYTHONPATH\"]+\":\"+f\"{PROJECT_DIR}/src/text_recognition/deep-text-recognition-benchmark\"\n",
        "\n",
        "clear_output()\n",
        "\n",
        "# PDF関連\n",
        "!apt-get install poppler-utils\n",
        "!pip install -q pdf2image\n",
        "\n",
        "clear_output()"
      ],
      "metadata": {
        "id": "YFJjVpZARBib",
        "cellView": "form"
      },
      "execution_count": null,
      "outputs": []
    },
    {
      "cell_type": "code",
      "source": [
        "#@title 独自関数のロード\n",
        "\n",
        "# %cd {PROJECT_DIR}\n",
        "\n",
        "from pathlib import Path\n",
        "import glob\n",
        "from tqdm import tqdm\n",
        "from pdf2image import convert_from_path\n",
        "import os\n",
        "import datetime\n",
        "import pytz\n",
        "from google.colab import files\n",
        "import requests\n",
        "import json\n",
        "from urllib import request\n",
        "\n",
        "def getProcessParam(process):\n",
        "  p = \"0..3\"\n",
        "  if process == \"傾き補正,レイアウト抽出,文字認識(OCR)\":\n",
        "    p = \"1..3\"\n",
        "  elif process == \"レイアウト抽出,文字認識(OCR)\":\n",
        "    p = \"2..3\"\n",
        "  elif process == \"文字認識(OCR)\":\n",
        "    p = \"3\"\n",
        "  return p\n",
        "\n",
        "def createParentDir(path):\n",
        "  basename = os.path.basename(path)\n",
        "  parent_path = os.path.dirname(path)\n",
        "  os.makedirs(parent_path, exist_ok=True)\n",
        "\n",
        "def listFiles(input_dir, exts):\n",
        "  paths = []\n",
        "  ext_list = exts.split(\",\")\n",
        "  for ext in ext_list:\n",
        "    files = glob.glob(\"{}/**/*.{}\".format(input_dir, ext), recursive=True)\n",
        "    paths.extend(files)\n",
        "  return sorted(paths)\n",
        "\n",
        "def prepareImgDir(file_id):\n",
        "  print(\"### 入力画像フォルダの作成 ###\")\n",
        "\n",
        "  run_id = datetime.datetime.now(pytz.timezone('Asia/Tokyo')).strftime('%Y%m%d%H%M%S')\n",
        "  tmp_dir = \"/tmp/\" + run_id + \"/\" + file_id\n",
        "\n",
        "  '''\n",
        "  if os.path.exists(tmp_dir):\n",
        "    !rm -rf $tmp_dir\n",
        "  '''\n",
        "\n",
        "  # img_dir\n",
        "  tmp_img_dir = tmp_dir + \"/img\"\n",
        "  os.makedirs(tmp_img_dir, exist_ok=True)\n",
        "\n",
        "  return tmp_dir, tmp_img_dir\n",
        "\n",
        "# 画像のダウンロード\n",
        "def downloadImages(url, output_dir):\n",
        "  print(\"### IIIFマニフェストを用いた画像のダウンロード ###\")\n",
        "  df = requests.get(url).json()\n",
        "  canvases = df[\"sequences\"][0][\"canvases\"]\n",
        "  if process_size > 0:\n",
        "    canvases = canvases[0:process_size]\n",
        "  for i in tqdm(range(len(canvases))):\n",
        "    res = canvases[i][\"images\"][0][\"resource\"]\n",
        "    index = str(i+1).zfill(4)\n",
        "    path = \"{}/{}.jpg\".format(output_dir, index)\n",
        "    os.makedirs(os.path.dirname(path), exist_ok=True)\n",
        "\n",
        "    '''\n",
        "    if \"service\" in res:\n",
        "      info_url = res[\"service\"][\"@id\"]\n",
        "      info = requests.get(info_url + \"/info.json\").json()\n",
        "\n",
        "      json_path = \"{}/json/{}.json\".format(etc_dir, index)\n",
        "      os.makedirs(os.path.dirname(json_path), exist_ok=True)\n",
        "      json.dump(info, open(json_path, \"w\"))\n",
        "\n",
        "      image_width = info[\"width\"]\n",
        "      image_height = info[\"height\"]\n",
        "\n",
        "      # 短辺が1600になるように\n",
        "      size = \",1600\"\n",
        "\n",
        "      if image_width < image_height:\n",
        "        size = \"1600,\"\n",
        "      url = \"{}/full/{}/0/default.jpg\".format(info_url, size)\n",
        "      \n",
        "    else:\n",
        "    '''\n",
        "    url = canvases[i][\"images\"][0][\"resource\"][\"@id\"]\n",
        "    request.urlretrieve(url, path)\n",
        "\n",
        "def createImagesFromPDF(pdf_path, img_dir, filename):\n",
        "  print(\"### PDFファイルから画像ファイルの作成 ###\")\n",
        "  pdf_path = Path(pdf_path)\n",
        "  img_path=Path(img_dir)\n",
        "  convert_from_path(pdf_path, output_folder=img_path,fmt='jpeg', output_file=pdf_path.stem,dpi=100)\n",
        "\n",
        "def execByLocalPdf(file, process):\n",
        "  filename = getFileIdAndName(file)\n",
        "  tmp_dir, tmp_img_dir = prepareImgDir(filename)\n",
        "  createImagesFromPDF(file, tmp_img_dir, filename)\n",
        "  main(tmp_dir, output_dir, process)\n",
        "\n",
        "def getFileIdAndName(path):\n",
        "  print(\"### ファイルIDと名前の取得 ###\")\n",
        "  return path.split(\"/\")[-1].split(\".\")[0]\n",
        "\n",
        "def main(input_dir, output_dir, process):\n",
        "  print(\"### 推論の実行 ###\")\n",
        "\n",
        "  output_dir_by_param = createOutputDirIfExist(output_dir)\n",
        "\n",
        "  p = getProcessParam(process)\n",
        "\n",
        "  # CPUのみを使用する場合\n",
        "  c = \"config.yml\"\n",
        "  try:\n",
        "    if not use_gpu:\n",
        "      c = \"config_cpu.yml\"\n",
        "  except:\n",
        "    pass\n",
        "\n",
        "  !python main.py infer -c $c -s s $input_dir $output_dir_by_param -x -i -p $p\n",
        "  clear_output()\n",
        "\n",
        "  mergeTxtAndDownload(output_dir_by_param)\n",
        "\n",
        "# 出力フォルダの設定\n",
        "\n",
        "def createOutputDirIfExist(output_dir):\n",
        "  if os.path.exists(output_dir): \n",
        "    run_id = datetime.datetime.now(pytz.timezone('Asia/Tokyo')).strftime('%Y%m%d%H%M%S')\n",
        "    output_dir = output_dir + \"_\" + run_id\n",
        "    print(\"!!! 指定された出力フォルダが既に存在するため、 {} に出力します。 !!!\".format(output_dir))\n",
        "\n",
        "  # 親フォルダの作成\n",
        "  createParentDir(output_dir)\n",
        "\n",
        "  return output_dir\n",
        "\n",
        "# txtファイルにまとめる\n",
        "def mergeTxtAndDownload(output_dir):\n",
        "  tmp_dirs = glob.glob(output_dir + \"/*/txt\")\n",
        "  txt_dir = tmp_dirs[0]\n",
        "  \n",
        "  file_id = txt_dir.split(\"/\")[-2]\n",
        "  output_id_dir = output_dir + \"/\" + file_id\n",
        "\n",
        "  txt_files = glob.glob(txt_dir + \"/*.txt\")\n",
        "  txt_files = sorted(txt_files)\n",
        "  merged_txt_file_path = output_id_dir + \"/\" + file_id + '.txt'\n",
        "  merged_txt_file = open(merged_txt_file_path, 'a')\n",
        "  for each_txt_file_path in txt_files:\n",
        "    each_txt_file = open(each_txt_file_path, 'r')\n",
        "    data = each_txt_file.read()\n",
        "    each_txt_file.close()\n",
        "    merged_txt_file.write(data+\"\\n\")\n",
        "  merged_txt_file.close()\n",
        "\n",
        "  files.download(merged_txt_file_path)"
      ],
      "metadata": {
        "id": "lBM1IA3iscNW",
        "cellView": "form"
      },
      "execution_count": null,
      "outputs": []
    },
    {
      "cell_type": "markdown",
      "source": [
        "## 2.設定\n",
        "\n",
        "以下、入力方式によって適切なものを選んでください。\n",
        "\n",
        "- 2.1 既にダウンロード済みの画像ファイルを対象にする場合（Sigle input dir mode）\n",
        "- 2.2 既にダウンロード済みの画像ファイルを対象にする場合（Image file mode: 単体の画像ファイルを入力として与える場合）\n",
        "- 2.3 既にダウンロード済みのPDFファイルを対象にする場合\n",
        "- 2.4 PDFファイルのURLを指定する場合\n",
        "- 2.5 IIIFマニフェストファイルのURLを指定する場合"
      ],
      "metadata": {
        "id": "xeMV3Cnpp8nt"
      }
    },
    {
      "cell_type": "markdown",
      "source": [
        "### 2.1 既にダウンロード済みの画像ファイルを対象にする場合（Sigle input dir mode）\n",
        "\n",
        "- input_dir: 入力するフォルダのパス\n",
        "  - 指定したフォルダの下にimgフォルダを用意し、その中に画像を格納してください。\n",
        "- output_dir: 出力するフォルダへのパス"
      ],
      "metadata": {
        "id": "OPICIT1-Z6_3"
      }
    },
    {
      "cell_type": "code",
      "source": [
        "#@title 設定\n",
        "\n",
        "input_dir = \"/content/drive/MyDrive/ndl_ocr/input\" #@param {type:\"string\"}\n",
        "output_dir = \"/content/drive/MyDrive/ndl_ocr/output\" #@param {type:\"string\"}\n",
        "process = \"\\u3059\\u3079\\u3066: \\u30CE\\u30C9\\u5143\\u5206\\u5272,\\u50BE\\u304D\\u88DC\\u6B63,\\u30EC\\u30A4\\u30A2\\u30A6\\u30C8\\u62BD\\u51FA,\\u6587\\u5B57\\u8A8D\\u8B58(OCR)\" #@param [\"\\u3059\\u3079\\u3066: \\u30CE\\u30C9\\u5143\\u5206\\u5272,\\u50BE\\u304D\\u88DC\\u6B63,\\u30EC\\u30A4\\u30A2\\u30A6\\u30C8\\u62BD\\u51FA,\\u6587\\u5B57\\u8A8D\\u8B58(OCR)\", \"\\u50BE\\u304D\\u88DC\\u6B63,\\u30EC\\u30A4\\u30A2\\u30A6\\u30C8\\u62BD\\u51FA,\\u6587\\u5B57\\u8A8D\\u8B58(OCR)\", \"\\u30EC\\u30A4\\u30A2\\u30A6\\u30C8\\u62BD\\u51FA,\\u6587\\u5B57\\u8A8D\\u8B58(OCR)\", \"\\u6587\\u5B57\\u8A8D\\u8B58(OCR)\"]\n",
        "\n",
        "output_dir = str(Path(output_dir))\n",
        "input_dir = str(Path(input_dir))"
      ],
      "metadata": {
        "id": "ys38ZqIqaC55",
        "cellView": "form"
      },
      "execution_count": null,
      "outputs": []
    },
    {
      "cell_type": "code",
      "source": [
        "#@title 実行\n",
        "main(input_dir, output_dir, process)"
      ],
      "metadata": {
        "id": "XN3Elhn3aROK",
        "cellView": "form"
      },
      "execution_count": null,
      "outputs": []
    },
    {
      "cell_type": "markdown",
      "source": [
        "### 2.2 既にダウンロード済みの画像ファイルを対象にする場合（Image file mode: 単体の画像ファイルを入力として与える場合）\n",
        "\n",
        "以下のノートブック（Ver.1）をご利用ください。\n",
        "\n",
        "https://colab.research.google.com/github/nakamura196/ndl_ocr/blob/main/ndl_ocr_folder.ipynb"
      ],
      "metadata": {
        "id": "7arhNS34eIWM"
      }
    },
    {
      "cell_type": "markdown",
      "source": [
        "### 2.3 既にダウンロード済みのPDFファイルを対象にする場合\n",
        "\n",
        "- input_file: PDFファイルのパス\n",
        "- output_dir: 出力するフォルダへのパス"
      ],
      "metadata": {
        "id": "4DFFxQECQtzJ"
      }
    },
    {
      "cell_type": "code",
      "source": [
        "#@title　設定\n",
        "\n",
        "input_file = \"/content/drive/MyDrive/ndl_ocr/input/pdfs/tygz-001.pdf\" #@param {type:\"string\"}\n",
        "# input_dir = \"/content/drive/MyDrive/ndl_ocr/input/pdfs\"\n",
        "output_dir = \"/content/drive/MyDrive/ndl_ocr/output/pdf_local\" #@param {type:\"string\"}\n",
        "process = \"\\u3059\\u3079\\u3066: \\u30CE\\u30C9\\u5143\\u5206\\u5272,\\u50BE\\u304D\\u88DC\\u6B63,\\u30EC\\u30A4\\u30A2\\u30A6\\u30C8\\u62BD\\u51FA,\\u6587\\u5B57\\u8A8D\\u8B58(OCR)\" #@param [\"\\u3059\\u3079\\u3066: \\u30CE\\u30C9\\u5143\\u5206\\u5272,\\u50BE\\u304D\\u88DC\\u6B63,\\u30EC\\u30A4\\u30A2\\u30A6\\u30C8\\u62BD\\u51FA,\\u6587\\u5B57\\u8A8D\\u8B58(OCR)\", \"\\u50BE\\u304D\\u88DC\\u6B63,\\u30EC\\u30A4\\u30A2\\u30A6\\u30C8\\u62BD\\u51FA,\\u6587\\u5B57\\u8A8D\\u8B58(OCR)\", \"\\u30EC\\u30A4\\u30A2\\u30A6\\u30C8\\u62BD\\u51FA,\\u6587\\u5B57\\u8A8D\\u8B58(OCR)\", \"\\u6587\\u5B57\\u8A8D\\u8B58(OCR)\"]\n",
        "\n",
        "output_dir = str(Path(output_dir))\n",
        "# input_dir = str(Path(input_dir))"
      ],
      "metadata": {
        "id": "vS6wUjUQq2ew",
        "cellView": "form"
      },
      "execution_count": null,
      "outputs": []
    },
    {
      "cell_type": "code",
      "source": [
        "#@title 実行\n",
        "execByLocalPdf(input_file, process)\n",
        "\n",
        "# 複数ファイルの場合（TODO）\n",
        "'''\n",
        "target_files = glob.glob(input_dir+\"/**/*.pdf\", recursive=True)\n",
        "for file in target_files:\n",
        "  execByLocalPdf(file)\n",
        "'''\n",
        "\n",
        "pass"
      ],
      "metadata": {
        "id": "qTYCmtfxuos6",
        "cellView": "form"
      },
      "execution_count": null,
      "outputs": []
    },
    {
      "cell_type": "markdown",
      "source": [
        "### 2.4 PDFファイルのURLを指定する場合\n",
        "\n",
        "- url: PDFファイルのURL\n",
        "- output_dir: 出力するフォルダへのパス"
      ],
      "metadata": {
        "id": "jlitIIC5SkrR"
      }
    },
    {
      "cell_type": "code",
      "source": [
        "#@title 設定\n",
        "\n",
        "url = \"https://dglb01.ninjal.ac.jp/ninjaldl/toyogakuge/001/PDF/tygz-001.pdf\" #@param {type:\"string\"}\n",
        "output_dir = \"/content/drive/MyDrive/ndl_ocr/output/pdf_url\" #@param {type:\"string\"}\n",
        "process = \"\\u3059\\u3079\\u3066: \\u30CE\\u30C9\\u5143\\u5206\\u5272,\\u50BE\\u304D\\u88DC\\u6B63,\\u30EC\\u30A4\\u30A2\\u30A6\\u30C8\\u62BD\\u51FA,\\u6587\\u5B57\\u8A8D\\u8B58(OCR)\" #@param [\"\\u3059\\u3079\\u3066: \\u30CE\\u30C9\\u5143\\u5206\\u5272,\\u50BE\\u304D\\u88DC\\u6B63,\\u30EC\\u30A4\\u30A2\\u30A6\\u30C8\\u62BD\\u51FA,\\u6587\\u5B57\\u8A8D\\u8B58(OCR)\", \"\\u50BE\\u304D\\u88DC\\u6B63,\\u30EC\\u30A4\\u30A2\\u30A6\\u30C8\\u62BD\\u51FA,\\u6587\\u5B57\\u8A8D\\u8B58(OCR)\", \"\\u30EC\\u30A4\\u30A2\\u30A6\\u30C8\\u62BD\\u51FA,\\u6587\\u5B57\\u8A8D\\u8B58(OCR)\", \"\\u6587\\u5B57\\u8A8D\\u8B58(OCR)\"]\n",
        "\n",
        "output_dir = str(Path(output_dir))\n",
        "# input_dir = str(Path(input_dir))"
      ],
      "metadata": {
        "cellView": "form",
        "id": "_4LUHvYqCcxD"
      },
      "execution_count": null,
      "outputs": []
    },
    {
      "cell_type": "code",
      "source": [
        "#@title　実行\n",
        "\n",
        "filename = getFileIdAndName(url)\n",
        "tmp_dir, tmp_img_dir = prepareImgDir(filename)\n",
        "\n",
        "print(\"### PDFファイルのダウンロード ###\")\n",
        "tmp_pdf_path = tmp_dir + \"/\" + filename + \".pdf\"\n",
        "!curl $url -o $tmp_pdf_path\n",
        "\n",
        "createImagesFromPDF(tmp_pdf_path, tmp_img_dir, filename)\n",
        "\n",
        "main(tmp_dir, output_dir, process)"
      ],
      "metadata": {
        "cellView": "form",
        "id": "E2-ZQLopCzVp"
      },
      "execution_count": null,
      "outputs": []
    },
    {
      "cell_type": "markdown",
      "source": [
        "### 2.5 IIIFマニフェストファイルのURLを指定する場合\n",
        "\n",
        "- url: IIIFマニフェストファイルのURL\n",
        "- output_dir: 出力するフォルダへのパス\n",
        "- process_size: 処理するcanvas数。-1を指定するとすべてのcanvasを処理対象とする。負荷軽減のため、初期値は5に設定しています。"
      ],
      "metadata": {
        "id": "LhMvDLsXUZde"
      }
    },
    {
      "cell_type": "code",
      "source": [
        "#@title 設定\n",
        "\n",
        "url = \"https://www.dl.ndl.go.jp/api/iiif/3437686/manifest.json\" #@param {type:\"string\"}\n",
        "output_dir = \"/content/drive/MyDrive/ndl_ocr/output/iiif\" #@param {type:\"string\"}\n",
        "process = \"\\u3059\\u3079\\u3066: \\u30CE\\u30C9\\u5143\\u5206\\u5272,\\u50BE\\u304D\\u88DC\\u6B63,\\u30EC\\u30A4\\u30A2\\u30A6\\u30C8\\u62BD\\u51FA,\\u6587\\u5B57\\u8A8D\\u8B58(OCR)\" #@param [\"\\u3059\\u3079\\u3066: \\u30CE\\u30C9\\u5143\\u5206\\u5272,\\u50BE\\u304D\\u88DC\\u6B63,\\u30EC\\u30A4\\u30A2\\u30A6\\u30C8\\u62BD\\u51FA,\\u6587\\u5B57\\u8A8D\\u8B58(OCR)\", \"\\u50BE\\u304D\\u88DC\\u6B63,\\u30EC\\u30A4\\u30A2\\u30A6\\u30C8\\u62BD\\u51FA,\\u6587\\u5B57\\u8A8D\\u8B58(OCR)\", \"\\u30EC\\u30A4\\u30A2\\u30A6\\u30C8\\u62BD\\u51FA,\\u6587\\u5B57\\u8A8D\\u8B58(OCR)\", \"\\u6587\\u5B57\\u8A8D\\u8B58(OCR)\"]\n",
        "\n",
        "process_size = 5  #@param {type:\"number\"}\n",
        "\n",
        "output_dir = str(Path(output_dir))"
      ],
      "metadata": {
        "cellView": "form",
        "id": "tPJ9M9_YJ6fq"
      },
      "execution_count": null,
      "outputs": []
    },
    {
      "cell_type": "code",
      "source": [
        "#@title 実行\n",
        "filename = getFileIdAndName(url)\n",
        "tmp_dir, tmp_img_dir = prepareImgDir(filename)\n",
        "downloadImages(url, tmp_img_dir)\n",
        "main(tmp_dir, output_dir, process)"
      ],
      "metadata": {
        "cellView": "form",
        "id": "EZyd0hF4KKjs"
      },
      "execution_count": null,
      "outputs": []
    }
  ]
}
