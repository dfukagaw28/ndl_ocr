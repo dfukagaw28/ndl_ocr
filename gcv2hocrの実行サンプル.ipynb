{
  "nbformat": 4,
  "nbformat_minor": 0,
  "metadata": {
    "colab": {
      "name": "gcv2hocrの実行サンプル.ipynb",
      "provenance": [],
      "include_colab_link": true
    },
    "kernelspec": {
      "name": "python3",
      "display_name": "Python 3"
    },
    "language_info": {
      "name": "python"
    }
  },
  "cells": [
    {
      "cell_type": "markdown",
      "metadata": {
        "id": "view-in-github",
        "colab_type": "text"
      },
      "source": [
        "<a href=\"https://colab.research.google.com/github/nakamura196/ndl_ocr/blob/main/gcv2hocr%E3%81%AE%E5%AE%9F%E8%A1%8C%E3%82%B5%E3%83%B3%E3%83%97%E3%83%AB.ipynb\" target=\"_parent\"><img src=\"https://colab.research.google.com/assets/colab-badge.svg\" alt=\"Open In Colab\"/></a>"
      ]
    },
    {
      "cell_type": "markdown",
      "source": [
        "# Google Colabを用いたgcv2hocrの実行例\n",
        "\n",
        "Google Cloud Vision APIの実行結果から透明テキスト付きPDFファイルを作成します。\n",
        "\n",
        "参考：\n",
        "\n",
        "https://github.com/dinosauria123/gcv2hocr.git"
      ],
      "metadata": {
        "id": "ggQRMpKw9iOu"
      }
    },
    {
      "cell_type": "markdown",
      "source": [
        "## APIキー\n",
        "\n",
        "APIキーを入力してください。"
      ],
      "metadata": {
        "id": "9QKguJL1MLpb"
      }
    },
    {
      "cell_type": "code",
      "source": [
        "api_key = \"<取得したAPIキー>\""
      ],
      "metadata": {
        "id": "MHZMl-DDMI1j"
      },
      "execution_count": 13,
      "outputs": []
    },
    {
      "cell_type": "markdown",
      "source": [
        "## 初期セットアップ"
      ],
      "metadata": {
        "id": "axYRkUGH94OD"
      }
    },
    {
      "cell_type": "code",
      "execution_count": 28,
      "metadata": {
        "id": "fka2SYPb5sIl"
      },
      "outputs": [],
      "source": [
        "# google driveのマウント\n",
        "from google.colab import drive\n",
        "drive.mount('/content/drive/')\n",
        "\n",
        "%cd /content\n",
        "from IPython.display import clear_output \n",
        "\n",
        "# ライブラリのインストール\n",
        "!pip install -q python-bidi\n",
        "!pip install -q reportlab\n",
        "\n",
        "# ソースコードのダウンロード\n",
        "!git clone https://github.com/dinosauria123/gcv2hocr.git\n",
        "%cd  gcv2hocr\n",
        "\n",
        "# hocrファイルをpdfファイルに変換するスクリプトのダウンロード\n",
        "# ダウンロード元のGitHubリポジトリ\n",
        "# https://github.com/ocropus/hocr-tools\n",
        "!wget https://raw.githubusercontent.com/ocropus/hocr-tools/master/hocr-pdf\n",
        "\n",
        "# pdf\n",
        "!apt-get install poppler-utils\n",
        "!pip install -q pdf2image\n",
        "\n",
        "clear_output()"
      ]
    },
    {
      "cell_type": "code",
      "source": [
        "from pathlib import Path\n",
        "import glob\n",
        "from tqdm import tqdm\n",
        "from google.colab import files\n",
        "import requests\n",
        "import os\n",
        "import time\n",
        "from urllib import request\n",
        "from pdf2image import convert_from_path\n",
        "\n",
        "def exec(input_dir):\n",
        "  target_files = glob.glob(input_dir + \"/*.jpg\")\n",
        "  for target_file in tqdm(target_files):\n",
        "    output_path = target_file + \".json\"\n",
        "    if not os.path.exists(output_path):\n",
        "      !./gcvocr.sh $target_file $api_key\n",
        "    hocr_path = target_file.replace(\".jpg\", \".hocr\")\n",
        "    !python gcv2hocr.py $output_path > $hocr_path\n",
        "\n",
        "  file_id = input_dir.split(\"/\")[-2]\n",
        "  pdf_path = \"{}.pdf\".format(input_dir.replace(\"/data\", \"/\" + file_id))\n",
        "  print()\n",
        "  print(\"以下に出力しました。\")\n",
        "  print(pdf_path)\n",
        "  !python hocr-pdf --savefile $pdf_path $input_dir\n",
        "  files.download(pdf_path)\n",
        "\n",
        "# 画像のダウンロード\n",
        "def downloadImages(url, output_dir, process_size, time_sleep):\n",
        "  print(\"### IIIFマニフェストを用いた画像のダウンロード ###\")\n",
        "  df = requests.get(url).json()\n",
        "  canvases = df[\"sequences\"][0][\"canvases\"]\n",
        "  if process_size > 0:\n",
        "    canvases = canvases[0:process_size]\n",
        "  for i in tqdm(range(len(canvases))):\n",
        "    res = canvases[i][\"images\"][0][\"resource\"]\n",
        "    index = str(i+1).zfill(4)\n",
        "    path = \"{}/{}.jpg\".format(output_dir, index)\n",
        "    os.makedirs(os.path.dirname(path), exist_ok=True)\n",
        "    url = canvases[i][\"images\"][0][\"resource\"][\"@id\"]\n",
        "\n",
        "    time.sleep(time_sleep)\n",
        "    request.urlretrieve(url, path)\n",
        "\n",
        "def createImagesFromPDF(pdf_path, img_dir):\n",
        "  print(\"### PDFファイルから画像ファイルの作成 ###\")\n",
        "  pdf_path = Path(pdf_path)\n",
        "  img_path=Path(img_dir)\n",
        "  convert_from_path(pdf_path, output_folder=img_path,fmt='jpeg', output_file=pdf_path.stem,dpi=100)"
      ],
      "metadata": {
        "id": "PbRDmUIey1pl"
      },
      "execution_count": 61,
      "outputs": []
    },
    {
      "cell_type": "markdown",
      "source": [
        "## 単一画像のURL\n",
        "\n",
        "入力サンプル：「校異源氏物語」（国立国会図書館所蔵）"
      ],
      "metadata": {
        "id": "XRx8WzzuL_U_"
      }
    },
    {
      "cell_type": "code",
      "source": [
        "#@title 設定\n",
        "\n",
        "url = \"https://www.dl.ndl.go.jp/api/iiif/3437686/R0000006/full/full/0/default.jpg\" #@param {type:\"string\"}\n",
        "output_dir = \"/content/drive/MyDrive/gcv2ocr/3437686\" #@param {type:\"string\"}\n",
        "\n",
        "output_dir = str(Path(output_dir))"
      ],
      "metadata": {
        "id": "Xa7ToLJavRII"
      },
      "execution_count": 33,
      "outputs": []
    },
    {
      "cell_type": "code",
      "source": [
        "#@title 実行\n",
        "\n",
        "# 画像のダウンロード\n",
        "_output_dir = output_dir + \"/data\"\n",
        "os.makedirs(_output_dir, exist_ok=True)\n",
        "output_path = _output_dir + \"/\" + url.split(\"/\")[-1]\n",
        "!wget $url -O $output_path\n",
        "\n",
        "exec(_output_dir)"
      ],
      "metadata": {
        "id": "r2r8_pG3KFvg",
        "outputId": "7f9aa11d-172b-4e0d-aa47-4ad83366eaee",
        "colab": {
          "base_uri": "https://localhost:8080/",
          "height": 52
        }
      },
      "execution_count": 35,
      "outputs": [
        {
          "output_type": "stream",
          "name": "stderr",
          "text": [
            "100%|██████████| 1/1 [00:00<00:00,  4.60it/s]\n"
          ]
        },
        {
          "output_type": "stream",
          "name": "stdout",
          "text": [
            "/content/drive/MyDrive/gcv2ocr/3437686/3437686.pdf\n"
          ]
        },
        {
          "output_type": "display_data",
          "data": {
            "text/plain": [
              "<IPython.core.display.Javascript object>"
            ],
            "application/javascript": [
              "\n",
              "    async function download(id, filename, size) {\n",
              "      if (!google.colab.kernel.accessAllowed) {\n",
              "        return;\n",
              "      }\n",
              "      const div = document.createElement('div');\n",
              "      const label = document.createElement('label');\n",
              "      label.textContent = `Downloading \"${filename}\": `;\n",
              "      div.appendChild(label);\n",
              "      const progress = document.createElement('progress');\n",
              "      progress.max = size;\n",
              "      div.appendChild(progress);\n",
              "      document.body.appendChild(div);\n",
              "\n",
              "      const buffers = [];\n",
              "      let downloaded = 0;\n",
              "\n",
              "      const channel = await google.colab.kernel.comms.open(id);\n",
              "      // Send a message to notify the kernel that we're ready.\n",
              "      channel.send({})\n",
              "\n",
              "      for await (const message of channel.messages) {\n",
              "        // Send a message to notify the kernel that we're ready.\n",
              "        channel.send({})\n",
              "        if (message.buffers) {\n",
              "          for (const buffer of message.buffers) {\n",
              "            buffers.push(buffer);\n",
              "            downloaded += buffer.byteLength;\n",
              "            progress.value = downloaded;\n",
              "          }\n",
              "        }\n",
              "      }\n",
              "      const blob = new Blob(buffers, {type: 'application/binary'});\n",
              "      const a = document.createElement('a');\n",
              "      a.href = window.URL.createObjectURL(blob);\n",
              "      a.download = filename;\n",
              "      div.appendChild(a);\n",
              "      a.click();\n",
              "      div.remove();\n",
              "    }\n",
              "  "
            ]
          },
          "metadata": {}
        },
        {
          "output_type": "display_data",
          "data": {
            "text/plain": [
              "<IPython.core.display.Javascript object>"
            ],
            "application/javascript": [
              "download(\"download_9f45557c-ee07-4e57-ba30-f5a817083e35\", \"3437686.pdf\", 1453569)"
            ]
          },
          "metadata": {}
        }
      ]
    },
    {
      "cell_type": "markdown",
      "source": [
        "## PDF\n",
        "\n",
        "入力サンプル：「東洋学芸雑誌」（人間文化研究機構国立国語研究所所蔵）"
      ],
      "metadata": {
        "id": "CG9f0ISz0lC9"
      }
    },
    {
      "cell_type": "code",
      "source": [
        "#@title 設定\n",
        "\n",
        "url = \"https://dglb01.ninjal.ac.jp/ninjaldl/toyogakuge/001/PDF/tygz-001.pdf\" #@param {type:\"string\"}\n",
        "output_dir = \"/content/drive/MyDrive/gcv2ocr/tygz-001\" #@param {type:\"string\"}\n",
        "\n",
        "output_dir = str(Path(output_dir))"
      ],
      "metadata": {
        "id": "olWuR8uQ0md6"
      },
      "execution_count": 54,
      "outputs": []
    },
    {
      "cell_type": "code",
      "source": [
        "#@title 実行\n",
        "\n",
        "# ファイルのダウンロード\n",
        "_output_dir = output_dir + \"/data\"\n",
        "os.makedirs(_output_dir, exist_ok=True)\n",
        "tmp_pdf_path = output_dir + \"/raw.pdf\"\n",
        "!curl $url -o $tmp_pdf_path\n",
        "\n",
        "# 画像の作成\n",
        "filename = output_dir.split(\"/\")[-1]\n",
        "createImagesFromPDF(tmp_pdf_path, _output_dir)\n",
        "\n",
        "exec(_output_dir)"
      ],
      "metadata": {
        "id": "CvHfKVAg0obi",
        "outputId": "9e224468-b4df-413e-a079-dc1b4bf224f7",
        "colab": {
          "base_uri": "https://localhost:8080/",
          "height": 160
        }
      },
      "execution_count": 63,
      "outputs": [
        {
          "output_type": "stream",
          "name": "stdout",
          "text": [
            "  % Total    % Received % Xferd  Average Speed   Time    Time     Time  Current\n",
            "                                 Dload  Upload   Total   Spent    Left  Speed\n",
            "100 14.1M  100 14.1M    0     0  5459k      0  0:00:02  0:00:02 --:--:-- 5459k\n",
            "### PDFファイルから画像ファイルの作成 ###\n"
          ]
        },
        {
          "output_type": "stream",
          "name": "stderr",
          "text": [
            "100%|██████████| 23/23 [00:04<00:00,  4.61it/s]\n"
          ]
        },
        {
          "output_type": "stream",
          "name": "stdout",
          "text": [
            "\n",
            "以下に出力しました。\n",
            "/content/drive/MyDrive/gcv2ocr/tygz-001/tygz-001.pdf\n"
          ]
        },
        {
          "output_type": "display_data",
          "data": {
            "text/plain": [
              "<IPython.core.display.Javascript object>"
            ],
            "application/javascript": [
              "\n",
              "    async function download(id, filename, size) {\n",
              "      if (!google.colab.kernel.accessAllowed) {\n",
              "        return;\n",
              "      }\n",
              "      const div = document.createElement('div');\n",
              "      const label = document.createElement('label');\n",
              "      label.textContent = `Downloading \"${filename}\": `;\n",
              "      div.appendChild(label);\n",
              "      const progress = document.createElement('progress');\n",
              "      progress.max = size;\n",
              "      div.appendChild(progress);\n",
              "      document.body.appendChild(div);\n",
              "\n",
              "      const buffers = [];\n",
              "      let downloaded = 0;\n",
              "\n",
              "      const channel = await google.colab.kernel.comms.open(id);\n",
              "      // Send a message to notify the kernel that we're ready.\n",
              "      channel.send({})\n",
              "\n",
              "      for await (const message of channel.messages) {\n",
              "        // Send a message to notify the kernel that we're ready.\n",
              "        channel.send({})\n",
              "        if (message.buffers) {\n",
              "          for (const buffer of message.buffers) {\n",
              "            buffers.push(buffer);\n",
              "            downloaded += buffer.byteLength;\n",
              "            progress.value = downloaded;\n",
              "          }\n",
              "        }\n",
              "      }\n",
              "      const blob = new Blob(buffers, {type: 'application/binary'});\n",
              "      const a = document.createElement('a');\n",
              "      a.href = window.URL.createObjectURL(blob);\n",
              "      a.download = filename;\n",
              "      div.appendChild(a);\n",
              "      a.click();\n",
              "      div.remove();\n",
              "    }\n",
              "  "
            ]
          },
          "metadata": {}
        },
        {
          "output_type": "display_data",
          "data": {
            "text/plain": [
              "<IPython.core.display.Javascript object>"
            ],
            "application/javascript": [
              "download(\"download_99f9d323-4c01-47c5-92a5-7aa5485b0c2b\", \"tygz-001.pdf\", 46159538)"
            ]
          },
          "metadata": {}
        }
      ]
    },
    {
      "cell_type": "markdown",
      "source": [
        "## IIIF\n",
        "\n",
        "入力サンプル：「校異源氏物語」（国立国会図書館所蔵）"
      ],
      "metadata": {
        "id": "b90ky_C-MsOi"
      }
    },
    {
      "cell_type": "code",
      "source": [
        "#@title 設定\n",
        "\n",
        "url = \"https://www.dl.ndl.go.jp/api/iiif/3437686/manifest.json\" #@param {type:\"string\"}\n",
        "output_dir = \"/content/drive/MyDrive/gcv2ocr/3437686_iiif\" #@param {type:\"string\"}\n",
        "\n",
        "process_size =   5#@param {type:\"number\"}\n",
        "sleep_time =   1#@param {type:\"number\"}\n",
        "\n",
        "output_dir = str(Path(output_dir))"
      ],
      "metadata": {
        "id": "osTnqmKnMr00"
      },
      "execution_count": 64,
      "outputs": []
    },
    {
      "cell_type": "code",
      "source": [
        "#@title 実行\n",
        "_output_dir = output_dir + \"/data\"\n",
        "downloadImages(url, _output_dir, process_size, sleep_time)\n",
        "exec(_output_dir)"
      ],
      "metadata": {
        "id": "NfB0tpDBNGoo",
        "outputId": "7f51f54b-8bb9-4d78-b045-cbc6acb7b2c4",
        "colab": {
          "base_uri": "https://localhost:8080/",
          "height": 124
        }
      },
      "execution_count": 65,
      "outputs": [
        {
          "output_type": "stream",
          "name": "stdout",
          "text": [
            "### IIIFマニフェストを用いた画像のダウンロード ###\n"
          ]
        },
        {
          "output_type": "stream",
          "name": "stderr",
          "text": [
            "100%|██████████| 5/5 [00:23<00:00,  4.63s/it]\n",
            "100%|██████████| 5/5 [00:00<00:00,  6.27it/s]\n"
          ]
        },
        {
          "output_type": "stream",
          "name": "stdout",
          "text": [
            "\n",
            "以下に出力しました。\n",
            "/content/drive/MyDrive/gcv2ocr/3437686_iiif/3437686_iiif.pdf\n"
          ]
        },
        {
          "output_type": "display_data",
          "data": {
            "text/plain": [
              "<IPython.core.display.Javascript object>"
            ],
            "application/javascript": [
              "\n",
              "    async function download(id, filename, size) {\n",
              "      if (!google.colab.kernel.accessAllowed) {\n",
              "        return;\n",
              "      }\n",
              "      const div = document.createElement('div');\n",
              "      const label = document.createElement('label');\n",
              "      label.textContent = `Downloading \"${filename}\": `;\n",
              "      div.appendChild(label);\n",
              "      const progress = document.createElement('progress');\n",
              "      progress.max = size;\n",
              "      div.appendChild(progress);\n",
              "      document.body.appendChild(div);\n",
              "\n",
              "      const buffers = [];\n",
              "      let downloaded = 0;\n",
              "\n",
              "      const channel = await google.colab.kernel.comms.open(id);\n",
              "      // Send a message to notify the kernel that we're ready.\n",
              "      channel.send({})\n",
              "\n",
              "      for await (const message of channel.messages) {\n",
              "        // Send a message to notify the kernel that we're ready.\n",
              "        channel.send({})\n",
              "        if (message.buffers) {\n",
              "          for (const buffer of message.buffers) {\n",
              "            buffers.push(buffer);\n",
              "            downloaded += buffer.byteLength;\n",
              "            progress.value = downloaded;\n",
              "          }\n",
              "        }\n",
              "      }\n",
              "      const blob = new Blob(buffers, {type: 'application/binary'});\n",
              "      const a = document.createElement('a');\n",
              "      a.href = window.URL.createObjectURL(blob);\n",
              "      a.download = filename;\n",
              "      div.appendChild(a);\n",
              "      a.click();\n",
              "      div.remove();\n",
              "    }\n",
              "  "
            ]
          },
          "metadata": {}
        },
        {
          "output_type": "display_data",
          "data": {
            "text/plain": [
              "<IPython.core.display.Javascript object>"
            ],
            "application/javascript": [
              "download(\"download_482bc4c9-6ad5-413b-8c82-293725de379b\", \"3437686_iiif.pdf\", 6825211)"
            ]
          },
          "metadata": {}
        }
      ]
    }
  ]
}