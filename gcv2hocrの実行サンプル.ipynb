{
  "nbformat": 4,
  "nbformat_minor": 0,
  "metadata": {
    "colab": {
      "name": "gcv2hocrの実行サンプル.ipynb",
      "provenance": [],
      "include_colab_link": true
    },
    "kernelspec": {
      "name": "python3",
      "display_name": "Python 3"
    },
    "language_info": {
      "name": "python"
    }
  },
  "cells": [
    {
      "cell_type": "markdown",
      "metadata": {
        "id": "view-in-github",
        "colab_type": "text"
      },
      "source": [
        "<a href=\"https://colab.research.google.com/github/nakamura196/ndl_ocr/blob/main/gcv2hocr%E3%81%AE%E5%AE%9F%E8%A1%8C%E3%82%B5%E3%83%B3%E3%83%97%E3%83%AB.ipynb\" target=\"_parent\"><img src=\"https://colab.research.google.com/assets/colab-badge.svg\" alt=\"Open In Colab\"/></a>"
      ]
    },
    {
      "cell_type": "markdown",
      "source": [
        "# Google Colabを用いたgcv2hocrの実行例\n",
        "\n",
        "Google Cloud Vision APIの実行結果から透明テキスト付きPDFファイルを作成します。\n",
        "\n",
        "参考：\n",
        "\n",
        "https://github.com/dinosauria123/gcv2hocr.git"
      ],
      "metadata": {
        "id": "ggQRMpKw9iOu"
      }
    },
    {
      "cell_type": "markdown",
      "source": [
        "## APIキー\n",
        "\n",
        "APIキーを入力してください。"
      ],
      "metadata": {
        "id": "9QKguJL1MLpb"
      }
    },
    {
      "cell_type": "code",
      "source": [
        "#@title\n",
        "\n",
        "api_key = \"<取得したAPIキー>\" #@param {type:\"string\"}"
      ],
      "metadata": {
        "id": "MHZMl-DDMI1j",
        "cellView": "form"
      },
      "execution_count": null,
      "outputs": []
    },
    {
      "cell_type": "code",
      "execution_count": null,
      "metadata": {
        "id": "fka2SYPb5sIl",
        "cellView": "form"
      },
      "outputs": [],
      "source": [
        "#@title 初期セットアップ\n",
        "# google driveのマウント\n",
        "from google.colab import drive\n",
        "drive.mount('/content/drive/')\n",
        "\n",
        "%cd /content\n",
        "from IPython.display import clear_output \n",
        "\n",
        "# ライブラリのインストール\n",
        "!pip install -q python-bidi\n",
        "!pip install -q reportlab\n",
        "\n",
        "# ソースコードのダウンロード\n",
        "!git clone https://github.com/dinosauria123/gcv2hocr.git\n",
        "%cd  gcv2hocr\n",
        "\n",
        "# hocrファイルをpdfファイルに変換するスクリプトのダウンロード\n",
        "# ダウンロード元のGitHubリポジトリ\n",
        "# https://github.com/ocropus/hocr-tools\n",
        "!wget https://raw.githubusercontent.com/ocropus/hocr-tools/master/hocr-pdf\n",
        "\n",
        "# pdf\n",
        "!apt-get install poppler-utils\n",
        "!pip install -q pdf2image\n",
        "\n",
        "# 変換\n",
        "!apt install imagemagick\n",
        "\n",
        "clear_output()"
      ]
    },
    {
      "cell_type": "code",
      "source": [
        "#@title 独自関数のロード\n",
        "\n",
        "from pathlib import Path\n",
        "import glob\n",
        "from tqdm import tqdm\n",
        "from google.colab import files\n",
        "import requests\n",
        "import os\n",
        "import time\n",
        "from urllib import request\n",
        "from pdf2image import convert_from_path\n",
        "import datetime\n",
        "import pytz\n",
        "\n",
        "extMap = {\n",
        "    \"jpg\": [\"jpg\", \"jpeg\", \"JPG\", \"JPEG\"],\n",
        "    \"png\": [\"png\", \"PNG\"],\n",
        "    \"tif\": [\"tif\", \"TIF\", \"tiff\", \"TIFF\"],\n",
        "}\n",
        "\n",
        "def createOutputDir(output_dir):\n",
        "  _output_dir = output_dir\n",
        "  if os.path.exists(output_dir):\n",
        "    run_id = datetime.datetime.now(pytz.timezone('Asia/Tokyo')).strftime('%Y%m%d%H%M%S')\n",
        "    _output_dir += \"_\" + run_id\n",
        "\n",
        "  _output_dir = _output_dir + \"/data\"\n",
        "  os.makedirs(_output_dir, exist_ok=True)\n",
        "  return _output_dir\n",
        "\n",
        "def exec(input_dir):\n",
        "  target_files = []\n",
        "  ext = \"\"\n",
        "  for key in extMap:\n",
        "    _target_files = glob.glob(input_dir + \"/*.\" + key)\n",
        "    if len(_target_files) > 0:\n",
        "      target_files = _target_files\n",
        "      ext = key\n",
        "  for target_file in tqdm(target_files):\n",
        "    output_path = target_file + \".json\"\n",
        "    if not os.path.exists(output_path):\n",
        "      !./gcvocr.sh $target_file $api_key\n",
        "    hocr_path = target_file.replace(\".\" + ext, \".hocr\")\n",
        "    !python gcv2hocr.py $output_path > $hocr_path\n",
        "\n",
        "  file_id = input_dir.split(\"/\")[-2]\n",
        "  pdf_path = \"{}.pdf\".format(input_dir.replace(\"/data\", \"/\" + file_id))\n",
        "\n",
        "  print()\n",
        "  print(\"以下に出力しました。\")\n",
        "  print(pdf_path)\n",
        "  !python hocr-pdf --savefile $pdf_path $input_dir\n",
        "  files.download(pdf_path)\n",
        "\n",
        "# 画像のダウンロード\n",
        "def downloadImages(url, output_dir, process_size, time_sleep):\n",
        "  print(\"### IIIFマニフェストを用いた画像のダウンロード ###\")\n",
        "  df = requests.get(url).json()\n",
        "  canvases = df[\"sequences\"][0][\"canvases\"]\n",
        "  if process_size > 0:\n",
        "    canvases = canvases[0:process_size]\n",
        "  for i in tqdm(range(len(canvases))):\n",
        "    res = canvases[i][\"images\"][0][\"resource\"]\n",
        "    index = str(i+1).zfill(4)\n",
        "    path = \"{}/{}.jpg\".format(output_dir, index)\n",
        "    os.makedirs(os.path.dirname(path), exist_ok=True)\n",
        "    url = canvases[i][\"images\"][0][\"resource\"][\"@id\"]\n",
        "\n",
        "    time.sleep(time_sleep)\n",
        "    request.urlretrieve(url, path)\n",
        "\n",
        "def createImagesFromPDF(pdf_path, img_dir):\n",
        "  print(\"### PDFファイルから画像ファイルの作成 ###\")\n",
        "  pdf_path = Path(pdf_path)\n",
        "  img_path=Path(img_dir)\n",
        "  convert_from_path(pdf_path, output_folder=img_path,fmt='jpeg', output_file=pdf_path.stem,dpi=100)\n",
        "\n",
        "def fixExtension(path):\n",
        "  root_ext_pair = os.path.splitext(path)\n",
        "  ext_without_dot = root_ext_pair[1][1:]\n",
        "  ext = \"\"\n",
        "  for key in extMap:\n",
        "    if ext_without_dot in extMap[key]:\n",
        "      ext = key\n",
        "  return root_ext_pair[0] + \".\" + ext\n",
        "\n",
        "def convert2jpg(path):\n",
        "  ext_without_dot = os.path.splitext(path)[1][1:]\n",
        "  if ext_without_dot in [\"png\", \"tif\"]:\n",
        "    output_path = path.replace(\".\" + ext_without_dot, \".jpg\")\n",
        "    !convert $path $output_path\n",
        "    return output_path\n",
        "  return path"
      ],
      "metadata": {
        "id": "PbRDmUIey1pl",
        "cellView": "form"
      },
      "execution_count": null,
      "outputs": []
    },
    {
      "cell_type": "markdown",
      "source": [
        "## 実行オプション\n",
        "\n",
        "- 画像\n",
        "  - [画像のURL](#scrollTo=XRx8WzzuL_U_)\n",
        "  - [画像のアップロード](#scrollTo=rsjwYDeno51u)\n",
        "- PDF\n",
        "  - [PDFのURL](#scrollTo=CG9f0ISz0lC9)\n",
        "  - [PDFのアップロード](#scrollTo=v4tcod72p-Jf)\n",
        "- IIIF\n",
        "  - [IIIF](#scrollTo=b90ky_C-MsOi)"
      ],
      "metadata": {
        "id": "S6euFA3oodn_"
      }
    },
    {
      "cell_type": "markdown",
      "source": [
        "## 画像のURL\n",
        "\n",
        "入力サンプル：「校異源氏物語」（国立国会図書館所蔵）"
      ],
      "metadata": {
        "id": "XRx8WzzuL_U_"
      }
    },
    {
      "cell_type": "code",
      "source": [
        "#@title 設定\n",
        "\n",
        "url = \"https://www.dl.ndl.go.jp/api/iiif/3437686/R0000006/full/full/0/default.jpg\" #@param {type:\"string\"}\n",
        "output_dir = \"/content/drive/MyDrive/gcv2ocr/3437686\" #@param {type:\"string\"}\n",
        "output_dir = str(Path(output_dir))"
      ],
      "metadata": {
        "id": "Xa7ToLJavRII",
        "cellView": "form"
      },
      "execution_count": null,
      "outputs": []
    },
    {
      "cell_type": "code",
      "source": [
        "#@title 実行\n",
        "_output_dir = createOutputDir(output_dir)\n",
        "\n",
        "# 画像のダウンロード\n",
        "output_path = _output_dir + \"/\" + url.split(\"/\")[-1]\n",
        "output_path = fixExtension(output_path)\n",
        "output_path = convert2jpg(output_path)\n",
        "!wget $url -O $output_path\n",
        "\n",
        "exec(_output_dir)"
      ],
      "metadata": {
        "id": "r2r8_pG3KFvg",
        "cellView": "form"
      },
      "execution_count": null,
      "outputs": []
    },
    {
      "cell_type": "markdown",
      "source": [
        "## 画像のアップロード"
      ],
      "metadata": {
        "id": "rsjwYDeno51u"
      }
    },
    {
      "cell_type": "code",
      "source": [
        "#@title 設定\n",
        "\n",
        "output_dir = \"/content/drive/MyDrive/gcv2ocr/img_upload\" #@param {type:\"string\"}\n",
        "output_dir = str(Path(output_dir))"
      ],
      "metadata": {
        "id": "DCEzC6dGo9qN",
        "cellView": "form"
      },
      "execution_count": null,
      "outputs": []
    },
    {
      "cell_type": "code",
      "source": [
        "#@title 実行\n",
        "_output_dir = createOutputDir(output_dir)\n",
        "\n",
        "# 画像のアップロード\n",
        "from google.colab import files\n",
        "uploaded = files.upload()\n",
        "input_file = next(iter(uploaded))\n",
        "\n",
        "# 画像の移動\n",
        "output_path = _output_dir + \"/\" + input_file\n",
        "output_path = fixExtension(output_path)\n",
        "output_path = convert2jpg(output_path)\n",
        "!cp \"$input_file\" \"$output_path\"\n",
        "!rm \"$input_file\"\n",
        "\n",
        "exec(_output_dir)"
      ],
      "metadata": {
        "id": "xz2TEEpzo_tw",
        "cellView": "form"
      },
      "execution_count": null,
      "outputs": []
    },
    {
      "cell_type": "markdown",
      "source": [
        "## PDFのURL\n",
        "\n",
        "入力サンプル：「東洋学芸雑誌」（人間文化研究機構国立国語研究所所蔵）"
      ],
      "metadata": {
        "id": "CG9f0ISz0lC9"
      }
    },
    {
      "cell_type": "code",
      "source": [
        "#@title 設定\n",
        "\n",
        "url = \"https://dglb01.ninjal.ac.jp/ninjaldl/toyogakuge/001/PDF/tygz-001.pdf\" #@param {type:\"string\"}\n",
        "output_dir = \"/content/drive/MyDrive/gcv2ocr/tygz-001\" #@param {type:\"string\"}\n",
        "\n",
        "output_dir = str(Path(output_dir))"
      ],
      "metadata": {
        "id": "olWuR8uQ0md6",
        "cellView": "form"
      },
      "execution_count": null,
      "outputs": []
    },
    {
      "cell_type": "code",
      "source": [
        "#@title 実行\n",
        "_output_dir = createOutputDir(output_dir)\n",
        "\n",
        "# ファイルのダウンロード\n",
        "tmp_pdf_path = output_dir + \"/raw.pdf\"\n",
        "!curl $url -o $tmp_pdf_path\n",
        "\n",
        "# 画像の作成\n",
        "createImagesFromPDF(tmp_pdf_path, _output_dir)\n",
        "\n",
        "exec(_output_dir)"
      ],
      "metadata": {
        "id": "CvHfKVAg0obi",
        "cellView": "form"
      },
      "execution_count": null,
      "outputs": []
    },
    {
      "cell_type": "markdown",
      "source": [
        "## PDFのアップロード"
      ],
      "metadata": {
        "id": "v4tcod72p-Jf"
      }
    },
    {
      "cell_type": "code",
      "source": [
        "#@title 設定\n",
        "\n",
        "output_dir = \"/content/drive/MyDrive/gcv2ocr/pdf_upload\" #@param {type:\"string\"}\n",
        "\n",
        "output_dir = str(Path(output_dir))"
      ],
      "metadata": {
        "id": "D5ug9CmIqBXM",
        "cellView": "form"
      },
      "execution_count": null,
      "outputs": []
    },
    {
      "cell_type": "code",
      "source": [
        "#@title 実行\n",
        "_output_dir = createOutputDir(output_dir)\n",
        "\n",
        "# ファイルのアップロード\n",
        "from google.colab import files\n",
        "uploaded = files.upload()\n",
        "input_file = next(iter(uploaded))\n",
        "\n",
        "# ファイルの移動\n",
        "tmp_pdf_path = output_dir + \"/\" + input_file\n",
        "!cp \"$input_file\" \"$tmp_pdf_path\"\n",
        "!rm \"$input_file\"\n",
        "\n",
        "# 画像の作成\n",
        "createImagesFromPDF(tmp_pdf_path, _output_dir)\n",
        "\n",
        "exec(_output_dir)"
      ],
      "metadata": {
        "id": "M6xtn2GhqEp_",
        "cellView": "form"
      },
      "execution_count": null,
      "outputs": []
    },
    {
      "cell_type": "markdown",
      "source": [
        "## IIIF\n",
        "\n",
        "入力サンプル：「校異源氏物語」（国立国会図書館所蔵）"
      ],
      "metadata": {
        "id": "b90ky_C-MsOi"
      }
    },
    {
      "cell_type": "code",
      "source": [
        "#@title 設定\n",
        "\n",
        "url = \"https://www.dl.ndl.go.jp/api/iiif/3437686/manifest.json\" #@param {type:\"string\"}\n",
        "output_dir = \"/content/drive/MyDrive/gcv2ocr/3437686_iiif\" #@param {type:\"string\"}\n",
        "\n",
        "process_size =   5#@param {type:\"number\"}\n",
        "sleep_time =   1#@param {type:\"number\"}\n",
        "\n",
        "output_dir = str(Path(output_dir))"
      ],
      "metadata": {
        "id": "osTnqmKnMr00",
        "cellView": "form"
      },
      "execution_count": null,
      "outputs": []
    },
    {
      "cell_type": "code",
      "source": [
        "#@title 実行\n",
        "_output_dir = output_dir + \"/data\"\n",
        "\n",
        "downloadImages(url, _output_dir, process_size, sleep_time)\n",
        "exec(_output_dir)"
      ],
      "metadata": {
        "id": "NfB0tpDBNGoo",
        "cellView": "form"
      },
      "execution_count": null,
      "outputs": []
    }
  ]
}