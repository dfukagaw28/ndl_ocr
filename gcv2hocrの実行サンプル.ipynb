{
  "nbformat": 4,
  "nbformat_minor": 0,
  "metadata": {
    "colab": {
      "name": "gcv2hocrの実行サンプル.ipynb",
      "provenance": [],
      "toc_visible": true,
      "authorship_tag": "ABX9TyOOotL99H7vVYjMDPcbwTWA",
      "include_colab_link": true
    },
    "kernelspec": {
      "name": "python3",
      "display_name": "Python 3"
    },
    "language_info": {
      "name": "python"
    }
  },
  "cells": [
    {
      "cell_type": "markdown",
      "metadata": {
        "id": "view-in-github",
        "colab_type": "text"
      },
      "source": [
        "<a href=\"https://colab.research.google.com/github/nakamura196/ndl_ocr/blob/main/gcv2hocr%E3%81%AE%E5%AE%9F%E8%A1%8C%E3%82%B5%E3%83%B3%E3%83%97%E3%83%AB.ipynb\" target=\"_parent\"><img src=\"https://colab.research.google.com/assets/colab-badge.svg\" alt=\"Open In Colab\"/></a>"
      ]
    },
    {
      "cell_type": "markdown",
      "source": [
        "# Google Colabを用いたgcv2hocrの実行例\n",
        "\n",
        "Google Cloud Vision APIの実行結果から透明テキスト付きPDFファイルを作成します。\n",
        "\n",
        "参考：\n",
        "\n",
        "https://github.com/dinosauria123/gcv2hocr.git"
      ],
      "metadata": {
        "id": "ggQRMpKw9iOu"
      }
    },
    {
      "cell_type": "markdown",
      "source": [
        "## ライブラリのインストール"
      ],
      "metadata": {
        "id": "axYRkUGH94OD"
      }
    },
    {
      "cell_type": "code",
      "source": [
        "!pip install -q python-bidi\n",
        "!pip install -q reportlab"
      ],
      "metadata": {
        "colab": {
          "base_uri": "https://localhost:8080/"
        },
        "id": "hYJgMzKX7lgR",
        "outputId": "a3fc4837-315c-4312-c4f4-661808472b6d"
      },
      "execution_count": 11,
      "outputs": [
        {
          "output_type": "stream",
          "name": "stdout",
          "text": [
            "\u001b[?25l\r\u001b[K     |▏                               | 10 kB 25.3 MB/s eta 0:00:01\r\u001b[K     |▎                               | 20 kB 33.2 MB/s eta 0:00:01\r\u001b[K     |▍                               | 30 kB 39.7 MB/s eta 0:00:01\r\u001b[K     |▌                               | 40 kB 34.2 MB/s eta 0:00:01\r\u001b[K     |▋                               | 51 kB 25.1 MB/s eta 0:00:01\r\u001b[K     |▊                               | 61 kB 28.4 MB/s eta 0:00:01\r\u001b[K     |▉                               | 71 kB 26.8 MB/s eta 0:00:01\r\u001b[K     |█                               | 81 kB 27.9 MB/s eta 0:00:01\r\u001b[K     |█                               | 92 kB 30.2 MB/s eta 0:00:01\r\u001b[K     |█▏                              | 102 kB 28.9 MB/s eta 0:00:01\r\u001b[K     |█▎                              | 112 kB 28.9 MB/s eta 0:00:01\r\u001b[K     |█▍                              | 122 kB 28.9 MB/s eta 0:00:01\r\u001b[K     |█▌                              | 133 kB 28.9 MB/s eta 0:00:01\r\u001b[K     |█▊                              | 143 kB 28.9 MB/s eta 0:00:01\r\u001b[K     |█▉                              | 153 kB 28.9 MB/s eta 0:00:01\r\u001b[K     |██                              | 163 kB 28.9 MB/s eta 0:00:01\r\u001b[K     |██                              | 174 kB 28.9 MB/s eta 0:00:01\r\u001b[K     |██▏                             | 184 kB 28.9 MB/s eta 0:00:01\r\u001b[K     |██▎                             | 194 kB 28.9 MB/s eta 0:00:01\r\u001b[K     |██▍                             | 204 kB 28.9 MB/s eta 0:00:01\r\u001b[K     |██▌                             | 215 kB 28.9 MB/s eta 0:00:01\r\u001b[K     |██▋                             | 225 kB 28.9 MB/s eta 0:00:01\r\u001b[K     |██▊                             | 235 kB 28.9 MB/s eta 0:00:01\r\u001b[K     |██▉                             | 245 kB 28.9 MB/s eta 0:00:01\r\u001b[K     |███                             | 256 kB 28.9 MB/s eta 0:00:01\r\u001b[K     |███                             | 266 kB 28.9 MB/s eta 0:00:01\r\u001b[K     |███▏                            | 276 kB 28.9 MB/s eta 0:00:01\r\u001b[K     |███▍                            | 286 kB 28.9 MB/s eta 0:00:01\r\u001b[K     |███▌                            | 296 kB 28.9 MB/s eta 0:00:01\r\u001b[K     |███▋                            | 307 kB 28.9 MB/s eta 0:00:01\r\u001b[K     |███▊                            | 317 kB 28.9 MB/s eta 0:00:01\r\u001b[K     |███▉                            | 327 kB 28.9 MB/s eta 0:00:01\r\u001b[K     |████                            | 337 kB 28.9 MB/s eta 0:00:01\r\u001b[K     |████                            | 348 kB 28.9 MB/s eta 0:00:01\r\u001b[K     |████▏                           | 358 kB 28.9 MB/s eta 0:00:01\r\u001b[K     |████▎                           | 368 kB 28.9 MB/s eta 0:00:01\r\u001b[K     |████▍                           | 378 kB 28.9 MB/s eta 0:00:01\r\u001b[K     |████▌                           | 389 kB 28.9 MB/s eta 0:00:01\r\u001b[K     |████▋                           | 399 kB 28.9 MB/s eta 0:00:01\r\u001b[K     |████▊                           | 409 kB 28.9 MB/s eta 0:00:01\r\u001b[K     |█████                           | 419 kB 28.9 MB/s eta 0:00:01\r\u001b[K     |█████                           | 430 kB 28.9 MB/s eta 0:00:01\r\u001b[K     |█████▏                          | 440 kB 28.9 MB/s eta 0:00:01\r\u001b[K     |█████▎                          | 450 kB 28.9 MB/s eta 0:00:01\r\u001b[K     |█████▍                          | 460 kB 28.9 MB/s eta 0:00:01\r\u001b[K     |█████▌                          | 471 kB 28.9 MB/s eta 0:00:01\r\u001b[K     |█████▋                          | 481 kB 28.9 MB/s eta 0:00:01\r\u001b[K     |█████▊                          | 491 kB 28.9 MB/s eta 0:00:01\r\u001b[K     |█████▉                          | 501 kB 28.9 MB/s eta 0:00:01\r\u001b[K     |██████                          | 512 kB 28.9 MB/s eta 0:00:01\r\u001b[K     |██████                          | 522 kB 28.9 MB/s eta 0:00:01\r\u001b[K     |██████▏                         | 532 kB 28.9 MB/s eta 0:00:01\r\u001b[K     |██████▎                         | 542 kB 28.9 MB/s eta 0:00:01\r\u001b[K     |██████▍                         | 552 kB 28.9 MB/s eta 0:00:01\r\u001b[K     |██████▋                         | 563 kB 28.9 MB/s eta 0:00:01\r\u001b[K     |██████▊                         | 573 kB 28.9 MB/s eta 0:00:01\r\u001b[K     |██████▉                         | 583 kB 28.9 MB/s eta 0:00:01\r\u001b[K     |███████                         | 593 kB 28.9 MB/s eta 0:00:01\r\u001b[K     |███████                         | 604 kB 28.9 MB/s eta 0:00:01\r\u001b[K     |███████▏                        | 614 kB 28.9 MB/s eta 0:00:01\r\u001b[K     |███████▎                        | 624 kB 28.9 MB/s eta 0:00:01\r\u001b[K     |███████▍                        | 634 kB 28.9 MB/s eta 0:00:01\r\u001b[K     |███████▌                        | 645 kB 28.9 MB/s eta 0:00:01\r\u001b[K     |███████▋                        | 655 kB 28.9 MB/s eta 0:00:01\r\u001b[K     |███████▊                        | 665 kB 28.9 MB/s eta 0:00:01\r\u001b[K     |███████▉                        | 675 kB 28.9 MB/s eta 0:00:01\r\u001b[K     |████████                        | 686 kB 28.9 MB/s eta 0:00:01\r\u001b[K     |████████                        | 696 kB 28.9 MB/s eta 0:00:01\r\u001b[K     |████████▎                       | 706 kB 28.9 MB/s eta 0:00:01\r\u001b[K     |████████▍                       | 716 kB 28.9 MB/s eta 0:00:01\r\u001b[K     |████████▌                       | 727 kB 28.9 MB/s eta 0:00:01\r\u001b[K     |████████▋                       | 737 kB 28.9 MB/s eta 0:00:01\r\u001b[K     |████████▊                       | 747 kB 28.9 MB/s eta 0:00:01\r\u001b[K     |████████▉                       | 757 kB 28.9 MB/s eta 0:00:01\r\u001b[K     |█████████                       | 768 kB 28.9 MB/s eta 0:00:01\r\u001b[K     |█████████                       | 778 kB 28.9 MB/s eta 0:00:01\r\u001b[K     |█████████▏                      | 788 kB 28.9 MB/s eta 0:00:01\r\u001b[K     |█████████▎                      | 798 kB 28.9 MB/s eta 0:00:01\r\u001b[K     |█████████▍                      | 808 kB 28.9 MB/s eta 0:00:01\r\u001b[K     |█████████▌                      | 819 kB 28.9 MB/s eta 0:00:01\r\u001b[K     |█████████▋                      | 829 kB 28.9 MB/s eta 0:00:01\r\u001b[K     |█████████▉                      | 839 kB 28.9 MB/s eta 0:00:01\r\u001b[K     |██████████                      | 849 kB 28.9 MB/s eta 0:00:01\r\u001b[K     |██████████                      | 860 kB 28.9 MB/s eta 0:00:01\r\u001b[K     |██████████▏                     | 870 kB 28.9 MB/s eta 0:00:01\r\u001b[K     |██████████▎                     | 880 kB 28.9 MB/s eta 0:00:01\r\u001b[K     |██████████▍                     | 890 kB 28.9 MB/s eta 0:00:01\r\u001b[K     |██████████▌                     | 901 kB 28.9 MB/s eta 0:00:01\r\u001b[K     |██████████▋                     | 911 kB 28.9 MB/s eta 0:00:01\r\u001b[K     |██████████▊                     | 921 kB 28.9 MB/s eta 0:00:01\r\u001b[K     |██████████▉                     | 931 kB 28.9 MB/s eta 0:00:01\r\u001b[K     |███████████                     | 942 kB 28.9 MB/s eta 0:00:01\r\u001b[K     |███████████                     | 952 kB 28.9 MB/s eta 0:00:01\r\u001b[K     |███████████▏                    | 962 kB 28.9 MB/s eta 0:00:01\r\u001b[K     |███████████▎                    | 972 kB 28.9 MB/s eta 0:00:01\r\u001b[K     |███████████▌                    | 983 kB 28.9 MB/s eta 0:00:01\r\u001b[K     |███████████▋                    | 993 kB 28.9 MB/s eta 0:00:01\r\u001b[K     |███████████▊                    | 1.0 MB 28.9 MB/s eta 0:00:01\r\u001b[K     |███████████▉                    | 1.0 MB 28.9 MB/s eta 0:00:01\r\u001b[K     |████████████                    | 1.0 MB 28.9 MB/s eta 0:00:01\r\u001b[K     |████████████                    | 1.0 MB 28.9 MB/s eta 0:00:01\r\u001b[K     |████████████▏                   | 1.0 MB 28.9 MB/s eta 0:00:01\r\u001b[K     |████████████▎                   | 1.1 MB 28.9 MB/s eta 0:00:01\r\u001b[K     |████████████▍                   | 1.1 MB 28.9 MB/s eta 0:00:01\r\u001b[K     |████████████▌                   | 1.1 MB 28.9 MB/s eta 0:00:01\r\u001b[K     |████████████▋                   | 1.1 MB 28.9 MB/s eta 0:00:01\r\u001b[K     |████████████▊                   | 1.1 MB 28.9 MB/s eta 0:00:01\r\u001b[K     |████████████▉                   | 1.1 MB 28.9 MB/s eta 0:00:01\r\u001b[K     |█████████████                   | 1.1 MB 28.9 MB/s eta 0:00:01\r\u001b[K     |█████████████▏                  | 1.1 MB 28.9 MB/s eta 0:00:01\r\u001b[K     |█████████████▎                  | 1.1 MB 28.9 MB/s eta 0:00:01\r\u001b[K     |█████████████▍                  | 1.1 MB 28.9 MB/s eta 0:00:01\r\u001b[K     |█████████████▌                  | 1.2 MB 28.9 MB/s eta 0:00:01\r\u001b[K     |█████████████▋                  | 1.2 MB 28.9 MB/s eta 0:00:01\r\u001b[K     |█████████████▊                  | 1.2 MB 28.9 MB/s eta 0:00:01\r\u001b[K     |█████████████▉                  | 1.2 MB 28.9 MB/s eta 0:00:01\r\u001b[K     |██████████████                  | 1.2 MB 28.9 MB/s eta 0:00:01\r\u001b[K     |██████████████                  | 1.2 MB 28.9 MB/s eta 0:00:01\r\u001b[K     |██████████████▏                 | 1.2 MB 28.9 MB/s eta 0:00:01\r\u001b[K     |██████████████▎                 | 1.2 MB 28.9 MB/s eta 0:00:01\r\u001b[K     |██████████████▍                 | 1.2 MB 28.9 MB/s eta 0:00:01\r\u001b[K     |██████████████▌                 | 1.2 MB 28.9 MB/s eta 0:00:01\r\u001b[K     |██████████████▊                 | 1.3 MB 28.9 MB/s eta 0:00:01\r\u001b[K     |██████████████▉                 | 1.3 MB 28.9 MB/s eta 0:00:01\r\u001b[K     |███████████████                 | 1.3 MB 28.9 MB/s eta 0:00:01\r\u001b[K     |███████████████                 | 1.3 MB 28.9 MB/s eta 0:00:01\r\u001b[K     |███████████████▏                | 1.3 MB 28.9 MB/s eta 0:00:01\r\u001b[K     |███████████████▎                | 1.3 MB 28.9 MB/s eta 0:00:01\r\u001b[K     |███████████████▍                | 1.3 MB 28.9 MB/s eta 0:00:01\r\u001b[K     |███████████████▌                | 1.3 MB 28.9 MB/s eta 0:00:01\r\u001b[K     |███████████████▋                | 1.3 MB 28.9 MB/s eta 0:00:01\r\u001b[K     |███████████████▊                | 1.4 MB 28.9 MB/s eta 0:00:01\r\u001b[K     |███████████████▉                | 1.4 MB 28.9 MB/s eta 0:00:01\r\u001b[K     |████████████████                | 1.4 MB 28.9 MB/s eta 0:00:01\r\u001b[K     |████████████████                | 1.4 MB 28.9 MB/s eta 0:00:01\r\u001b[K     |████████████████▏               | 1.4 MB 28.9 MB/s eta 0:00:01\r\u001b[K     |████████████████▍               | 1.4 MB 28.9 MB/s eta 0:00:01\r\u001b[K     |████████████████▌               | 1.4 MB 28.9 MB/s eta 0:00:01\r\u001b[K     |████████████████▋               | 1.4 MB 28.9 MB/s eta 0:00:01\r\u001b[K     |████████████████▊               | 1.4 MB 28.9 MB/s eta 0:00:01\r\u001b[K     |████████████████▉               | 1.4 MB 28.9 MB/s eta 0:00:01\r\u001b[K     |█████████████████               | 1.5 MB 28.9 MB/s eta 0:00:01\r\u001b[K     |█████████████████               | 1.5 MB 28.9 MB/s eta 0:00:01\r\u001b[K     |█████████████████▏              | 1.5 MB 28.9 MB/s eta 0:00:01\r\u001b[K     |█████████████████▎              | 1.5 MB 28.9 MB/s eta 0:00:01\r\u001b[K     |█████████████████▍              | 1.5 MB 28.9 MB/s eta 0:00:01\r\u001b[K     |█████████████████▌              | 1.5 MB 28.9 MB/s eta 0:00:01\r\u001b[K     |█████████████████▋              | 1.5 MB 28.9 MB/s eta 0:00:01\r\u001b[K     |█████████████████▊              | 1.5 MB 28.9 MB/s eta 0:00:01\r\u001b[K     |██████████████████              | 1.5 MB 28.9 MB/s eta 0:00:01\r\u001b[K     |██████████████████              | 1.5 MB 28.9 MB/s eta 0:00:01\r\u001b[K     |██████████████████▏             | 1.6 MB 28.9 MB/s eta 0:00:01\r\u001b[K     |██████████████████▎             | 1.6 MB 28.9 MB/s eta 0:00:01\r\u001b[K     |██████████████████▍             | 1.6 MB 28.9 MB/s eta 0:00:01\r\u001b[K     |██████████████████▌             | 1.6 MB 28.9 MB/s eta 0:00:01\r\u001b[K     |██████████████████▋             | 1.6 MB 28.9 MB/s eta 0:00:01\r\u001b[K     |██████████████████▊             | 1.6 MB 28.9 MB/s eta 0:00:01\r\u001b[K     |██████████████████▉             | 1.6 MB 28.9 MB/s eta 0:00:01\r\u001b[K     |███████████████████             | 1.6 MB 28.9 MB/s eta 0:00:01\r\u001b[K     |███████████████████             | 1.6 MB 28.9 MB/s eta 0:00:01\r\u001b[K     |███████████████████▏            | 1.6 MB 28.9 MB/s eta 0:00:01\r\u001b[K     |███████████████████▎            | 1.7 MB 28.9 MB/s eta 0:00:01\r\u001b[K     |███████████████████▍            | 1.7 MB 28.9 MB/s eta 0:00:01\r\u001b[K     |███████████████████▋            | 1.7 MB 28.9 MB/s eta 0:00:01\r\u001b[K     |███████████████████▊            | 1.7 MB 28.9 MB/s eta 0:00:01\r\u001b[K     |███████████████████▉            | 1.7 MB 28.9 MB/s eta 0:00:01\r\u001b[K     |████████████████████            | 1.7 MB 28.9 MB/s eta 0:00:01\r\u001b[K     |████████████████████            | 1.7 MB 28.9 MB/s eta 0:00:01\r\u001b[K     |████████████████████▏           | 1.7 MB 28.9 MB/s eta 0:00:01\r\u001b[K     |████████████████████▎           | 1.7 MB 28.9 MB/s eta 0:00:01\r\u001b[K     |████████████████████▍           | 1.8 MB 28.9 MB/s eta 0:00:01\r\u001b[K     |████████████████████▌           | 1.8 MB 28.9 MB/s eta 0:00:01\r\u001b[K     |████████████████████▋           | 1.8 MB 28.9 MB/s eta 0:00:01\r\u001b[K     |████████████████████▊           | 1.8 MB 28.9 MB/s eta 0:00:01\r\u001b[K     |████████████████████▉           | 1.8 MB 28.9 MB/s eta 0:00:01\r\u001b[K     |█████████████████████           | 1.8 MB 28.9 MB/s eta 0:00:01\r\u001b[K     |█████████████████████▏          | 1.8 MB 28.9 MB/s eta 0:00:01\r\u001b[K     |█████████████████████▎          | 1.8 MB 28.9 MB/s eta 0:00:01\r\u001b[K     |█████████████████████▍          | 1.8 MB 28.9 MB/s eta 0:00:01\r\u001b[K     |█████████████████████▌          | 1.8 MB 28.9 MB/s eta 0:00:01\r\u001b[K     |█████████████████████▋          | 1.9 MB 28.9 MB/s eta 0:00:01\r\u001b[K     |█████████████████████▊          | 1.9 MB 28.9 MB/s eta 0:00:01\r\u001b[K     |█████████████████████▉          | 1.9 MB 28.9 MB/s eta 0:00:01\r\u001b[K     |██████████████████████          | 1.9 MB 28.9 MB/s eta 0:00:01\r\u001b[K     |██████████████████████          | 1.9 MB 28.9 MB/s eta 0:00:01\r\u001b[K     |██████████████████████▏         | 1.9 MB 28.9 MB/s eta 0:00:01\r\u001b[K     |██████████████████████▎         | 1.9 MB 28.9 MB/s eta 0:00:01\r\u001b[K     |██████████████████████▍         | 1.9 MB 28.9 MB/s eta 0:00:01\r\u001b[K     |██████████████████████▌         | 1.9 MB 28.9 MB/s eta 0:00:01\r\u001b[K     |██████████████████████▋         | 1.9 MB 28.9 MB/s eta 0:00:01\r\u001b[K     |██████████████████████▉         | 2.0 MB 28.9 MB/s eta 0:00:01\r\u001b[K     |███████████████████████         | 2.0 MB 28.9 MB/s eta 0:00:01\r\u001b[K     |███████████████████████         | 2.0 MB 28.9 MB/s eta 0:00:01\r\u001b[K     |███████████████████████▏        | 2.0 MB 28.9 MB/s eta 0:00:01\r\u001b[K     |███████████████████████▎        | 2.0 MB 28.9 MB/s eta 0:00:01\r\u001b[K     |███████████████████████▍        | 2.0 MB 28.9 MB/s eta 0:00:01\r\u001b[K     |███████████████████████▌        | 2.0 MB 28.9 MB/s eta 0:00:01\r\u001b[K     |███████████████████████▋        | 2.0 MB 28.9 MB/s eta 0:00:01\r\u001b[K     |███████████████████████▊        | 2.0 MB 28.9 MB/s eta 0:00:01\r\u001b[K     |███████████████████████▉        | 2.0 MB 28.9 MB/s eta 0:00:01\r\u001b[K     |████████████████████████        | 2.1 MB 28.9 MB/s eta 0:00:01\r\u001b[K     |████████████████████████        | 2.1 MB 28.9 MB/s eta 0:00:01\r\u001b[K     |████████████████████████▏       | 2.1 MB 28.9 MB/s eta 0:00:01\r\u001b[K     |████████████████████████▎       | 2.1 MB 28.9 MB/s eta 0:00:01\r\u001b[K     |████████████████████████▌       | 2.1 MB 28.9 MB/s eta 0:00:01\r\u001b[K     |████████████████████████▋       | 2.1 MB 28.9 MB/s eta 0:00:01\r\u001b[K     |████████████████████████▊       | 2.1 MB 28.9 MB/s eta 0:00:01\r\u001b[K     |████████████████████████▉       | 2.1 MB 28.9 MB/s eta 0:00:01\r\u001b[K     |█████████████████████████       | 2.1 MB 28.9 MB/s eta 0:00:01\r\u001b[K     |█████████████████████████       | 2.2 MB 28.9 MB/s eta 0:00:01\r\u001b[K     |█████████████████████████▏      | 2.2 MB 28.9 MB/s eta 0:00:01\r\u001b[K     |█████████████████████████▎      | 2.2 MB 28.9 MB/s eta 0:00:01\r\u001b[K     |█████████████████████████▍      | 2.2 MB 28.9 MB/s eta 0:00:01\r\u001b[K     |█████████████████████████▌      | 2.2 MB 28.9 MB/s eta 0:00:01\r\u001b[K     |█████████████████████████▋      | 2.2 MB 28.9 MB/s eta 0:00:01\r\u001b[K     |█████████████████████████▊      | 2.2 MB 28.9 MB/s eta 0:00:01\r\u001b[K     |█████████████████████████▉      | 2.2 MB 28.9 MB/s eta 0:00:01\r\u001b[K     |██████████████████████████      | 2.2 MB 28.9 MB/s eta 0:00:01\r\u001b[K     |██████████████████████████▏     | 2.2 MB 28.9 MB/s eta 0:00:01\r\u001b[K     |██████████████████████████▎     | 2.3 MB 28.9 MB/s eta 0:00:01\r\u001b[K     |██████████████████████████▍     | 2.3 MB 28.9 MB/s eta 0:00:01\r\u001b[K     |██████████████████████████▌     | 2.3 MB 28.9 MB/s eta 0:00:01\r\u001b[K     |██████████████████████████▋     | 2.3 MB 28.9 MB/s eta 0:00:01\r\u001b[K     |██████████████████████████▊     | 2.3 MB 28.9 MB/s eta 0:00:01\r\u001b[K     |██████████████████████████▉     | 2.3 MB 28.9 MB/s eta 0:00:01\r\u001b[K     |███████████████████████████     | 2.3 MB 28.9 MB/s eta 0:00:01\r\u001b[K     |███████████████████████████     | 2.3 MB 28.9 MB/s eta 0:00:01\r\u001b[K     |███████████████████████████▏    | 2.3 MB 28.9 MB/s eta 0:00:01\r\u001b[K     |███████████████████████████▎    | 2.3 MB 28.9 MB/s eta 0:00:01\r\u001b[K     |███████████████████████████▍    | 2.4 MB 28.9 MB/s eta 0:00:01\r\u001b[K     |███████████████████████████▌    | 2.4 MB 28.9 MB/s eta 0:00:01\r\u001b[K     |███████████████████████████▊    | 2.4 MB 28.9 MB/s eta 0:00:01\r\u001b[K     |███████████████████████████▉    | 2.4 MB 28.9 MB/s eta 0:00:01\r\u001b[K     |████████████████████████████    | 2.4 MB 28.9 MB/s eta 0:00:01\r\u001b[K     |████████████████████████████    | 2.4 MB 28.9 MB/s eta 0:00:01\r\u001b[K     |████████████████████████████▏   | 2.4 MB 28.9 MB/s eta 0:00:01\r\u001b[K     |████████████████████████████▎   | 2.4 MB 28.9 MB/s eta 0:00:01\r\u001b[K     |████████████████████████████▍   | 2.4 MB 28.9 MB/s eta 0:00:01\r\u001b[K     |████████████████████████████▌   | 2.4 MB 28.9 MB/s eta 0:00:01\r\u001b[K     |████████████████████████████▋   | 2.5 MB 28.9 MB/s eta 0:00:01\r\u001b[K     |████████████████████████████▊   | 2.5 MB 28.9 MB/s eta 0:00:01\r\u001b[K     |████████████████████████████▉   | 2.5 MB 28.9 MB/s eta 0:00:01\r\u001b[K     |█████████████████████████████   | 2.5 MB 28.9 MB/s eta 0:00:01\r\u001b[K     |█████████████████████████████   | 2.5 MB 28.9 MB/s eta 0:00:01\r\u001b[K     |█████████████████████████████▏  | 2.5 MB 28.9 MB/s eta 0:00:01\r\u001b[K     |█████████████████████████████▍  | 2.5 MB 28.9 MB/s eta 0:00:01\r\u001b[K     |█████████████████████████████▌  | 2.5 MB 28.9 MB/s eta 0:00:01\r\u001b[K     |█████████████████████████████▋  | 2.5 MB 28.9 MB/s eta 0:00:01\r\u001b[K     |█████████████████████████████▊  | 2.5 MB 28.9 MB/s eta 0:00:01\r\u001b[K     |█████████████████████████████▉  | 2.6 MB 28.9 MB/s eta 0:00:01\r\u001b[K     |██████████████████████████████  | 2.6 MB 28.9 MB/s eta 0:00:01\r\u001b[K     |██████████████████████████████  | 2.6 MB 28.9 MB/s eta 0:00:01\r\u001b[K     |██████████████████████████████▏ | 2.6 MB 28.9 MB/s eta 0:00:01\r\u001b[K     |██████████████████████████████▎ | 2.6 MB 28.9 MB/s eta 0:00:01\r\u001b[K     |██████████████████████████████▍ | 2.6 MB 28.9 MB/s eta 0:00:01\r\u001b[K     |██████████████████████████████▌ | 2.6 MB 28.9 MB/s eta 0:00:01\r\u001b[K     |██████████████████████████████▋ | 2.6 MB 28.9 MB/s eta 0:00:01\r\u001b[K     |██████████████████████████████▊ | 2.6 MB 28.9 MB/s eta 0:00:01\r\u001b[K     |███████████████████████████████ | 2.7 MB 28.9 MB/s eta 0:00:01\r\u001b[K     |███████████████████████████████ | 2.7 MB 28.9 MB/s eta 0:00:01\r\u001b[K     |███████████████████████████████▏| 2.7 MB 28.9 MB/s eta 0:00:01\r\u001b[K     |███████████████████████████████▎| 2.7 MB 28.9 MB/s eta 0:00:01\r\u001b[K     |███████████████████████████████▍| 2.7 MB 28.9 MB/s eta 0:00:01\r\u001b[K     |███████████████████████████████▌| 2.7 MB 28.9 MB/s eta 0:00:01\r\u001b[K     |███████████████████████████████▋| 2.7 MB 28.9 MB/s eta 0:00:01\r\u001b[K     |███████████████████████████████▊| 2.7 MB 28.9 MB/s eta 0:00:01\r\u001b[K     |███████████████████████████████▉| 2.7 MB 28.9 MB/s eta 0:00:01\r\u001b[K     |████████████████████████████████| 2.7 MB 28.9 MB/s eta 0:00:01\r\u001b[K     |████████████████████████████████| 2.7 MB 28.9 MB/s \n",
            "\u001b[?25h"
          ]
        }
      ]
    },
    {
      "cell_type": "markdown",
      "source": [
        "## ソースコードのダウンロード"
      ],
      "metadata": {
        "id": "IuemljPS97a2"
      }
    },
    {
      "cell_type": "code",
      "execution_count": 2,
      "metadata": {
        "colab": {
          "base_uri": "https://localhost:8080/"
        },
        "id": "fka2SYPb5sIl",
        "outputId": "dc31a326-a626-43c1-cc14-e78e0dd01312"
      },
      "outputs": [
        {
          "output_type": "stream",
          "name": "stdout",
          "text": [
            "Cloning into 'gcv2hocr'...\n",
            "remote: Enumerating objects: 227, done.\u001b[K\n",
            "remote: Counting objects: 100% (24/24), done.\u001b[K\n",
            "remote: Compressing objects: 100% (20/20), done.\u001b[K\n",
            "remote: Total 227 (delta 7), reused 17 (delta 4), pack-reused 203\u001b[K\n",
            "Receiving objects: 100% (227/227), 2.78 MiB | 23.55 MiB/s, done.\n",
            "Resolving deltas: 100% (109/109), done.\n"
          ]
        }
      ],
      "source": [
        "!git clone https://github.com/dinosauria123/gcv2hocr.git"
      ]
    },
    {
      "cell_type": "code",
      "source": [
        "%cd  gcv2hocr"
      ],
      "metadata": {
        "colab": {
          "base_uri": "https://localhost:8080/"
        },
        "id": "W4ae_Sz_5w_Z",
        "outputId": "d18b7cbf-e1af-4156-e66f-9b535f4d6096"
      },
      "execution_count": 3,
      "outputs": [
        {
          "output_type": "stream",
          "name": "stdout",
          "text": [
            "/content/gcv2hocr\n"
          ]
        }
      ]
    },
    {
      "cell_type": "markdown",
      "source": [
        "## hocrファイルの作成\n",
        "\n",
        "今回はリポジトリ内で用意されているサンプルデータ「sample/jpn」を対象にします。"
      ],
      "metadata": {
        "id": "4T5Paxet9tE7"
      }
    },
    {
      "cell_type": "code",
      "source": [
        "!python gcv2hocr.py sample/jpn/jptest2.jpg.json > sample/jpn/jptest2.hocr"
      ],
      "metadata": {
        "id": "aeeQHzQx52KF"
      },
      "execution_count": 5,
      "outputs": []
    },
    {
      "cell_type": "markdown",
      "source": [
        "## hocrファイルをpdfファイルに変換するスクリプトのダウンロード\n",
        "\n",
        "ダウンロード元のGitHubリポジトリ\n",
        "\n",
        "https://github.com/ocropus/hocr-tools"
      ],
      "metadata": {
        "id": "3EAEXDJr6VFk"
      }
    },
    {
      "cell_type": "code",
      "source": [
        "!wget https://raw.githubusercontent.com/ocropus/hocr-tools/master/hocr-pdf"
      ],
      "metadata": {
        "colab": {
          "base_uri": "https://localhost:8080/"
        },
        "id": "0fb2TRXx6KX6",
        "outputId": "e8e956e3-3c8f-4b66-e5c1-2b0227a5a1a5"
      },
      "execution_count": 6,
      "outputs": [
        {
          "output_type": "stream",
          "name": "stdout",
          "text": [
            "--2022-05-02 03:56:53--  https://raw.githubusercontent.com/ocropus/hocr-tools/master/hocr-pdf\n",
            "Resolving raw.githubusercontent.com (raw.githubusercontent.com)... 185.199.108.133, 185.199.109.133, 185.199.110.133, ...\n",
            "Connecting to raw.githubusercontent.com (raw.githubusercontent.com)|185.199.108.133|:443... connected.\n",
            "HTTP request sent, awaiting response... 200 OK\n",
            "Length: 7047 (6.9K) [text/plain]\n",
            "Saving to: ‘hocr-pdf’\n",
            "\n",
            "\rhocr-pdf              0%[                    ]       0  --.-KB/s               \rhocr-pdf            100%[===================>]   6.88K  --.-KB/s    in 0s      \n",
            "\n",
            "2022-05-02 03:56:53 (83.7 MB/s) - ‘hocr-pdf’ saved [7047/7047]\n",
            "\n"
          ]
        }
      ]
    },
    {
      "cell_type": "markdown",
      "source": [
        "## pdfファイルへの変換の実行"
      ],
      "metadata": {
        "id": "Tk12tnd9-Ha3"
      }
    },
    {
      "cell_type": "code",
      "source": [
        "!python hocr-pdf --savefile out.pdf sample/jpn"
      ],
      "metadata": {
        "id": "m63lwIma6ggJ"
      },
      "execution_count": 12,
      "outputs": []
    },
    {
      "cell_type": "markdown",
      "source": [
        "## ファイルのダウンロード"
      ],
      "metadata": {
        "id": "SAfUnuOD-Jq_"
      }
    },
    {
      "cell_type": "code",
      "source": [
        "from google.colab import files\n",
        "files.download(\"out.pdf\")"
      ],
      "metadata": {
        "colab": {
          "base_uri": "https://localhost:8080/",
          "height": 17
        },
        "id": "blAchwou9LXt",
        "outputId": "948cdd62-745a-4b04-db77-3f97b397d0b0"
      },
      "execution_count": 13,
      "outputs": [
        {
          "output_type": "display_data",
          "data": {
            "text/plain": [
              "<IPython.core.display.Javascript object>"
            ],
            "application/javascript": [
              "\n",
              "    async function download(id, filename, size) {\n",
              "      if (!google.colab.kernel.accessAllowed) {\n",
              "        return;\n",
              "      }\n",
              "      const div = document.createElement('div');\n",
              "      const label = document.createElement('label');\n",
              "      label.textContent = `Downloading \"${filename}\": `;\n",
              "      div.appendChild(label);\n",
              "      const progress = document.createElement('progress');\n",
              "      progress.max = size;\n",
              "      div.appendChild(progress);\n",
              "      document.body.appendChild(div);\n",
              "\n",
              "      const buffers = [];\n",
              "      let downloaded = 0;\n",
              "\n",
              "      const channel = await google.colab.kernel.comms.open(id);\n",
              "      // Send a message to notify the kernel that we're ready.\n",
              "      channel.send({})\n",
              "\n",
              "      for await (const message of channel.messages) {\n",
              "        // Send a message to notify the kernel that we're ready.\n",
              "        channel.send({})\n",
              "        if (message.buffers) {\n",
              "          for (const buffer of message.buffers) {\n",
              "            buffers.push(buffer);\n",
              "            downloaded += buffer.byteLength;\n",
              "            progress.value = downloaded;\n",
              "          }\n",
              "        }\n",
              "      }\n",
              "      const blob = new Blob(buffers, {type: 'application/binary'});\n",
              "      const a = document.createElement('a');\n",
              "      a.href = window.URL.createObjectURL(blob);\n",
              "      a.download = filename;\n",
              "      div.appendChild(a);\n",
              "      a.click();\n",
              "      div.remove();\n",
              "    }\n",
              "  "
            ]
          },
          "metadata": {}
        },
        {
          "output_type": "display_data",
          "data": {
            "text/plain": [
              "<IPython.core.display.Javascript object>"
            ],
            "application/javascript": [
              "download(\"download_717b602e-bdf1-4b39-9dd2-c14351abf327\", \"out.pdf\", 299596)"
            ]
          },
          "metadata": {}
        }
      ]
    }
  ]
}