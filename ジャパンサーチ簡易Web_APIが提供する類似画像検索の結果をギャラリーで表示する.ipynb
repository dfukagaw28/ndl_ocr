{
  "nbformat": 4,
  "nbformat_minor": 0,
  "metadata": {
    "colab": {
      "provenance": [],
      "toc_visible": true,
      "private_outputs": true,
      "authorship_tag": "ABX9TyODyyoi9ZlZ6BqK3ViWLg1L",
      "include_colab_link": true
    },
    "kernelspec": {
      "name": "python3",
      "display_name": "Python 3"
    },
    "language_info": {
      "name": "python"
    },
    "gpuClass": "standard"
  },
  "cells": [
    {
      "cell_type": "markdown",
      "metadata": {
        "id": "view-in-github",
        "colab_type": "text"
      },
      "source": [
        "<a href=\"https://colab.research.google.com/github/nakamura196/ndl_ocr/blob/main/%E3%82%B8%E3%83%A3%E3%83%91%E3%83%B3%E3%82%B5%E3%83%BC%E3%83%81%E7%B0%A1%E6%98%93Web_API%E3%81%8C%E6%8F%90%E4%BE%9B%E3%81%99%E3%82%8B%E9%A1%9E%E4%BC%BC%E7%94%BB%E5%83%8F%E6%A4%9C%E7%B4%A2%E3%81%AE%E7%B5%90%E6%9E%9C%E3%82%92%E3%82%AE%E3%83%A3%E3%83%A9%E3%83%AA%E3%83%BC%E3%81%A7%E8%A1%A8%E7%A4%BA%E3%81%99%E3%82%8B.ipynb\" target=\"_parent\"><img src=\"https://colab.research.google.com/assets/colab-badge.svg\" alt=\"Open In Colab\"/></a>"
      ]
    },
    {
      "cell_type": "markdown",
      "source": [
        "# ジャパンサーチ簡易Web APIが提供する類似画像検索の結果をギャラリーで表示する"
      ],
      "metadata": {
        "id": "s5cj97ES2gnU"
      }
    },
    {
      "cell_type": "code",
      "source": [
        "!pip install -U jps_gallery_tools"
      ],
      "metadata": {
        "id": "I7p222HPMQLE"
      },
      "execution_count": null,
      "outputs": []
    },
    {
      "cell_type": "code",
      "source": [
        "# id = \"cobas-58264\"\n",
        "id = \"FishPix-KPM_NR_54762\""
      ],
      "metadata": {
        "id": "lDcfP8VbMRoJ"
      },
      "execution_count": null,
      "outputs": []
    },
    {
      "cell_type": "code",
      "source": [
        "import requests\n",
        "import json\n",
        "url = f\"https://jpsearch.go.jp/api/item/search/jps-cross?image={id}\"\n",
        "df = requests.get(url).json()"
      ],
      "metadata": {
        "id": "y-or4p9bGL7d"
      },
      "execution_count": null,
      "outputs": []
    },
    {
      "cell_type": "code",
      "execution_count": null,
      "metadata": {
        "id": "ChjvdfiG0d6H"
      },
      "outputs": [],
      "source": [
        "from jps_gallery_tools.api import *\n",
        "gallery = JpsCuration()"
      ]
    },
    {
      "cell_type": "code",
      "source": [
        "gallery.setLangMetadata('title', 'ja', 'ギャラリーの自動生成')\n",
        "gallery.setLangMetadata('summary', 'ja', 'Google Colabを用いて、ギャラリーの自動生成を行います。')\n",
        "gallery.setLangMetadata(\"responsibility\", \"ja\", \"中村覚\")"
      ],
      "metadata": {
        "id": "mVeQ3XqULu7a"
      },
      "execution_count": null,
      "outputs": []
    },
    {
      "cell_type": "markdown",
      "source": [
        "## テキスト"
      ],
      "metadata": {
        "id": "nZ8ocHM00sWs"
      }
    },
    {
      "cell_type": "code",
      "source": [
        "part_01= JpsCurationText()\n",
        "gallery.addPart(part_01)\n",
        "part_01.addText(\"ja\", \"ジャパンサーチ簡易Web APIが提供する類似画像検索の結果をギャラリーで表示する\")"
      ],
      "metadata": {
        "id": "GuJ9ttOq0r-X"
      },
      "execution_count": null,
      "outputs": []
    },
    {
      "cell_type": "markdown",
      "source": [
        "## リスト"
      ],
      "metadata": {
        "id": "RSD1j9ES0xfx"
      }
    },
    {
      "cell_type": "code",
      "source": [
        "part_02 = JpsCurationList(\"tile\")\n",
        "part_02.setLangMetadata(\"title\", \"ja\", \"検索結果の一覧\")\n",
        "gallery.addPart(part_02)"
      ],
      "metadata": {
        "id": "Edr3nxRz0uuG"
      },
      "execution_count": null,
      "outputs": []
    },
    {
      "cell_type": "markdown",
      "source": [
        "画像を追加"
      ],
      "metadata": {
        "id": "bF9lKBu7MO3s"
      }
    },
    {
      "cell_type": "code",
      "source": [
        "items = []\n",
        "years = []\n",
        "\n",
        "for item_r in df[\"list\"]:\n",
        "    item = JpsCurationListExternalLink()\n",
        "    items.append(item)\n",
        "    \n",
        "\n",
        "    common = item_r[\"common\"]\n",
        "    title = common[\"title\"]\n",
        "\n",
        "    provider = common[\"provider\"]\n",
        "\n",
        "    item.setLangMetadata(\"title\", \"ja\", title)\n",
        "\n",
        "    thumbnail_url = common[\"thumbnailUrl\"][0] if \"thumbnailUrl\" in common else \"\"\n",
        "    original_url = common[\"contentsUrl\"][0] if \"contentsUrl\" in common else thumbnail_url\n",
        "    source = provider\n",
        "    top_image = JpsCurationUrlImage(original_url, title, source, thumbnail_url)\n",
        "    \n",
        "    item.setImage(top_image)\n",
        "\n",
        "    if \"coordinates\" in common:\n",
        "      coordinates = common[\"coordinates\"]\n",
        "      item.setMetadata(\"latlon\", {\n",
        "        \"lat\": coordinates[\"lat\"],\n",
        "        \"lon\": coordinates[\"lon\"],\n",
        "      })\n",
        "\n",
        "    if \"temporal\" in common:\n",
        "      temporals = common[\"temporal\"]\n",
        "      for temporal in temporals:\n",
        "        try:\n",
        "          year = int(temporal[0:4])\n",
        "          if year not in years:\n",
        "            years.append(year)\n",
        "        except:\n",
        "          pass\n",
        "\n",
        "for item in items:\n",
        "  part_02.addPart(item)"
      ],
      "metadata": {
        "id": "ZlZP1rQS1AQr"
      },
      "execution_count": null,
      "outputs": []
    },
    {
      "cell_type": "code",
      "source": [
        "items[0].export()"
      ],
      "metadata": {
        "id": "ca7e7pEWPyDW"
      },
      "execution_count": null,
      "outputs": []
    },
    {
      "cell_type": "markdown",
      "source": [
        "## 年表"
      ],
      "metadata": {
        "id": "74x74AbvMRRp"
      }
    },
    {
      "cell_type": "code",
      "source": [
        "part_03 = JpsCurationTimeline(1800, 2050)\n",
        "gallery.addPart(part_03)\n",
        "part_03.setLangMetadata(\"title\", \"ja\", \"年表\")\n"
      ],
      "metadata": {
        "id": "Mn26u2X4MYmw"
      },
      "execution_count": null,
      "outputs": []
    },
    {
      "cell_type": "code",
      "source": [
        "years.sort()\n",
        "\n",
        "for i in range(len(years)):\n",
        "  year = years[i]\n",
        "  part_03_01 = JpsCurationTimepoint(year, year, year, year, labelHeight=i+1)\n",
        "  part_03.addPart(part_03_01)"
      ],
      "metadata": {
        "id": "uwdMDRDQOT6N"
      },
      "execution_count": null,
      "outputs": []
    },
    {
      "cell_type": "markdown",
      "source": [
        "## 地図"
      ],
      "metadata": {
        "id": "zUp5jmpR17Po"
      }
    },
    {
      "cell_type": "code",
      "source": [
        "part_04 = JpsCurationList(\"map\")\n",
        "gallery.addPart(part_04)\n",
        "part_04.setLangMetadata(\"title\", \"ja\", \"地図表示\")\n",
        "\n",
        "part_04.setMetadata(\"openActionType\", \"link\")\n",
        "part_04.setMetadata(\"mapParam\", {\n",
        "    \"center\": {\n",
        "        \"lat\": 35.713736762125464,\n",
        "        \"lon\": 139.76272050237696\n",
        "    },\n",
        "    \"zoom\": 5,\n",
        "    \"mode\": \"NORMAL\"\n",
        "})\n"
      ],
      "metadata": {
        "id": "l_fIkQ82168W"
      },
      "execution_count": null,
      "outputs": []
    },
    {
      "cell_type": "markdown",
      "source": [
        "地図にアイテムの追加"
      ],
      "metadata": {
        "id": "wZLyPHVW2qBf"
      }
    },
    {
      "cell_type": "code",
      "source": [
        "import copy\n",
        "\n",
        "for item in items:\n",
        "  item_04_01 = copy.copy(item)\n",
        "  part_04.addPart(item_04_01)"
      ],
      "metadata": {
        "id": "1gBeA3Rz2wq4"
      },
      "execution_count": null,
      "outputs": []
    },
    {
      "cell_type": "markdown",
      "source": [
        "## 出力"
      ],
      "metadata": {
        "id": "CUPW5G0a1RWX"
      }
    },
    {
      "cell_type": "code",
      "source": [
        "b = gallery.encode(curationType=\"GALLERY\")"
      ],
      "metadata": {
        "id": "6a4WsziA1Sa0"
      },
      "execution_count": null,
      "outputs": []
    },
    {
      "cell_type": "code",
      "source": [
        "import IPython\n",
        "from IPython.display import display, HTML\n",
        " \n",
        "htm = HTML(f'''\\\n",
        "<div\n",
        "        class=\"jps\"\n",
        "        data-lang=\"ja\"\n",
        "        data-cur=\"{b}\">\n",
        "</div>\n",
        "<script src=\"https://jpsearch.go.jp/assets/js/wp.bundle.js\"></script>\n",
        "''')\n",
        " \n",
        "display(htm)"
      ],
      "metadata": {
        "id": "1QIlamwq1cEY"
      },
      "execution_count": null,
      "outputs": []
    }
  ]
}